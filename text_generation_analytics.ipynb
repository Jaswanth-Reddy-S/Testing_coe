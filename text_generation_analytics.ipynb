{
  "nbformat": 4,
  "nbformat_minor": 0,
  "metadata": {
    "kernelspec": {
      "display_name": "Python 3",
      "language": "python",
      "name": "python3"
    },
    "language_info": {
      "codemirror_mode": {
        "name": "ipython",
        "version": 3
      },
      "file_extension": ".py",
      "mimetype": "text/x-python",
      "name": "python",
      "nbconvert_exporter": "python",
      "pygments_lexer": "ipython3",
      "version": "3.6.5"
    },
    "colab": {
      "name": "NLP1.ipynb",
      "provenance": [],
      "toc_visible": true
    },
    "accelerator": "GPU"
  },
  "cells": [
    {
      "cell_type": "code",
      "metadata": {
        "id": "xAyb6VB68boA",
        "outputId": "ddadfc53-c147-4a75-e16c-1f64c8e065ba",
        "colab": {
          "base_uri": "https://localhost:8080/"
        }
      },
      "source": [
        "\n",
        "!git clone https://github.com/huggingface/pytorch-transformers.git\n",
        " "
      ],
      "execution_count": 3,
      "outputs": [
        {
          "output_type": "stream",
          "text": [
            "Cloning into 'pytorch-transformers'...\n",
            "remote: Enumerating objects: 476, done.\u001b[K\n",
            "remote: Counting objects: 100% (476/476), done.\u001b[K\n",
            "remote: Compressing objects: 100% (342/342), done.\u001b[K\n",
            "remote: Total 68553 (delta 198), reused 287 (delta 121), pack-reused 68077\u001b[K\n",
            "Receiving objects: 100% (68553/68553), 52.98 MiB | 29.99 MiB/s, done.\n",
            "Resolving deltas: 100% (48328/48328), done.\n"
          ],
          "name": "stdout"
        }
      ]
    },
    {
      "cell_type": "markdown",
      "metadata": {
        "id": "gBtrFm-n_vC9"
      },
      "source": [
        "### GPT-2"
      ]
    },
    {
      "cell_type": "code",
      "metadata": {
        "id": "mnWOgY1F8hjO",
        "outputId": "679830fa-47dd-4ddf-d804-231caae137d6",
        "colab": {
          "base_uri": "https://localhost:8080/"
        }
      },
      "source": [
        "!python /content/pytorch-transformers/examples/text-generation/run_generation.py --model_type=gpt2  --length=100  --model_name_or_path=gpt2 \\"
      ],
      "execution_count": 11,
      "outputs": [
        {
          "output_type": "stream",
          "text": [
            "04/01/2021 10:27:34 - WARNING - __main__ -   device: cuda, n_gpu: 1, 16-bits training: False\n",
            "04/01/2021 10:27:34 - INFO - filelock -   Lock 140484166736848 acquired on /root/.cache/huggingface/transformers/684fe667923972fb57f6b4dcb61a3c92763ad89882f3da5da9866baf14f2d60f.c7ed1f96aac49e745788faa77ba0a26a392643a50bb388b9c04ff469e555241f.lock\n",
            "Downloading: 100% 1.04M/1.04M [00:00<00:00, 29.7MB/s]\n",
            "04/01/2021 10:27:34 - INFO - filelock -   Lock 140484166736848 released on /root/.cache/huggingface/transformers/684fe667923972fb57f6b4dcb61a3c92763ad89882f3da5da9866baf14f2d60f.c7ed1f96aac49e745788faa77ba0a26a392643a50bb388b9c04ff469e555241f.lock\n",
            "04/01/2021 10:27:34 - INFO - filelock -   Lock 140484197798928 acquired on /root/.cache/huggingface/transformers/c0c761a63004025aeadd530c4c27b860ec4ecbe8a00531233de21d865a402598.5d12962c5ee615a4c803841266e9c3be9a691a924f72d395d3a6c6c81157788b.lock\n",
            "Downloading: 100% 456k/456k [00:00<00:00, 19.9MB/s]\n",
            "04/01/2021 10:27:34 - INFO - filelock -   Lock 140484197798928 released on /root/.cache/huggingface/transformers/c0c761a63004025aeadd530c4c27b860ec4ecbe8a00531233de21d865a402598.5d12962c5ee615a4c803841266e9c3be9a691a924f72d395d3a6c6c81157788b.lock\n",
            "04/01/2021 10:27:35 - INFO - filelock -   Lock 140484166734096 acquired on /root/.cache/huggingface/transformers/16a2f78023c8dc511294f0c97b5e10fde3ef9889ad6d11ffaa2a00714e73926e.cf2d0ecb83b6df91b3dbb53f1d1e4c311578bfd3aa0e04934215a49bf9898df0.lock\n",
            "Downloading: 100% 1.36M/1.36M [00:00<00:00, 26.0MB/s]\n",
            "04/01/2021 10:27:35 - INFO - filelock -   Lock 140484166734096 released on /root/.cache/huggingface/transformers/16a2f78023c8dc511294f0c97b5e10fde3ef9889ad6d11ffaa2a00714e73926e.cf2d0ecb83b6df91b3dbb53f1d1e4c311578bfd3aa0e04934215a49bf9898df0.lock\n",
            "04/01/2021 10:27:35 - INFO - filelock -   Lock 140484016255888 acquired on /root/.cache/huggingface/transformers/fc674cd6907b4c9e933cb42d67662436b89fa9540a1f40d7c919d0109289ad01.7d2e0efa5ca20cef4fb199382111e9d3ad96fd77b849e1d4bed13a66e1336f51.lock\n",
            "Downloading: 100% 665/665 [00:00<00:00, 958kB/s]\n",
            "04/01/2021 10:27:35 - INFO - filelock -   Lock 140484016255888 released on /root/.cache/huggingface/transformers/fc674cd6907b4c9e933cb42d67662436b89fa9540a1f40d7c919d0109289ad01.7d2e0efa5ca20cef4fb199382111e9d3ad96fd77b849e1d4bed13a66e1336f51.lock\n",
            "04/01/2021 10:27:35 - INFO - filelock -   Lock 140484005811984 acquired on /root/.cache/huggingface/transformers/752929ace039baa8ef70fe21cdf9ab9445773d20e733cf693d667982e210837e.323c769945a351daa25546176f8208b3004b6f563438a7603e7932bae9025925.lock\n",
            "Downloading: 100% 548M/548M [00:08<00:00, 64.3MB/s]\n",
            "04/01/2021 10:27:43 - INFO - filelock -   Lock 140484005811984 released on /root/.cache/huggingface/transformers/752929ace039baa8ef70fe21cdf9ab9445773d20e733cf693d667982e210837e.323c769945a351daa25546176f8208b3004b6f563438a7603e7932bae9025925.lock\n",
            "04/01/2021 10:27:51 - INFO - __main__ -   Namespace(device=device(type='cuda'), fp16=False, k=0, length=100, model_name_or_path='gpt2', model_type='gpt2', n_gpu=1, no_cuda=False, num_return_sequences=1, p=0.9, padding_text='', prefix='', prompt='', repetition_penalty=1.0, seed=42, stop_token=None, temperature=1.0, xlm_language='')\n",
            "Model prompt >>> In a shocking finding, scientist discovered a herd of unicorns living in a remote, previously unexplored valley, in the Andes Mountains. Even more surprising to the researchers was the fact that the unicorns spoke perfect English.\n",
            "Setting `pad_token_id` to `eos_token_id`:50256 for open-end generation.\n",
            "=== GENERATED SEQUENCE 1 ===\n",
            "2021-04-01 10:28:28.465299: I tensorflow/stream_executor/platform/default/dso_loader.cc:49] Successfully opened dynamic library libcudart.so.11.0\n",
            "In a shocking finding, scientist discovered a herd of unicorns living in a remote, previously unexplored valley, in the Andes Mountains. Even more surprising to the researchers was the fact that the unicorns spoke perfect English.\n",
            "\n",
            "Still, the researchers did find something astonishing. When some animals speak English, they are \"cuneiform learners,\" which means they learn different languages at different ages.\n",
            "\n",
            "And again, the strange findings from high-altitude data beamed out to researchers in Chile. In 2009, researchers from Guayaquil University found that the population of at least 11 species of Chinese in Canada's Yukon released only about 1 percent of their genetic material out of the country, which means that\n"
          ],
          "name": "stdout"
        }
      ]
    },
    {
      "cell_type": "markdown",
      "metadata": {
        "id": "ky5g--rG_q8G"
      },
      "source": [
        "### XLNET"
      ]
    },
    {
      "cell_type": "code",
      "metadata": {
        "id": "uFaItYg4-Tey",
        "outputId": "156ef6a1-acca-44e8-c26e-0b421ddb6e33",
        "colab": {
          "base_uri": "https://localhost:8080/"
        }
      },
      "source": [
        "!python /content/pytorch-transformers/examples/text-generation/run_generation.py \\\n",
        "    --model_type=xlnet \\\n",
        "    --length=50 \\\n",
        "    --model_name_or_path=xlnet-base-cased \\"
      ],
      "execution_count": 13,
      "outputs": [
        {
          "output_type": "stream",
          "text": [
            "04/01/2021 10:30:36 - WARNING - __main__ -   device: cuda, n_gpu: 1, 16-bits training: False\n",
            "04/01/2021 10:30:36 - INFO - filelock -   Lock 139814463037200 acquired on /root/.cache/huggingface/transformers/df73bc9f8d13bf2ea4dab95624895e45a550a0f0a825e41fc25440bf367ee3c8.d93497120e3a865e2970f26abdf7bf375896f97fde8b874b70909592a6c785c9.lock\n",
            "\rDownloading:   0% 0.00/798k [00:00<?, ?B/s]\rDownloading: 100% 798k/798k [00:00<00:00, 22.2MB/s]\n",
            "04/01/2021 10:30:36 - INFO - filelock -   Lock 139814463037200 released on /root/.cache/huggingface/transformers/df73bc9f8d13bf2ea4dab95624895e45a550a0f0a825e41fc25440bf367ee3c8.d93497120e3a865e2970f26abdf7bf375896f97fde8b874b70909592a6c785c9.lock\n",
            "04/01/2021 10:30:36 - INFO - filelock -   Lock 139814463089616 acquired on /root/.cache/huggingface/transformers/46f47734f3dcaef7e236b9a3e887f27814e18836a8db7e6a49148000058a1a54.2a683f915238b4f560dab0c724066cf0a7de9a851e96b0fb3a1e7f0881552f53.lock\n",
            "Downloading: 100% 1.38M/1.38M [00:00<00:00, 27.8MB/s]\n",
            "04/01/2021 10:30:36 - INFO - filelock -   Lock 139814463089616 released on /root/.cache/huggingface/transformers/46f47734f3dcaef7e236b9a3e887f27814e18836a8db7e6a49148000058a1a54.2a683f915238b4f560dab0c724066cf0a7de9a851e96b0fb3a1e7f0881552f53.lock\n",
            "04/01/2021 10:30:36 - INFO - filelock -   Lock 139814337956112 acquired on /root/.cache/huggingface/transformers/06bdb0f5882dbb833618c81c3b4c996a0c79422fa2c95ffea3827f92fc2dba6b.da982e2e596ec73828dbae86525a1870e513bd63aae5a2dc773ccc840ac5c346.lock\n",
            "Downloading: 100% 760/760 [00:00<00:00, 1.08MB/s]\n",
            "04/01/2021 10:30:36 - INFO - filelock -   Lock 139814337956112 released on /root/.cache/huggingface/transformers/06bdb0f5882dbb833618c81c3b4c996a0c79422fa2c95ffea3827f92fc2dba6b.da982e2e596ec73828dbae86525a1870e513bd63aae5a2dc773ccc840ac5c346.lock\n",
            "04/01/2021 10:30:36 - INFO - filelock -   Lock 139814463090192 acquired on /root/.cache/huggingface/transformers/9461853998373b0b2f8ef8011a13b62a2c5f540b2c535ef3ea46ed8a062b16a9.3e214f11a50e9e03eb47535b58522fc3cc11ac67c120a9450f6276de151af987.lock\n",
            "Downloading: 100% 467M/467M [00:07<00:00, 59.5MB/s]\n",
            "04/01/2021 10:30:44 - INFO - filelock -   Lock 139814463090192 released on /root/.cache/huggingface/transformers/9461853998373b0b2f8ef8011a13b62a2c5f540b2c535ef3ea46ed8a062b16a9.3e214f11a50e9e03eb47535b58522fc3cc11ac67c120a9450f6276de151af987.lock\n",
            "04/01/2021 10:30:51 - INFO - __main__ -   Namespace(device=device(type='cuda'), fp16=False, k=0, length=50, model_name_or_path='xlnet-base-cased', model_type='xlnet', n_gpu=1, no_cuda=False, num_return_sequences=1, p=0.9, padding_text='', prefix='', prompt='', repetition_penalty=1.0, seed=42, stop_token=None, temperature=1.0, xlm_language='')\n",
            "Model prompt >>> In a shocking finding, scientist discovered a herd of unicorns living in a remote, previously unexplored valley, in the Andes Mountains. Even more surprising to the researchers was the fact that the unicorns spoke perfect English.\n",
            "=== GENERATED SEQUENCE 1 ===\n",
            "2021-04-01 10:31:11.428817: I tensorflow/stream_executor/platform/default/dso_loader.cc:49] Successfully opened dynamic library libcudart.so.11.0\n",
            "In a shocking finding, scientist discovered a herd of unicorns living in a remote, previously unexplored valley, in the Andes Mountains. Even more surprising to the researchers was the fact that the unicorns spoke perfect English. Rasputin records hearing the monks of the monastery over the previous year for singing \"My Pity,\" a \"Cinderella\" song. His father then invited him to perform \"My Pity,\" a Latin dance song which makes\n"
          ],
          "name": "stdout"
        }
      ]
    },
    {
      "cell_type": "markdown",
      "metadata": {
        "id": "kfD8MEAr_nOn"
      },
      "source": [
        "### Transformer XL"
      ]
    },
    {
      "cell_type": "code",
      "metadata": {
        "id": "2YdnekC7_EKO",
        "outputId": "3cc51e8f-be83-40d8-9da0-f61701fc693a",
        "colab": {
          "base_uri": "https://localhost:8080/"
        }
      },
      "source": [
        "!python /content/pytorch-transformers/examples/text-generation/run_generation.py\\\n",
        "    --model_type=transfo-xl \\\n",
        "    --length=100 \\\n",
        "    --model_name_or_path=transfo-xl-wt103 \\"
      ],
      "execution_count": 14,
      "outputs": [
        {
          "output_type": "stream",
          "text": [
            "04/01/2021 10:32:45 - WARNING - __main__ -   device: cuda, n_gpu: 1, 16-bits training: False\n",
            "04/01/2021 10:32:46 - INFO - filelock -   Lock 140666255986064 acquired on /root/.cache/huggingface/transformers/6860d92833eb9d2a42cf185e974ca967fbf4cd58fa8d3d9298e56b9ef7ff8d5c.56c8ef92e693414ef2313bde4ba3679a404de1edbcd5a5780def3971f9706850.lock\n",
            "Downloading: 100% 9.14M/9.14M [00:00<00:00, 48.0MB/s]\n",
            "04/01/2021 10:32:46 - INFO - filelock -   Lock 140666255986064 released on /root/.cache/huggingface/transformers/6860d92833eb9d2a42cf185e974ca967fbf4cd58fa8d3d9298e56b9ef7ff8d5c.56c8ef92e693414ef2313bde4ba3679a404de1edbcd5a5780def3971f9706850.lock\n",
            "04/01/2021 10:32:46 - INFO - filelock -   Lock 140666256039376 acquired on /root/.cache/huggingface/transformers/ca9fbf812fd7a9020bf1238632a2e3c99970506c14a30e3c6c563f7d6a2362cd.c929c0bc1007d5f2a0189945ffeca9e53916ca502f6e83882baea94ec467b200.lock\n",
            "Downloading: 100% 9.14M/9.14M [00:00<00:00, 55.2MB/s]\n",
            "04/01/2021 10:32:46 - INFO - filelock -   Lock 140666256039376 released on /root/.cache/huggingface/transformers/ca9fbf812fd7a9020bf1238632a2e3c99970506c14a30e3c6c563f7d6a2362cd.c929c0bc1007d5f2a0189945ffeca9e53916ca502f6e83882baea94ec467b200.lock\n",
            "04/01/2021 10:32:47 - INFO - filelock -   Lock 140666097852176 acquired on /root/.cache/huggingface/transformers/439371439c726aeec36ef037c63b76ae3e384957090780502c2464ca82017ae1.27301fe0016a634426a4129084dcc45038bd1eb454d0b18accf84dcf4adc5563.lock\n",
            "Downloading: 100% 856/856 [00:00<00:00, 1.17MB/s]\n",
            "04/01/2021 10:32:47 - INFO - filelock -   Lock 140666097852176 released on /root/.cache/huggingface/transformers/439371439c726aeec36ef037c63b76ae3e384957090780502c2464ca82017ae1.27301fe0016a634426a4129084dcc45038bd1eb454d0b18accf84dcf4adc5563.lock\n",
            "04/01/2021 10:32:47 - INFO - filelock -   Lock 140666098696272 acquired on /root/.cache/huggingface/transformers/891af5f0c8372327a961a768d4ee40b7ca95c428f9384c534e73b9b655c75468.923bd8e0844a782c35f009eddd08a3600739804fbe13bd234f592f36230ab8a9.lock\n",
            "Downloading: 100% 1.14G/1.14G [00:17<00:00, 64.5MB/s]\n",
            "04/01/2021 10:33:04 - INFO - filelock -   Lock 140666098696272 released on /root/.cache/huggingface/transformers/891af5f0c8372327a961a768d4ee40b7ca95c428f9384c534e73b9b655c75468.923bd8e0844a782c35f009eddd08a3600739804fbe13bd234f592f36230ab8a9.lock\n",
            "04/01/2021 10:33:17 - INFO - __main__ -   Namespace(device=device(type='cuda'), fp16=False, k=0, length=100, model_name_or_path='transfo-xl-wt103', model_type='transfo-xl', n_gpu=1, no_cuda=False, num_return_sequences=1, p=0.9, padding_text='', prefix='', prompt='', repetition_penalty=1.0, seed=42, stop_token=None, temperature=1.0, xlm_language='')\n",
            "Model prompt >>> In a shocking finding, scientist discovered a herd of unicorns living in a remote, previously unexplored valley, in the Andes Mountains. Even more surprising to the researchers was the fact that the unicorns spoke perfect English.\n",
            "Keyword arguments {'add_space_before_punct_symbol': True} not recognized.\n",
            "Setting `pad_token_id` to `eos_token_id`:0 for open-end generation.\n",
            "=== GENERATED SEQUENCE 1 ===\n",
            "2021-04-01 10:37:19.281876: I tensorflow/stream_executor/platform/default/dso_loader.cc:49] Successfully opened dynamic library libcudart.so.11.0\n",
            "In a shocking finding, scientist discovered a herd of unicorns living in a remote, previously unexplored valley, in the Andes Mountains. Even more surprising to the researchers was the fact that the unicorns spoke perfect English. As they approached the valley floor, they realized that the valley floor was covered with grass and that the shamans had fled through it. Issues with multiple sources of knowledge, especially about the order in which the shamans are chained and killed, resulted in a change in the thinking behind the theory of shamans. Days after initial confirmation that the unicorns had lived, Rasputin died. Added to this controversy, the late 16th-century Russian Neo-Inquisition in the region, known as the Xuande Emperor (<unk> Ì Ð½Ð¾Ð²Ð¸Ñ Ð½Ð¾Ð²Ð¸Ñ\n"
          ],
          "name": "stdout"
        }
      ]
    },
    {
      "cell_type": "markdown",
      "metadata": {
        "id": "tBBeUFKY_0MX"
      },
      "source": [
        "### link- https://www.analyticsvidhya.com/blog/2019/07/pytorch-transformers-nlp-python/"
      ]
    },
    {
      "cell_type": "code",
      "metadata": {
        "id": "6RKbc1GL_jvZ"
      },
      "source": [
        ""
      ],
      "execution_count": null,
      "outputs": []
    }
  ]
}