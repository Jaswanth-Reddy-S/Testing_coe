{
  "nbformat": 4,
  "nbformat_minor": 0,
  "metadata": {
    "kernelspec": {
      "display_name": "Python 3",
      "language": "python",
      "name": "python3"
    },
    "language_info": {
      "codemirror_mode": {
        "name": "ipython",
        "version": 3
      },
      "file_extension": ".py",
      "mimetype": "text/x-python",
      "name": "python",
      "nbconvert_exporter": "python",
      "pygments_lexer": "ipython3",
      "version": "3.6.5"
    },
    "colab": {
      "name": "NLP1.ipynb",
      "provenance": [],
      "toc_visible": true
    },
    "accelerator": "GPU"
  },
  "cells": [
    {
      "cell_type": "code",
      "metadata": {
        "id": "ngCWjt15Tc6A",
        "outputId": "f97ae7d2-09c8-47f2-d78d-f4bdde85f18c",
        "colab": {
          "base_uri": "https://localhost:8080/"
        }
      },
      "source": [
        "pip install transformers\n"
      ],
      "execution_count": 1,
      "outputs": [
        {
          "output_type": "stream",
          "text": [
            "Collecting transformers\n",
            "\u001b[?25l  Downloading https://files.pythonhosted.org/packages/ed/d5/f4157a376b8a79489a76ce6cfe147f4f3be1e029b7144fa7b8432e8acb26/transformers-4.4.2-py3-none-any.whl (2.0MB)\n",
            "\r\u001b[K     |▏                               | 10kB 21.6MB/s eta 0:00:01\r\u001b[K     |▎                               | 20kB 29.4MB/s eta 0:00:01\r\u001b[K     |▌                               | 30kB 22.5MB/s eta 0:00:01\r\u001b[K     |▋                               | 40kB 25.8MB/s eta 0:00:01\r\u001b[K     |▉                               | 51kB 25.1MB/s eta 0:00:01\r\u001b[K     |█                               | 61kB 27.4MB/s eta 0:00:01\r\u001b[K     |█▏                              | 71kB 17.9MB/s eta 0:00:01\r\u001b[K     |█▎                              | 81kB 19.2MB/s eta 0:00:01\r\u001b[K     |█▌                              | 92kB 18.2MB/s eta 0:00:01\r\u001b[K     |█▋                              | 102kB 18.1MB/s eta 0:00:01\r\u001b[K     |█▉                              | 112kB 18.1MB/s eta 0:00:01\r\u001b[K     |██                              | 122kB 18.1MB/s eta 0:00:01\r\u001b[K     |██▏                             | 133kB 18.1MB/s eta 0:00:01\r\u001b[K     |██▎                             | 143kB 18.1MB/s eta 0:00:01\r\u001b[K     |██▌                             | 153kB 18.1MB/s eta 0:00:01\r\u001b[K     |██▋                             | 163kB 18.1MB/s eta 0:00:01\r\u001b[K     |██▉                             | 174kB 18.1MB/s eta 0:00:01\r\u001b[K     |███                             | 184kB 18.1MB/s eta 0:00:01\r\u001b[K     |███▏                            | 194kB 18.1MB/s eta 0:00:01\r\u001b[K     |███▎                            | 204kB 18.1MB/s eta 0:00:01\r\u001b[K     |███▌                            | 215kB 18.1MB/s eta 0:00:01\r\u001b[K     |███▋                            | 225kB 18.1MB/s eta 0:00:01\r\u001b[K     |███▉                            | 235kB 18.1MB/s eta 0:00:01\r\u001b[K     |████                            | 245kB 18.1MB/s eta 0:00:01\r\u001b[K     |████▏                           | 256kB 18.1MB/s eta 0:00:01\r\u001b[K     |████▎                           | 266kB 18.1MB/s eta 0:00:01\r\u001b[K     |████▌                           | 276kB 18.1MB/s eta 0:00:01\r\u001b[K     |████▋                           | 286kB 18.1MB/s eta 0:00:01\r\u001b[K     |████▉                           | 296kB 18.1MB/s eta 0:00:01\r\u001b[K     |█████                           | 307kB 18.1MB/s eta 0:00:01\r\u001b[K     |█████▏                          | 317kB 18.1MB/s eta 0:00:01\r\u001b[K     |█████▎                          | 327kB 18.1MB/s eta 0:00:01\r\u001b[K     |█████▌                          | 337kB 18.1MB/s eta 0:00:01\r\u001b[K     |█████▋                          | 348kB 18.1MB/s eta 0:00:01\r\u001b[K     |█████▉                          | 358kB 18.1MB/s eta 0:00:01\r\u001b[K     |██████                          | 368kB 18.1MB/s eta 0:00:01\r\u001b[K     |██████▏                         | 378kB 18.1MB/s eta 0:00:01\r\u001b[K     |██████▎                         | 389kB 18.1MB/s eta 0:00:01\r\u001b[K     |██████▌                         | 399kB 18.1MB/s eta 0:00:01\r\u001b[K     |██████▋                         | 409kB 18.1MB/s eta 0:00:01\r\u001b[K     |██████▉                         | 419kB 18.1MB/s eta 0:00:01\r\u001b[K     |███████                         | 430kB 18.1MB/s eta 0:00:01\r\u001b[K     |███████▏                        | 440kB 18.1MB/s eta 0:00:01\r\u001b[K     |███████▎                        | 450kB 18.1MB/s eta 0:00:01\r\u001b[K     |███████▌                        | 460kB 18.1MB/s eta 0:00:01\r\u001b[K     |███████▋                        | 471kB 18.1MB/s eta 0:00:01\r\u001b[K     |███████▉                        | 481kB 18.1MB/s eta 0:00:01\r\u001b[K     |████████                        | 491kB 18.1MB/s eta 0:00:01\r\u001b[K     |████████▏                       | 501kB 18.1MB/s eta 0:00:01\r\u001b[K     |████████▎                       | 512kB 18.1MB/s eta 0:00:01\r\u001b[K     |████████▌                       | 522kB 18.1MB/s eta 0:00:01\r\u001b[K     |████████▋                       | 532kB 18.1MB/s eta 0:00:01\r\u001b[K     |████████▉                       | 542kB 18.1MB/s eta 0:00:01\r\u001b[K     |█████████                       | 552kB 18.1MB/s eta 0:00:01\r\u001b[K     |█████████▏                      | 563kB 18.1MB/s eta 0:00:01\r\u001b[K     |█████████▎                      | 573kB 18.1MB/s eta 0:00:01\r\u001b[K     |█████████▌                      | 583kB 18.1MB/s eta 0:00:01\r\u001b[K     |█████████▋                      | 593kB 18.1MB/s eta 0:00:01\r\u001b[K     |█████████▉                      | 604kB 18.1MB/s eta 0:00:01\r\u001b[K     |██████████                      | 614kB 18.1MB/s eta 0:00:01\r\u001b[K     |██████████▏                     | 624kB 18.1MB/s eta 0:00:01\r\u001b[K     |██████████▎                     | 634kB 18.1MB/s eta 0:00:01\r\u001b[K     |██████████▌                     | 645kB 18.1MB/s eta 0:00:01\r\u001b[K     |██████████▋                     | 655kB 18.1MB/s eta 0:00:01\r\u001b[K     |██████████▉                     | 665kB 18.1MB/s eta 0:00:01\r\u001b[K     |███████████                     | 675kB 18.1MB/s eta 0:00:01\r\u001b[K     |███████████▏                    | 686kB 18.1MB/s eta 0:00:01\r\u001b[K     |███████████▎                    | 696kB 18.1MB/s eta 0:00:01\r\u001b[K     |███████████▌                    | 706kB 18.1MB/s eta 0:00:01\r\u001b[K     |███████████▋                    | 716kB 18.1MB/s eta 0:00:01\r\u001b[K     |███████████▉                    | 727kB 18.1MB/s eta 0:00:01\r\u001b[K     |████████████                    | 737kB 18.1MB/s eta 0:00:01\r\u001b[K     |████████████▏                   | 747kB 18.1MB/s eta 0:00:01\r\u001b[K     |████████████▎                   | 757kB 18.1MB/s eta 0:00:01\r\u001b[K     |████████████▌                   | 768kB 18.1MB/s eta 0:00:01\r\u001b[K     |████████████▋                   | 778kB 18.1MB/s eta 0:00:01\r\u001b[K     |████████████▉                   | 788kB 18.1MB/s eta 0:00:01\r\u001b[K     |█████████████                   | 798kB 18.1MB/s eta 0:00:01\r\u001b[K     |█████████████▏                  | 808kB 18.1MB/s eta 0:00:01\r\u001b[K     |█████████████▎                  | 819kB 18.1MB/s eta 0:00:01\r\u001b[K     |█████████████▌                  | 829kB 18.1MB/s eta 0:00:01\r\u001b[K     |█████████████▋                  | 839kB 18.1MB/s eta 0:00:01\r\u001b[K     |█████████████▉                  | 849kB 18.1MB/s eta 0:00:01\r\u001b[K     |██████████████                  | 860kB 18.1MB/s eta 0:00:01\r\u001b[K     |██████████████▏                 | 870kB 18.1MB/s eta 0:00:01\r\u001b[K     |██████████████▎                 | 880kB 18.1MB/s eta 0:00:01\r\u001b[K     |██████████████▌                 | 890kB 18.1MB/s eta 0:00:01\r\u001b[K     |██████████████▋                 | 901kB 18.1MB/s eta 0:00:01\r\u001b[K     |██████████████▊                 | 911kB 18.1MB/s eta 0:00:01\r\u001b[K     |███████████████                 | 921kB 18.1MB/s eta 0:00:01\r\u001b[K     |███████████████                 | 931kB 18.1MB/s eta 0:00:01\r\u001b[K     |███████████████▎                | 942kB 18.1MB/s eta 0:00:01\r\u001b[K     |███████████████▍                | 952kB 18.1MB/s eta 0:00:01\r\u001b[K     |███████████████▋                | 962kB 18.1MB/s eta 0:00:01\r\u001b[K     |███████████████▊                | 972kB 18.1MB/s eta 0:00:01\r\u001b[K     |████████████████                | 983kB 18.1MB/s eta 0:00:01\r\u001b[K     |████████████████                | 993kB 18.1MB/s eta 0:00:01\r\u001b[K     |████████████████▎               | 1.0MB 18.1MB/s eta 0:00:01\r\u001b[K     |████████████████▍               | 1.0MB 18.1MB/s eta 0:00:01\r\u001b[K     |████████████████▋               | 1.0MB 18.1MB/s eta 0:00:01\r\u001b[K     |████████████████▊               | 1.0MB 18.1MB/s eta 0:00:01\r\u001b[K     |█████████████████               | 1.0MB 18.1MB/s eta 0:00:01\r\u001b[K     |█████████████████               | 1.1MB 18.1MB/s eta 0:00:01\r\u001b[K     |█████████████████▎              | 1.1MB 18.1MB/s eta 0:00:01\r\u001b[K     |█████████████████▍              | 1.1MB 18.1MB/s eta 0:00:01\r\u001b[K     |█████████████████▋              | 1.1MB 18.1MB/s eta 0:00:01\r\u001b[K     |█████████████████▊              | 1.1MB 18.1MB/s eta 0:00:01\r\u001b[K     |██████████████████              | 1.1MB 18.1MB/s eta 0:00:01\r\u001b[K     |██████████████████              | 1.1MB 18.1MB/s eta 0:00:01\r\u001b[K     |██████████████████▎             | 1.1MB 18.1MB/s eta 0:00:01\r\u001b[K     |██████████████████▍             | 1.1MB 18.1MB/s eta 0:00:01\r\u001b[K     |██████████████████▋             | 1.1MB 18.1MB/s eta 0:00:01\r\u001b[K     |██████████████████▊             | 1.2MB 18.1MB/s eta 0:00:01\r\u001b[K     |███████████████████             | 1.2MB 18.1MB/s eta 0:00:01\r\u001b[K     |███████████████████             | 1.2MB 18.1MB/s eta 0:00:01\r\u001b[K     |███████████████████▎            | 1.2MB 18.1MB/s eta 0:00:01\r\u001b[K     |███████████████████▍            | 1.2MB 18.1MB/s eta 0:00:01\r\u001b[K     |███████████████████▋            | 1.2MB 18.1MB/s eta 0:00:01\r\u001b[K     |███████████████████▊            | 1.2MB 18.1MB/s eta 0:00:01\r\u001b[K     |████████████████████            | 1.2MB 18.1MB/s eta 0:00:01\r\u001b[K     |████████████████████            | 1.2MB 18.1MB/s eta 0:00:01\r\u001b[K     |████████████████████▎           | 1.2MB 18.1MB/s eta 0:00:01\r\u001b[K     |████████████████████▍           | 1.3MB 18.1MB/s eta 0:00:01\r\u001b[K     |████████████████████▋           | 1.3MB 18.1MB/s eta 0:00:01\r\u001b[K     |████████████████████▊           | 1.3MB 18.1MB/s eta 0:00:01\r\u001b[K     |█████████████████████           | 1.3MB 18.1MB/s eta 0:00:01\r\u001b[K     |█████████████████████           | 1.3MB 18.1MB/s eta 0:00:01\r\u001b[K     |█████████████████████▎          | 1.3MB 18.1MB/s eta 0:00:01\r\u001b[K     |█████████████████████▍          | 1.3MB 18.1MB/s eta 0:00:01\r\u001b[K     |█████████████████████▋          | 1.3MB 18.1MB/s eta 0:00:01\r\u001b[K     |█████████████████████▊          | 1.3MB 18.1MB/s eta 0:00:01\r\u001b[K     |██████████████████████          | 1.4MB 18.1MB/s eta 0:00:01\r\u001b[K     |██████████████████████          | 1.4MB 18.1MB/s eta 0:00:01\r\u001b[K     |██████████████████████▎         | 1.4MB 18.1MB/s eta 0:00:01\r\u001b[K     |██████████████████████▍         | 1.4MB 18.1MB/s eta 0:00:01\r\u001b[K     |██████████████████████▋         | 1.4MB 18.1MB/s eta 0:00:01\r\u001b[K     |██████████████████████▊         | 1.4MB 18.1MB/s eta 0:00:01\r\u001b[K     |███████████████████████         | 1.4MB 18.1MB/s eta 0:00:01\r\u001b[K     |███████████████████████         | 1.4MB 18.1MB/s eta 0:00:01\r\u001b[K     |███████████████████████▎        | 1.4MB 18.1MB/s eta 0:00:01\r\u001b[K     |███████████████████████▍        | 1.4MB 18.1MB/s eta 0:00:01\r\u001b[K     |███████████████████████▋        | 1.5MB 18.1MB/s eta 0:00:01\r\u001b[K     |███████████████████████▊        | 1.5MB 18.1MB/s eta 0:00:01\r\u001b[K     |████████████████████████        | 1.5MB 18.1MB/s eta 0:00:01\r\u001b[K     |████████████████████████        | 1.5MB 18.1MB/s eta 0:00:01\r\u001b[K     |████████████████████████▎       | 1.5MB 18.1MB/s eta 0:00:01\r\u001b[K     |████████████████████████▍       | 1.5MB 18.1MB/s eta 0:00:01\r\u001b[K     |████████████████████████▋       | 1.5MB 18.1MB/s eta 0:00:01\r\u001b[K     |████████████████████████▊       | 1.5MB 18.1MB/s eta 0:00:01\r\u001b[K     |█████████████████████████       | 1.5MB 18.1MB/s eta 0:00:01\r\u001b[K     |█████████████████████████       | 1.5MB 18.1MB/s eta 0:00:01\r\u001b[K     |█████████████████████████▎      | 1.6MB 18.1MB/s eta 0:00:01\r\u001b[K     |█████████████████████████▍      | 1.6MB 18.1MB/s eta 0:00:01\r\u001b[K     |█████████████████████████▋      | 1.6MB 18.1MB/s eta 0:00:01\r\u001b[K     |█████████████████████████▊      | 1.6MB 18.1MB/s eta 0:00:01\r\u001b[K     |██████████████████████████      | 1.6MB 18.1MB/s eta 0:00:01\r\u001b[K     |██████████████████████████      | 1.6MB 18.1MB/s eta 0:00:01\r\u001b[K     |██████████████████████████▎     | 1.6MB 18.1MB/s eta 0:00:01\r\u001b[K     |██████████████████████████▍     | 1.6MB 18.1MB/s eta 0:00:01\r\u001b[K     |██████████████████████████▋     | 1.6MB 18.1MB/s eta 0:00:01\r\u001b[K     |██████████████████████████▊     | 1.6MB 18.1MB/s eta 0:00:01\r\u001b[K     |███████████████████████████     | 1.7MB 18.1MB/s eta 0:00:01\r\u001b[K     |███████████████████████████     | 1.7MB 18.1MB/s eta 0:00:01\r\u001b[K     |███████████████████████████▎    | 1.7MB 18.1MB/s eta 0:00:01\r\u001b[K     |███████████████████████████▍    | 1.7MB 18.1MB/s eta 0:00:01\r\u001b[K     |███████████████████████████▋    | 1.7MB 18.1MB/s eta 0:00:01\r\u001b[K     |███████████████████████████▊    | 1.7MB 18.1MB/s eta 0:00:01\r\u001b[K     |████████████████████████████    | 1.7MB 18.1MB/s eta 0:00:01\r\u001b[K     |████████████████████████████    | 1.7MB 18.1MB/s eta 0:00:01\r\u001b[K     |████████████████████████████▎   | 1.7MB 18.1MB/s eta 0:00:01\r\u001b[K     |████████████████████████████▍   | 1.8MB 18.1MB/s eta 0:00:01\r\u001b[K     |████████████████████████████▋   | 1.8MB 18.1MB/s eta 0:00:01\r\u001b[K     |████████████████████████████▊   | 1.8MB 18.1MB/s eta 0:00:01\r\u001b[K     |█████████████████████████████   | 1.8MB 18.1MB/s eta 0:00:01\r\u001b[K     |█████████████████████████████   | 1.8MB 18.1MB/s eta 0:00:01\r\u001b[K     |█████████████████████████████▎  | 1.8MB 18.1MB/s eta 0:00:01\r\u001b[K     |█████████████████████████████▍  | 1.8MB 18.1MB/s eta 0:00:01\r\u001b[K     |█████████████████████████████▌  | 1.8MB 18.1MB/s eta 0:00:01\r\u001b[K     |█████████████████████████████▊  | 1.8MB 18.1MB/s eta 0:00:01\r\u001b[K     |█████████████████████████████▉  | 1.8MB 18.1MB/s eta 0:00:01\r\u001b[K     |██████████████████████████████  | 1.9MB 18.1MB/s eta 0:00:01\r\u001b[K     |██████████████████████████████▏ | 1.9MB 18.1MB/s eta 0:00:01\r\u001b[K     |██████████████████████████████▍ | 1.9MB 18.1MB/s eta 0:00:01\r\u001b[K     |██████████████████████████████▌ | 1.9MB 18.1MB/s eta 0:00:01\r\u001b[K     |██████████████████████████████▊ | 1.9MB 18.1MB/s eta 0:00:01\r\u001b[K     |██████████████████████████████▉ | 1.9MB 18.1MB/s eta 0:00:01\r\u001b[K     |███████████████████████████████ | 1.9MB 18.1MB/s eta 0:00:01\r\u001b[K     |███████████████████████████████▏| 1.9MB 18.1MB/s eta 0:00:01\r\u001b[K     |███████████████████████████████▍| 1.9MB 18.1MB/s eta 0:00:01\r\u001b[K     |███████████████████████████████▌| 1.9MB 18.1MB/s eta 0:00:01\r\u001b[K     |███████████████████████████████▊| 2.0MB 18.1MB/s eta 0:00:01\r\u001b[K     |███████████████████████████████▉| 2.0MB 18.1MB/s eta 0:00:01\r\u001b[K     |████████████████████████████████| 2.0MB 18.1MB/s \n",
            "\u001b[?25hRequirement already satisfied: regex!=2019.12.17 in /usr/local/lib/python3.7/dist-packages (from transformers) (2019.12.20)\n",
            "Collecting tokenizers<0.11,>=0.10.1\n",
            "\u001b[?25l  Downloading https://files.pythonhosted.org/packages/ae/04/5b870f26a858552025a62f1649c20d29d2672c02ff3c3fb4c688ca46467a/tokenizers-0.10.2-cp37-cp37m-manylinux2010_x86_64.whl (3.3MB)\n",
            "\u001b[K     |████████████████████████████████| 3.3MB 54.6MB/s \n",
            "\u001b[?25hCollecting sacremoses\n",
            "\u001b[?25l  Downloading https://files.pythonhosted.org/packages/08/cd/342e584ee544d044fb573ae697404ce22ede086c9e87ce5960772084cad0/sacremoses-0.0.44.tar.gz (862kB)\n",
            "\u001b[K     |████████████████████████████████| 870kB 48.8MB/s \n",
            "\u001b[?25hRequirement already satisfied: requests in /usr/local/lib/python3.7/dist-packages (from transformers) (2.23.0)\n",
            "Requirement already satisfied: packaging in /usr/local/lib/python3.7/dist-packages (from transformers) (20.9)\n",
            "Requirement already satisfied: tqdm>=4.27 in /usr/local/lib/python3.7/dist-packages (from transformers) (4.41.1)\n",
            "Requirement already satisfied: importlib-metadata; python_version < \"3.8\" in /usr/local/lib/python3.7/dist-packages (from transformers) (3.8.1)\n",
            "Requirement already satisfied: filelock in /usr/local/lib/python3.7/dist-packages (from transformers) (3.0.12)\n",
            "Requirement already satisfied: numpy>=1.17 in /usr/local/lib/python3.7/dist-packages (from transformers) (1.19.5)\n",
            "Requirement already satisfied: six in /usr/local/lib/python3.7/dist-packages (from sacremoses->transformers) (1.15.0)\n",
            "Requirement already satisfied: click in /usr/local/lib/python3.7/dist-packages (from sacremoses->transformers) (7.1.2)\n",
            "Requirement already satisfied: joblib in /usr/local/lib/python3.7/dist-packages (from sacremoses->transformers) (1.0.1)\n",
            "Requirement already satisfied: certifi>=2017.4.17 in /usr/local/lib/python3.7/dist-packages (from requests->transformers) (2020.12.5)\n",
            "Requirement already satisfied: idna<3,>=2.5 in /usr/local/lib/python3.7/dist-packages (from requests->transformers) (2.10)\n",
            "Requirement already satisfied: chardet<4,>=3.0.2 in /usr/local/lib/python3.7/dist-packages (from requests->transformers) (3.0.4)\n",
            "Requirement already satisfied: urllib3!=1.25.0,!=1.25.1,<1.26,>=1.21.1 in /usr/local/lib/python3.7/dist-packages (from requests->transformers) (1.24.3)\n",
            "Requirement already satisfied: pyparsing>=2.0.2 in /usr/local/lib/python3.7/dist-packages (from packaging->transformers) (2.4.7)\n",
            "Requirement already satisfied: zipp>=0.5 in /usr/local/lib/python3.7/dist-packages (from importlib-metadata; python_version < \"3.8\"->transformers) (3.4.1)\n",
            "Requirement already satisfied: typing-extensions>=3.6.4; python_version < \"3.8\" in /usr/local/lib/python3.7/dist-packages (from importlib-metadata; python_version < \"3.8\"->transformers) (3.7.4.3)\n",
            "Building wheels for collected packages: sacremoses\n",
            "  Building wheel for sacremoses (setup.py) ... \u001b[?25l\u001b[?25hdone\n",
            "  Created wheel for sacremoses: filename=sacremoses-0.0.44-cp37-none-any.whl size=886084 sha256=1ace2f12adab15e41d6898f972d8b07c4eac8cc785a583230d01ae1926099345\n",
            "  Stored in directory: /root/.cache/pip/wheels/3e/fb/c0/13ab4d63d537658f448366744654323077c4d90069b6512f3c\n",
            "Successfully built sacremoses\n",
            "Installing collected packages: tokenizers, sacremoses, transformers\n",
            "Successfully installed sacremoses-0.0.44 tokenizers-0.10.2 transformers-4.4.2\n"
          ],
          "name": "stdout"
        }
      ]
    },
    {
      "cell_type": "code",
      "metadata": {
        "id": "cJM6UjwLTfKd",
        "outputId": "d7d52745-5427-4998-f573-2279dc609366",
        "colab": {
          "base_uri": "https://localhost:8080/"
        }
      },
      "source": [
        "!git clone https://github.com/huggingface/transformers\n"
      ],
      "execution_count": 3,
      "outputs": [
        {
          "output_type": "stream",
          "text": [
            "Cloning into 'transformers'...\n",
            "remote: Enumerating objects: 90, done.\u001b[K\n",
            "remote: Counting objects: 100% (90/90), done.\u001b[K\n",
            "remote: Compressing objects: 100% (57/57), done.\u001b[K\n",
            "remote: Total 68893 (delta 40), reused 57 (delta 25), pack-reused 68803\u001b[K\n",
            "Receiving objects: 100% (68893/68893), 52.38 MiB | 29.60 MiB/s, done.\n",
            "Resolving deltas: 100% (48751/48751), done.\n"
          ],
          "name": "stdout"
        }
      ]
    },
    {
      "cell_type": "code",
      "metadata": {
        "id": "QT68jIeWTsas",
        "outputId": "f09fd848-4cb1-40b3-d7c6-032f1b457e5b",
        "colab": {
          "base_uri": "https://localhost:8080/"
        }
      },
      "source": [
        "pip install tensorboard\n"
      ],
      "execution_count": 4,
      "outputs": [
        {
          "output_type": "stream",
          "text": [
            "Requirement already satisfied: tensorboard in /usr/local/lib/python3.7/dist-packages (2.4.1)\n",
            "Requirement already satisfied: setuptools>=41.0.0 in /usr/local/lib/python3.7/dist-packages (from tensorboard) (54.2.0)\n",
            "Requirement already satisfied: grpcio>=1.24.3 in /usr/local/lib/python3.7/dist-packages (from tensorboard) (1.32.0)\n",
            "Requirement already satisfied: protobuf>=3.6.0 in /usr/local/lib/python3.7/dist-packages (from tensorboard) (3.12.4)\n",
            "Requirement already satisfied: google-auth<2,>=1.6.3 in /usr/local/lib/python3.7/dist-packages (from tensorboard) (1.28.0)\n",
            "Requirement already satisfied: wheel>=0.26; python_version >= \"3\" in /usr/local/lib/python3.7/dist-packages (from tensorboard) (0.36.2)\n",
            "Requirement already satisfied: numpy>=1.12.0 in /usr/local/lib/python3.7/dist-packages (from tensorboard) (1.19.5)\n",
            "Requirement already satisfied: tensorboard-plugin-wit>=1.6.0 in /usr/local/lib/python3.7/dist-packages (from tensorboard) (1.8.0)\n",
            "Requirement already satisfied: werkzeug>=0.11.15 in /usr/local/lib/python3.7/dist-packages (from tensorboard) (1.0.1)\n",
            "Requirement already satisfied: six>=1.10.0 in /usr/local/lib/python3.7/dist-packages (from tensorboard) (1.15.0)\n",
            "Requirement already satisfied: markdown>=2.6.8 in /usr/local/lib/python3.7/dist-packages (from tensorboard) (3.3.4)\n",
            "Requirement already satisfied: google-auth-oauthlib<0.5,>=0.4.1 in /usr/local/lib/python3.7/dist-packages (from tensorboard) (0.4.3)\n",
            "Requirement already satisfied: requests<3,>=2.21.0 in /usr/local/lib/python3.7/dist-packages (from tensorboard) (2.23.0)\n",
            "Requirement already satisfied: absl-py>=0.4 in /usr/local/lib/python3.7/dist-packages (from tensorboard) (0.12.0)\n",
            "Requirement already satisfied: cachetools<5.0,>=2.0.0 in /usr/local/lib/python3.7/dist-packages (from google-auth<2,>=1.6.3->tensorboard) (4.2.1)\n",
            "Requirement already satisfied: pyasn1-modules>=0.2.1 in /usr/local/lib/python3.7/dist-packages (from google-auth<2,>=1.6.3->tensorboard) (0.2.8)\n",
            "Requirement already satisfied: rsa<5,>=3.1.4; python_version >= \"3.6\" in /usr/local/lib/python3.7/dist-packages (from google-auth<2,>=1.6.3->tensorboard) (4.7.2)\n",
            "Requirement already satisfied: importlib-metadata; python_version < \"3.8\" in /usr/local/lib/python3.7/dist-packages (from markdown>=2.6.8->tensorboard) (3.8.1)\n",
            "Requirement already satisfied: requests-oauthlib>=0.7.0 in /usr/local/lib/python3.7/dist-packages (from google-auth-oauthlib<0.5,>=0.4.1->tensorboard) (1.3.0)\n",
            "Requirement already satisfied: urllib3!=1.25.0,!=1.25.1,<1.26,>=1.21.1 in /usr/local/lib/python3.7/dist-packages (from requests<3,>=2.21.0->tensorboard) (1.24.3)\n",
            "Requirement already satisfied: chardet<4,>=3.0.2 in /usr/local/lib/python3.7/dist-packages (from requests<3,>=2.21.0->tensorboard) (3.0.4)\n",
            "Requirement already satisfied: certifi>=2017.4.17 in /usr/local/lib/python3.7/dist-packages (from requests<3,>=2.21.0->tensorboard) (2020.12.5)\n",
            "Requirement already satisfied: idna<3,>=2.5 in /usr/local/lib/python3.7/dist-packages (from requests<3,>=2.21.0->tensorboard) (2.10)\n",
            "Requirement already satisfied: pyasn1<0.5.0,>=0.4.6 in /usr/local/lib/python3.7/dist-packages (from pyasn1-modules>=0.2.1->google-auth<2,>=1.6.3->tensorboard) (0.4.8)\n",
            "Requirement already satisfied: typing-extensions>=3.6.4; python_version < \"3.8\" in /usr/local/lib/python3.7/dist-packages (from importlib-metadata; python_version < \"3.8\"->markdown>=2.6.8->tensorboard) (3.7.4.3)\n",
            "Requirement already satisfied: zipp>=0.5 in /usr/local/lib/python3.7/dist-packages (from importlib-metadata; python_version < \"3.8\"->markdown>=2.6.8->tensorboard) (3.4.1)\n",
            "Requirement already satisfied: oauthlib>=3.0.0 in /usr/local/lib/python3.7/dist-packages (from requests-oauthlib>=0.7.0->google-auth-oauthlib<0.5,>=0.4.1->tensorboard) (3.1.0)\n"
          ],
          "name": "stdout"
        }
      ]
    },
    {
      "cell_type": "code",
      "metadata": {
        "id": "fFUYAlVzTx2v",
        "outputId": "b0a389bf-aaa5-4946-ecd2-cb0380d13bf8",
        "colab": {
          "base_uri": "https://localhost:8080/"
        }
      },
      "source": [
        "cd /content/transformers/examples/language-modeling\n"
      ],
      "execution_count": 5,
      "outputs": [
        {
          "output_type": "stream",
          "text": [
            "/content/transformers/examples/language-modeling\n"
          ],
          "name": "stdout"
        }
      ]
    },
    {
      "cell_type": "code",
      "metadata": {
        "id": "kf6GoJj6T-6u"
      },
      "source": [
        "N=1\n",
        "OUTPUT_DIR='/content/transformers/Results2'\n",
        "TRAIN_FILE='/content/train.txt'\n",
        "VALID_FILE='/content/valid.txt'"
      ],
      "execution_count": 15,
      "outputs": []
    },
    {
      "cell_type": "code",
      "metadata": {
        "id": "Q_O4rRgAUm5Q",
        "outputId": "43c2394f-dd4c-4f67-f169-d742031a76cd",
        "colab": {
          "base_uri": "https://localhost:8080/"
        }
      },
      "source": [
        "!CUDA_VISIBLE_DEVICES=1 python /content/run_language_modeling.py \\\n",
        "--output_dir=$OUTPUT_DIR \\\n",
        "--model_type=gpt2 \\\n",
        "--model_name_or_path=gpt2 \\\n",
        "--do_train \\\n",
        "--train_data_file=$TRAIN_FILE \\\n",
        "--do_eval \\\n",
        "--eval_data_file=$VALID_FILE \\\n",
        "--per_device_train_batch_size=2 \\\n",
        "--per_device_eval_batch_size=2 \\\n",
        "--line_by_line \\\n",
        "--learning_rate 5e-5 \\\n",
        "--num_train_epochs=2"
      ],
      "execution_count": 16,
      "outputs": [
        {
          "output_type": "stream",
          "text": [
            "2021-04-06 14:19:54.371825: I tensorflow/stream_executor/platform/default/dso_loader.cc:49] Successfully opened dynamic library libcudart.so.11.0\n",
            "04/06/2021 14:19:55 - WARNING - __main__ -   Process rank: -1, device: cpu, n_gpu: 0, distributed training: False, 16-bits training: False\n",
            "04/06/2021 14:19:55 - INFO - __main__ -   Training/evaluation parameters TrainingArguments(output_dir=/content/transformers/Results2, overwrite_output_dir=False, do_train=True, do_eval=True, do_predict=False, evaluation_strategy=IntervalStrategy.NO, prediction_loss_only=False, per_device_train_batch_size=2, per_device_eval_batch_size=2, gradient_accumulation_steps=1, eval_accumulation_steps=None, learning_rate=5e-05, weight_decay=0.0, adam_beta1=0.9, adam_beta2=0.999, adam_epsilon=1e-08, max_grad_norm=1.0, num_train_epochs=2.0, max_steps=-1, lr_scheduler_type=SchedulerType.LINEAR, warmup_ratio=0.0, warmup_steps=0, logging_dir=runs/Apr06_14-19-55_8cf1c1e4d437, logging_strategy=IntervalStrategy.STEPS, logging_first_step=False, logging_steps=500, save_strategy=IntervalStrategy.STEPS, save_steps=500, save_total_limit=None, no_cuda=False, seed=42, fp16=False, fp16_opt_level=O1, fp16_backend=auto, fp16_full_eval=False, local_rank=-1, tpu_num_cores=None, tpu_metrics_debug=False, debug=False, dataloader_drop_last=False, eval_steps=500, dataloader_num_workers=0, past_index=-1, run_name=/content/transformers/Results2, disable_tqdm=False, remove_unused_columns=True, label_names=None, load_best_model_at_end=False, metric_for_best_model=None, greater_is_better=None, ignore_data_skip=False, sharded_ddp=[], deepspeed=None, label_smoothing_factor=0.0, adafactor=False, group_by_length=False, report_to=['tensorboard'], ddp_find_unused_parameters=None, dataloader_pin_memory=True, skip_memory_metrics=False, _n_gpu=0)\n",
            "/usr/local/lib/python3.7/dist-packages/transformers/models/auto/modeling_auto.py:1010: FutureWarning: The class `AutoModelWithLMHead` is deprecated and will be removed in a future version. Please use `AutoModelForCausalLM` for causal language models, `AutoModelForMaskedLM` for masked language models and `AutoModelForSeq2SeqLM` for encoder-decoder models.\n",
            "  FutureWarning,\n",
            "/usr/local/lib/python3.7/dist-packages/transformers/data/datasets/language_modeling.py:128: FutureWarning: This dataset will be removed from the library soon, preprocessing should be handled with the 🤗 Datasets library. You can have a look at this example script for pointers: https://github.com/huggingface/transformers/blob/master/examples/language-modeling/run_mlm.py\n",
            "  FutureWarning,\n",
            "/usr/local/lib/python3.7/dist-packages/transformers/trainer.py:836: FutureWarning: `model_path` is deprecated and will be removed in a future version. Use `resume_from_checkpoint` instead.\n",
            "  FutureWarning,\n",
            "{'loss': 5.604, 'learning_rate': 3.2142857142857144e-05, 'epoch': 0.71}\n",
            "{'loss': 3.7565, 'learning_rate': 1.4285714285714285e-05, 'epoch': 1.43}\n",
            "{'train_runtime': 2321.2954, 'train_samples_per_second': 0.603, 'epoch': 2.0}\n",
            "100% 1400/1400 [38:41<00:00,  1.66s/it]\n",
            "04/06/2021 14:58:59 - INFO - __main__ -   *** Evaluate ***\n",
            "100% 200/200 [00:46<00:00,  4.26it/s]\n",
            "04/06/2021 14:59:46 - INFO - __main__ -   ***** Eval results *****\n",
            "04/06/2021 14:59:46 - INFO - __main__ -     perplexity = 51.89088618139505\n"
          ],
          "name": "stdout"
        }
      ]
    },
    {
      "cell_type": "code",
      "metadata": {
        "id": "W7W_DvqSUyNO",
        "outputId": "4c3abbb0-2c8c-4e8d-8dbe-8183eb2f3e31",
        "colab": {
          "base_uri": "https://localhost:8080/"
        }
      },
      "source": [
        "TEST_FILE='/content/test.txt'\n",
        "!CUDA_VISIBLE_DEVICES=1 python /content/run_language_modeling.py \\\n",
        "--output_dir=$OUTPUT_DIR \\\n",
        "--model_type=gpt2 \\\n",
        "--model_name_or_path=$OUTPUT_DIR \\\n",
        "--do_eval \\\n",
        "--eval_data_file=$TEST_FILE \\\n",
        "--per_device_eval_batch_size=2 \\\n",
        "--line_by_line"
      ],
      "execution_count": 18,
      "outputs": [
        {
          "output_type": "stream",
          "text": [
            "2021-04-06 15:02:20.769580: I tensorflow/stream_executor/platform/default/dso_loader.cc:49] Successfully opened dynamic library libcudart.so.11.0\n",
            "04/06/2021 15:02:21 - WARNING - __main__ -   Process rank: -1, device: cpu, n_gpu: 0, distributed training: False, 16-bits training: False\n",
            "04/06/2021 15:02:21 - INFO - __main__ -   Training/evaluation parameters TrainingArguments(output_dir=/content/transformers/Results2, overwrite_output_dir=False, do_train=False, do_eval=True, do_predict=False, evaluation_strategy=IntervalStrategy.NO, prediction_loss_only=False, per_device_train_batch_size=8, per_device_eval_batch_size=2, gradient_accumulation_steps=1, eval_accumulation_steps=None, learning_rate=5e-05, weight_decay=0.0, adam_beta1=0.9, adam_beta2=0.999, adam_epsilon=1e-08, max_grad_norm=1.0, num_train_epochs=3.0, max_steps=-1, lr_scheduler_type=SchedulerType.LINEAR, warmup_ratio=0.0, warmup_steps=0, logging_dir=runs/Apr06_15-02-21_8cf1c1e4d437, logging_strategy=IntervalStrategy.STEPS, logging_first_step=False, logging_steps=500, save_strategy=IntervalStrategy.STEPS, save_steps=500, save_total_limit=None, no_cuda=False, seed=42, fp16=False, fp16_opt_level=O1, fp16_backend=auto, fp16_full_eval=False, local_rank=-1, tpu_num_cores=None, tpu_metrics_debug=False, debug=False, dataloader_drop_last=False, eval_steps=500, dataloader_num_workers=0, past_index=-1, run_name=/content/transformers/Results2, disable_tqdm=False, remove_unused_columns=True, label_names=None, load_best_model_at_end=False, metric_for_best_model=None, greater_is_better=None, ignore_data_skip=False, sharded_ddp=[], deepspeed=None, label_smoothing_factor=0.0, adafactor=False, group_by_length=False, report_to=['tensorboard'], ddp_find_unused_parameters=None, dataloader_pin_memory=True, skip_memory_metrics=False, _n_gpu=0)\n",
            "/usr/local/lib/python3.7/dist-packages/transformers/models/auto/modeling_auto.py:1010: FutureWarning: The class `AutoModelWithLMHead` is deprecated and will be removed in a future version. Please use `AutoModelForCausalLM` for causal language models, `AutoModelForMaskedLM` for masked language models and `AutoModelForSeq2SeqLM` for encoder-decoder models.\n",
            "  FutureWarning,\n",
            "/usr/local/lib/python3.7/dist-packages/transformers/data/datasets/language_modeling.py:128: FutureWarning: This dataset will be removed from the library soon, preprocessing should be handled with the 🤗 Datasets library. You can have a look at this example script for pointers: https://github.com/huggingface/transformers/blob/master/examples/language-modeling/run_mlm.py\n",
            "  FutureWarning,\n",
            "04/06/2021 15:02:26 - INFO - __main__ -   *** Evaluate ***\n",
            "100% 100/100 [00:24<00:00,  4.15it/s]\n",
            "04/06/2021 15:02:51 - INFO - __main__ -   ***** Eval results *****\n",
            "04/06/2021 15:02:51 - INFO - __main__ -     perplexity = 49.655654267786744\n"
          ],
          "name": "stdout"
        }
      ]
    },
    {
      "cell_type": "code",
      "metadata": {
        "id": "oescLoDAtKa9",
        "outputId": "26fe9b0b-57f4-441f-98d7-6e4bb8645e6e",
        "colab": {
          "base_uri": "https://localhost:8080/"
        }
      },
      "source": [
        "cd /content/transformers/examples/text-generation"
      ],
      "execution_count": 19,
      "outputs": [
        {
          "output_type": "stream",
          "text": [
            "/content/transformers/examples/text-generation\n"
          ],
          "name": "stdout"
        }
      ]
    },
    {
      "cell_type": "code",
      "metadata": {
        "id": "w63x2pyuvMax",
        "outputId": "ccf9e3aa-bc3e-4e39-fccf-c727e2bdaa2c",
        "colab": {
          "base_uri": "https://localhost:8080/"
        }
      },
      "source": [
        "K=50\n",
        "!CUDA_VISIBLE_DEVICES=$N python /content/run_generation.py \\\n",
        "--model_type gpt2 \\\n",
        "--model_name_or_path $OUTPUT_DIR \\\n",
        "--length 100 \\\n",
        "--prompt \"<BOS>\" \\\n",
        "--stop_token \"<EOS>\" \\\n",
        "--k $K \\\n",
        "--num_return_sequences 5"
      ],
      "execution_count": 35,
      "outputs": [
        {
          "output_type": "stream",
          "text": [
            "04/06/2021 15:19:56 - INFO - __main__ -   Namespace(device=device(type='cpu'), k=50, length=100, model_name_or_path='/content/transformers/Results2', model_type='gpt2', n_gpu=0, no_cuda=False, num_return_sequences=5, p=0.9, padding_text='', prompt='<BOS>', repetition_penalty=1.0, seed=42, stop_token='<EOS>', temperature=1.0, xlm_language='')\n",
            "Setting `pad_token_id` to `eos_token_id`:50256 for open-end generation.\n",
            "=== GENERATED SEQUENCE 1 ===\n",
            "2021-04-06 15:20:08.605670: I tensorflow/stream_executor/platform/default/dso_loader.cc:49] Successfully opened dynamic library libcudart.so.11.0\n",
            "<BOS>  How to Set Up a macOS Phone and Its Touchscreen on the Mac  \n",
            "=== GENERATED SEQUENCE 2 ===\n",
            "<BOS>  No, you can't buy an Apple Watch smart watch without going into the Apple Store.  \n",
            "=== GENERATED SEQUENCE 3 ===\n",
            "<BOS>  New features and features coming soon to iOS  \n",
            "=== GENERATED SEQUENCE 4 ===\n",
            "<BOS>  \"What kind of life would you like for everyone?\"  \n",
            "=== GENERATED SEQUENCE 5 ===\n",
            "<BOS>  It's just like Apple does, when a product launches with a product launch date, it releases it first. So they can keep it going until the last product.  \n"
          ],
          "name": "stdout"
        }
      ]
    },
    {
      "cell_type": "code",
      "metadata": {
        "id": "clbCkg2NvYMJ"
      },
      "source": [
        ""
      ],
      "execution_count": null,
      "outputs": []
    }
  ]
}