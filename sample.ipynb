{
  "nbformat": 4,
  "nbformat_minor": 0,
  "metadata": {
    "kernelspec": {
      "display_name": "Python 3",
      "language": "python",
      "name": "python3"
    },
    "language_info": {
      "codemirror_mode": {
        "name": "ipython",
        "version": 3
      },
      "file_extension": ".py",
      "mimetype": "text/x-python",
      "name": "python",
      "nbconvert_exporter": "python",
      "pygments_lexer": "ipython3",
      "version": "3.6.5"
    },
    "colab": {
      "name": "NLP1.ipynb",
      "provenance": [],
      "toc_visible": true
    },
    "accelerator": "GPU"
  },
  "cells": [
    {
      "cell_type": "code",
      "metadata": {
        "id": "yOqhHDPscY5l",
        "outputId": "aaebd85e-bb3a-4f9f-f30a-8138c5854e77",
        "colab": {
          "base_uri": "https://localhost:8080/"
        }
      },
      "source": [
        "pip install transformers\n"
      ],
      "execution_count": 1,
      "outputs": [
        {
          "output_type": "stream",
          "text": [
            "Collecting transformers\n",
            "\u001b[?25l  Downloading https://files.pythonhosted.org/packages/81/91/61d69d58a1af1bd81d9ca9d62c90a6de3ab80d77f27c5df65d9a2c1f5626/transformers-4.5.0-py3-none-any.whl (2.1MB)\n",
            "\r\u001b[K     |▏                               | 10kB 21.7MB/s eta 0:00:01\r\u001b[K     |▎                               | 20kB 28.3MB/s eta 0:00:01\r\u001b[K     |▌                               | 30kB 23.2MB/s eta 0:00:01\r\u001b[K     |▋                               | 40kB 26.1MB/s eta 0:00:01\r\u001b[K     |▊                               | 51kB 25.4MB/s eta 0:00:01\r\u001b[K     |█                               | 61kB 27.7MB/s eta 0:00:01\r\u001b[K     |█                               | 71kB 18.9MB/s eta 0:00:01\r\u001b[K     |█▏                              | 81kB 19.9MB/s eta 0:00:01\r\u001b[K     |█▍                              | 92kB 18.6MB/s eta 0:00:01\r\u001b[K     |█▌                              | 102kB 18.6MB/s eta 0:00:01\r\u001b[K     |█▊                              | 112kB 18.6MB/s eta 0:00:01\r\u001b[K     |█▉                              | 122kB 18.6MB/s eta 0:00:01\r\u001b[K     |██                              | 133kB 18.6MB/s eta 0:00:01\r\u001b[K     |██▏                             | 143kB 18.6MB/s eta 0:00:01\r\u001b[K     |██▎                             | 153kB 18.6MB/s eta 0:00:01\r\u001b[K     |██▍                             | 163kB 18.6MB/s eta 0:00:01\r\u001b[K     |██▋                             | 174kB 18.6MB/s eta 0:00:01\r\u001b[K     |██▊                             | 184kB 18.6MB/s eta 0:00:01\r\u001b[K     |███                             | 194kB 18.6MB/s eta 0:00:01\r\u001b[K     |███                             | 204kB 18.6MB/s eta 0:00:01\r\u001b[K     |███▏                            | 215kB 18.6MB/s eta 0:00:01\r\u001b[K     |███▍                            | 225kB 18.6MB/s eta 0:00:01\r\u001b[K     |███▌                            | 235kB 18.6MB/s eta 0:00:01\r\u001b[K     |███▋                            | 245kB 18.6MB/s eta 0:00:01\r\u001b[K     |███▉                            | 256kB 18.6MB/s eta 0:00:01\r\u001b[K     |████                            | 266kB 18.6MB/s eta 0:00:01\r\u001b[K     |████▏                           | 276kB 18.6MB/s eta 0:00:01\r\u001b[K     |████▎                           | 286kB 18.6MB/s eta 0:00:01\r\u001b[K     |████▍                           | 296kB 18.6MB/s eta 0:00:01\r\u001b[K     |████▋                           | 307kB 18.6MB/s eta 0:00:01\r\u001b[K     |████▊                           | 317kB 18.6MB/s eta 0:00:01\r\u001b[K     |████▉                           | 327kB 18.6MB/s eta 0:00:01\r\u001b[K     |█████                           | 337kB 18.6MB/s eta 0:00:01\r\u001b[K     |█████▏                          | 348kB 18.6MB/s eta 0:00:01\r\u001b[K     |█████▍                          | 358kB 18.6MB/s eta 0:00:01\r\u001b[K     |█████▌                          | 368kB 18.6MB/s eta 0:00:01\r\u001b[K     |█████▋                          | 378kB 18.6MB/s eta 0:00:01\r\u001b[K     |█████▉                          | 389kB 18.6MB/s eta 0:00:01\r\u001b[K     |██████                          | 399kB 18.6MB/s eta 0:00:01\r\u001b[K     |██████                          | 409kB 18.6MB/s eta 0:00:01\r\u001b[K     |██████▎                         | 419kB 18.6MB/s eta 0:00:01\r\u001b[K     |██████▍                         | 430kB 18.6MB/s eta 0:00:01\r\u001b[K     |██████▋                         | 440kB 18.6MB/s eta 0:00:01\r\u001b[K     |██████▊                         | 450kB 18.6MB/s eta 0:00:01\r\u001b[K     |██████▉                         | 460kB 18.6MB/s eta 0:00:01\r\u001b[K     |███████                         | 471kB 18.6MB/s eta 0:00:01\r\u001b[K     |███████▏                        | 481kB 18.6MB/s eta 0:00:01\r\u001b[K     |███████▎                        | 491kB 18.6MB/s eta 0:00:01\r\u001b[K     |███████▌                        | 501kB 18.6MB/s eta 0:00:01\r\u001b[K     |███████▋                        | 512kB 18.6MB/s eta 0:00:01\r\u001b[K     |███████▉                        | 522kB 18.6MB/s eta 0:00:01\r\u001b[K     |████████                        | 532kB 18.6MB/s eta 0:00:01\r\u001b[K     |████████                        | 542kB 18.6MB/s eta 0:00:01\r\u001b[K     |████████▎                       | 552kB 18.6MB/s eta 0:00:01\r\u001b[K     |████████▍                       | 563kB 18.6MB/s eta 0:00:01\r\u001b[K     |████████▌                       | 573kB 18.6MB/s eta 0:00:01\r\u001b[K     |████████▊                       | 583kB 18.6MB/s eta 0:00:01\r\u001b[K     |████████▉                       | 593kB 18.6MB/s eta 0:00:01\r\u001b[K     |█████████                       | 604kB 18.6MB/s eta 0:00:01\r\u001b[K     |█████████▏                      | 614kB 18.6MB/s eta 0:00:01\r\u001b[K     |█████████▎                      | 624kB 18.6MB/s eta 0:00:01\r\u001b[K     |█████████▌                      | 634kB 18.6MB/s eta 0:00:01\r\u001b[K     |█████████▋                      | 645kB 18.6MB/s eta 0:00:01\r\u001b[K     |█████████▊                      | 655kB 18.6MB/s eta 0:00:01\r\u001b[K     |██████████                      | 665kB 18.6MB/s eta 0:00:01\r\u001b[K     |██████████                      | 675kB 18.6MB/s eta 0:00:01\r\u001b[K     |██████████▎                     | 686kB 18.6MB/s eta 0:00:01\r\u001b[K     |██████████▍                     | 696kB 18.6MB/s eta 0:00:01\r\u001b[K     |██████████▌                     | 706kB 18.6MB/s eta 0:00:01\r\u001b[K     |██████████▊                     | 716kB 18.6MB/s eta 0:00:01\r\u001b[K     |██████████▉                     | 727kB 18.6MB/s eta 0:00:01\r\u001b[K     |███████████                     | 737kB 18.6MB/s eta 0:00:01\r\u001b[K     |███████████▏                    | 747kB 18.6MB/s eta 0:00:01\r\u001b[K     |███████████▎                    | 757kB 18.6MB/s eta 0:00:01\r\u001b[K     |███████████▌                    | 768kB 18.6MB/s eta 0:00:01\r\u001b[K     |███████████▋                    | 778kB 18.6MB/s eta 0:00:01\r\u001b[K     |███████████▊                    | 788kB 18.6MB/s eta 0:00:01\r\u001b[K     |████████████                    | 798kB 18.6MB/s eta 0:00:01\r\u001b[K     |████████████                    | 808kB 18.6MB/s eta 0:00:01\r\u001b[K     |████████████▏                   | 819kB 18.6MB/s eta 0:00:01\r\u001b[K     |████████████▍                   | 829kB 18.6MB/s eta 0:00:01\r\u001b[K     |████████████▌                   | 839kB 18.6MB/s eta 0:00:01\r\u001b[K     |████████████▊                   | 849kB 18.6MB/s eta 0:00:01\r\u001b[K     |████████████▉                   | 860kB 18.6MB/s eta 0:00:01\r\u001b[K     |█████████████                   | 870kB 18.6MB/s eta 0:00:01\r\u001b[K     |█████████████▏                  | 880kB 18.6MB/s eta 0:00:01\r\u001b[K     |█████████████▎                  | 890kB 18.6MB/s eta 0:00:01\r\u001b[K     |█████████████▍                  | 901kB 18.6MB/s eta 0:00:01\r\u001b[K     |█████████████▋                  | 911kB 18.6MB/s eta 0:00:01\r\u001b[K     |█████████████▊                  | 921kB 18.6MB/s eta 0:00:01\r\u001b[K     |██████████████                  | 931kB 18.6MB/s eta 0:00:01\r\u001b[K     |██████████████                  | 942kB 18.6MB/s eta 0:00:01\r\u001b[K     |██████████████▏                 | 952kB 18.6MB/s eta 0:00:01\r\u001b[K     |██████████████▍                 | 962kB 18.6MB/s eta 0:00:01\r\u001b[K     |██████████████▌                 | 972kB 18.6MB/s eta 0:00:01\r\u001b[K     |██████████████▋                 | 983kB 18.6MB/s eta 0:00:01\r\u001b[K     |██████████████▉                 | 993kB 18.6MB/s eta 0:00:01\r\u001b[K     |███████████████                 | 1.0MB 18.6MB/s eta 0:00:01\r\u001b[K     |███████████████▏                | 1.0MB 18.6MB/s eta 0:00:01\r\u001b[K     |███████████████▎                | 1.0MB 18.6MB/s eta 0:00:01\r\u001b[K     |███████████████▍                | 1.0MB 18.6MB/s eta 0:00:01\r\u001b[K     |███████████████▋                | 1.0MB 18.6MB/s eta 0:00:01\r\u001b[K     |███████████████▊                | 1.1MB 18.6MB/s eta 0:00:01\r\u001b[K     |███████████████▉                | 1.1MB 18.6MB/s eta 0:00:01\r\u001b[K     |████████████████                | 1.1MB 18.6MB/s eta 0:00:01\r\u001b[K     |████████████████▏               | 1.1MB 18.6MB/s eta 0:00:01\r\u001b[K     |████████████████▍               | 1.1MB 18.6MB/s eta 0:00:01\r\u001b[K     |████████████████▌               | 1.1MB 18.6MB/s eta 0:00:01\r\u001b[K     |████████████████▋               | 1.1MB 18.6MB/s eta 0:00:01\r\u001b[K     |████████████████▉               | 1.1MB 18.6MB/s eta 0:00:01\r\u001b[K     |█████████████████               | 1.1MB 18.6MB/s eta 0:00:01\r\u001b[K     |█████████████████               | 1.1MB 18.6MB/s eta 0:00:01\r\u001b[K     |█████████████████▎              | 1.2MB 18.6MB/s eta 0:00:01\r\u001b[K     |█████████████████▍              | 1.2MB 18.6MB/s eta 0:00:01\r\u001b[K     |█████████████████▌              | 1.2MB 18.6MB/s eta 0:00:01\r\u001b[K     |█████████████████▊              | 1.2MB 18.6MB/s eta 0:00:01\r\u001b[K     |█████████████████▉              | 1.2MB 18.6MB/s eta 0:00:01\r\u001b[K     |██████████████████              | 1.2MB 18.6MB/s eta 0:00:01\r\u001b[K     |██████████████████▏             | 1.2MB 18.6MB/s eta 0:00:01\r\u001b[K     |██████████████████▎             | 1.2MB 18.6MB/s eta 0:00:01\r\u001b[K     |██████████████████▌             | 1.2MB 18.6MB/s eta 0:00:01\r\u001b[K     |██████████████████▋             | 1.2MB 18.6MB/s eta 0:00:01\r\u001b[K     |██████████████████▊             | 1.3MB 18.6MB/s eta 0:00:01\r\u001b[K     |███████████████████             | 1.3MB 18.6MB/s eta 0:00:01\r\u001b[K     |███████████████████             | 1.3MB 18.6MB/s eta 0:00:01\r\u001b[K     |███████████████████▎            | 1.3MB 18.6MB/s eta 0:00:01\r\u001b[K     |███████████████████▍            | 1.3MB 18.6MB/s eta 0:00:01\r\u001b[K     |███████████████████▌            | 1.3MB 18.6MB/s eta 0:00:01\r\u001b[K     |███████████████████▊            | 1.3MB 18.6MB/s eta 0:00:01\r\u001b[K     |███████████████████▉            | 1.3MB 18.6MB/s eta 0:00:01\r\u001b[K     |████████████████████            | 1.3MB 18.6MB/s eta 0:00:01\r\u001b[K     |████████████████████▏           | 1.4MB 18.6MB/s eta 0:00:01\r\u001b[K     |████████████████████▎           | 1.4MB 18.6MB/s eta 0:00:01\r\u001b[K     |████████████████████▌           | 1.4MB 18.6MB/s eta 0:00:01\r\u001b[K     |████████████████████▋           | 1.4MB 18.6MB/s eta 0:00:01\r\u001b[K     |████████████████████▊           | 1.4MB 18.6MB/s eta 0:00:01\r\u001b[K     |█████████████████████           | 1.4MB 18.6MB/s eta 0:00:01\r\u001b[K     |█████████████████████           | 1.4MB 18.6MB/s eta 0:00:01\r\u001b[K     |█████████████████████▏          | 1.4MB 18.6MB/s eta 0:00:01\r\u001b[K     |█████████████████████▍          | 1.4MB 18.6MB/s eta 0:00:01\r\u001b[K     |█████████████████████▌          | 1.4MB 18.6MB/s eta 0:00:01\r\u001b[K     |█████████████████████▊          | 1.5MB 18.6MB/s eta 0:00:01\r\u001b[K     |█████████████████████▉          | 1.5MB 18.6MB/s eta 0:00:01\r\u001b[K     |██████████████████████          | 1.5MB 18.6MB/s eta 0:00:01\r\u001b[K     |██████████████████████▏         | 1.5MB 18.6MB/s eta 0:00:01\r\u001b[K     |██████████████████████▎         | 1.5MB 18.6MB/s eta 0:00:01\r\u001b[K     |██████████████████████▍         | 1.5MB 18.6MB/s eta 0:00:01\r\u001b[K     |██████████████████████▋         | 1.5MB 18.6MB/s eta 0:00:01\r\u001b[K     |██████████████████████▊         | 1.5MB 18.6MB/s eta 0:00:01\r\u001b[K     |███████████████████████         | 1.5MB 18.6MB/s eta 0:00:01\r\u001b[K     |███████████████████████         | 1.5MB 18.6MB/s eta 0:00:01\r\u001b[K     |███████████████████████▏        | 1.6MB 18.6MB/s eta 0:00:01\r\u001b[K     |███████████████████████▍        | 1.6MB 18.6MB/s eta 0:00:01\r\u001b[K     |███████████████████████▌        | 1.6MB 18.6MB/s eta 0:00:01\r\u001b[K     |███████████████████████▋        | 1.6MB 18.6MB/s eta 0:00:01\r\u001b[K     |███████████████████████▉        | 1.6MB 18.6MB/s eta 0:00:01\r\u001b[K     |████████████████████████        | 1.6MB 18.6MB/s eta 0:00:01\r\u001b[K     |████████████████████████▏       | 1.6MB 18.6MB/s eta 0:00:01\r\u001b[K     |████████████████████████▎       | 1.6MB 18.6MB/s eta 0:00:01\r\u001b[K     |████████████████████████▍       | 1.6MB 18.6MB/s eta 0:00:01\r\u001b[K     |████████████████████████▋       | 1.6MB 18.6MB/s eta 0:00:01\r\u001b[K     |████████████████████████▊       | 1.7MB 18.6MB/s eta 0:00:01\r\u001b[K     |████████████████████████▉       | 1.7MB 18.6MB/s eta 0:00:01\r\u001b[K     |█████████████████████████       | 1.7MB 18.6MB/s eta 0:00:01\r\u001b[K     |█████████████████████████▏      | 1.7MB 18.6MB/s eta 0:00:01\r\u001b[K     |█████████████████████████▍      | 1.7MB 18.6MB/s eta 0:00:01\r\u001b[K     |█████████████████████████▌      | 1.7MB 18.6MB/s eta 0:00:01\r\u001b[K     |█████████████████████████▋      | 1.7MB 18.6MB/s eta 0:00:01\r\u001b[K     |█████████████████████████▉      | 1.7MB 18.6MB/s eta 0:00:01\r\u001b[K     |██████████████████████████      | 1.7MB 18.6MB/s eta 0:00:01\r\u001b[K     |██████████████████████████      | 1.8MB 18.6MB/s eta 0:00:01\r\u001b[K     |██████████████████████████▎     | 1.8MB 18.6MB/s eta 0:00:01\r\u001b[K     |██████████████████████████▍     | 1.8MB 18.6MB/s eta 0:00:01\r\u001b[K     |██████████████████████████▋     | 1.8MB 18.6MB/s eta 0:00:01\r\u001b[K     |██████████████████████████▊     | 1.8MB 18.6MB/s eta 0:00:01\r\u001b[K     |██████████████████████████▉     | 1.8MB 18.6MB/s eta 0:00:01\r\u001b[K     |███████████████████████████     | 1.8MB 18.6MB/s eta 0:00:01\r\u001b[K     |███████████████████████████▏    | 1.8MB 18.6MB/s eta 0:00:01\r\u001b[K     |███████████████████████████▎    | 1.8MB 18.6MB/s eta 0:00:01\r\u001b[K     |███████████████████████████▌    | 1.8MB 18.6MB/s eta 0:00:01\r\u001b[K     |███████████████████████████▋    | 1.9MB 18.6MB/s eta 0:00:01\r\u001b[K     |███████████████████████████▉    | 1.9MB 18.6MB/s eta 0:00:01\r\u001b[K     |████████████████████████████    | 1.9MB 18.6MB/s eta 0:00:01\r\u001b[K     |████████████████████████████    | 1.9MB 18.6MB/s eta 0:00:01\r\u001b[K     |████████████████████████████▎   | 1.9MB 18.6MB/s eta 0:00:01\r\u001b[K     |████████████████████████████▍   | 1.9MB 18.6MB/s eta 0:00:01\r\u001b[K     |████████████████████████████▌   | 1.9MB 18.6MB/s eta 0:00:01\r\u001b[K     |████████████████████████████▊   | 1.9MB 18.6MB/s eta 0:00:01\r\u001b[K     |████████████████████████████▉   | 1.9MB 18.6MB/s eta 0:00:01\r\u001b[K     |█████████████████████████████   | 1.9MB 18.6MB/s eta 0:00:01\r\u001b[K     |█████████████████████████████▏  | 2.0MB 18.6MB/s eta 0:00:01\r\u001b[K     |█████████████████████████████▎  | 2.0MB 18.6MB/s eta 0:00:01\r\u001b[K     |█████████████████████████████▌  | 2.0MB 18.6MB/s eta 0:00:01\r\u001b[K     |█████████████████████████████▋  | 2.0MB 18.6MB/s eta 0:00:01\r\u001b[K     |█████████████████████████████▊  | 2.0MB 18.6MB/s eta 0:00:01\r\u001b[K     |██████████████████████████████  | 2.0MB 18.6MB/s eta 0:00:01\r\u001b[K     |██████████████████████████████  | 2.0MB 18.6MB/s eta 0:00:01\r\u001b[K     |██████████████████████████████▎ | 2.0MB 18.6MB/s eta 0:00:01\r\u001b[K     |██████████████████████████████▍ | 2.0MB 18.6MB/s eta 0:00:01\r\u001b[K     |██████████████████████████████▌ | 2.0MB 18.6MB/s eta 0:00:01\r\u001b[K     |██████████████████████████████▊ | 2.1MB 18.6MB/s eta 0:00:01\r\u001b[K     |██████████████████████████████▉ | 2.1MB 18.6MB/s eta 0:00:01\r\u001b[K     |███████████████████████████████ | 2.1MB 18.6MB/s eta 0:00:01\r\u001b[K     |███████████████████████████████▏| 2.1MB 18.6MB/s eta 0:00:01\r\u001b[K     |███████████████████████████████▎| 2.1MB 18.6MB/s eta 0:00:01\r\u001b[K     |███████████████████████████████▌| 2.1MB 18.6MB/s eta 0:00:01\r\u001b[K     |███████████████████████████████▋| 2.1MB 18.6MB/s eta 0:00:01\r\u001b[K     |███████████████████████████████▊| 2.1MB 18.6MB/s eta 0:00:01\r\u001b[K     |████████████████████████████████| 2.1MB 18.6MB/s eta 0:00:01\r\u001b[K     |████████████████████████████████| 2.2MB 18.6MB/s \n",
            "\u001b[?25hRequirement already satisfied: filelock in /usr/local/lib/python3.7/dist-packages (from transformers) (3.0.12)\n",
            "Collecting tokenizers<0.11,>=0.10.1\n",
            "\u001b[?25l  Downloading https://files.pythonhosted.org/packages/ae/04/5b870f26a858552025a62f1649c20d29d2672c02ff3c3fb4c688ca46467a/tokenizers-0.10.2-cp37-cp37m-manylinux2010_x86_64.whl (3.3MB)\n",
            "\u001b[K     |████████████████████████████████| 3.3MB 50.8MB/s \n",
            "\u001b[?25hRequirement already satisfied: packaging in /usr/local/lib/python3.7/dist-packages (from transformers) (20.9)\n",
            "Requirement already satisfied: tqdm>=4.27 in /usr/local/lib/python3.7/dist-packages (from transformers) (4.41.1)\n",
            "Requirement already satisfied: regex!=2019.12.17 in /usr/local/lib/python3.7/dist-packages (from transformers) (2019.12.20)\n",
            "Requirement already satisfied: requests in /usr/local/lib/python3.7/dist-packages (from transformers) (2.23.0)\n",
            "Collecting sacremoses\n",
            "\u001b[?25l  Downloading https://files.pythonhosted.org/packages/08/cd/342e584ee544d044fb573ae697404ce22ede086c9e87ce5960772084cad0/sacremoses-0.0.44.tar.gz (862kB)\n",
            "\u001b[K     |████████████████████████████████| 870kB 51.4MB/s \n",
            "\u001b[?25hRequirement already satisfied: importlib-metadata; python_version < \"3.8\" in /usr/local/lib/python3.7/dist-packages (from transformers) (3.8.1)\n",
            "Requirement already satisfied: numpy>=1.17 in /usr/local/lib/python3.7/dist-packages (from transformers) (1.19.5)\n",
            "Requirement already satisfied: pyparsing>=2.0.2 in /usr/local/lib/python3.7/dist-packages (from packaging->transformers) (2.4.7)\n",
            "Requirement already satisfied: certifi>=2017.4.17 in /usr/local/lib/python3.7/dist-packages (from requests->transformers) (2020.12.5)\n",
            "Requirement already satisfied: idna<3,>=2.5 in /usr/local/lib/python3.7/dist-packages (from requests->transformers) (2.10)\n",
            "Requirement already satisfied: chardet<4,>=3.0.2 in /usr/local/lib/python3.7/dist-packages (from requests->transformers) (3.0.4)\n",
            "Requirement already satisfied: urllib3!=1.25.0,!=1.25.1,<1.26,>=1.21.1 in /usr/local/lib/python3.7/dist-packages (from requests->transformers) (1.24.3)\n",
            "Requirement already satisfied: six in /usr/local/lib/python3.7/dist-packages (from sacremoses->transformers) (1.15.0)\n",
            "Requirement already satisfied: click in /usr/local/lib/python3.7/dist-packages (from sacremoses->transformers) (7.1.2)\n",
            "Requirement already satisfied: joblib in /usr/local/lib/python3.7/dist-packages (from sacremoses->transformers) (1.0.1)\n",
            "Requirement already satisfied: zipp>=0.5 in /usr/local/lib/python3.7/dist-packages (from importlib-metadata; python_version < \"3.8\"->transformers) (3.4.1)\n",
            "Requirement already satisfied: typing-extensions>=3.6.4; python_version < \"3.8\" in /usr/local/lib/python3.7/dist-packages (from importlib-metadata; python_version < \"3.8\"->transformers) (3.7.4.3)\n",
            "Building wheels for collected packages: sacremoses\n",
            "  Building wheel for sacremoses (setup.py) ... \u001b[?25l\u001b[?25hdone\n",
            "  Created wheel for sacremoses: filename=sacremoses-0.0.44-cp37-none-any.whl size=886084 sha256=ade74066c0c0186a75d85df8bb966e2451b796d7975a821089a6f0873b8ac3cd\n",
            "  Stored in directory: /root/.cache/pip/wheels/3e/fb/c0/13ab4d63d537658f448366744654323077c4d90069b6512f3c\n",
            "Successfully built sacremoses\n",
            "Installing collected packages: tokenizers, sacremoses, transformers\n",
            "Successfully installed sacremoses-0.0.44 tokenizers-0.10.2 transformers-4.5.0\n"
          ],
          "name": "stdout"
        }
      ]
    },
    {
      "cell_type": "code",
      "metadata": {
        "id": "G_YlS952ccNI",
        "outputId": "d89ba99d-5958-41d0-da7c-66266979626e",
        "colab": {
          "base_uri": "https://localhost:8080/"
        }
      },
      "source": [
        "!git clone https://github.com/huggingface/transformers\n"
      ],
      "execution_count": 2,
      "outputs": [
        {
          "output_type": "stream",
          "text": [
            "Cloning into 'transformers'...\n",
            "remote: Enumerating objects: 236, done.\u001b[K\n",
            "remote: Counting objects: 100% (236/236), done.\u001b[K\n",
            "remote: Compressing objects: 100% (173/173), done.\u001b[K\n",
            "remote: Total 69522 (delta 128), reused 105 (delta 51), pack-reused 69286\u001b[K\n",
            "Receiving objects: 100% (69522/69522), 52.91 MiB | 28.94 MiB/s, done.\n",
            "Resolving deltas: 100% (49220/49220), done.\n"
          ],
          "name": "stdout"
        }
      ]
    },
    {
      "cell_type": "code",
      "metadata": {
        "id": "0IB9QAMBcftl"
      },
      "source": [
        "N=1\n",
        "OUTPUT_DIR='/content/transformers/Results2'\n",
        "TRAIN_FILE='/content/train.txt'\n",
        "VALID_FILE='/content/valid.txt'"
      ],
      "execution_count": 3,
      "outputs": []
    },
    {
      "cell_type": "code",
      "metadata": {
        "id": "DmAaOLckczIe",
        "outputId": "46e509de-ea8c-4dd6-89ed-8b28da546fd2",
        "colab": {
          "base_uri": "https://localhost:8080/"
        }
      },
      "source": [
        "!CUDA_VISIBLE_DEVICES=1 python /content/run_language_modeling.py \\\n",
        "--output_dir=$OUTPUT_DIR \\\n",
        "--model_type=gpt2 \\\n",
        "--model_name_or_path=gpt2 \\\n",
        "--do_train \\\n",
        "--train_data_file=$TRAIN_FILE \\\n",
        "--do_eval \\\n",
        "--eval_data_file=$VALID_FILE \\\n",
        "--per_device_train_batch_size=2 \\\n",
        "--per_device_eval_batch_size=2 \\\n",
        "--line_by_line \\\n",
        "--learning_rate 5e-5 \\\n",
        "--num_train_epochs=2"
      ],
      "execution_count": 4,
      "outputs": [
        {
          "output_type": "stream",
          "text": [
            "2021-04-09 11:45:23.368551: I tensorflow/stream_executor/platform/default/dso_loader.cc:49] Successfully opened dynamic library libcudart.so.11.0\n",
            "04/09/2021 11:45:24 - WARNING - __main__ -   Process rank: -1, device: cpu, n_gpu: 0, distributed training: False, 16-bits training: False\n",
            "04/09/2021 11:45:24 - INFO - __main__ -   Training/evaluation parameters TrainingArguments(output_dir=/content/transformers/Results2, overwrite_output_dir=False, do_train=True, do_eval=True, do_predict=False, evaluation_strategy=IntervalStrategy.NO, prediction_loss_only=False, per_device_train_batch_size=2, per_device_eval_batch_size=2, gradient_accumulation_steps=1, eval_accumulation_steps=None, learning_rate=5e-05, weight_decay=0.0, adam_beta1=0.9, adam_beta2=0.999, adam_epsilon=1e-08, max_grad_norm=1.0, num_train_epochs=2.0, max_steps=-1, lr_scheduler_type=SchedulerType.LINEAR, warmup_ratio=0.0, warmup_steps=0, logging_dir=runs/Apr09_11-45-24_0cc7cf6fe643, logging_strategy=IntervalStrategy.STEPS, logging_first_step=False, logging_steps=500, save_strategy=IntervalStrategy.STEPS, save_steps=500, save_total_limit=None, no_cuda=False, seed=42, fp16=False, fp16_opt_level=O1, fp16_backend=auto, fp16_full_eval=False, local_rank=-1, tpu_num_cores=None, tpu_metrics_debug=False, debug=False, dataloader_drop_last=False, eval_steps=500, dataloader_num_workers=0, past_index=-1, run_name=/content/transformers/Results2, disable_tqdm=False, remove_unused_columns=True, label_names=None, load_best_model_at_end=False, metric_for_best_model=None, greater_is_better=None, ignore_data_skip=False, sharded_ddp=[], deepspeed=None, label_smoothing_factor=0.0, adafactor=False, group_by_length=False, length_column_name=length, report_to=['tensorboard'], ddp_find_unused_parameters=None, dataloader_pin_memory=True, skip_memory_metrics=False, _n_gpu=0, mp_parameters=)\n",
            "04/09/2021 11:45:24 - INFO - filelock -   Lock 140307372776208 acquired on /root/.cache/huggingface/transformers/fc674cd6907b4c9e933cb42d67662436b89fa9540a1f40d7c919d0109289ad01.7d2e0efa5ca20cef4fb199382111e9d3ad96fd77b849e1d4bed13a66e1336f51.lock\n",
            "Downloading: 100% 665/665 [00:00<00:00, 929kB/s]\n",
            "04/09/2021 11:45:24 - INFO - filelock -   Lock 140307372776208 released on /root/.cache/huggingface/transformers/fc674cd6907b4c9e933cb42d67662436b89fa9540a1f40d7c919d0109289ad01.7d2e0efa5ca20cef4fb199382111e9d3ad96fd77b849e1d4bed13a66e1336f51.lock\n",
            "04/09/2021 11:45:24 - INFO - filelock -   Lock 140307372468432 acquired on /root/.cache/huggingface/transformers/684fe667923972fb57f6b4dcb61a3c92763ad89882f3da5da9866baf14f2d60f.c7ed1f96aac49e745788faa77ba0a26a392643a50bb388b9c04ff469e555241f.lock\n",
            "Downloading: 100% 1.04M/1.04M [00:00<00:00, 25.3MB/s]\n",
            "04/09/2021 11:45:24 - INFO - filelock -   Lock 140307372468432 released on /root/.cache/huggingface/transformers/684fe667923972fb57f6b4dcb61a3c92763ad89882f3da5da9866baf14f2d60f.c7ed1f96aac49e745788faa77ba0a26a392643a50bb388b9c04ff469e555241f.lock\n",
            "04/09/2021 11:45:24 - INFO - filelock -   Lock 140307372468496 acquired on /root/.cache/huggingface/transformers/c0c761a63004025aeadd530c4c27b860ec4ecbe8a00531233de21d865a402598.5d12962c5ee615a4c803841266e9c3be9a691a924f72d395d3a6c6c81157788b.lock\n",
            "Downloading: 100% 456k/456k [00:00<00:00, 31.6MB/s]\n",
            "04/09/2021 11:45:24 - INFO - filelock -   Lock 140307372468496 released on /root/.cache/huggingface/transformers/c0c761a63004025aeadd530c4c27b860ec4ecbe8a00531233de21d865a402598.5d12962c5ee615a4c803841266e9c3be9a691a924f72d395d3a6c6c81157788b.lock\n",
            "04/09/2021 11:45:24 - INFO - filelock -   Lock 140307372596240 acquired on /root/.cache/huggingface/transformers/16a2f78023c8dc511294f0c97b5e10fde3ef9889ad6d11ffaa2a00714e73926e.cf2d0ecb83b6df91b3dbb53f1d1e4c311578bfd3aa0e04934215a49bf9898df0.lock\n",
            "Downloading: 100% 1.36M/1.36M [00:00<00:00, 31.1MB/s]\n",
            "04/09/2021 11:45:24 - INFO - filelock -   Lock 140307372596240 released on /root/.cache/huggingface/transformers/16a2f78023c8dc511294f0c97b5e10fde3ef9889ad6d11ffaa2a00714e73926e.cf2d0ecb83b6df91b3dbb53f1d1e4c311578bfd3aa0e04934215a49bf9898df0.lock\n",
            "/usr/local/lib/python3.7/dist-packages/transformers/models/auto/modeling_auto.py:762: FutureWarning: The class `AutoModelWithLMHead` is deprecated and will be removed in a future version. Please use `AutoModelForCausalLM` for causal language models, `AutoModelForMaskedLM` for masked language models and `AutoModelForSeq2SeqLM` for encoder-decoder models.\n",
            "  FutureWarning,\n",
            "04/09/2021 11:45:25 - INFO - filelock -   Lock 140307372676432 acquired on /root/.cache/huggingface/transformers/752929ace039baa8ef70fe21cdf9ab9445773d20e733cf693d667982e210837e.323c769945a351daa25546176f8208b3004b6f563438a7603e7932bae9025925.lock\n",
            "Downloading:  88% 483M/548M [00:07<00:00, 67.3MB/s]Traceback (most recent call last):\n",
            "  File \"/usr/local/lib/python3.7/dist-packages/transformers/file_utils.py\", line 1428, in get_from_cache\n",
            "    http_get(url_to_download, temp_file, proxies=proxies, resume_size=resume_size, headers=headers)\n",
            "  File \"/usr/local/lib/python3.7/dist-packages/transformers/file_utils.py\", line 1287, in http_get\n",
            "    for chunk in r.iter_content(chunk_size=1024):\n",
            "  File \"/usr/local/lib/python3.7/dist-packages/requests/models.py\", line 751, in generate\n",
            "    for chunk in self.raw.stream(chunk_size, decode_content=True):\n",
            "  File \"/usr/local/lib/python3.7/dist-packages/urllib3/response.py\", line 496, in stream\n",
            "    data = self.read(amt=amt, decode_content=decode_content)\n",
            "  File \"/usr/local/lib/python3.7/dist-packages/urllib3/response.py\", line 437, in read\n",
            "    with self._error_catcher():\n",
            "  File \"/usr/lib/python3.7/contextlib.py\", line 239, in helper\n",
            "    return _GeneratorContextManager(func, args, kwds)\n",
            "KeyboardInterrupt\n",
            "\n",
            "During handling of the above exception, another exception occurred:\n",
            "\n",
            "Traceback (most recent call last):\n",
            "  File \"/content/run_language_modeling.py\", line 283, in <module>\n",
            "    main()\n",
            "  File \"/content/run_language_modeling.py\", line 200, in main\n",
            "    cache_dir=model_args.cache_dir,\n",
            "  File \"/usr/local/lib/python3.7/dist-packages/transformers/models/auto/modeling_auto.py\", line 764, in from_pretrained\n",
            "    return super().from_pretrained(pretrained_model_name_or_path, *model_args, **kwargs)\n",
            "  File \"/usr/local/lib/python3.7/dist-packages/transformers/models/auto/auto_factory.py\", line 360, in from_pretrained\n",
            "    pretrained_model_name_or_path, *model_args, config=config, **kwargs\n",
            "  File \"/usr/local/lib/python3.7/dist-packages/transformers/modeling_utils.py\", line 1038, in from_pretrained\n",
            "    user_agent=user_agent,\n",
            "  File \"/usr/local/lib/python3.7/dist-packages/transformers/file_utils.py\", line 1173, in cached_path\n",
            "    local_files_only=local_files_only,\n",
            "  File \"/usr/local/lib/python3.7/dist-packages/transformers/file_utils.py\", line 1437, in get_from_cache\n",
            "    json.dump(meta, meta_file)\n",
            "  File \"/usr/local/lib/python3.7/dist-packages/filelock.py\", line 327, in __exit__\n",
            "    self.release()\n",
            "  File \"/usr/local/lib/python3.7/dist-packages/filelock.py\", line 308, in release\n",
            "    if self.is_locked:\n",
            "  File \"/usr/local/lib/python3.7/dist-packages/filelock.py\", line 208, in is_locked\n",
            "    @property\n",
            "KeyboardInterrupt\n",
            "04/09/2021 11:45:32 - INFO - filelock -   Lock 140307372676432 released on /root/.cache/huggingface/transformers/752929ace039baa8ef70fe21cdf9ab9445773d20e733cf693d667982e210837e.323c769945a351daa25546176f8208b3004b6f563438a7603e7932bae9025925.lock\n",
            "Downloading:  88% 485M/548M [00:07<00:00, 67.1MB/s]\n",
            "^C\n"
          ],
          "name": "stdout"
        }
      ]
    },
    {
      "cell_type": "code",
      "metadata": {
        "id": "J5qpDWNmc4mA"
      },
      "source": [
        ""
      ],
      "execution_count": null,
      "outputs": []
    }
  ]
}