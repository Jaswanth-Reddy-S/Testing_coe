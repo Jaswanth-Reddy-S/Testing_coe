{
  "nbformat": 4,
  "nbformat_minor": 0,
  "metadata": {
    "kernelspec": {
      "display_name": "Python 3",
      "language": "python",
      "name": "python3"
    },
    "language_info": {
      "codemirror_mode": {
        "name": "ipython",
        "version": 3
      },
      "file_extension": ".py",
      "mimetype": "text/x-python",
      "name": "python",
      "nbconvert_exporter": "python",
      "pygments_lexer": "ipython3",
      "version": "3.6.5"
    },
    "colab": {
      "name": "NLP1.ipynb",
      "provenance": [],
      "toc_visible": true
    },
    "accelerator": "GPU",
    "widgets": {
      "application/vnd.jupyter.widget-state+json": {
        "a1f645283c9642adbbfab1350a11f6c4": {
          "model_module": "@jupyter-widgets/controls",
          "model_name": "HBoxModel",
          "state": {
            "_view_name": "HBoxView",
            "_dom_classes": [],
            "_model_name": "HBoxModel",
            "_view_module": "@jupyter-widgets/controls",
            "_model_module_version": "1.5.0",
            "_view_count": null,
            "_view_module_version": "1.5.0",
            "box_style": "",
            "layout": "IPY_MODEL_03b5f20e55e34479a23b01846188a613",
            "_model_module": "@jupyter-widgets/controls",
            "children": [
              "IPY_MODEL_dc7f248e33e34c28926e2f2110936681",
              "IPY_MODEL_c731b0e5eef94d46bb3bbc75a5232ff6"
            ]
          }
        },
        "03b5f20e55e34479a23b01846188a613": {
          "model_module": "@jupyter-widgets/base",
          "model_name": "LayoutModel",
          "state": {
            "_view_name": "LayoutView",
            "grid_template_rows": null,
            "right": null,
            "justify_content": null,
            "_view_module": "@jupyter-widgets/base",
            "overflow": null,
            "_model_module_version": "1.2.0",
            "_view_count": null,
            "flex_flow": null,
            "width": null,
            "min_width": null,
            "border": null,
            "align_items": null,
            "bottom": null,
            "_model_module": "@jupyter-widgets/base",
            "top": null,
            "grid_column": null,
            "overflow_y": null,
            "overflow_x": null,
            "grid_auto_flow": null,
            "grid_area": null,
            "grid_template_columns": null,
            "flex": null,
            "_model_name": "LayoutModel",
            "justify_items": null,
            "grid_row": null,
            "max_height": null,
            "align_content": null,
            "visibility": null,
            "align_self": null,
            "height": null,
            "min_height": null,
            "padding": null,
            "grid_auto_rows": null,
            "grid_gap": null,
            "max_width": null,
            "order": null,
            "_view_module_version": "1.2.0",
            "grid_template_areas": null,
            "object_position": null,
            "object_fit": null,
            "grid_auto_columns": null,
            "margin": null,
            "display": null,
            "left": null
          }
        },
        "dc7f248e33e34c28926e2f2110936681": {
          "model_module": "@jupyter-widgets/controls",
          "model_name": "FloatProgressModel",
          "state": {
            "_view_name": "ProgressView",
            "style": "IPY_MODEL_3f7e34e34ef74509ac4e19023dce0e02",
            "_dom_classes": [],
            "description": "Downloading: ",
            "_model_name": "FloatProgressModel",
            "bar_style": "success",
            "max": 2584,
            "_view_module": "@jupyter-widgets/controls",
            "_model_module_version": "1.5.0",
            "value": 2584,
            "_view_count": null,
            "_view_module_version": "1.5.0",
            "orientation": "horizontal",
            "min": 0,
            "description_tooltip": null,
            "_model_module": "@jupyter-widgets/controls",
            "layout": "IPY_MODEL_750a98cea7fc45c9bf5ffef99c2ebac4"
          }
        },
        "c731b0e5eef94d46bb3bbc75a5232ff6": {
          "model_module": "@jupyter-widgets/controls",
          "model_name": "HTMLModel",
          "state": {
            "_view_name": "HTMLView",
            "style": "IPY_MODEL_43eaa48fed9c4e0480c22ec10a655a76",
            "_dom_classes": [],
            "description": "",
            "_model_name": "HTMLModel",
            "placeholder": "​",
            "_view_module": "@jupyter-widgets/controls",
            "_model_module_version": "1.5.0",
            "value": " 9.48k/? [00:03&lt;00:00, 3.14kB/s]",
            "_view_count": null,
            "_view_module_version": "1.5.0",
            "description_tooltip": null,
            "_model_module": "@jupyter-widgets/controls",
            "layout": "IPY_MODEL_cf3a1c259ce74a95a33de99b910952d1"
          }
        },
        "3f7e34e34ef74509ac4e19023dce0e02": {
          "model_module": "@jupyter-widgets/controls",
          "model_name": "ProgressStyleModel",
          "state": {
            "_view_name": "StyleView",
            "_model_name": "ProgressStyleModel",
            "description_width": "initial",
            "_view_module": "@jupyter-widgets/base",
            "_model_module_version": "1.5.0",
            "_view_count": null,
            "_view_module_version": "1.2.0",
            "bar_color": null,
            "_model_module": "@jupyter-widgets/controls"
          }
        },
        "750a98cea7fc45c9bf5ffef99c2ebac4": {
          "model_module": "@jupyter-widgets/base",
          "model_name": "LayoutModel",
          "state": {
            "_view_name": "LayoutView",
            "grid_template_rows": null,
            "right": null,
            "justify_content": null,
            "_view_module": "@jupyter-widgets/base",
            "overflow": null,
            "_model_module_version": "1.2.0",
            "_view_count": null,
            "flex_flow": null,
            "width": null,
            "min_width": null,
            "border": null,
            "align_items": null,
            "bottom": null,
            "_model_module": "@jupyter-widgets/base",
            "top": null,
            "grid_column": null,
            "overflow_y": null,
            "overflow_x": null,
            "grid_auto_flow": null,
            "grid_area": null,
            "grid_template_columns": null,
            "flex": null,
            "_model_name": "LayoutModel",
            "justify_items": null,
            "grid_row": null,
            "max_height": null,
            "align_content": null,
            "visibility": null,
            "align_self": null,
            "height": null,
            "min_height": null,
            "padding": null,
            "grid_auto_rows": null,
            "grid_gap": null,
            "max_width": null,
            "order": null,
            "_view_module_version": "1.2.0",
            "grid_template_areas": null,
            "object_position": null,
            "object_fit": null,
            "grid_auto_columns": null,
            "margin": null,
            "display": null,
            "left": null
          }
        },
        "43eaa48fed9c4e0480c22ec10a655a76": {
          "model_module": "@jupyter-widgets/controls",
          "model_name": "DescriptionStyleModel",
          "state": {
            "_view_name": "StyleView",
            "_model_name": "DescriptionStyleModel",
            "description_width": "",
            "_view_module": "@jupyter-widgets/base",
            "_model_module_version": "1.5.0",
            "_view_count": null,
            "_view_module_version": "1.2.0",
            "_model_module": "@jupyter-widgets/controls"
          }
        },
        "cf3a1c259ce74a95a33de99b910952d1": {
          "model_module": "@jupyter-widgets/base",
          "model_name": "LayoutModel",
          "state": {
            "_view_name": "LayoutView",
            "grid_template_rows": null,
            "right": null,
            "justify_content": null,
            "_view_module": "@jupyter-widgets/base",
            "overflow": null,
            "_model_module_version": "1.2.0",
            "_view_count": null,
            "flex_flow": null,
            "width": null,
            "min_width": null,
            "border": null,
            "align_items": null,
            "bottom": null,
            "_model_module": "@jupyter-widgets/base",
            "top": null,
            "grid_column": null,
            "overflow_y": null,
            "overflow_x": null,
            "grid_auto_flow": null,
            "grid_area": null,
            "grid_template_columns": null,
            "flex": null,
            "_model_name": "LayoutModel",
            "justify_items": null,
            "grid_row": null,
            "max_height": null,
            "align_content": null,
            "visibility": null,
            "align_self": null,
            "height": null,
            "min_height": null,
            "padding": null,
            "grid_auto_rows": null,
            "grid_gap": null,
            "max_width": null,
            "order": null,
            "_view_module_version": "1.2.0",
            "grid_template_areas": null,
            "object_position": null,
            "object_fit": null,
            "grid_auto_columns": null,
            "margin": null,
            "display": null,
            "left": null
          }
        },
        "754d471d1c934293a170bff44926df77": {
          "model_module": "@jupyter-widgets/controls",
          "model_name": "HBoxModel",
          "state": {
            "_view_name": "HBoxView",
            "_dom_classes": [],
            "_model_name": "HBoxModel",
            "_view_module": "@jupyter-widgets/controls",
            "_model_module_version": "1.5.0",
            "_view_count": null,
            "_view_module_version": "1.5.0",
            "box_style": "",
            "layout": "IPY_MODEL_1495406b1f024f6787ce1cb41914a41a",
            "_model_module": "@jupyter-widgets/controls",
            "children": [
              "IPY_MODEL_37d523f440744b65a8068e2e08e715a6",
              "IPY_MODEL_44b408d59efe4de3a2fb312b03f14c50"
            ]
          }
        },
        "1495406b1f024f6787ce1cb41914a41a": {
          "model_module": "@jupyter-widgets/base",
          "model_name": "LayoutModel",
          "state": {
            "_view_name": "LayoutView",
            "grid_template_rows": null,
            "right": null,
            "justify_content": null,
            "_view_module": "@jupyter-widgets/base",
            "overflow": null,
            "_model_module_version": "1.2.0",
            "_view_count": null,
            "flex_flow": null,
            "width": null,
            "min_width": null,
            "border": null,
            "align_items": null,
            "bottom": null,
            "_model_module": "@jupyter-widgets/base",
            "top": null,
            "grid_column": null,
            "overflow_y": null,
            "overflow_x": null,
            "grid_auto_flow": null,
            "grid_area": null,
            "grid_template_columns": null,
            "flex": null,
            "_model_name": "LayoutModel",
            "justify_items": null,
            "grid_row": null,
            "max_height": null,
            "align_content": null,
            "visibility": null,
            "align_self": null,
            "height": null,
            "min_height": null,
            "padding": null,
            "grid_auto_rows": null,
            "grid_gap": null,
            "max_width": null,
            "order": null,
            "_view_module_version": "1.2.0",
            "grid_template_areas": null,
            "object_position": null,
            "object_fit": null,
            "grid_auto_columns": null,
            "margin": null,
            "display": null,
            "left": null
          }
        },
        "37d523f440744b65a8068e2e08e715a6": {
          "model_module": "@jupyter-widgets/controls",
          "model_name": "FloatProgressModel",
          "state": {
            "_view_name": "ProgressView",
            "style": "IPY_MODEL_b6ab50d389ec447d928154257fbe6415",
            "_dom_classes": [],
            "description": "Downloading: ",
            "_model_name": "FloatProgressModel",
            "bar_style": "success",
            "max": 1781,
            "_view_module": "@jupyter-widgets/controls",
            "_model_module_version": "1.5.0",
            "value": 1781,
            "_view_count": null,
            "_view_module_version": "1.5.0",
            "orientation": "horizontal",
            "min": 0,
            "description_tooltip": null,
            "_model_module": "@jupyter-widgets/controls",
            "layout": "IPY_MODEL_ff82082274434f6db0e1e7fd8258c2a4"
          }
        },
        "44b408d59efe4de3a2fb312b03f14c50": {
          "model_module": "@jupyter-widgets/controls",
          "model_name": "HTMLModel",
          "state": {
            "_view_name": "HTMLView",
            "style": "IPY_MODEL_85c4c11802564fe9a6cbcb6365fb406b",
            "_dom_classes": [],
            "description": "",
            "_model_name": "HTMLModel",
            "placeholder": "​",
            "_view_module": "@jupyter-widgets/controls",
            "_model_module_version": "1.5.0",
            "value": " 4.18k/? [00:00&lt;00:00, 20.8kB/s]",
            "_view_count": null,
            "_view_module_version": "1.5.0",
            "description_tooltip": null,
            "_model_module": "@jupyter-widgets/controls",
            "layout": "IPY_MODEL_f3a2ae52886a4c75adfc7efa1b1efb9e"
          }
        },
        "b6ab50d389ec447d928154257fbe6415": {
          "model_module": "@jupyter-widgets/controls",
          "model_name": "ProgressStyleModel",
          "state": {
            "_view_name": "StyleView",
            "_model_name": "ProgressStyleModel",
            "description_width": "initial",
            "_view_module": "@jupyter-widgets/base",
            "_model_module_version": "1.5.0",
            "_view_count": null,
            "_view_module_version": "1.2.0",
            "bar_color": null,
            "_model_module": "@jupyter-widgets/controls"
          }
        },
        "ff82082274434f6db0e1e7fd8258c2a4": {
          "model_module": "@jupyter-widgets/base",
          "model_name": "LayoutModel",
          "state": {
            "_view_name": "LayoutView",
            "grid_template_rows": null,
            "right": null,
            "justify_content": null,
            "_view_module": "@jupyter-widgets/base",
            "overflow": null,
            "_model_module_version": "1.2.0",
            "_view_count": null,
            "flex_flow": null,
            "width": null,
            "min_width": null,
            "border": null,
            "align_items": null,
            "bottom": null,
            "_model_module": "@jupyter-widgets/base",
            "top": null,
            "grid_column": null,
            "overflow_y": null,
            "overflow_x": null,
            "grid_auto_flow": null,
            "grid_area": null,
            "grid_template_columns": null,
            "flex": null,
            "_model_name": "LayoutModel",
            "justify_items": null,
            "grid_row": null,
            "max_height": null,
            "align_content": null,
            "visibility": null,
            "align_self": null,
            "height": null,
            "min_height": null,
            "padding": null,
            "grid_auto_rows": null,
            "grid_gap": null,
            "max_width": null,
            "order": null,
            "_view_module_version": "1.2.0",
            "grid_template_areas": null,
            "object_position": null,
            "object_fit": null,
            "grid_auto_columns": null,
            "margin": null,
            "display": null,
            "left": null
          }
        },
        "85c4c11802564fe9a6cbcb6365fb406b": {
          "model_module": "@jupyter-widgets/controls",
          "model_name": "DescriptionStyleModel",
          "state": {
            "_view_name": "StyleView",
            "_model_name": "DescriptionStyleModel",
            "description_width": "",
            "_view_module": "@jupyter-widgets/base",
            "_model_module_version": "1.5.0",
            "_view_count": null,
            "_view_module_version": "1.2.0",
            "_model_module": "@jupyter-widgets/controls"
          }
        },
        "f3a2ae52886a4c75adfc7efa1b1efb9e": {
          "model_module": "@jupyter-widgets/base",
          "model_name": "LayoutModel",
          "state": {
            "_view_name": "LayoutView",
            "grid_template_rows": null,
            "right": null,
            "justify_content": null,
            "_view_module": "@jupyter-widgets/base",
            "overflow": null,
            "_model_module_version": "1.2.0",
            "_view_count": null,
            "flex_flow": null,
            "width": null,
            "min_width": null,
            "border": null,
            "align_items": null,
            "bottom": null,
            "_model_module": "@jupyter-widgets/base",
            "top": null,
            "grid_column": null,
            "overflow_y": null,
            "overflow_x": null,
            "grid_auto_flow": null,
            "grid_area": null,
            "grid_template_columns": null,
            "flex": null,
            "_model_name": "LayoutModel",
            "justify_items": null,
            "grid_row": null,
            "max_height": null,
            "align_content": null,
            "visibility": null,
            "align_self": null,
            "height": null,
            "min_height": null,
            "padding": null,
            "grid_auto_rows": null,
            "grid_gap": null,
            "max_width": null,
            "order": null,
            "_view_module_version": "1.2.0",
            "grid_template_areas": null,
            "object_position": null,
            "object_fit": null,
            "grid_auto_columns": null,
            "margin": null,
            "display": null,
            "left": null
          }
        },
        "fb6e2f9b771c45548a867e2162281592": {
          "model_module": "@jupyter-widgets/controls",
          "model_name": "HBoxModel",
          "state": {
            "_view_name": "HBoxView",
            "_dom_classes": [],
            "_model_name": "HBoxModel",
            "_view_module": "@jupyter-widgets/controls",
            "_model_module_version": "1.5.0",
            "_view_count": null,
            "_view_module_version": "1.5.0",
            "box_style": "",
            "layout": "IPY_MODEL_142f3b9fc4cd4121ac9d3b2bfd7d3a6f",
            "_model_module": "@jupyter-widgets/controls",
            "children": [
              "IPY_MODEL_791f4b8b4c204f33b60be40d25ac7eb6",
              "IPY_MODEL_f40bdc6358484d06a9a9632041e5c722"
            ]
          }
        },
        "142f3b9fc4cd4121ac9d3b2bfd7d3a6f": {
          "model_module": "@jupyter-widgets/base",
          "model_name": "LayoutModel",
          "state": {
            "_view_name": "LayoutView",
            "grid_template_rows": null,
            "right": null,
            "justify_content": null,
            "_view_module": "@jupyter-widgets/base",
            "overflow": null,
            "_model_module_version": "1.2.0",
            "_view_count": null,
            "flex_flow": null,
            "width": null,
            "min_width": null,
            "border": null,
            "align_items": null,
            "bottom": null,
            "_model_module": "@jupyter-widgets/base",
            "top": null,
            "grid_column": null,
            "overflow_y": null,
            "overflow_x": null,
            "grid_auto_flow": null,
            "grid_area": null,
            "grid_template_columns": null,
            "flex": null,
            "_model_name": "LayoutModel",
            "justify_items": null,
            "grid_row": null,
            "max_height": null,
            "align_content": null,
            "visibility": null,
            "align_self": null,
            "height": null,
            "min_height": null,
            "padding": null,
            "grid_auto_rows": null,
            "grid_gap": null,
            "max_width": null,
            "order": null,
            "_view_module_version": "1.2.0",
            "grid_template_areas": null,
            "object_position": null,
            "object_fit": null,
            "grid_auto_columns": null,
            "margin": null,
            "display": null,
            "left": null
          }
        },
        "791f4b8b4c204f33b60be40d25ac7eb6": {
          "model_module": "@jupyter-widgets/controls",
          "model_name": "FloatProgressModel",
          "state": {
            "_view_name": "ProgressView",
            "style": "IPY_MODEL_266ea4cf26094c6eb327b1d09b7a1d87",
            "_dom_classes": [],
            "description": "Downloading: ",
            "_model_name": "FloatProgressModel",
            "bar_style": "success",
            "max": 649539,
            "_view_module": "@jupyter-widgets/controls",
            "_model_module_version": "1.5.0",
            "value": 649539,
            "_view_count": null,
            "_view_module_version": "1.5.0",
            "orientation": "horizontal",
            "min": 0,
            "description_tooltip": null,
            "_model_module": "@jupyter-widgets/controls",
            "layout": "IPY_MODEL_6c9561a3cc7a4be98be9abc3a74c23fe"
          }
        },
        "f40bdc6358484d06a9a9632041e5c722": {
          "model_module": "@jupyter-widgets/controls",
          "model_name": "HTMLModel",
          "state": {
            "_view_name": "HTMLView",
            "style": "IPY_MODEL_4ace2cec874f406baefac59760ad1c4c",
            "_dom_classes": [],
            "description": "",
            "_model_name": "HTMLModel",
            "placeholder": "​",
            "_view_module": "@jupyter-widgets/controls",
            "_model_module_version": "1.5.0",
            "value": " 3.28M/? [00:00&lt;00:00, 3.56MB/s]",
            "_view_count": null,
            "_view_module_version": "1.5.0",
            "description_tooltip": null,
            "_model_module": "@jupyter-widgets/controls",
            "layout": "IPY_MODEL_dfbda5a52a41412ca144088fe1c7ad3c"
          }
        },
        "266ea4cf26094c6eb327b1d09b7a1d87": {
          "model_module": "@jupyter-widgets/controls",
          "model_name": "ProgressStyleModel",
          "state": {
            "_view_name": "StyleView",
            "_model_name": "ProgressStyleModel",
            "description_width": "initial",
            "_view_module": "@jupyter-widgets/base",
            "_model_module_version": "1.5.0",
            "_view_count": null,
            "_view_module_version": "1.2.0",
            "bar_color": null,
            "_model_module": "@jupyter-widgets/controls"
          }
        },
        "6c9561a3cc7a4be98be9abc3a74c23fe": {
          "model_module": "@jupyter-widgets/base",
          "model_name": "LayoutModel",
          "state": {
            "_view_name": "LayoutView",
            "grid_template_rows": null,
            "right": null,
            "justify_content": null,
            "_view_module": "@jupyter-widgets/base",
            "overflow": null,
            "_model_module_version": "1.2.0",
            "_view_count": null,
            "flex_flow": null,
            "width": null,
            "min_width": null,
            "border": null,
            "align_items": null,
            "bottom": null,
            "_model_module": "@jupyter-widgets/base",
            "top": null,
            "grid_column": null,
            "overflow_y": null,
            "overflow_x": null,
            "grid_auto_flow": null,
            "grid_area": null,
            "grid_template_columns": null,
            "flex": null,
            "_model_name": "LayoutModel",
            "justify_items": null,
            "grid_row": null,
            "max_height": null,
            "align_content": null,
            "visibility": null,
            "align_self": null,
            "height": null,
            "min_height": null,
            "padding": null,
            "grid_auto_rows": null,
            "grid_gap": null,
            "max_width": null,
            "order": null,
            "_view_module_version": "1.2.0",
            "grid_template_areas": null,
            "object_position": null,
            "object_fit": null,
            "grid_auto_columns": null,
            "margin": null,
            "display": null,
            "left": null
          }
        },
        "4ace2cec874f406baefac59760ad1c4c": {
          "model_module": "@jupyter-widgets/controls",
          "model_name": "DescriptionStyleModel",
          "state": {
            "_view_name": "StyleView",
            "_model_name": "DescriptionStyleModel",
            "description_width": "",
            "_view_module": "@jupyter-widgets/base",
            "_model_module_version": "1.5.0",
            "_view_count": null,
            "_view_module_version": "1.2.0",
            "_model_module": "@jupyter-widgets/controls"
          }
        },
        "dfbda5a52a41412ca144088fe1c7ad3c": {
          "model_module": "@jupyter-widgets/base",
          "model_name": "LayoutModel",
          "state": {
            "_view_name": "LayoutView",
            "grid_template_rows": null,
            "right": null,
            "justify_content": null,
            "_view_module": "@jupyter-widgets/base",
            "overflow": null,
            "_model_module_version": "1.2.0",
            "_view_count": null,
            "flex_flow": null,
            "width": null,
            "min_width": null,
            "border": null,
            "align_items": null,
            "bottom": null,
            "_model_module": "@jupyter-widgets/base",
            "top": null,
            "grid_column": null,
            "overflow_y": null,
            "overflow_x": null,
            "grid_auto_flow": null,
            "grid_area": null,
            "grid_template_columns": null,
            "flex": null,
            "_model_name": "LayoutModel",
            "justify_items": null,
            "grid_row": null,
            "max_height": null,
            "align_content": null,
            "visibility": null,
            "align_self": null,
            "height": null,
            "min_height": null,
            "padding": null,
            "grid_auto_rows": null,
            "grid_gap": null,
            "max_width": null,
            "order": null,
            "_view_module_version": "1.2.0",
            "grid_template_areas": null,
            "object_position": null,
            "object_fit": null,
            "grid_auto_columns": null,
            "margin": null,
            "display": null,
            "left": null
          }
        },
        "27f733a8bbbc445697376fb31d017889": {
          "model_module": "@jupyter-widgets/controls",
          "model_name": "HBoxModel",
          "state": {
            "_view_name": "HBoxView",
            "_dom_classes": [],
            "_model_name": "HBoxModel",
            "_view_module": "@jupyter-widgets/controls",
            "_model_module_version": "1.5.0",
            "_view_count": null,
            "_view_module_version": "1.5.0",
            "box_style": "",
            "layout": "IPY_MODEL_039ce4b4876b4453ba3eb8f6a73fba99",
            "_model_module": "@jupyter-widgets/controls",
            "children": [
              "IPY_MODEL_d41bce74638e48818443a0b9a3112d1e",
              "IPY_MODEL_330d845b6eae448d94c9e1519c3d0619"
            ]
          }
        },
        "039ce4b4876b4453ba3eb8f6a73fba99": {
          "model_module": "@jupyter-widgets/base",
          "model_name": "LayoutModel",
          "state": {
            "_view_name": "LayoutView",
            "grid_template_rows": null,
            "right": null,
            "justify_content": null,
            "_view_module": "@jupyter-widgets/base",
            "overflow": null,
            "_model_module_version": "1.2.0",
            "_view_count": null,
            "flex_flow": null,
            "width": null,
            "min_width": null,
            "border": null,
            "align_items": null,
            "bottom": null,
            "_model_module": "@jupyter-widgets/base",
            "top": null,
            "grid_column": null,
            "overflow_y": null,
            "overflow_x": null,
            "grid_auto_flow": null,
            "grid_area": null,
            "grid_template_columns": null,
            "flex": null,
            "_model_name": "LayoutModel",
            "justify_items": null,
            "grid_row": null,
            "max_height": null,
            "align_content": null,
            "visibility": null,
            "align_self": null,
            "height": null,
            "min_height": null,
            "padding": null,
            "grid_auto_rows": null,
            "grid_gap": null,
            "max_width": null,
            "order": null,
            "_view_module_version": "1.2.0",
            "grid_template_areas": null,
            "object_position": null,
            "object_fit": null,
            "grid_auto_columns": null,
            "margin": null,
            "display": null,
            "left": null
          }
        },
        "d41bce74638e48818443a0b9a3112d1e": {
          "model_module": "@jupyter-widgets/controls",
          "model_name": "FloatProgressModel",
          "state": {
            "_view_name": "ProgressView",
            "style": "IPY_MODEL_3db58465408b4c808ee9ba46c0d1da58",
            "_dom_classes": [],
            "description": "Downloading: ",
            "_model_name": "FloatProgressModel",
            "bar_style": "success",
            "max": 162714,
            "_view_module": "@jupyter-widgets/controls",
            "_model_module_version": "1.5.0",
            "value": 162714,
            "_view_count": null,
            "_view_module_version": "1.5.0",
            "orientation": "horizontal",
            "min": 0,
            "description_tooltip": null,
            "_model_module": "@jupyter-widgets/controls",
            "layout": "IPY_MODEL_5856ac79165f494fa8191753b1d0a66d"
          }
        },
        "330d845b6eae448d94c9e1519c3d0619": {
          "model_module": "@jupyter-widgets/controls",
          "model_name": "HTMLModel",
          "state": {
            "_view_name": "HTMLView",
            "style": "IPY_MODEL_2efcd66b0a864234a2e34756f4baae4b",
            "_dom_classes": [],
            "description": "",
            "_model_name": "HTMLModel",
            "placeholder": "​",
            "_view_module": "@jupyter-widgets/controls",
            "_model_module_version": "1.5.0",
            "value": " 827k/? [00:00&lt;00:00, 913kB/s]",
            "_view_count": null,
            "_view_module_version": "1.5.0",
            "description_tooltip": null,
            "_model_module": "@jupyter-widgets/controls",
            "layout": "IPY_MODEL_51d5a323898343098f493650d1708b75"
          }
        },
        "3db58465408b4c808ee9ba46c0d1da58": {
          "model_module": "@jupyter-widgets/controls",
          "model_name": "ProgressStyleModel",
          "state": {
            "_view_name": "StyleView",
            "_model_name": "ProgressStyleModel",
            "description_width": "initial",
            "_view_module": "@jupyter-widgets/base",
            "_model_module_version": "1.5.0",
            "_view_count": null,
            "_view_module_version": "1.2.0",
            "bar_color": null,
            "_model_module": "@jupyter-widgets/controls"
          }
        },
        "5856ac79165f494fa8191753b1d0a66d": {
          "model_module": "@jupyter-widgets/base",
          "model_name": "LayoutModel",
          "state": {
            "_view_name": "LayoutView",
            "grid_template_rows": null,
            "right": null,
            "justify_content": null,
            "_view_module": "@jupyter-widgets/base",
            "overflow": null,
            "_model_module_version": "1.2.0",
            "_view_count": null,
            "flex_flow": null,
            "width": null,
            "min_width": null,
            "border": null,
            "align_items": null,
            "bottom": null,
            "_model_module": "@jupyter-widgets/base",
            "top": null,
            "grid_column": null,
            "overflow_y": null,
            "overflow_x": null,
            "grid_auto_flow": null,
            "grid_area": null,
            "grid_template_columns": null,
            "flex": null,
            "_model_name": "LayoutModel",
            "justify_items": null,
            "grid_row": null,
            "max_height": null,
            "align_content": null,
            "visibility": null,
            "align_self": null,
            "height": null,
            "min_height": null,
            "padding": null,
            "grid_auto_rows": null,
            "grid_gap": null,
            "max_width": null,
            "order": null,
            "_view_module_version": "1.2.0",
            "grid_template_areas": null,
            "object_position": null,
            "object_fit": null,
            "grid_auto_columns": null,
            "margin": null,
            "display": null,
            "left": null
          }
        },
        "2efcd66b0a864234a2e34756f4baae4b": {
          "model_module": "@jupyter-widgets/controls",
          "model_name": "DescriptionStyleModel",
          "state": {
            "_view_name": "StyleView",
            "_model_name": "DescriptionStyleModel",
            "description_width": "",
            "_view_module": "@jupyter-widgets/base",
            "_model_module_version": "1.5.0",
            "_view_count": null,
            "_view_module_version": "1.2.0",
            "_model_module": "@jupyter-widgets/controls"
          }
        },
        "51d5a323898343098f493650d1708b75": {
          "model_module": "@jupyter-widgets/base",
          "model_name": "LayoutModel",
          "state": {
            "_view_name": "LayoutView",
            "grid_template_rows": null,
            "right": null,
            "justify_content": null,
            "_view_module": "@jupyter-widgets/base",
            "overflow": null,
            "_model_module_version": "1.2.0",
            "_view_count": null,
            "flex_flow": null,
            "width": null,
            "min_width": null,
            "border": null,
            "align_items": null,
            "bottom": null,
            "_model_module": "@jupyter-widgets/base",
            "top": null,
            "grid_column": null,
            "overflow_y": null,
            "overflow_x": null,
            "grid_auto_flow": null,
            "grid_area": null,
            "grid_template_columns": null,
            "flex": null,
            "_model_name": "LayoutModel",
            "justify_items": null,
            "grid_row": null,
            "max_height": null,
            "align_content": null,
            "visibility": null,
            "align_self": null,
            "height": null,
            "min_height": null,
            "padding": null,
            "grid_auto_rows": null,
            "grid_gap": null,
            "max_width": null,
            "order": null,
            "_view_module_version": "1.2.0",
            "grid_template_areas": null,
            "object_position": null,
            "object_fit": null,
            "grid_auto_columns": null,
            "margin": null,
            "display": null,
            "left": null
          }
        },
        "847e2344572d45a9821d44c444056c26": {
          "model_module": "@jupyter-widgets/controls",
          "model_name": "HBoxModel",
          "state": {
            "_view_name": "HBoxView",
            "_dom_classes": [],
            "_model_name": "HBoxModel",
            "_view_module": "@jupyter-widgets/controls",
            "_model_module_version": "1.5.0",
            "_view_count": null,
            "_view_module_version": "1.5.0",
            "box_style": "",
            "layout": "IPY_MODEL_04a8e5f74c744f45b7fa48d43ee3073e",
            "_model_module": "@jupyter-widgets/controls",
            "children": [
              "IPY_MODEL_f839a04360f94ba8b6e175a0d062a9ce",
              "IPY_MODEL_fb36ee7bc1ea4553bd2396d75531dfaa"
            ]
          }
        },
        "04a8e5f74c744f45b7fa48d43ee3073e": {
          "model_module": "@jupyter-widgets/base",
          "model_name": "LayoutModel",
          "state": {
            "_view_name": "LayoutView",
            "grid_template_rows": null,
            "right": null,
            "justify_content": null,
            "_view_module": "@jupyter-widgets/base",
            "overflow": null,
            "_model_module_version": "1.2.0",
            "_view_count": null,
            "flex_flow": null,
            "width": null,
            "min_width": null,
            "border": null,
            "align_items": null,
            "bottom": null,
            "_model_module": "@jupyter-widgets/base",
            "top": null,
            "grid_column": null,
            "overflow_y": null,
            "overflow_x": null,
            "grid_auto_flow": null,
            "grid_area": null,
            "grid_template_columns": null,
            "flex": null,
            "_model_name": "LayoutModel",
            "justify_items": null,
            "grid_row": null,
            "max_height": null,
            "align_content": null,
            "visibility": null,
            "align_self": null,
            "height": null,
            "min_height": null,
            "padding": null,
            "grid_auto_rows": null,
            "grid_gap": null,
            "max_width": null,
            "order": null,
            "_view_module_version": "1.2.0",
            "grid_template_areas": null,
            "object_position": null,
            "object_fit": null,
            "grid_auto_columns": null,
            "margin": null,
            "display": null,
            "left": null
          }
        },
        "f839a04360f94ba8b6e175a0d062a9ce": {
          "model_module": "@jupyter-widgets/controls",
          "model_name": "FloatProgressModel",
          "state": {
            "_view_name": "ProgressView",
            "style": "IPY_MODEL_02d2344c03ef424c9e460d744da8a8cc",
            "_dom_classes": [],
            "description": "Downloading: ",
            "_model_name": "FloatProgressModel",
            "bar_style": "success",
            "max": 145897,
            "_view_module": "@jupyter-widgets/controls",
            "_model_module_version": "1.5.0",
            "value": 145897,
            "_view_count": null,
            "_view_module_version": "1.5.0",
            "orientation": "horizontal",
            "min": 0,
            "description_tooltip": null,
            "_model_module": "@jupyter-widgets/controls",
            "layout": "IPY_MODEL_a69fe2bf87a04dd4957591608b892fb8"
          }
        },
        "fb36ee7bc1ea4553bd2396d75531dfaa": {
          "model_module": "@jupyter-widgets/controls",
          "model_name": "HTMLModel",
          "state": {
            "_view_name": "HTMLView",
            "style": "IPY_MODEL_e9c291445ece4fdaabfa591d7f981a03",
            "_dom_classes": [],
            "description": "",
            "_model_name": "HTMLModel",
            "placeholder": "​",
            "_view_module": "@jupyter-widgets/controls",
            "_model_module_version": "1.5.0",
            "value": " 748k/? [00:00&lt;00:00, 7.44MB/s]",
            "_view_count": null,
            "_view_module_version": "1.5.0",
            "description_tooltip": null,
            "_model_module": "@jupyter-widgets/controls",
            "layout": "IPY_MODEL_f39f6f452cdd4db0999fb7f57b147aac"
          }
        },
        "02d2344c03ef424c9e460d744da8a8cc": {
          "model_module": "@jupyter-widgets/controls",
          "model_name": "ProgressStyleModel",
          "state": {
            "_view_name": "StyleView",
            "_model_name": "ProgressStyleModel",
            "description_width": "initial",
            "_view_module": "@jupyter-widgets/base",
            "_model_module_version": "1.5.0",
            "_view_count": null,
            "_view_module_version": "1.2.0",
            "bar_color": null,
            "_model_module": "@jupyter-widgets/controls"
          }
        },
        "a69fe2bf87a04dd4957591608b892fb8": {
          "model_module": "@jupyter-widgets/base",
          "model_name": "LayoutModel",
          "state": {
            "_view_name": "LayoutView",
            "grid_template_rows": null,
            "right": null,
            "justify_content": null,
            "_view_module": "@jupyter-widgets/base",
            "overflow": null,
            "_model_module_version": "1.2.0",
            "_view_count": null,
            "flex_flow": null,
            "width": null,
            "min_width": null,
            "border": null,
            "align_items": null,
            "bottom": null,
            "_model_module": "@jupyter-widgets/base",
            "top": null,
            "grid_column": null,
            "overflow_y": null,
            "overflow_x": null,
            "grid_auto_flow": null,
            "grid_area": null,
            "grid_template_columns": null,
            "flex": null,
            "_model_name": "LayoutModel",
            "justify_items": null,
            "grid_row": null,
            "max_height": null,
            "align_content": null,
            "visibility": null,
            "align_self": null,
            "height": null,
            "min_height": null,
            "padding": null,
            "grid_auto_rows": null,
            "grid_gap": null,
            "max_width": null,
            "order": null,
            "_view_module_version": "1.2.0",
            "grid_template_areas": null,
            "object_position": null,
            "object_fit": null,
            "grid_auto_columns": null,
            "margin": null,
            "display": null,
            "left": null
          }
        },
        "e9c291445ece4fdaabfa591d7f981a03": {
          "model_module": "@jupyter-widgets/controls",
          "model_name": "DescriptionStyleModel",
          "state": {
            "_view_name": "StyleView",
            "_model_name": "DescriptionStyleModel",
            "description_width": "",
            "_view_module": "@jupyter-widgets/base",
            "_model_module_version": "1.5.0",
            "_view_count": null,
            "_view_module_version": "1.2.0",
            "_model_module": "@jupyter-widgets/controls"
          }
        },
        "f39f6f452cdd4db0999fb7f57b147aac": {
          "model_module": "@jupyter-widgets/base",
          "model_name": "LayoutModel",
          "state": {
            "_view_name": "LayoutView",
            "grid_template_rows": null,
            "right": null,
            "justify_content": null,
            "_view_module": "@jupyter-widgets/base",
            "overflow": null,
            "_model_module_version": "1.2.0",
            "_view_count": null,
            "flex_flow": null,
            "width": null,
            "min_width": null,
            "border": null,
            "align_items": null,
            "bottom": null,
            "_model_module": "@jupyter-widgets/base",
            "top": null,
            "grid_column": null,
            "overflow_y": null,
            "overflow_x": null,
            "grid_auto_flow": null,
            "grid_area": null,
            "grid_template_columns": null,
            "flex": null,
            "_model_name": "LayoutModel",
            "justify_items": null,
            "grid_row": null,
            "max_height": null,
            "align_content": null,
            "visibility": null,
            "align_self": null,
            "height": null,
            "min_height": null,
            "padding": null,
            "grid_auto_rows": null,
            "grid_gap": null,
            "max_width": null,
            "order": null,
            "_view_module_version": "1.2.0",
            "grid_template_areas": null,
            "object_position": null,
            "object_fit": null,
            "grid_auto_columns": null,
            "margin": null,
            "display": null,
            "left": null
          }
        },
        "bd5f02190af24ea3a6bc4bb4a37f5464": {
          "model_module": "@jupyter-widgets/controls",
          "model_name": "HBoxModel",
          "state": {
            "_view_name": "HBoxView",
            "_dom_classes": [],
            "_model_name": "HBoxModel",
            "_view_module": "@jupyter-widgets/controls",
            "_model_module_version": "1.5.0",
            "_view_count": null,
            "_view_module_version": "1.5.0",
            "box_style": "",
            "layout": "IPY_MODEL_21589b39660345998398117951c27e02",
            "_model_module": "@jupyter-widgets/controls",
            "children": [
              "IPY_MODEL_72c8d3f0244d43189570002d653ff30e",
              "IPY_MODEL_9fdcc00c96cd41f9b66387933afe0d71"
            ]
          }
        },
        "21589b39660345998398117951c27e02": {
          "model_module": "@jupyter-widgets/base",
          "model_name": "LayoutModel",
          "state": {
            "_view_name": "LayoutView",
            "grid_template_rows": null,
            "right": null,
            "justify_content": null,
            "_view_module": "@jupyter-widgets/base",
            "overflow": null,
            "_model_module_version": "1.2.0",
            "_view_count": null,
            "flex_flow": null,
            "width": null,
            "min_width": null,
            "border": null,
            "align_items": null,
            "bottom": null,
            "_model_module": "@jupyter-widgets/base",
            "top": null,
            "grid_column": null,
            "overflow_y": null,
            "overflow_x": null,
            "grid_auto_flow": null,
            "grid_area": null,
            "grid_template_columns": null,
            "flex": null,
            "_model_name": "LayoutModel",
            "justify_items": null,
            "grid_row": null,
            "max_height": null,
            "align_content": null,
            "visibility": null,
            "align_self": null,
            "height": null,
            "min_height": null,
            "padding": null,
            "grid_auto_rows": null,
            "grid_gap": null,
            "max_width": null,
            "order": null,
            "_view_module_version": "1.2.0",
            "grid_template_areas": null,
            "object_position": null,
            "object_fit": null,
            "grid_auto_columns": null,
            "margin": null,
            "display": null,
            "left": null
          }
        },
        "72c8d3f0244d43189570002d653ff30e": {
          "model_module": "@jupyter-widgets/controls",
          "model_name": "FloatProgressModel",
          "state": {
            "_view_name": "ProgressView",
            "style": "IPY_MODEL_8e5f6deefe634625bae4f90f947bff31",
            "_dom_classes": [],
            "description": "",
            "_model_name": "FloatProgressModel",
            "bar_style": "info",
            "max": 1,
            "_view_module": "@jupyter-widgets/controls",
            "_model_module_version": "1.5.0",
            "value": 1,
            "_view_count": null,
            "_view_module_version": "1.5.0",
            "orientation": "horizontal",
            "min": 0,
            "description_tooltip": null,
            "_model_module": "@jupyter-widgets/controls",
            "layout": "IPY_MODEL_7fe2ef323c434f99b053c6c4003d6cb3"
          }
        },
        "9fdcc00c96cd41f9b66387933afe0d71": {
          "model_module": "@jupyter-widgets/controls",
          "model_name": "HTMLModel",
          "state": {
            "_view_name": "HTMLView",
            "style": "IPY_MODEL_7f0cacd19015414c8ec23ffc3584c3d9",
            "_dom_classes": [],
            "description": "",
            "_model_name": "HTMLModel",
            "placeholder": "​",
            "_view_module": "@jupyter-widgets/controls",
            "_model_module_version": "1.5.0",
            "value": " 14041/0 [00:06&lt;00:00, 179.89 examples/s]",
            "_view_count": null,
            "_view_module_version": "1.5.0",
            "description_tooltip": null,
            "_model_module": "@jupyter-widgets/controls",
            "layout": "IPY_MODEL_ba12d415ad2c40a286b2cd83180e9873"
          }
        },
        "8e5f6deefe634625bae4f90f947bff31": {
          "model_module": "@jupyter-widgets/controls",
          "model_name": "ProgressStyleModel",
          "state": {
            "_view_name": "StyleView",
            "_model_name": "ProgressStyleModel",
            "description_width": "initial",
            "_view_module": "@jupyter-widgets/base",
            "_model_module_version": "1.5.0",
            "_view_count": null,
            "_view_module_version": "1.2.0",
            "bar_color": null,
            "_model_module": "@jupyter-widgets/controls"
          }
        },
        "7fe2ef323c434f99b053c6c4003d6cb3": {
          "model_module": "@jupyter-widgets/base",
          "model_name": "LayoutModel",
          "state": {
            "_view_name": "LayoutView",
            "grid_template_rows": null,
            "right": null,
            "justify_content": null,
            "_view_module": "@jupyter-widgets/base",
            "overflow": null,
            "_model_module_version": "1.2.0",
            "_view_count": null,
            "flex_flow": null,
            "width": null,
            "min_width": null,
            "border": null,
            "align_items": null,
            "bottom": null,
            "_model_module": "@jupyter-widgets/base",
            "top": null,
            "grid_column": null,
            "overflow_y": null,
            "overflow_x": null,
            "grid_auto_flow": null,
            "grid_area": null,
            "grid_template_columns": null,
            "flex": null,
            "_model_name": "LayoutModel",
            "justify_items": null,
            "grid_row": null,
            "max_height": null,
            "align_content": null,
            "visibility": null,
            "align_self": null,
            "height": null,
            "min_height": null,
            "padding": null,
            "grid_auto_rows": null,
            "grid_gap": null,
            "max_width": null,
            "order": null,
            "_view_module_version": "1.2.0",
            "grid_template_areas": null,
            "object_position": null,
            "object_fit": null,
            "grid_auto_columns": null,
            "margin": null,
            "display": null,
            "left": null
          }
        },
        "7f0cacd19015414c8ec23ffc3584c3d9": {
          "model_module": "@jupyter-widgets/controls",
          "model_name": "DescriptionStyleModel",
          "state": {
            "_view_name": "StyleView",
            "_model_name": "DescriptionStyleModel",
            "description_width": "",
            "_view_module": "@jupyter-widgets/base",
            "_model_module_version": "1.5.0",
            "_view_count": null,
            "_view_module_version": "1.2.0",
            "_model_module": "@jupyter-widgets/controls"
          }
        },
        "ba12d415ad2c40a286b2cd83180e9873": {
          "model_module": "@jupyter-widgets/base",
          "model_name": "LayoutModel",
          "state": {
            "_view_name": "LayoutView",
            "grid_template_rows": null,
            "right": null,
            "justify_content": null,
            "_view_module": "@jupyter-widgets/base",
            "overflow": null,
            "_model_module_version": "1.2.0",
            "_view_count": null,
            "flex_flow": null,
            "width": null,
            "min_width": null,
            "border": null,
            "align_items": null,
            "bottom": null,
            "_model_module": "@jupyter-widgets/base",
            "top": null,
            "grid_column": null,
            "overflow_y": null,
            "overflow_x": null,
            "grid_auto_flow": null,
            "grid_area": null,
            "grid_template_columns": null,
            "flex": null,
            "_model_name": "LayoutModel",
            "justify_items": null,
            "grid_row": null,
            "max_height": null,
            "align_content": null,
            "visibility": null,
            "align_self": null,
            "height": null,
            "min_height": null,
            "padding": null,
            "grid_auto_rows": null,
            "grid_gap": null,
            "max_width": null,
            "order": null,
            "_view_module_version": "1.2.0",
            "grid_template_areas": null,
            "object_position": null,
            "object_fit": null,
            "grid_auto_columns": null,
            "margin": null,
            "display": null,
            "left": null
          }
        },
        "07dd0850fbae4d4d99ff28e6932631c6": {
          "model_module": "@jupyter-widgets/controls",
          "model_name": "HBoxModel",
          "state": {
            "_view_name": "HBoxView",
            "_dom_classes": [],
            "_model_name": "HBoxModel",
            "_view_module": "@jupyter-widgets/controls",
            "_model_module_version": "1.5.0",
            "_view_count": null,
            "_view_module_version": "1.5.0",
            "box_style": "",
            "layout": "IPY_MODEL_d6fba425d9f142e4b1ff9dcd812db352",
            "_model_module": "@jupyter-widgets/controls",
            "children": [
              "IPY_MODEL_56b2b46352e4418888d88f60eb2b9fb4",
              "IPY_MODEL_571fbbabd68a4279b1a94be409ec57a6"
            ]
          }
        },
        "d6fba425d9f142e4b1ff9dcd812db352": {
          "model_module": "@jupyter-widgets/base",
          "model_name": "LayoutModel",
          "state": {
            "_view_name": "LayoutView",
            "grid_template_rows": null,
            "right": null,
            "justify_content": null,
            "_view_module": "@jupyter-widgets/base",
            "overflow": null,
            "_model_module_version": "1.2.0",
            "_view_count": null,
            "flex_flow": null,
            "width": null,
            "min_width": null,
            "border": null,
            "align_items": null,
            "bottom": null,
            "_model_module": "@jupyter-widgets/base",
            "top": null,
            "grid_column": null,
            "overflow_y": null,
            "overflow_x": null,
            "grid_auto_flow": null,
            "grid_area": null,
            "grid_template_columns": null,
            "flex": null,
            "_model_name": "LayoutModel",
            "justify_items": null,
            "grid_row": null,
            "max_height": null,
            "align_content": null,
            "visibility": null,
            "align_self": null,
            "height": null,
            "min_height": null,
            "padding": null,
            "grid_auto_rows": null,
            "grid_gap": null,
            "max_width": null,
            "order": null,
            "_view_module_version": "1.2.0",
            "grid_template_areas": null,
            "object_position": null,
            "object_fit": null,
            "grid_auto_columns": null,
            "margin": null,
            "display": null,
            "left": null
          }
        },
        "56b2b46352e4418888d88f60eb2b9fb4": {
          "model_module": "@jupyter-widgets/controls",
          "model_name": "FloatProgressModel",
          "state": {
            "_view_name": "ProgressView",
            "style": "IPY_MODEL_99ee7e1ef3624d64a18c36d7d9f32cb6",
            "_dom_classes": [],
            "description": "",
            "_model_name": "FloatProgressModel",
            "bar_style": "info",
            "max": 1,
            "_view_module": "@jupyter-widgets/controls",
            "_model_module_version": "1.5.0",
            "value": 1,
            "_view_count": null,
            "_view_module_version": "1.5.0",
            "orientation": "horizontal",
            "min": 0,
            "description_tooltip": null,
            "_model_module": "@jupyter-widgets/controls",
            "layout": "IPY_MODEL_a4cd0cd93f3545ca9a1bc13effeb7c9c"
          }
        },
        "571fbbabd68a4279b1a94be409ec57a6": {
          "model_module": "@jupyter-widgets/controls",
          "model_name": "HTMLModel",
          "state": {
            "_view_name": "HTMLView",
            "style": "IPY_MODEL_7726f0c583864a72a52b2f2a6ffc2fab",
            "_dom_classes": [],
            "description": "",
            "_model_name": "HTMLModel",
            "placeholder": "​",
            "_view_module": "@jupyter-widgets/controls",
            "_model_module_version": "1.5.0",
            "value": " 3250/0 [00:00&lt;00:00, 6090.61 examples/s]",
            "_view_count": null,
            "_view_module_version": "1.5.0",
            "description_tooltip": null,
            "_model_module": "@jupyter-widgets/controls",
            "layout": "IPY_MODEL_7991aa1644da47829a28d7e638ef355c"
          }
        },
        "99ee7e1ef3624d64a18c36d7d9f32cb6": {
          "model_module": "@jupyter-widgets/controls",
          "model_name": "ProgressStyleModel",
          "state": {
            "_view_name": "StyleView",
            "_model_name": "ProgressStyleModel",
            "description_width": "initial",
            "_view_module": "@jupyter-widgets/base",
            "_model_module_version": "1.5.0",
            "_view_count": null,
            "_view_module_version": "1.2.0",
            "bar_color": null,
            "_model_module": "@jupyter-widgets/controls"
          }
        },
        "a4cd0cd93f3545ca9a1bc13effeb7c9c": {
          "model_module": "@jupyter-widgets/base",
          "model_name": "LayoutModel",
          "state": {
            "_view_name": "LayoutView",
            "grid_template_rows": null,
            "right": null,
            "justify_content": null,
            "_view_module": "@jupyter-widgets/base",
            "overflow": null,
            "_model_module_version": "1.2.0",
            "_view_count": null,
            "flex_flow": null,
            "width": null,
            "min_width": null,
            "border": null,
            "align_items": null,
            "bottom": null,
            "_model_module": "@jupyter-widgets/base",
            "top": null,
            "grid_column": null,
            "overflow_y": null,
            "overflow_x": null,
            "grid_auto_flow": null,
            "grid_area": null,
            "grid_template_columns": null,
            "flex": null,
            "_model_name": "LayoutModel",
            "justify_items": null,
            "grid_row": null,
            "max_height": null,
            "align_content": null,
            "visibility": null,
            "align_self": null,
            "height": null,
            "min_height": null,
            "padding": null,
            "grid_auto_rows": null,
            "grid_gap": null,
            "max_width": null,
            "order": null,
            "_view_module_version": "1.2.0",
            "grid_template_areas": null,
            "object_position": null,
            "object_fit": null,
            "grid_auto_columns": null,
            "margin": null,
            "display": null,
            "left": null
          }
        },
        "7726f0c583864a72a52b2f2a6ffc2fab": {
          "model_module": "@jupyter-widgets/controls",
          "model_name": "DescriptionStyleModel",
          "state": {
            "_view_name": "StyleView",
            "_model_name": "DescriptionStyleModel",
            "description_width": "",
            "_view_module": "@jupyter-widgets/base",
            "_model_module_version": "1.5.0",
            "_view_count": null,
            "_view_module_version": "1.2.0",
            "_model_module": "@jupyter-widgets/controls"
          }
        },
        "7991aa1644da47829a28d7e638ef355c": {
          "model_module": "@jupyter-widgets/base",
          "model_name": "LayoutModel",
          "state": {
            "_view_name": "LayoutView",
            "grid_template_rows": null,
            "right": null,
            "justify_content": null,
            "_view_module": "@jupyter-widgets/base",
            "overflow": null,
            "_model_module_version": "1.2.0",
            "_view_count": null,
            "flex_flow": null,
            "width": null,
            "min_width": null,
            "border": null,
            "align_items": null,
            "bottom": null,
            "_model_module": "@jupyter-widgets/base",
            "top": null,
            "grid_column": null,
            "overflow_y": null,
            "overflow_x": null,
            "grid_auto_flow": null,
            "grid_area": null,
            "grid_template_columns": null,
            "flex": null,
            "_model_name": "LayoutModel",
            "justify_items": null,
            "grid_row": null,
            "max_height": null,
            "align_content": null,
            "visibility": null,
            "align_self": null,
            "height": null,
            "min_height": null,
            "padding": null,
            "grid_auto_rows": null,
            "grid_gap": null,
            "max_width": null,
            "order": null,
            "_view_module_version": "1.2.0",
            "grid_template_areas": null,
            "object_position": null,
            "object_fit": null,
            "grid_auto_columns": null,
            "margin": null,
            "display": null,
            "left": null
          }
        },
        "e769fba5d42e4290a1742c214a8ea5ea": {
          "model_module": "@jupyter-widgets/controls",
          "model_name": "HBoxModel",
          "state": {
            "_view_name": "HBoxView",
            "_dom_classes": [],
            "_model_name": "HBoxModel",
            "_view_module": "@jupyter-widgets/controls",
            "_model_module_version": "1.5.0",
            "_view_count": null,
            "_view_module_version": "1.5.0",
            "box_style": "",
            "layout": "IPY_MODEL_d48ed1ea73514633b4a1a3559523f80b",
            "_model_module": "@jupyter-widgets/controls",
            "children": [
              "IPY_MODEL_5e793e71faa042c59f30011ac5d3d736",
              "IPY_MODEL_fe1629bfa88f446187178e1385853b65"
            ]
          }
        },
        "d48ed1ea73514633b4a1a3559523f80b": {
          "model_module": "@jupyter-widgets/base",
          "model_name": "LayoutModel",
          "state": {
            "_view_name": "LayoutView",
            "grid_template_rows": null,
            "right": null,
            "justify_content": null,
            "_view_module": "@jupyter-widgets/base",
            "overflow": null,
            "_model_module_version": "1.2.0",
            "_view_count": null,
            "flex_flow": null,
            "width": null,
            "min_width": null,
            "border": null,
            "align_items": null,
            "bottom": null,
            "_model_module": "@jupyter-widgets/base",
            "top": null,
            "grid_column": null,
            "overflow_y": null,
            "overflow_x": null,
            "grid_auto_flow": null,
            "grid_area": null,
            "grid_template_columns": null,
            "flex": null,
            "_model_name": "LayoutModel",
            "justify_items": null,
            "grid_row": null,
            "max_height": null,
            "align_content": null,
            "visibility": null,
            "align_self": null,
            "height": null,
            "min_height": null,
            "padding": null,
            "grid_auto_rows": null,
            "grid_gap": null,
            "max_width": null,
            "order": null,
            "_view_module_version": "1.2.0",
            "grid_template_areas": null,
            "object_position": null,
            "object_fit": null,
            "grid_auto_columns": null,
            "margin": null,
            "display": null,
            "left": null
          }
        },
        "5e793e71faa042c59f30011ac5d3d736": {
          "model_module": "@jupyter-widgets/controls",
          "model_name": "FloatProgressModel",
          "state": {
            "_view_name": "ProgressView",
            "style": "IPY_MODEL_ec3230f9fb174082bb5febe8b774f737",
            "_dom_classes": [],
            "description": "",
            "_model_name": "FloatProgressModel",
            "bar_style": "info",
            "max": 1,
            "_view_module": "@jupyter-widgets/controls",
            "_model_module_version": "1.5.0",
            "value": 1,
            "_view_count": null,
            "_view_module_version": "1.5.0",
            "orientation": "horizontal",
            "min": 0,
            "description_tooltip": null,
            "_model_module": "@jupyter-widgets/controls",
            "layout": "IPY_MODEL_e6a058f5c6ad4a12a7843e2fa1781271"
          }
        },
        "fe1629bfa88f446187178e1385853b65": {
          "model_module": "@jupyter-widgets/controls",
          "model_name": "HTMLModel",
          "state": {
            "_view_name": "HTMLView",
            "style": "IPY_MODEL_47b124b9c5e6497fbbbd44bb3b9d49e1",
            "_dom_classes": [],
            "description": "",
            "_model_name": "HTMLModel",
            "placeholder": "​",
            "_view_module": "@jupyter-widgets/controls",
            "_model_module_version": "1.5.0",
            "value": " 3453/0 [00:00&lt;00:00, 6370.33 examples/s]",
            "_view_count": null,
            "_view_module_version": "1.5.0",
            "description_tooltip": null,
            "_model_module": "@jupyter-widgets/controls",
            "layout": "IPY_MODEL_0e740a94cfa0493c86dc30379f768359"
          }
        },
        "ec3230f9fb174082bb5febe8b774f737": {
          "model_module": "@jupyter-widgets/controls",
          "model_name": "ProgressStyleModel",
          "state": {
            "_view_name": "StyleView",
            "_model_name": "ProgressStyleModel",
            "description_width": "initial",
            "_view_module": "@jupyter-widgets/base",
            "_model_module_version": "1.5.0",
            "_view_count": null,
            "_view_module_version": "1.2.0",
            "bar_color": null,
            "_model_module": "@jupyter-widgets/controls"
          }
        },
        "e6a058f5c6ad4a12a7843e2fa1781271": {
          "model_module": "@jupyter-widgets/base",
          "model_name": "LayoutModel",
          "state": {
            "_view_name": "LayoutView",
            "grid_template_rows": null,
            "right": null,
            "justify_content": null,
            "_view_module": "@jupyter-widgets/base",
            "overflow": null,
            "_model_module_version": "1.2.0",
            "_view_count": null,
            "flex_flow": null,
            "width": null,
            "min_width": null,
            "border": null,
            "align_items": null,
            "bottom": null,
            "_model_module": "@jupyter-widgets/base",
            "top": null,
            "grid_column": null,
            "overflow_y": null,
            "overflow_x": null,
            "grid_auto_flow": null,
            "grid_area": null,
            "grid_template_columns": null,
            "flex": null,
            "_model_name": "LayoutModel",
            "justify_items": null,
            "grid_row": null,
            "max_height": null,
            "align_content": null,
            "visibility": null,
            "align_self": null,
            "height": null,
            "min_height": null,
            "padding": null,
            "grid_auto_rows": null,
            "grid_gap": null,
            "max_width": null,
            "order": null,
            "_view_module_version": "1.2.0",
            "grid_template_areas": null,
            "object_position": null,
            "object_fit": null,
            "grid_auto_columns": null,
            "margin": null,
            "display": null,
            "left": null
          }
        },
        "47b124b9c5e6497fbbbd44bb3b9d49e1": {
          "model_module": "@jupyter-widgets/controls",
          "model_name": "DescriptionStyleModel",
          "state": {
            "_view_name": "StyleView",
            "_model_name": "DescriptionStyleModel",
            "description_width": "",
            "_view_module": "@jupyter-widgets/base",
            "_model_module_version": "1.5.0",
            "_view_count": null,
            "_view_module_version": "1.2.0",
            "_model_module": "@jupyter-widgets/controls"
          }
        },
        "0e740a94cfa0493c86dc30379f768359": {
          "model_module": "@jupyter-widgets/base",
          "model_name": "LayoutModel",
          "state": {
            "_view_name": "LayoutView",
            "grid_template_rows": null,
            "right": null,
            "justify_content": null,
            "_view_module": "@jupyter-widgets/base",
            "overflow": null,
            "_model_module_version": "1.2.0",
            "_view_count": null,
            "flex_flow": null,
            "width": null,
            "min_width": null,
            "border": null,
            "align_items": null,
            "bottom": null,
            "_model_module": "@jupyter-widgets/base",
            "top": null,
            "grid_column": null,
            "overflow_y": null,
            "overflow_x": null,
            "grid_auto_flow": null,
            "grid_area": null,
            "grid_template_columns": null,
            "flex": null,
            "_model_name": "LayoutModel",
            "justify_items": null,
            "grid_row": null,
            "max_height": null,
            "align_content": null,
            "visibility": null,
            "align_self": null,
            "height": null,
            "min_height": null,
            "padding": null,
            "grid_auto_rows": null,
            "grid_gap": null,
            "max_width": null,
            "order": null,
            "_view_module_version": "1.2.0",
            "grid_template_areas": null,
            "object_position": null,
            "object_fit": null,
            "grid_auto_columns": null,
            "margin": null,
            "display": null,
            "left": null
          }
        }
      }
    }
  },
  "cells": [
    {
      "cell_type": "markdown",
      "metadata": {
        "id": "KHxwxHM8ok6H"
      },
      "source": [
        "# **Install the client library**"
      ]
    },
    {
      "cell_type": "code",
      "metadata": {
        "colab": {
          "base_uri": "https://localhost:8080/"
        },
        "id": "GlNCgMR_jbAf",
        "outputId": "9427bdf4-2adf-40d3-a7eb-b73e34733b27"
      },
      "source": [
        "#!pip install text-analytics\n",
        "#!pip install --upgrade azure-ai-textanalytics\n",
        "!pip install azure-cognitiveservices-language-textanalytics"
      ],
      "execution_count": null,
      "outputs": [
        {
          "output_type": "stream",
          "text": [
            "Collecting azure-cognitiveservices-language-textanalytics\n",
            "\u001b[?25l  Downloading https://files.pythonhosted.org/packages/95/4d/d263a0aaf46f599f218d0e103f10b28e38de2d2c255358485a71a0cd8106/azure_cognitiveservices_language_textanalytics-0.2.0-py2.py3-none-any.whl (43kB)\n",
            "\u001b[K     |████████████████████████████████| 51kB 2.6MB/s \n",
            "\u001b[?25hCollecting azure-common~=1.1\n",
            "  Downloading https://files.pythonhosted.org/packages/19/2b/46ada1753c4a640bc3ad04a1e20b1a5ea52a8f18079e1b8238e536aa0c98/azure_common-1.1.26-py2.py3-none-any.whl\n",
            "Collecting msrest>=0.5.0\n",
            "\u001b[?25l  Downloading https://files.pythonhosted.org/packages/fa/f5/9e315fe8cb985b0ce052b34bcb767883dc739f46fadb62f05a7e6d6eedbe/msrest-0.6.19-py2.py3-none-any.whl (84kB)\n",
            "\u001b[K     |████████████████████████████████| 92kB 2.5MB/s \n",
            "\u001b[?25hRequirement already satisfied: requests~=2.16 in /usr/local/lib/python3.6/dist-packages (from msrest>=0.5.0->azure-cognitiveservices-language-textanalytics) (2.23.0)\n",
            "Collecting isodate>=0.6.0\n",
            "\u001b[?25l  Downloading https://files.pythonhosted.org/packages/9b/9f/b36f7774ff5ea8e428fdcfc4bb332c39ee5b9362ddd3d40d9516a55221b2/isodate-0.6.0-py2.py3-none-any.whl (45kB)\n",
            "\u001b[K     |████████████████████████████████| 51kB 5.9MB/s \n",
            "\u001b[?25hRequirement already satisfied: certifi>=2017.4.17 in /usr/local/lib/python3.6/dist-packages (from msrest>=0.5.0->azure-cognitiveservices-language-textanalytics) (2020.12.5)\n",
            "Requirement already satisfied: requests-oauthlib>=0.5.0 in /usr/local/lib/python3.6/dist-packages (from msrest>=0.5.0->azure-cognitiveservices-language-textanalytics) (1.3.0)\n",
            "Requirement already satisfied: chardet<4,>=3.0.2 in /usr/local/lib/python3.6/dist-packages (from requests~=2.16->msrest>=0.5.0->azure-cognitiveservices-language-textanalytics) (3.0.4)\n",
            "Requirement already satisfied: urllib3!=1.25.0,!=1.25.1,<1.26,>=1.21.1 in /usr/local/lib/python3.6/dist-packages (from requests~=2.16->msrest>=0.5.0->azure-cognitiveservices-language-textanalytics) (1.24.3)\n",
            "Requirement already satisfied: idna<3,>=2.5 in /usr/local/lib/python3.6/dist-packages (from requests~=2.16->msrest>=0.5.0->azure-cognitiveservices-language-textanalytics) (2.10)\n",
            "Requirement already satisfied: six in /usr/local/lib/python3.6/dist-packages (from isodate>=0.6.0->msrest>=0.5.0->azure-cognitiveservices-language-textanalytics) (1.15.0)\n",
            "Requirement already satisfied: oauthlib>=3.0.0 in /usr/local/lib/python3.6/dist-packages (from requests-oauthlib>=0.5.0->msrest>=0.5.0->azure-cognitiveservices-language-textanalytics) (3.1.0)\n",
            "Installing collected packages: azure-common, isodate, msrest, azure-cognitiveservices-language-textanalytics\n",
            "Successfully installed azure-cognitiveservices-language-textanalytics-0.2.0 azure-common-1.1.26 isodate-0.6.0 msrest-0.6.19\n"
          ],
          "name": "stdout"
        }
      ]
    },
    {
      "cell_type": "code",
      "metadata": {
        "colab": {
          "base_uri": "https://localhost:8080/"
        },
        "id": "vsxouuLhkDXc",
        "outputId": "edb484c1-6f67-4951-8fe6-6934f1733b02"
      },
      "source": [
        "!pip install azure-ai-textanalytics --pre"
      ],
      "execution_count": null,
      "outputs": [
        {
          "output_type": "stream",
          "text": [
            "Collecting azure-ai-textanalytics\n",
            "\u001b[?25l  Downloading https://files.pythonhosted.org/packages/04/4b/1dc334942f6fbb5f349e34cda137fdd264e247fcf0de51b1cec51a6668ef/azure_ai_textanalytics-5.1.0b4-py2.py3-none-any.whl (156kB)\n",
            "\r\u001b[K     |██                              | 10kB 17.4MB/s eta 0:00:01\r\u001b[K     |████▏                           | 20kB 10.6MB/s eta 0:00:01\r\u001b[K     |██████▎                         | 30kB 8.3MB/s eta 0:00:01\r\u001b[K     |████████▍                       | 40kB 7.1MB/s eta 0:00:01\r\u001b[K     |██████████▌                     | 51kB 4.4MB/s eta 0:00:01\r\u001b[K     |████████████▋                   | 61kB 4.8MB/s eta 0:00:01\r\u001b[K     |██████████████▋                 | 71kB 5.0MB/s eta 0:00:01\r\u001b[K     |████████████████▊               | 81kB 5.2MB/s eta 0:00:01\r\u001b[K     |██████████████████▉             | 92kB 5.6MB/s eta 0:00:01\r\u001b[K     |█████████████████████           | 102kB 5.5MB/s eta 0:00:01\r\u001b[K     |███████████████████████         | 112kB 5.5MB/s eta 0:00:01\r\u001b[K     |█████████████████████████▏      | 122kB 5.5MB/s eta 0:00:01\r\u001b[K     |███████████████████████████▎    | 133kB 5.5MB/s eta 0:00:01\r\u001b[K     |█████████████████████████████▎  | 143kB 5.5MB/s eta 0:00:01\r\u001b[K     |███████████████████████████████▍| 153kB 5.5MB/s eta 0:00:01\r\u001b[K     |████████████████████████████████| 163kB 5.5MB/s \n",
            "\u001b[?25hRequirement already satisfied: msrest>=0.6.0 in /usr/local/lib/python3.6/dist-packages (from azure-ai-textanalytics) (0.6.19)\n",
            "Collecting azure-core<2.0.0,>=1.8.2\n",
            "\u001b[?25l  Downloading https://files.pythonhosted.org/packages/12/9e/6bb67fe85f6a89d71f50c86a0da778a5064f749a485ed9ba498067034227/azure_core-1.10.0-py2.py3-none-any.whl (125kB)\n",
            "\u001b[K     |████████████████████████████████| 133kB 9.9MB/s \n",
            "\u001b[?25hRequirement already satisfied: azure-common~=1.1 in /usr/local/lib/python3.6/dist-packages (from azure-ai-textanalytics) (1.1.26)\n",
            "Requirement already satisfied: six>=1.6 in /usr/local/lib/python3.6/dist-packages (from azure-ai-textanalytics) (1.15.0)\n",
            "Requirement already satisfied: isodate>=0.6.0 in /usr/local/lib/python3.6/dist-packages (from msrest>=0.6.0->azure-ai-textanalytics) (0.6.0)\n",
            "Requirement already satisfied: certifi>=2017.4.17 in /usr/local/lib/python3.6/dist-packages (from msrest>=0.6.0->azure-ai-textanalytics) (2020.12.5)\n",
            "Requirement already satisfied: requests~=2.16 in /usr/local/lib/python3.6/dist-packages (from msrest>=0.6.0->azure-ai-textanalytics) (2.23.0)\n",
            "Requirement already satisfied: requests-oauthlib>=0.5.0 in /usr/local/lib/python3.6/dist-packages (from msrest>=0.6.0->azure-ai-textanalytics) (1.3.0)\n",
            "Requirement already satisfied: chardet<4,>=3.0.2 in /usr/local/lib/python3.6/dist-packages (from requests~=2.16->msrest>=0.6.0->azure-ai-textanalytics) (3.0.4)\n",
            "Requirement already satisfied: urllib3!=1.25.0,!=1.25.1,<1.26,>=1.21.1 in /usr/local/lib/python3.6/dist-packages (from requests~=2.16->msrest>=0.6.0->azure-ai-textanalytics) (1.24.3)\n",
            "Requirement already satisfied: idna<3,>=2.5 in /usr/local/lib/python3.6/dist-packages (from requests~=2.16->msrest>=0.6.0->azure-ai-textanalytics) (2.10)\n",
            "Requirement already satisfied: oauthlib>=3.0.0 in /usr/local/lib/python3.6/dist-packages (from requests-oauthlib>=0.5.0->msrest>=0.6.0->azure-ai-textanalytics) (3.1.0)\n",
            "Installing collected packages: azure-core, azure-ai-textanalytics\n",
            "Successfully installed azure-ai-textanalytics-5.1.0b4 azure-core-1.10.0\n"
          ],
          "name": "stdout"
        }
      ]
    },
    {
      "cell_type": "markdown",
      "metadata": {
        "id": "9jp1_icco1my"
      },
      "source": [
        "# **Resource Key and Endpoint **"
      ]
    },
    {
      "cell_type": "code",
      "metadata": {
        "id": "I7drRpT8kG8-"
      },
      "source": [
        "key = \"486d8e2ede2d413f8219a98bc6219cad\"\n",
        "endpoint = \"https://text65.cognitiveservices.azure.com/\""
      ],
      "execution_count": null,
      "outputs": []
    },
    {
      "cell_type": "markdown",
      "metadata": {
        "id": "Rd6EQ7T0o9Fu"
      },
      "source": [
        "# **Authenticate the client**"
      ]
    },
    {
      "cell_type": "code",
      "metadata": {
        "id": "DWbIycmQjfA1"
      },
      "source": [
        "from azure.ai.textanalytics import TextAnalyticsClient\n",
        "from azure.core.credentials import AzureKeyCredential\n",
        "\n",
        "def authenticate_client():\n",
        "    ta_credential = AzureKeyCredential(key)\n",
        "    text_analytics_client = TextAnalyticsClient(\n",
        "            endpoint=endpoint, \n",
        "            credential=ta_credential)\n",
        "    return text_analytics_client\n",
        "\n",
        "client = authenticate_client()"
      ],
      "execution_count": null,
      "outputs": []
    },
    {
      "cell_type": "code",
      "metadata": {
        "id": "1d1bFEoaj5j0"
      },
      "source": [
        "\n",
        "import os\n",
        "from azure.cognitiveservices.language.textanalytics import TextAnalyticsClient\n",
        "from msrest.authentication import CognitiveServicesCredentials"
      ],
      "execution_count": null,
      "outputs": []
    },
    {
      "cell_type": "markdown",
      "metadata": {
        "id": "Xdpe8bW5pFVf"
      },
      "source": [
        "## **Sentiment analysis**\n",
        "\n",
        "---\n",
        "\n"
      ]
    },
    {
      "cell_type": "code",
      "metadata": {
        "colab": {
          "base_uri": "https://localhost:8080/"
        },
        "id": "GlSy2NF9kqbD",
        "outputId": "43738d74-9b28-45cd-da66-476b3704f10b"
      },
      "source": [
        "def sentiment_analysis_example(client):\n",
        "\n",
        "    documents = [\"I had the best day of my life. I wish you were there with me.\"]\n",
        "    response = client.analyze_sentiment(documents = documents)[0]\n",
        "    print(\"Document Sentiment: {}\".format(response.sentiment))\n",
        "    print(\"Overall scores: positive={0:.2f}; neutral={1:.2f}; negative={2:.2f} \\n\".format(\n",
        "        response.confidence_scores.positive,\n",
        "        response.confidence_scores.neutral,\n",
        "        response.confidence_scores.negative,\n",
        "    ))\n",
        "    for idx, sentence in enumerate(response.sentences):\n",
        "        print(\"Sentence: {}\".format(sentence.text))\n",
        "        print(\"Sentence {} sentiment: {}\".format(idx+1, sentence.sentiment))\n",
        "        print(\"Sentence score:\\nPositive={0:.2f}\\nNeutral={1:.2f}\\nNegative={2:.2f}\\n\".format(\n",
        "            sentence.confidence_scores.positive,\n",
        "            sentence.confidence_scores.neutral,\n",
        "            sentence.confidence_scores.negative,\n",
        "        ))\n",
        "          \n",
        "sentiment_analysis_example(client)"
      ],
      "execution_count": null,
      "outputs": [
        {
          "output_type": "stream",
          "text": [
            "Document Sentiment: positive\n",
            "Overall scores: positive=1.00; neutral=0.00; negative=0.00 \n",
            "\n",
            "Sentence: I had the best day of my life.\n",
            "Sentence 1 sentiment: positive\n",
            "Sentence score:\n",
            "Positive=1.00\n",
            "Neutral=0.00\n",
            "Negative=0.00\n",
            "\n",
            "Sentence: I wish you were there with me.\n",
            "Sentence 2 sentiment: neutral\n",
            "Sentence score:\n",
            "Positive=0.21\n",
            "Neutral=0.77\n",
            "Negative=0.02\n",
            "\n"
          ],
          "name": "stdout"
        }
      ]
    },
    {
      "cell_type": "code",
      "metadata": {
        "id": "asXyVrZMnCRz"
      },
      "source": [
        "def authenticateClient():\n",
        "    credentials = CognitiveServicesCredentials(key)\n",
        "    text_analytics_client = TextAnalyticsClient(\n",
        "        endpoint=endpoint, credentials=credentials)\n",
        "    return text_analytics_client"
      ],
      "execution_count": null,
      "outputs": []
    },
    {
      "cell_type": "code",
      "metadata": {
        "colab": {
          "base_uri": "https://localhost:8080/"
        },
        "id": "1wJkuZqAlGQz",
        "outputId": "84cdd141-2011-46e1-d47e-84a229939a9b"
      },
      "source": [
        "def sentiment():\n",
        "    \n",
        "    client = authenticateClient()\n",
        "\n",
        "    try:\n",
        "        documents = [\n",
        "            {\"id\": \"1\", \"language\": \"en\", \"text\": \"I had the best day of my life.\"},\n",
        "            {\"id\": \"2\", \"language\": \"en\",\n",
        "                \"text\": \"This was a waste of my time. The speaker put me to sleep.\"},\n",
        "            {\"id\": \"3\", \"language\": \"es\", \"text\": \"No tengo dinero ni nada que dar...\"},\n",
        "            {\"id\": \"4\", \"language\": \"it\",\n",
        "                \"text\": \"L'hotel veneziano era meraviglioso. È un bellissimo pezzo di architettura.\"}\n",
        "        ]\n",
        "\n",
        "        response = client.sentiment(documents=documents)\n",
        "        for document in response.documents:\n",
        "            print(\"Document Id: \", document.id, \", Sentiment Score: \",\n",
        "                  \"{:.2f}\".format(document.score))\n",
        "\n",
        "    except Exception as err:\n",
        "        print(\"Encountered exception. {}\".format(err))\n",
        "sentiment()"
      ],
      "execution_count": null,
      "outputs": [
        {
          "output_type": "stream",
          "text": [
            "Document Id:  1 , Sentiment Score:  0.87\n",
            "Document Id:  2 , Sentiment Score:  0.06\n",
            "Document Id:  3 , Sentiment Score:  0.44\n",
            "Document Id:  4 , Sentiment Score:  1.00\n"
          ],
          "name": "stdout"
        }
      ]
    },
    {
      "cell_type": "markdown",
      "metadata": {
        "id": "mI11QepzrX4i"
      },
      "source": [
        "# **Opinion mining**\n",
        "\n",
        "---\n",
        "\n"
      ]
    },
    {
      "cell_type": "code",
      "metadata": {
        "colab": {
          "base_uri": "https://localhost:8080/"
        },
        "id": "hPUevlHhpXZ1",
        "outputId": "3e17fd6d-2a21-4a52-8562-b6782796d72d"
      },
      "source": [
        "def sentiment_analysis_with_opinion_mining_example(client):\n",
        "\n",
        "    documents = [\n",
        "        \"The food and service were unacceptable, but the concierge were nice\"\n",
        "    ]\n",
        "\n",
        "    result = client.analyze_sentiment(documents=documents,show_opinion_mining=True)\n",
        "    doc_result = [doc for doc in result if not doc.is_error]\n",
        "\n",
        "    positive_reviews = [doc for doc in doc_result if doc.sentiment == \"positive\"]\n",
        "    negative_reviews = [doc for doc in doc_result if doc.sentiment == \"negative\"]\n",
        "\n",
        "    positive_mined_opinions = []\n",
        "    mixed_mined_opinions = []\n",
        "    negative_mined_opinions = []\n",
        "\n",
        "    for document in doc_result:\n",
        "        print(\"Document Sentiment: {}\".format(document.sentiment))\n",
        "        print(\"Overall scores: positive={0:.2f}; neutral={1:.2f}; negative={2:.2f} \\n\".format(\n",
        "            document.confidence_scores.positive,\n",
        "            document.confidence_scores.neutral,\n",
        "            document.confidence_scores.negative,\n",
        "        ))\n",
        "        for sentence in document.sentences:\n",
        "            print(\"Sentence: {}\".format(sentence.text))\n",
        "            print(\"Sentence sentiment: {}\".format(sentence.sentiment))\n",
        "            print(\"Sentence score:\\nPositive={0:.2f}\\nNeutral={1:.2f}\\nNegative={2:.2f}\\n\".format(\n",
        "                sentence.confidence_scores.positive,\n",
        "                sentence.confidence_scores.neutral,\n",
        "                sentence.confidence_scores.negative,\n",
        "            ))\n",
        "            for mined_opinion in sentence.mined_opinions:\n",
        "                aspect = mined_opinion.aspect\n",
        "                print(\"......'{}' aspect '{}'\".format(aspect.sentiment, aspect.text))\n",
        "                print(\"......Aspect score:\\n......Positive={0:.2f}\\n......Negative={1:.2f}\\n\".format(\n",
        "                    aspect.confidence_scores.positive,\n",
        "                    aspect.confidence_scores.negative,\n",
        "                ))\n",
        "                for opinion in mined_opinion.opinions:\n",
        "                    print(\"......'{}' opinion '{}'\".format(opinion.sentiment, opinion.text))\n",
        "                    print(\"......Opinion score:\\n......Positive={0:.2f}\\n......Negative={1:.2f}\\n\".format(\n",
        "                        opinion.confidence_scores.positive,\n",
        "                        opinion.confidence_scores.negative,\n",
        "                    ))\n",
        "            print(\"\\n\")\n",
        "        print(\"\\n\")\n",
        "          \n",
        "sentiment_analysis_with_opinion_mining_example(client)"
      ],
      "execution_count": null,
      "outputs": [
        {
          "output_type": "stream",
          "text": [
            "Document Sentiment: positive\n",
            "Overall scores: positive=0.84; neutral=0.00; negative=0.16 \n",
            "\n",
            "Sentence: The food and service were unacceptable, but the concierge were nice\n",
            "Sentence sentiment: positive\n",
            "Sentence score:\n",
            "Positive=0.84\n",
            "Neutral=0.00\n",
            "Negative=0.16\n",
            "\n",
            "......'negative' aspect 'food'\n",
            "......Aspect score:\n",
            "......Positive=0.01\n",
            "......Negative=0.99\n",
            "\n",
            "......'negative' opinion 'unacceptable'\n",
            "......Opinion score:\n",
            "......Positive=0.01\n",
            "......Negative=0.99\n",
            "\n",
            "......'negative' aspect 'service'\n",
            "......Aspect score:\n",
            "......Positive=0.01\n",
            "......Negative=0.99\n",
            "\n",
            "......'negative' opinion 'unacceptable'\n",
            "......Opinion score:\n",
            "......Positive=0.01\n",
            "......Negative=0.99\n",
            "\n",
            "......'positive' aspect 'concierge'\n",
            "......Aspect score:\n",
            "......Positive=1.00\n",
            "......Negative=0.00\n",
            "\n",
            "......'positive' opinion 'nice'\n",
            "......Opinion score:\n",
            "......Positive=1.00\n",
            "......Negative=0.00\n",
            "\n",
            "\n",
            "\n",
            "\n",
            "\n"
          ],
          "name": "stdout"
        }
      ]
    },
    {
      "cell_type": "markdown",
      "metadata": {
        "id": "ZRp3gkBqrg4y"
      },
      "source": [
        "# **Language detection**\n",
        "\n",
        "---\n",
        "\n"
      ]
    },
    {
      "cell_type": "code",
      "metadata": {
        "colab": {
          "base_uri": "https://localhost:8080/"
        },
        "id": "ONdxxt8HlNUk",
        "outputId": "e308d5a7-503c-4433-f86a-871e2e4f0f2f"
      },
      "source": [
        "def language_detection_example(client):\n",
        "    try:\n",
        "        documents = [\"Ce document est rédigé en Français.\"]\n",
        "        response = client.detect_language(documents = documents, country_hint = 'us')[0]\n",
        "        print(\"Language: \", response.primary_language.name)\n",
        "\n",
        "    except Exception as err:\n",
        "        print(\"Encountered exception. {}\".format(err))\n",
        "language_detection_example(client)"
      ],
      "execution_count": null,
      "outputs": [
        {
          "output_type": "stream",
          "text": [
            "Language:  French\n"
          ],
          "name": "stdout"
        }
      ]
    },
    {
      "cell_type": "code",
      "metadata": {
        "colab": {
          "base_uri": "https://localhost:8080/"
        },
        "id": "wwOdLirunM9E",
        "outputId": "7171caf9-2561-4eb2-dc3f-ba643d4f0377"
      },
      "source": [
        "def language_detection():\n",
        "    client = authenticateClient()\n",
        "\n",
        "    try:\n",
        "        documents = [\n",
        "            {'id': '1', 'text': 'This is a document written in English.'},\n",
        "            {'id': '2', 'text': 'Este es un document escrito en Español.'},\n",
        "            {'id': '3', 'text': '这是一个用中文写的文件'}\n",
        "        ]\n",
        "        response = client.detect_language(documents=documents)\n",
        "\n",
        "        for document in response.documents:\n",
        "            print(\"Document Id: \", document.id, \", Language: \",\n",
        "                  document.detected_languages[0].name)\n",
        "\n",
        "    except Exception as err:\n",
        "        print(\"Encountered exception. {}\".format(err))\n",
        "language_detection()"
      ],
      "execution_count": null,
      "outputs": [
        {
          "output_type": "stream",
          "text": [
            "Document Id:  1 , Language:  English\n",
            "Document Id:  2 , Language:  Spanish\n",
            "Document Id:  3 , Language:  Chinese_Simplified\n"
          ],
          "name": "stdout"
        }
      ]
    },
    {
      "cell_type": "markdown",
      "metadata": {
        "id": "7NRhO5YgrmHB"
      },
      "source": [
        "# **Named Entity recognition (NER)**\n",
        "\n",
        "---\n",
        "\n"
      ]
    },
    {
      "cell_type": "code",
      "metadata": {
        "colab": {
          "base_uri": "https://localhost:8080/"
        },
        "id": "wyoNWU8DnQ1c",
        "outputId": "c19a03fb-4e9f-4f72-c7b3-39db7c1d5a99"
      },
      "source": [
        "def entity_recognition_example(client):\n",
        "\n",
        "    try:\n",
        "        documents = [\"Hugging Face Inc. is a company based in New York City. Its headquarters are in DUMBO, therefore very close to the Manhattan Bridge which is visible from the window.\"]\n",
        "        result = client.recognize_entities(documents = documents)[0]\n",
        "\n",
        "        print(\"Named Entities:\\n\")\n",
        "        for entity in result.entities:\n",
        "            print(\"\\tText: \\t\", entity.text, \"\\tCategory: \\t\", entity.category, \"\\tSubCategory: \\t\", entity.subcategory,\n",
        "                    \"\\n\\tConfidence Score: \\t\", round(entity.confidence_score, 2), \"\\n\")\n",
        "\n",
        "    except Exception as err:\n",
        "        print(\"Encountered exception. {}\".format(err))\n",
        "entity_recognition_example(client)"
      ],
      "execution_count": null,
      "outputs": [
        {
          "output_type": "stream",
          "text": [
            "Named Entities:\n",
            "\n",
            "\tText: \t Hugging Face Inc. \tCategory: \t Organization \tSubCategory: \t None \n",
            "\tConfidence Score: \t 0.85 \n",
            "\n",
            "\tText: \t New York City \tCategory: \t Location \tSubCategory: \t GPE \n",
            "\tConfidence Score: \t 0.88 \n",
            "\n",
            "\tText: \t headquarters \tCategory: \t Location \tSubCategory: \t Structural \n",
            "\tConfidence Score: \t 0.66 \n",
            "\n",
            "\tText: \t DUMBO \tCategory: \t Location \tSubCategory: \t GPE \n",
            "\tConfidence Score: \t 0.3 \n",
            "\n",
            "\tText: \t Manhattan Bridge \tCategory: \t Location \tSubCategory: \t None \n",
            "\tConfidence Score: \t 0.71 \n",
            "\n"
          ],
          "name": "stdout"
        }
      ]
    },
    {
      "cell_type": "markdown",
      "metadata": {
        "id": "Ya2RzAMIrrJS"
      },
      "source": [
        "# **Entity Linking**\n",
        "\n",
        "---\n",
        "\n"
      ]
    },
    {
      "cell_type": "code",
      "metadata": {
        "colab": {
          "base_uri": "https://localhost:8080/"
        },
        "id": "KLlmXIQgnVvs",
        "outputId": "5ac34a9d-75a0-49b0-b24a-3a216c852610"
      },
      "source": [
        "def entity_linking_example(client):\n",
        "\n",
        "    try:\n",
        "        documents = [\"\"\"Microsoft was founded by Bill Gates and Paul Allen on April 4, 1975, \n",
        "        to develop and sell BASIC interpreters for the Altair 8800. \n",
        "        During his career at Microsoft, Gates held the positions of chairman,\n",
        "        chief executive officer, president and chief software architect, \n",
        "        while also being the largest individual shareholder until May 2014.\"\"\"]\n",
        "        result = client.recognize_linked_entities(documents = documents)[0]\n",
        "\n",
        "        print(\"Linked Entities:\\n\")\n",
        "        for entity in result.entities:\n",
        "            print(\"\\tName: \", entity.name, \"\\tId: \", entity.data_source_entity_id, \"\\tUrl: \", entity.url,\n",
        "            \"\\n\\tData Source: \", entity.data_source)\n",
        "            print(\"\\tMatches:\")\n",
        "            for match in entity.matches:\n",
        "                print(\"\\t\\tText:\", match.text)\n",
        "                print(\"\\t\\tConfidence Score: {0:.2f}\".format(match.confidence_score))\n",
        "            \n",
        "    except Exception as err:\n",
        "        print(\"Encountered exception. {}\".format(err))\n",
        "entity_linking_example(client)"
      ],
      "execution_count": null,
      "outputs": [
        {
          "output_type": "stream",
          "text": [
            "Linked Entities:\n",
            "\n",
            "\tName:  Microsoft \tId:  Microsoft \tUrl:  https://en.wikipedia.org/wiki/Microsoft \n",
            "\tData Source:  Wikipedia\n",
            "\tMatches:\n",
            "\t\tText: Microsoft\n",
            "\t\tConfidence Score: 0.55\n",
            "\t\tText: Microsoft\n",
            "\t\tConfidence Score: 0.55\n",
            "\tName:  Bill Gates \tId:  Bill Gates \tUrl:  https://en.wikipedia.org/wiki/Bill_Gates \n",
            "\tData Source:  Wikipedia\n",
            "\tMatches:\n",
            "\t\tText: Bill Gates\n",
            "\t\tConfidence Score: 0.63\n",
            "\t\tText: Gates\n",
            "\t\tConfidence Score: 0.63\n",
            "\tName:  Paul Allen \tId:  Paul Allen \tUrl:  https://en.wikipedia.org/wiki/Paul_Allen \n",
            "\tData Source:  Wikipedia\n",
            "\tMatches:\n",
            "\t\tText: Paul Allen\n",
            "\t\tConfidence Score: 0.60\n",
            "\tName:  April 4 \tId:  April 4 \tUrl:  https://en.wikipedia.org/wiki/April_4 \n",
            "\tData Source:  Wikipedia\n",
            "\tMatches:\n",
            "\t\tText: April 4\n",
            "\t\tConfidence Score: 0.32\n",
            "\tName:  BASIC \tId:  BASIC \tUrl:  https://en.wikipedia.org/wiki/BASIC \n",
            "\tData Source:  Wikipedia\n",
            "\tMatches:\n",
            "\t\tText: BASIC\n",
            "\t\tConfidence Score: 0.33\n",
            "\tName:  Altair 8800 \tId:  Altair 8800 \tUrl:  https://en.wikipedia.org/wiki/Altair_8800 \n",
            "\tData Source:  Wikipedia\n",
            "\tMatches:\n",
            "\t\tText: Altair 8800\n",
            "\t\tConfidence Score: 0.88\n"
          ],
          "name": "stdout"
        }
      ]
    },
    {
      "cell_type": "code",
      "metadata": {
        "colab": {
          "base_uri": "https://localhost:8080/"
        },
        "id": "nW3TwFf1nav8",
        "outputId": "46cd37ea-eb54-4387-935d-4a92fa5443e9"
      },
      "source": [
        "def entity_recognition():\n",
        "    \n",
        "    client = authenticateClient()\n",
        "\n",
        "    try:\n",
        "        documents = [\n",
        "            {\"id\": \"1\", \"language\": \"en\", \"text\": \"was founded by Bill Gates and Paul Allen on April 4, 1975, to develop and sell BASIC interpreters for the Altair 8800.\"},\n",
        "            {\"id\": \"2\", \"language\": \"es\",\n",
        "                \"text\": \"La sede principal de Microsoft se encuentra en la ciudad de Redmond, a 21 kilómetros de Seattle.\"}\n",
        "        ]\n",
        "        response = client.entities(documents=documents)\n",
        "\n",
        "        for document in response.documents:\n",
        "            print(\"Document Id: \", document.id)\n",
        "            print(\"\\tKey Entities:\")\n",
        "            for entity in document.entities:\n",
        "\n",
        "                print(\"\\t\\t\", \"NAME: \", entity.name, \"\\tType: \",\n",
        "                      entity.type, \"\\tSub-type: \", entity.sub_type)\n",
        "                for match in entity.matches:\n",
        "                      print(\"\\t\\t\\tOffset: \", match.offset,\"\\tLength: \", match.length,\"\\tScore: \",\n",
        "                          (match.entity_type_score))\n",
        "\n",
        "    except Exception as err:\n",
        "        print(\"Encountered exception. {}\".format(err))\n",
        "entity_recognition()"
      ],
      "execution_count": null,
      "outputs": [
        {
          "output_type": "stream",
          "text": [
            "Document Id:  1\n",
            "\tKey Entities:\n",
            "\t\t NAME:  Bill Gates \tType:  Person \tSub-type:  None\n",
            "\t\t\tOffset:  15 \tLength:  10 \tScore:  1.0\n",
            "\t\t NAME:  Paul Allen \tType:  Person \tSub-type:  None\n",
            "\t\t\tOffset:  30 \tLength:  10 \tScore:  1.0\n",
            "\t\t NAME:  April 4 \tType:  Other \tSub-type:  None\n",
            "\t\t\tOffset:  44 \tLength:  7 \tScore:  None\n",
            "\t\t NAME:  April 4, 1975 \tType:  DateTime \tSub-type:  Date\n",
            "\t\t\tOffset:  44 \tLength:  13 \tScore:  0.8\n",
            "\t\t NAME:  BASIC \tType:  Other \tSub-type:  None\n",
            "\t\t\tOffset:  79 \tLength:  5 \tScore:  None\n",
            "\t\t NAME:  Altair 8800 \tType:  Other \tSub-type:  None\n",
            "\t\t\tOffset:  106 \tLength:  11 \tScore:  None\n",
            "\t\t NAME:  Altair \tType:  Organization \tSub-type:  None\n",
            "\t\t\tOffset:  106 \tLength:  6 \tScore:  0.53\n",
            "\t\t NAME:  8800 \tType:  Quantity \tSub-type:  Number\n",
            "\t\t\tOffset:  113 \tLength:  4 \tScore:  0.8\n",
            "Document Id:  2\n",
            "\tKey Entities:\n",
            "\t\t NAME:  Microsoft \tType:  Organization \tSub-type:  None\n",
            "\t\t\tOffset:  21 \tLength:  9 \tScore:  1.0\n",
            "\t\t NAME:  Redmond (Washington) \tType:  Location \tSub-type:  GPE\n",
            "\t\t\tOffset:  60 \tLength:  7 \tScore:  0.99\n",
            "\t\t NAME:  21 kilómetros \tType:  Quantity \tSub-type:  Dimension\n",
            "\t\t\tOffset:  71 \tLength:  13 \tScore:  0.8\n",
            "\t\t NAME:  Seattle \tType:  Location \tSub-type:  GPE\n",
            "\t\t\tOffset:  88 \tLength:  7 \tScore:  1.0\n"
          ],
          "name": "stdout"
        }
      ]
    },
    {
      "cell_type": "markdown",
      "metadata": {
        "id": "qkPKgxfHrzql"
      },
      "source": [
        "# **Personally Identifiable Information recognition**\n",
        "\n",
        "---\n",
        "\n"
      ]
    },
    {
      "cell_type": "code",
      "metadata": {
        "colab": {
          "base_uri": "https://localhost:8080/"
        },
        "id": "eNRYAbufne1s",
        "outputId": "394c7bf1-1ec0-45cf-e0ec-8be8b81312f3"
      },
      "source": [
        "def pii_recognition_example(client):\n",
        "    documents = [\n",
        "        \"The employee's SSN is 859-98-0987.\",\n",
        "        \"The employee's phone number is 555-555-5555.\"\n",
        "    ]\n",
        "    response = client.recognize_pii_entities(documents, language=\"en\")\n",
        "    result = [doc for doc in response if not doc.is_error]\n",
        "    for doc in result:\n",
        "        print(\"Redacted Text: {}\".format(doc.redacted_text))\n",
        "        for entity in doc.entities:\n",
        "            print(\"Entity: {}\".format(entity.text))\n",
        "            print(\"\\tCategory: {}\".format(entity.category))\n",
        "            print(\"\\tConfidence Score: {}\".format(entity.confidence_score))\n",
        "            print(\"\\tOffset: {}\".format(entity.offset))\n",
        "            #print(\"\\tLength: {}\".format(entity.length))\n",
        "pii_recognition_example(client)\n"
      ],
      "execution_count": null,
      "outputs": [
        {
          "output_type": "stream",
          "text": [
            "Redacted Text: The employee's SSN is ***********.\n",
            "Entity: 859-98-0987\n",
            "\tCategory: U.S. Social Security Number (SSN)\n",
            "\tConfidence Score: 0.65\n",
            "\tOffset: 22\n",
            "Redacted Text: The employee's phone number is ************.\n",
            "Entity: 555-555-5555\n",
            "\tCategory: Phone Number\n",
            "\tConfidence Score: 0.8\n",
            "\tOffset: 31\n"
          ],
          "name": "stdout"
        }
      ]
    },
    {
      "cell_type": "markdown",
      "metadata": {
        "id": "0QlqipMBr4uY"
      },
      "source": [
        "# **Key phrase extraction**\n",
        "\n",
        "---\n",
        "\n"
      ]
    },
    {
      "cell_type": "code",
      "metadata": {
        "colab": {
          "base_uri": "https://localhost:8080/"
        },
        "id": "FxRnxwnrn1Qt",
        "outputId": "d4f235a3-1314-4311-8c81-7a2022bcddb4"
      },
      "source": [
        "def key_phrase_extraction_example(client):\n",
        "\n",
        "    try:\n",
        "        documents = [\"My cat might need to see a veterinarian.\"]\n",
        "\n",
        "        response = client.extract_key_phrases(documents = documents)[0]\n",
        "\n",
        "        if not response.is_error:\n",
        "            print(\"\\tKey Phrases:\")\n",
        "            for phrase in response.key_phrases:\n",
        "                print(\"\\t\\t\", phrase)\n",
        "        else:\n",
        "            print(response.id, response.error)\n",
        "\n",
        "    except Exception as err:\n",
        "        print(\"Encountered exception. {}\".format(err))\n",
        "        \n",
        "key_phrase_extraction_example(client)"
      ],
      "execution_count": null,
      "outputs": [
        {
          "output_type": "stream",
          "text": [
            "\tKey Phrases:\n",
            "\t\t cat\n",
            "\t\t veterinarian\n"
          ],
          "name": "stdout"
        }
      ]
    },
    {
      "cell_type": "code",
      "metadata": {
        "colab": {
          "base_uri": "https://localhost:8080/"
        },
        "id": "gNTTznXdoGcM",
        "outputId": "3f1fdfd0-e0b9-4fa7-e50c-9f702ccd6dea"
      },
      "source": [
        "def key_phrases():\n",
        "    \n",
        "    client = authenticateClient()\n",
        "\n",
        "    try:\n",
        "        documents = [\n",
        "            {\"id\": \"1\", \"language\": \"ja\", \"text\": \"猫は幸せ\"},\n",
        "            {\"id\": \"2\", \"language\": \"de\",\n",
        "                \"text\": \"Fahrt nach Stuttgart und dann zum Hotel zu Fu.\"},\n",
        "            {\"id\": \"3\", \"language\": \"en\",\n",
        "                \"text\": \"My cat might need to see a veterinarian.\"},\n",
        "            {\"id\": \"4\", \"language\": \"es\", \"text\": \"A mi me encanta el fútbol!\"}\n",
        "        ]\n",
        "\n",
        "        for document in documents:\n",
        "            print(\n",
        "                \"Asking key-phrases on '{}' (id: {})\".format(document['text'], document['id']))\n",
        "\n",
        "        response = client.key_phrases(documents=documents)\n",
        "\n",
        "        for document in response.documents:\n",
        "            print(\"Document Id: \", document.id)\n",
        "            print(\"\\tKey Phrases:\")\n",
        "            for phrase in document.key_phrases:\n",
        "                print(\"\\t\\t\", phrase)\n",
        "\n",
        "    except Exception as err:\n",
        "        print(\"Encountered exception. {}\".format(err))\n",
        "key_phrases()"
      ],
      "execution_count": null,
      "outputs": [
        {
          "output_type": "stream",
          "text": [
            "Asking key-phrases on '猫は幸せ' (id: 1)\n",
            "Asking key-phrases on 'Fahrt nach Stuttgart und dann zum Hotel zu Fu.' (id: 2)\n",
            "Asking key-phrases on 'My cat might need to see a veterinarian.' (id: 3)\n",
            "Asking key-phrases on 'A mi me encanta el fútbol!' (id: 4)\n",
            "Document Id:  1\n",
            "\tKey Phrases:\n",
            "\t\t 幸せ\n",
            "Document Id:  2\n",
            "\tKey Phrases:\n",
            "\t\t Stuttgart\n",
            "\t\t Hotel\n",
            "\t\t Fahrt\n",
            "\t\t Fu\n",
            "Document Id:  3\n",
            "\tKey Phrases:\n",
            "\t\t cat\n",
            "\t\t veterinarian\n",
            "Document Id:  4\n",
            "\tKey Phrases:\n",
            "\t\t fútbol\n"
          ],
          "name": "stdout"
        }
      ]
    },
    {
      "cell_type": "markdown",
      "metadata": {
        "id": "ROhA0dR0EtOU"
      },
      "source": [
        "# **Translator API**\n",
        "\n",
        "---\n",
        "\n"
      ]
    },
    {
      "cell_type": "markdown",
      "metadata": {
        "id": "wyplZtyYGW_k"
      },
      "source": [
        "# **Translate text**"
      ]
    },
    {
      "cell_type": "code",
      "metadata": {
        "colab": {
          "base_uri": "https://localhost:8080/"
        },
        "id": "sL57IneMoL-c",
        "outputId": "671a9631-d074-4d6d-e1f3-2533213145f4"
      },
      "source": [
        "import requests, uuid, json\n",
        "\n",
        "\n",
        "subscription_key = \"6e484fd4b928489696c3f24b59a4546b\"\n",
        "endpoint = \"https://api.cognitive.microsofttranslator.com/\"\n",
        "\n",
        "# Add your location, also known as region. The default is global.\n",
        "# This is required if using a Cognitive Services resource.\n",
        "location = \"eastus\"\n",
        "\n",
        "path = '/translate'\n",
        "constructed_url = endpoint + path\n",
        "\n",
        "params = {\n",
        "    'api-version': '3.0',\n",
        "    'from': 'en',\n",
        "    'to': ['de', 'it','hi','kn','ta']\n",
        "}\n",
        "constructed_url = endpoint + path\n",
        "\n",
        "headers = {\n",
        "    'Ocp-Apim-Subscription-Key': subscription_key,\n",
        "    'Ocp-Apim-Subscription-Region': location,\n",
        "    'Content-type': 'application/json',\n",
        "    'X-ClientTraceId': str(uuid.uuid4())\n",
        "}\n",
        "\n",
        "# You can pass more than one object in body.\n",
        "body = [{\n",
        "    'text': 'Hello World! Miss You'\n",
        "}]\n",
        "\n",
        "request = requests.post(constructed_url, params=params, headers=headers, json=body)\n",
        "response = request.json()\n",
        "\n",
        "print(json.dumps(response, sort_keys=True, ensure_ascii=False, indent=4, separators=(',', ': ')))"
      ],
      "execution_count": null,
      "outputs": [
        {
          "output_type": "stream",
          "text": [
            "[\n",
            "    {\n",
            "        \"translations\": [\n",
            "            {\n",
            "                \"text\": \"Hallo Welt! Werde dich vermissen\",\n",
            "                \"to\": \"de\"\n",
            "            },\n",
            "            {\n",
            "                \"text\": \"Salve, mondo! Mi manchi\",\n",
            "                \"to\": \"it\"\n",
            "            },\n",
            "            {\n",
            "                \"text\": \"हैलो वर्ल्ड! तुम्हारी याद आ रही है\",\n",
            "                \"to\": \"hi\"\n",
            "            },\n",
            "            {\n",
            "                \"text\": \"ಹಲೋ ಪ್ರಪಂಚ! ನಿಮ್ಮನ್ನು ನೆನೆಸಿಕೊಳ್ಳುವೆ\",\n",
            "                \"to\": \"kn\"\n",
            "            },\n",
            "            {\n",
            "                \"text\": \"ஹலோ உலகம்! காணாமல் தவிக்கிறேன்\",\n",
            "                \"to\": \"ta\"\n",
            "            }\n",
            "        ]\n",
            "    }\n",
            "]\n"
          ],
          "name": "stdout"
        }
      ]
    },
    {
      "cell_type": "markdown",
      "metadata": {
        "id": "JBVg3WoQIvXI"
      },
      "source": [
        "### **Detect source language during translation**"
      ]
    },
    {
      "cell_type": "code",
      "metadata": {
        "colab": {
          "base_uri": "https://localhost:8080/"
        },
        "id": "ubY6NxYaE3Wt",
        "outputId": "6987c184-88d9-4775-c3e8-0ed9be8ec69b"
      },
      "source": [
        "params = {\n",
        "    'api-version': '3.0',\n",
        "    'to': ['de', 'it','hi','kn']\n",
        "}\n",
        "request = requests.post(constructed_url, params=params, headers=headers, json=body)\n",
        "response = request.json()\n",
        "print(json.dumps(response, sort_keys=True, ensure_ascii=False, indent=4, separators=(',', ': ')))"
      ],
      "execution_count": null,
      "outputs": [
        {
          "output_type": "stream",
          "text": [
            "[\n",
            "    {\n",
            "        \"detectedLanguage\": {\n",
            "            \"language\": \"en\",\n",
            "            \"score\": 1.0\n",
            "        },\n",
            "        \"translations\": [\n",
            "            {\n",
            "                \"text\": \"Hallo Welt! Werde dich vermissen\",\n",
            "                \"to\": \"de\"\n",
            "            },\n",
            "            {\n",
            "                \"text\": \"Salve, mondo! Mi manchi\",\n",
            "                \"to\": \"it\"\n",
            "            },\n",
            "            {\n",
            "                \"text\": \"हैलो वर्ल्ड! तुम्हारी याद आ रही है\",\n",
            "                \"to\": \"hi\"\n",
            "            },\n",
            "            {\n",
            "                \"text\": \"ಹಲೋ ಪ್ರಪಂಚ! ನಿಮ್ಮನ್ನು ನೆನೆಸಿಕೊಳ್ಳುವೆ\",\n",
            "                \"to\": \"kn\"\n",
            "            }\n",
            "        ]\n",
            "    }\n",
            "]\n"
          ],
          "name": "stdout"
        }
      ]
    },
    {
      "cell_type": "code",
      "metadata": {
        "id": "82aOvEizQAbu"
      },
      "source": [
        "import pandas as pd"
      ],
      "execution_count": null,
      "outputs": []
    },
    {
      "cell_type": "code",
      "metadata": {
        "id": "yxRuqIAkH_Zf"
      },
      "source": [
        "df = pd.read_csv('https://raw.githubusercontent.com/ReDranzer/DL_Azure/main/CourseEra_Sample_reviews.csv')"
      ],
      "execution_count": null,
      "outputs": []
    },
    {
      "cell_type": "code",
      "metadata": {
        "colab": {
          "base_uri": "https://localhost:8080/",
          "height": 202
        },
        "id": "aYx6XiJqbm8-",
        "outputId": "752295b5-014a-4291-c8eb-c73c3d702eab"
      },
      "source": [
        "df.drop(columns=['Id'],inplace=True)\n",
        "df.head()\n",
        "\n",
        "df['language']=\"en\"\n",
        "df[\"id\"] = df.index + 1\n",
        "df.id = df.id.astype(str)\n",
        "df.rename(columns = { 'Review': 'text'}, inplace=True)\n",
        "\n",
        "df.head()\n",
        "\n",
        "\n"
      ],
      "execution_count": null,
      "outputs": [
        {
          "output_type": "execute_result",
          "data": {
            "text/html": [
              "<div>\n",
              "<style scoped>\n",
              "    .dataframe tbody tr th:only-of-type {\n",
              "        vertical-align: middle;\n",
              "    }\n",
              "\n",
              "    .dataframe tbody tr th {\n",
              "        vertical-align: top;\n",
              "    }\n",
              "\n",
              "    .dataframe thead th {\n",
              "        text-align: right;\n",
              "    }\n",
              "</style>\n",
              "<table border=\"1\" class=\"dataframe\">\n",
              "  <thead>\n",
              "    <tr style=\"text-align: right;\">\n",
              "      <th></th>\n",
              "      <th>text</th>\n",
              "      <th>Label</th>\n",
              "      <th>Label_Name</th>\n",
              "      <th>language</th>\n",
              "      <th>id</th>\n",
              "    </tr>\n",
              "  </thead>\n",
              "  <tbody>\n",
              "    <tr>\n",
              "      <th>0</th>\n",
              "      <td>good and interesting</td>\n",
              "      <td>5</td>\n",
              "      <td>Very Positive</td>\n",
              "      <td>en</td>\n",
              "      <td>1</td>\n",
              "    </tr>\n",
              "    <tr>\n",
              "      <th>1</th>\n",
              "      <td>This class is very helpful to me. Currently, I...</td>\n",
              "      <td>5</td>\n",
              "      <td>Very Positive</td>\n",
              "      <td>en</td>\n",
              "      <td>2</td>\n",
              "    </tr>\n",
              "    <tr>\n",
              "      <th>2</th>\n",
              "      <td>like!Prof and TAs are helpful and the discussi...</td>\n",
              "      <td>5</td>\n",
              "      <td>Very Positive</td>\n",
              "      <td>en</td>\n",
              "      <td>3</td>\n",
              "    </tr>\n",
              "    <tr>\n",
              "      <th>3</th>\n",
              "      <td>Easy to follow and includes a lot basic and im...</td>\n",
              "      <td>5</td>\n",
              "      <td>Very Positive</td>\n",
              "      <td>en</td>\n",
              "      <td>4</td>\n",
              "    </tr>\n",
              "    <tr>\n",
              "      <th>4</th>\n",
              "      <td>Really nice teacher!I could got the point eazl...</td>\n",
              "      <td>4</td>\n",
              "      <td>Positive</td>\n",
              "      <td>en</td>\n",
              "      <td>5</td>\n",
              "    </tr>\n",
              "  </tbody>\n",
              "</table>\n",
              "</div>"
            ],
            "text/plain": [
              "                                                text  Label  ... language id\n",
              "0                               good and interesting      5  ...       en  1\n",
              "1  This class is very helpful to me. Currently, I...      5  ...       en  2\n",
              "2  like!Prof and TAs are helpful and the discussi...      5  ...       en  3\n",
              "3  Easy to follow and includes a lot basic and im...      5  ...       en  4\n",
              "4  Really nice teacher!I could got the point eazl...      4  ...       en  5\n",
              "\n",
              "[5 rows x 5 columns]"
            ]
          },
          "metadata": {
            "tags": []
          },
          "execution_count": 42
        }
      ]
    },
    {
      "cell_type": "code",
      "metadata": {
        "id": "hF-bVRbKZHGS"
      },
      "source": [
        "new_df_p=df.loc[df['Label_Name'] == 'Positive'].sample(n=10)\n",
        "new_df_n=df.loc[df['Label_Name'] == 'Negative'].sample(n=10)\n",
        "new_df_nu=df.loc[df['Label_Name'] == 'Neutral'].sample(n=10)"
      ],
      "execution_count": null,
      "outputs": []
    },
    {
      "cell_type": "code",
      "metadata": {
        "id": "IK94iQL-68Cn"
      },
      "source": [
        "new_df_p=df.loc[df['Label_Name'] == 'Positive'].sample(n=10)\n",
        "result=new_df_p.append(df.loc[df['Label_Name'] == 'Negative'].sample(n=10))\n",
        "result=result.append(df.loc[df['Label_Name'] == 'Neutral'].sample(n=10))"
      ],
      "execution_count": null,
      "outputs": []
    },
    {
      "cell_type": "code",
      "metadata": {
        "id": "ahfTWX_W4JCw"
      },
      "source": [
        "result=new_df_p.append(df.loc[df['Label_Name'] == 'Negative'].sample(n=10))"
      ],
      "execution_count": null,
      "outputs": []
    },
    {
      "cell_type": "code",
      "metadata": {
        "id": "TzUyvW753K7e"
      },
      "source": [
        "result=result.append(df.loc[df['Label_Name'] == 'Neutral'].sample(n=10))"
      ],
      "execution_count": null,
      "outputs": []
    },
    {
      "cell_type": "code",
      "metadata": {
        "colab": {
          "base_uri": "https://localhost:8080/",
          "height": 969
        },
        "id": "suARrv7R32s4",
        "outputId": "404ac1f3-ce37-4d0b-eea3-1fc7c79f98c2"
      },
      "source": [
        "result.head(30)"
      ],
      "execution_count": null,
      "outputs": [
        {
          "output_type": "execute_result",
          "data": {
            "text/html": [
              "<div>\n",
              "<style scoped>\n",
              "    .dataframe tbody tr th:only-of-type {\n",
              "        vertical-align: middle;\n",
              "    }\n",
              "\n",
              "    .dataframe tbody tr th {\n",
              "        vertical-align: top;\n",
              "    }\n",
              "\n",
              "    .dataframe thead th {\n",
              "        text-align: right;\n",
              "    }\n",
              "</style>\n",
              "<table border=\"1\" class=\"dataframe\">\n",
              "  <thead>\n",
              "    <tr style=\"text-align: right;\">\n",
              "      <th></th>\n",
              "      <th>text</th>\n",
              "      <th>Label</th>\n",
              "      <th>Label_Name</th>\n",
              "      <th>language</th>\n",
              "      <th>id</th>\n",
              "    </tr>\n",
              "  </thead>\n",
              "  <tbody>\n",
              "    <tr>\n",
              "      <th>1321</th>\n",
              "      <td>Great course, wish if it was focused more on t...</td>\n",
              "      <td>4</td>\n",
              "      <td>Positive</td>\n",
              "      <td>en</td>\n",
              "      <td>1322</td>\n",
              "    </tr>\n",
              "    <tr>\n",
              "      <th>1429</th>\n",
              "      <td>Nice course if anyone wants to learn Tableau. ...</td>\n",
              "      <td>4</td>\n",
              "      <td>Positive</td>\n",
              "      <td>en</td>\n",
              "      <td>1430</td>\n",
              "    </tr>\n",
              "    <tr>\n",
              "      <th>1360</th>\n",
              "      <td>A great insight into the addicted brain and wh...</td>\n",
              "      <td>4</td>\n",
              "      <td>Positive</td>\n",
              "      <td>en</td>\n",
              "      <td>1361</td>\n",
              "    </tr>\n",
              "    <tr>\n",
              "      <th>1031</th>\n",
              "      <td>The course is ok. But we need really less lect...</td>\n",
              "      <td>4</td>\n",
              "      <td>Positive</td>\n",
              "      <td>en</td>\n",
              "      <td>1032</td>\n",
              "    </tr>\n",
              "    <tr>\n",
              "      <th>1491</th>\n",
              "      <td>Especially the fourth week was very informativ...</td>\n",
              "      <td>4</td>\n",
              "      <td>Positive</td>\n",
              "      <td>en</td>\n",
              "      <td>1492</td>\n",
              "    </tr>\n",
              "    <tr>\n",
              "      <th>1547</th>\n",
              "      <td>This is excellent training for the person who ...</td>\n",
              "      <td>4</td>\n",
              "      <td>Positive</td>\n",
              "      <td>en</td>\n",
              "      <td>1548</td>\n",
              "    </tr>\n",
              "    <tr>\n",
              "      <th>1513</th>\n",
              "      <td>Great course! The material is presented in a l...</td>\n",
              "      <td>4</td>\n",
              "      <td>Positive</td>\n",
              "      <td>en</td>\n",
              "      <td>1514</td>\n",
              "    </tr>\n",
              "    <tr>\n",
              "      <th>1131</th>\n",
              "      <td>Valuable and useful info for aspiring business...</td>\n",
              "      <td>4</td>\n",
              "      <td>Positive</td>\n",
              "      <td>en</td>\n",
              "      <td>1132</td>\n",
              "    </tr>\n",
              "    <tr>\n",
              "      <th>907</th>\n",
              "      <td>The lectures will not get you near the underst...</td>\n",
              "      <td>4</td>\n",
              "      <td>Positive</td>\n",
              "      <td>en</td>\n",
              "      <td>908</td>\n",
              "    </tr>\n",
              "    <tr>\n",
              "      <th>1562</th>\n",
              "      <td>this course is good . thank you for this infor...</td>\n",
              "      <td>4</td>\n",
              "      <td>Positive</td>\n",
              "      <td>en</td>\n",
              "      <td>1563</td>\n",
              "    </tr>\n",
              "    <tr>\n",
              "      <th>2410</th>\n",
              "      <td>Not very much in depth and does not offer comp...</td>\n",
              "      <td>2</td>\n",
              "      <td>Negative</td>\n",
              "      <td>en</td>\n",
              "      <td>2411</td>\n",
              "    </tr>\n",
              "    <tr>\n",
              "      <th>1983</th>\n",
              "      <td>Feedback in assignment is not good enough.For ...</td>\n",
              "      <td>2</td>\n",
              "      <td>Negative</td>\n",
              "      <td>en</td>\n",
              "      <td>1984</td>\n",
              "    </tr>\n",
              "    <tr>\n",
              "      <th>1783</th>\n",
              "      <td>This course is doable if you have prior knowle...</td>\n",
              "      <td>2</td>\n",
              "      <td>Negative</td>\n",
              "      <td>en</td>\n",
              "      <td>1784</td>\n",
              "    </tr>\n",
              "    <tr>\n",
              "      <th>1948</th>\n",
              "      <td>Too many errors in the graded assignments.</td>\n",
              "      <td>2</td>\n",
              "      <td>Negative</td>\n",
              "      <td>en</td>\n",
              "      <td>1949</td>\n",
              "    </tr>\n",
              "    <tr>\n",
              "      <th>1979</th>\n",
              "      <td>Algorithmic Toolbox consists of a series of sl...</td>\n",
              "      <td>2</td>\n",
              "      <td>Negative</td>\n",
              "      <td>en</td>\n",
              "      <td>1980</td>\n",
              "    </tr>\n",
              "    <tr>\n",
              "      <th>871</th>\n",
              "      <td>The professor is reading long texts. It is not...</td>\n",
              "      <td>2</td>\n",
              "      <td>Negative</td>\n",
              "      <td>en</td>\n",
              "      <td>872</td>\n",
              "    </tr>\n",
              "    <tr>\n",
              "      <th>2493</th>\n",
              "      <td>Very basic course, I was able to complete the ...</td>\n",
              "      <td>2</td>\n",
              "      <td>Negative</td>\n",
              "      <td>en</td>\n",
              "      <td>2494</td>\n",
              "    </tr>\n",
              "    <tr>\n",
              "      <th>2348</th>\n",
              "      <td>Explanation of concept was poor</td>\n",
              "      <td>2</td>\n",
              "      <td>Negative</td>\n",
              "      <td>en</td>\n",
              "      <td>2349</td>\n",
              "    </tr>\n",
              "    <tr>\n",
              "      <th>2272</th>\n",
              "      <td>More challenging questions expected.</td>\n",
              "      <td>2</td>\n",
              "      <td>Negative</td>\n",
              "      <td>en</td>\n",
              "      <td>2273</td>\n",
              "    </tr>\n",
              "    <tr>\n",
              "      <th>2457</th>\n",
              "      <td>No useful info for me</td>\n",
              "      <td>2</td>\n",
              "      <td>Negative</td>\n",
              "      <td>en</td>\n",
              "      <td>2458</td>\n",
              "    </tr>\n",
              "    <tr>\n",
              "      <th>67</th>\n",
              "      <td>This session was too long and a little boring....</td>\n",
              "      <td>3</td>\n",
              "      <td>Neutral</td>\n",
              "      <td>en</td>\n",
              "      <td>68</td>\n",
              "    </tr>\n",
              "    <tr>\n",
              "      <th>2284</th>\n",
              "      <td>Felt that it could have more writing exercises.</td>\n",
              "      <td>3</td>\n",
              "      <td>Neutral</td>\n",
              "      <td>en</td>\n",
              "      <td>2285</td>\n",
              "    </tr>\n",
              "    <tr>\n",
              "      <th>1246</th>\n",
              "      <td>I found the lectures marginally useful. The in...</td>\n",
              "      <td>3</td>\n",
              "      <td>Neutral</td>\n",
              "      <td>en</td>\n",
              "      <td>1247</td>\n",
              "    </tr>\n",
              "    <tr>\n",
              "      <th>1507</th>\n",
              "      <td>Well structured courseCourse material download...</td>\n",
              "      <td>3</td>\n",
              "      <td>Neutral</td>\n",
              "      <td>en</td>\n",
              "      <td>1508</td>\n",
              "    </tr>\n",
              "    <tr>\n",
              "      <th>1639</th>\n",
              "      <td>I was able to grasp the overview of the course...</td>\n",
              "      <td>3</td>\n",
              "      <td>Neutral</td>\n",
              "      <td>en</td>\n",
              "      <td>1640</td>\n",
              "    </tr>\n",
              "    <tr>\n",
              "      <th>1270</th>\n",
              "      <td>The course structure was well formatted. The o...</td>\n",
              "      <td>3</td>\n",
              "      <td>Neutral</td>\n",
              "      <td>en</td>\n",
              "      <td>1271</td>\n",
              "    </tr>\n",
              "    <tr>\n",
              "      <th>2306</th>\n",
              "      <td>The many errors in the quizzes and the basic s...</td>\n",
              "      <td>3</td>\n",
              "      <td>Neutral</td>\n",
              "      <td>en</td>\n",
              "      <td>2307</td>\n",
              "    </tr>\n",
              "    <tr>\n",
              "      <th>1778</th>\n",
              "      <td>Not enough practices for the unexperienced stu...</td>\n",
              "      <td>3</td>\n",
              "      <td>Neutral</td>\n",
              "      <td>en</td>\n",
              "      <td>1779</td>\n",
              "    </tr>\n",
              "    <tr>\n",
              "      <th>1355</th>\n",
              "      <td>Maybe because I am a med graduate already I ex...</td>\n",
              "      <td>3</td>\n",
              "      <td>Neutral</td>\n",
              "      <td>en</td>\n",
              "      <td>1356</td>\n",
              "    </tr>\n",
              "    <tr>\n",
              "      <th>879</th>\n",
              "      <td>So far the topics are very interesting but the...</td>\n",
              "      <td>3</td>\n",
              "      <td>Neutral</td>\n",
              "      <td>en</td>\n",
              "      <td>880</td>\n",
              "    </tr>\n",
              "  </tbody>\n",
              "</table>\n",
              "</div>"
            ],
            "text/plain": [
              "                                                   text  Label  ... language    id\n",
              "1321  Great course, wish if it was focused more on t...      4  ...       en  1322\n",
              "1429  Nice course if anyone wants to learn Tableau. ...      4  ...       en  1430\n",
              "1360  A great insight into the addicted brain and wh...      4  ...       en  1361\n",
              "1031  The course is ok. But we need really less lect...      4  ...       en  1032\n",
              "1491  Especially the fourth week was very informativ...      4  ...       en  1492\n",
              "1547  This is excellent training for the person who ...      4  ...       en  1548\n",
              "1513  Great course! The material is presented in a l...      4  ...       en  1514\n",
              "1131  Valuable and useful info for aspiring business...      4  ...       en  1132\n",
              "907   The lectures will not get you near the underst...      4  ...       en   908\n",
              "1562  this course is good . thank you for this infor...      4  ...       en  1563\n",
              "2410  Not very much in depth and does not offer comp...      2  ...       en  2411\n",
              "1983  Feedback in assignment is not good enough.For ...      2  ...       en  1984\n",
              "1783  This course is doable if you have prior knowle...      2  ...       en  1784\n",
              "1948         Too many errors in the graded assignments.      2  ...       en  1949\n",
              "1979  Algorithmic Toolbox consists of a series of sl...      2  ...       en  1980\n",
              "871   The professor is reading long texts. It is not...      2  ...       en   872\n",
              "2493  Very basic course, I was able to complete the ...      2  ...       en  2494\n",
              "2348                    Explanation of concept was poor      2  ...       en  2349\n",
              "2272               More challenging questions expected.      2  ...       en  2273\n",
              "2457                              No useful info for me      2  ...       en  2458\n",
              "67    This session was too long and a little boring....      3  ...       en    68\n",
              "2284    Felt that it could have more writing exercises.      3  ...       en  2285\n",
              "1246  I found the lectures marginally useful. The in...      3  ...       en  1247\n",
              "1507  Well structured courseCourse material download...      3  ...       en  1508\n",
              "1639  I was able to grasp the overview of the course...      3  ...       en  1640\n",
              "1270  The course structure was well formatted. The o...      3  ...       en  1271\n",
              "2306  The many errors in the quizzes and the basic s...      3  ...       en  2307\n",
              "1778  Not enough practices for the unexperienced stu...      3  ...       en  1779\n",
              "1355  Maybe because I am a med graduate already I ex...      3  ...       en  1356\n",
              "879   So far the topics are very interesting but the...      3  ...       en   880\n",
              "\n",
              "[30 rows x 5 columns]"
            ]
          },
          "metadata": {
            "tags": []
          },
          "execution_count": 47
        }
      ]
    },
    {
      "cell_type": "code",
      "metadata": {
        "colab": {
          "base_uri": "https://localhost:8080/"
        },
        "id": "ZN7C8FSh2Xaz",
        "outputId": "3854cd71-fdc6-4f91-f2d5-967360de5d47"
      },
      "source": [
        "!pip install transformers\n",
        "from transformers import pipeline"
      ],
      "execution_count": null,
      "outputs": [
        {
          "output_type": "stream",
          "text": [
            "Requirement already satisfied: transformers in /usr/local/lib/python3.6/dist-packages (4.2.0)\n",
            "Requirement already satisfied: regex!=2019.12.17 in /usr/local/lib/python3.6/dist-packages (from transformers) (2019.12.20)\n",
            "Requirement already satisfied: tqdm>=4.27 in /usr/local/lib/python3.6/dist-packages (from transformers) (4.41.1)\n",
            "Requirement already satisfied: dataclasses; python_version < \"3.7\" in /usr/local/lib/python3.6/dist-packages (from transformers) (0.8)\n",
            "Requirement already satisfied: requests in /usr/local/lib/python3.6/dist-packages (from transformers) (2.23.0)\n",
            "Requirement already satisfied: tokenizers==0.9.4 in /usr/local/lib/python3.6/dist-packages (from transformers) (0.9.4)\n",
            "Requirement already satisfied: packaging in /usr/local/lib/python3.6/dist-packages (from transformers) (20.8)\n",
            "Requirement already satisfied: sacremoses in /usr/local/lib/python3.6/dist-packages (from transformers) (0.0.43)\n",
            "Requirement already satisfied: filelock in /usr/local/lib/python3.6/dist-packages (from transformers) (3.0.12)\n",
            "Requirement already satisfied: numpy in /usr/local/lib/python3.6/dist-packages (from transformers) (1.19.5)\n",
            "Requirement already satisfied: importlib-metadata; python_version < \"3.8\" in /usr/local/lib/python3.6/dist-packages (from transformers) (3.3.0)\n",
            "Requirement already satisfied: idna<3,>=2.5 in /usr/local/lib/python3.6/dist-packages (from requests->transformers) (2.10)\n",
            "Requirement already satisfied: chardet<4,>=3.0.2 in /usr/local/lib/python3.6/dist-packages (from requests->transformers) (3.0.4)\n",
            "Requirement already satisfied: certifi>=2017.4.17 in /usr/local/lib/python3.6/dist-packages (from requests->transformers) (2020.12.5)\n",
            "Requirement already satisfied: urllib3!=1.25.0,!=1.25.1,<1.26,>=1.21.1 in /usr/local/lib/python3.6/dist-packages (from requests->transformers) (1.24.3)\n",
            "Requirement already satisfied: pyparsing>=2.0.2 in /usr/local/lib/python3.6/dist-packages (from packaging->transformers) (2.4.7)\n",
            "Requirement already satisfied: click in /usr/local/lib/python3.6/dist-packages (from sacremoses->transformers) (7.1.2)\n",
            "Requirement already satisfied: joblib in /usr/local/lib/python3.6/dist-packages (from sacremoses->transformers) (1.0.0)\n",
            "Requirement already satisfied: six in /usr/local/lib/python3.6/dist-packages (from sacremoses->transformers) (1.15.0)\n",
            "Requirement already satisfied: typing-extensions>=3.6.4; python_version < \"3.8\" in /usr/local/lib/python3.6/dist-packages (from importlib-metadata; python_version < \"3.8\"->transformers) (3.7.4.3)\n",
            "Requirement already satisfied: zipp>=0.5 in /usr/local/lib/python3.6/dist-packages (from importlib-metadata; python_version < \"3.8\"->transformers) (3.4.0)\n"
          ],
          "name": "stdout"
        }
      ]
    },
    {
      "cell_type": "code",
      "metadata": {
        "id": "dqo19i-H124Z"
      },
      "source": [
        "namedEntityRecgnition = pipeline(\"ner\")"
      ],
      "execution_count": null,
      "outputs": []
    },
    {
      "cell_type": "code",
      "metadata": {
        "colab": {
          "base_uri": "https://localhost:8080/",
          "height": 355
        },
        "id": "jBD9kekMsMqk",
        "outputId": "f4e9fca6-53ff-444e-ad54-16264d212e27"
      },
      "source": [
        "new_df_p"
      ],
      "execution_count": null,
      "outputs": [
        {
          "output_type": "execute_result",
          "data": {
            "text/html": [
              "<div>\n",
              "<style scoped>\n",
              "    .dataframe tbody tr th:only-of-type {\n",
              "        vertical-align: middle;\n",
              "    }\n",
              "\n",
              "    .dataframe tbody tr th {\n",
              "        vertical-align: top;\n",
              "    }\n",
              "\n",
              "    .dataframe thead th {\n",
              "        text-align: right;\n",
              "    }\n",
              "</style>\n",
              "<table border=\"1\" class=\"dataframe\">\n",
              "  <thead>\n",
              "    <tr style=\"text-align: right;\">\n",
              "      <th></th>\n",
              "      <th>text</th>\n",
              "      <th>Label</th>\n",
              "      <th>Label_Name</th>\n",
              "      <th>language</th>\n",
              "      <th>id</th>\n",
              "    </tr>\n",
              "  </thead>\n",
              "  <tbody>\n",
              "    <tr>\n",
              "      <th>1321</th>\n",
              "      <td>Great course, wish if it was focused more on t...</td>\n",
              "      <td>4</td>\n",
              "      <td>Positive</td>\n",
              "      <td>en</td>\n",
              "      <td>1322</td>\n",
              "    </tr>\n",
              "    <tr>\n",
              "      <th>1429</th>\n",
              "      <td>Nice course if anyone wants to learn Tableau. ...</td>\n",
              "      <td>4</td>\n",
              "      <td>Positive</td>\n",
              "      <td>en</td>\n",
              "      <td>1430</td>\n",
              "    </tr>\n",
              "    <tr>\n",
              "      <th>1360</th>\n",
              "      <td>A great insight into the addicted brain and wh...</td>\n",
              "      <td>4</td>\n",
              "      <td>Positive</td>\n",
              "      <td>en</td>\n",
              "      <td>1361</td>\n",
              "    </tr>\n",
              "    <tr>\n",
              "      <th>1031</th>\n",
              "      <td>The course is ok. But we need really less lect...</td>\n",
              "      <td>4</td>\n",
              "      <td>Positive</td>\n",
              "      <td>en</td>\n",
              "      <td>1032</td>\n",
              "    </tr>\n",
              "    <tr>\n",
              "      <th>1491</th>\n",
              "      <td>Especially the fourth week was very informativ...</td>\n",
              "      <td>4</td>\n",
              "      <td>Positive</td>\n",
              "      <td>en</td>\n",
              "      <td>1492</td>\n",
              "    </tr>\n",
              "    <tr>\n",
              "      <th>1547</th>\n",
              "      <td>This is excellent training for the person who ...</td>\n",
              "      <td>4</td>\n",
              "      <td>Positive</td>\n",
              "      <td>en</td>\n",
              "      <td>1548</td>\n",
              "    </tr>\n",
              "    <tr>\n",
              "      <th>1513</th>\n",
              "      <td>Great course! The material is presented in a l...</td>\n",
              "      <td>4</td>\n",
              "      <td>Positive</td>\n",
              "      <td>en</td>\n",
              "      <td>1514</td>\n",
              "    </tr>\n",
              "    <tr>\n",
              "      <th>1131</th>\n",
              "      <td>Valuable and useful info for aspiring business...</td>\n",
              "      <td>4</td>\n",
              "      <td>Positive</td>\n",
              "      <td>en</td>\n",
              "      <td>1132</td>\n",
              "    </tr>\n",
              "    <tr>\n",
              "      <th>907</th>\n",
              "      <td>The lectures will not get you near the underst...</td>\n",
              "      <td>4</td>\n",
              "      <td>Positive</td>\n",
              "      <td>en</td>\n",
              "      <td>908</td>\n",
              "    </tr>\n",
              "    <tr>\n",
              "      <th>1562</th>\n",
              "      <td>this course is good . thank you for this infor...</td>\n",
              "      <td>4</td>\n",
              "      <td>Positive</td>\n",
              "      <td>en</td>\n",
              "      <td>1563</td>\n",
              "    </tr>\n",
              "  </tbody>\n",
              "</table>\n",
              "</div>"
            ],
            "text/plain": [
              "                                                   text  Label  ... language    id\n",
              "1321  Great course, wish if it was focused more on t...      4  ...       en  1322\n",
              "1429  Nice course if anyone wants to learn Tableau. ...      4  ...       en  1430\n",
              "1360  A great insight into the addicted brain and wh...      4  ...       en  1361\n",
              "1031  The course is ok. But we need really less lect...      4  ...       en  1032\n",
              "1491  Especially the fourth week was very informativ...      4  ...       en  1492\n",
              "1547  This is excellent training for the person who ...      4  ...       en  1548\n",
              "1513  Great course! The material is presented in a l...      4  ...       en  1514\n",
              "1131  Valuable and useful info for aspiring business...      4  ...       en  1132\n",
              "907   The lectures will not get you near the underst...      4  ...       en   908\n",
              "1562  this course is good . thank you for this infor...      4  ...       en  1563\n",
              "\n",
              "[10 rows x 5 columns]"
            ]
          },
          "metadata": {
            "tags": []
          },
          "execution_count": 50
        }
      ]
    },
    {
      "cell_type": "code",
      "metadata": {
        "id": "XUxpBwUaWr9J"
      },
      "source": [
        "input1=df['text']\n",
        "\n",
        "input1.drop(columns=['Id'],inplace=True)"
      ],
      "execution_count": null,
      "outputs": []
    },
    {
      "cell_type": "code",
      "metadata": {
        "colab": {
          "base_uri": "https://localhost:8080/"
        },
        "id": "sEF9yFGHTbMi",
        "outputId": "92761363-8132-420d-8d77-5fb6c36cb359"
      },
      "source": [
        "input1"
      ],
      "execution_count": null,
      "outputs": [
        {
          "output_type": "execute_result",
          "data": {
            "text/plain": [
              "0                                    good and interesting\n",
              "1       This class is very helpful to me. Currently, I...\n",
              "2       like!Prof and TAs are helpful and the discussi...\n",
              "3       Easy to follow and includes a lot basic and im...\n",
              "4       Really nice teacher!I could got the point eazl...\n",
              "                              ...                        \n",
              "2495    This is really bad structured. As analogy - im...\n",
              "2496                                           Too basic!\n",
              "2497    This module is just enough material for 1 or 2...\n",
              "2498    Only informative. Not worth it outside the spe...\n",
              "2499    I mean, it's replicated in the next classes, a...\n",
              "Name: text, Length: 2500, dtype: object"
            ]
          },
          "metadata": {
            "tags": []
          },
          "execution_count": 52
        }
      ]
    },
    {
      "cell_type": "code",
      "metadata": {
        "id": "lx0Z3DR0qbCG"
      },
      "source": [
        "input=input1.sample(n=9)"
      ],
      "execution_count": null,
      "outputs": []
    },
    {
      "cell_type": "code",
      "metadata": {
        "id": "5xeAqb2iXdEU"
      },
      "source": [
        ""
      ],
      "execution_count": null,
      "outputs": []
    },
    {
      "cell_type": "code",
      "metadata": {
        "id": "ttwhITTvarqW"
      },
      "source": [
        "review=list(input)\n",
        "review\n",
        "sequence = \"Hugging Face Inc. is a company based in New York City. Its headquarters are in DUMBO, therefore very\""
      ],
      "execution_count": null,
      "outputs": []
    },
    {
      "cell_type": "code",
      "metadata": {
        "colab": {
          "base_uri": "https://localhost:8080/"
        },
        "id": "FUW_yZ4CWpqV",
        "outputId": "a78711ff-0bf3-4536-cb91-a1c58a232b11"
      },
      "source": [
        "\n",
        "namedEntityRecgnition(sequence)"
      ],
      "execution_count": null,
      "outputs": [
        {
          "output_type": "execute_result",
          "data": {
            "text/plain": [
              "[{'end': 2,\n",
              "  'entity': 'I-ORG',\n",
              "  'index': 1,\n",
              "  'score': 0.9994447827339172,\n",
              "  'start': 0,\n",
              "  'word': 'Hu'},\n",
              " {'end': 7,\n",
              "  'entity': 'I-ORG',\n",
              "  'index': 2,\n",
              "  'score': 0.9861957430839539,\n",
              "  'start': 2,\n",
              "  'word': '##gging'},\n",
              " {'end': 12,\n",
              "  'entity': 'I-ORG',\n",
              "  'index': 3,\n",
              "  'score': 0.9972789287567139,\n",
              "  'start': 8,\n",
              "  'word': 'Face'},\n",
              " {'end': 16,\n",
              "  'entity': 'I-ORG',\n",
              "  'index': 4,\n",
              "  'score': 0.9994235634803772,\n",
              "  'start': 13,\n",
              "  'word': 'Inc'},\n",
              " {'end': 43,\n",
              "  'entity': 'I-LOC',\n",
              "  'index': 11,\n",
              "  'score': 0.9992941617965698,\n",
              "  'start': 40,\n",
              "  'word': 'New'},\n",
              " {'end': 48,\n",
              "  'entity': 'I-LOC',\n",
              "  'index': 12,\n",
              "  'score': 0.9990782737731934,\n",
              "  'start': 44,\n",
              "  'word': 'York'},\n",
              " {'end': 53,\n",
              "  'entity': 'I-LOC',\n",
              "  'index': 13,\n",
              "  'score': 0.9993024468421936,\n",
              "  'start': 49,\n",
              "  'word': 'City'},\n",
              " {'end': 80,\n",
              "  'entity': 'I-LOC',\n",
              "  'index': 19,\n",
              "  'score': 0.9808968305587769,\n",
              "  'start': 79,\n",
              "  'word': 'D'},\n",
              " {'end': 82,\n",
              "  'entity': 'I-LOC',\n",
              "  'index': 20,\n",
              "  'score': 0.9226384162902832,\n",
              "  'start': 80,\n",
              "  'word': '##UM'},\n",
              " {'end': 84,\n",
              "  'entity': 'I-LOC',\n",
              "  'index': 21,\n",
              "  'score': 0.881007194519043,\n",
              "  'start': 82,\n",
              "  'word': '##BO'}]"
            ]
          },
          "metadata": {
            "tags": []
          },
          "execution_count": 55
        }
      ]
    },
    {
      "cell_type": "code",
      "metadata": {
        "id": "55xNcfJoYKQg"
      },
      "source": [
        "text=list(input)"
      ],
      "execution_count": null,
      "outputs": []
    },
    {
      "cell_type": "code",
      "metadata": {
        "id": "qxOueJePnqz-"
      },
      "source": [
        "\n",
        "#input.iloc[5:10]"
      ],
      "execution_count": null,
      "outputs": []
    },
    {
      "cell_type": "code",
      "metadata": {
        "id": "MLeW6_T4oHPi"
      },
      "source": [
        ""
      ],
      "execution_count": null,
      "outputs": []
    },
    {
      "cell_type": "code",
      "metadata": {
        "id": "tWTKgSqhW9Eq"
      },
      "source": [
        "input_json=input.to_json(orient=\"values\") "
      ],
      "execution_count": null,
      "outputs": []
    },
    {
      "cell_type": "code",
      "metadata": {
        "id": "plxT6G9CXLX1"
      },
      "source": [
        "import json\n",
        "#parsed = json.loads(input_json)"
      ],
      "execution_count": null,
      "outputs": []
    },
    {
      "cell_type": "code",
      "metadata": {
        "id": "9HsAisHVXq_F"
      },
      "source": [
        "#print(parsed)"
      ],
      "execution_count": null,
      "outputs": []
    },
    {
      "cell_type": "code",
      "metadata": {
        "id": "mW1aOgsuXeeP"
      },
      "source": [
        "def entity_recognition_json(client,data):\n",
        "\n",
        "    try:\n",
        "        documents = data\n",
        "        for i in range(5):\n",
        "          result = client.recognize_entities(documents = documents)[i]\n",
        "\n",
        "          \n",
        "          print(\"\\n Document : \",text[i],\"\\n\")\n",
        "          print(\"Named Entities:\\n\")\n",
        "          for entity in result.entities:\n",
        "              print(\"\\tText: \\t\", entity.text, \"\\tCategory: \\t\", entity.category, \"\\tSubCategory: \\t\", entity.subcategory,\n",
        "                      \"\\n\\tConfidence Score: \\t\", round(entity.confidence_score, 2), \"\\n\")\n",
        "\n",
        "    except Exception as err:\n",
        "        print(\"Encountered exception. {}\".format(err))\n",
        "#entity_recognition_json(client)"
      ],
      "execution_count": null,
      "outputs": []
    },
    {
      "cell_type": "code",
      "metadata": {
        "id": "KMZAFC8BPrWY"
      },
      "source": [
        "def sentiment_analysis_example(client,data):\n",
        "\n",
        "    documents = data\n",
        "    for i in range(10):\n",
        "      response = client.analyze_sentiment(documents = documents)[i]\n",
        "    print(\"Document Sentiment: {}\".format(response.sentiment))\n",
        "    print(\"Overall scores: positive={0:.2f}; neutral={1:.2f}; negative={2:.2f} \\n\".format(\n",
        "        response.confidence_scores.positive,\n",
        "        response.confidence_scores.neutral,\n",
        "        response.confidence_scores.negative,\n",
        "    ))\n",
        "    for idx, sentence in enumerate(response.sentences):\n",
        "        print(\"Sentence: {}\".format(sentence.text))\n",
        "        print(\"Sentence {} sentiment: {}\".format(idx+1, sentence.sentiment))\n",
        "        print(\"Sentence score:\\nPositive={0:.2f}\\nNeutral={1:.2f}\\nNegative={2:.2f}\\n\".format(\n",
        "            sentence.confidence_scores.positive,\n",
        "            sentence.confidence_scores.neutral,\n",
        "            sentence.confidence_scores.negative,\n",
        "        ))\n",
        "          \n"
      ],
      "execution_count": null,
      "outputs": []
    },
    {
      "cell_type": "code",
      "metadata": {
        "colab": {
          "base_uri": "https://localhost:8080/",
          "height": 311
        },
        "id": "sn-5j6G_cx3G",
        "outputId": "8bf66545-614c-4e2e-c361-ad6605bd4b6e"
      },
      "source": [
        "sentiment_analysis_example(client,sequence)"
      ],
      "execution_count": null,
      "outputs": [
        {
          "output_type": "error",
          "ename": "TypeError",
          "evalue": "ignored",
          "traceback": [
            "\u001b[0;31m---------------------------------------------------------------------------\u001b[0m",
            "\u001b[0;31mTypeError\u001b[0m                                 Traceback (most recent call last)",
            "\u001b[0;32m<ipython-input-63-68bb6969240c>\u001b[0m in \u001b[0;36m<module>\u001b[0;34m()\u001b[0m\n\u001b[0;32m----> 1\u001b[0;31m \u001b[0msentiment_analysis_example\u001b[0m\u001b[0;34m(\u001b[0m\u001b[0mclient\u001b[0m\u001b[0;34m,\u001b[0m\u001b[0msequence\u001b[0m\u001b[0;34m)\u001b[0m\u001b[0;34m\u001b[0m\u001b[0;34m\u001b[0m\u001b[0m\n\u001b[0m",
            "\u001b[0;32m<ipython-input-62-130a2a9c078d>\u001b[0m in \u001b[0;36msentiment_analysis_example\u001b[0;34m(client, data)\u001b[0m\n\u001b[1;32m      3\u001b[0m     \u001b[0mdocuments\u001b[0m \u001b[0;34m=\u001b[0m \u001b[0mdata\u001b[0m\u001b[0;34m\u001b[0m\u001b[0;34m\u001b[0m\u001b[0m\n\u001b[1;32m      4\u001b[0m     \u001b[0;32mfor\u001b[0m \u001b[0mi\u001b[0m \u001b[0;32min\u001b[0m \u001b[0mrange\u001b[0m\u001b[0;34m(\u001b[0m\u001b[0;36m10\u001b[0m\u001b[0;34m)\u001b[0m\u001b[0;34m:\u001b[0m\u001b[0;34m\u001b[0m\u001b[0;34m\u001b[0m\u001b[0m\n\u001b[0;32m----> 5\u001b[0;31m       \u001b[0mresponse\u001b[0m \u001b[0;34m=\u001b[0m \u001b[0mclient\u001b[0m\u001b[0;34m.\u001b[0m\u001b[0manalyze_sentiment\u001b[0m\u001b[0;34m(\u001b[0m\u001b[0mdocuments\u001b[0m \u001b[0;34m=\u001b[0m \u001b[0mdocuments\u001b[0m\u001b[0;34m)\u001b[0m\u001b[0;34m[\u001b[0m\u001b[0mi\u001b[0m\u001b[0;34m]\u001b[0m\u001b[0;34m\u001b[0m\u001b[0;34m\u001b[0m\u001b[0m\n\u001b[0m\u001b[1;32m      6\u001b[0m     \u001b[0mprint\u001b[0m\u001b[0;34m(\u001b[0m\u001b[0;34m\"Document Sentiment: {}\"\u001b[0m\u001b[0;34m.\u001b[0m\u001b[0mformat\u001b[0m\u001b[0;34m(\u001b[0m\u001b[0mresponse\u001b[0m\u001b[0;34m.\u001b[0m\u001b[0msentiment\u001b[0m\u001b[0;34m)\u001b[0m\u001b[0;34m)\u001b[0m\u001b[0;34m\u001b[0m\u001b[0;34m\u001b[0m\u001b[0m\n\u001b[1;32m      7\u001b[0m     print(\"Overall scores: positive={0:.2f}; neutral={1:.2f}; negative={2:.2f} \\n\".format(\n",
            "\u001b[0;32m/usr/local/lib/python3.6/dist-packages/azure/core/tracing/decorator.py\u001b[0m in \u001b[0;36mwrapper_use_tracer\u001b[0;34m(*args, **kwargs)\u001b[0m\n\u001b[1;32m     81\u001b[0m             \u001b[0mspan_impl_type\u001b[0m \u001b[0;34m=\u001b[0m \u001b[0msettings\u001b[0m\u001b[0;34m.\u001b[0m\u001b[0mtracing_implementation\u001b[0m\u001b[0;34m(\u001b[0m\u001b[0;34m)\u001b[0m\u001b[0;34m\u001b[0m\u001b[0;34m\u001b[0m\u001b[0m\n\u001b[1;32m     82\u001b[0m             \u001b[0;32mif\u001b[0m \u001b[0mspan_impl_type\u001b[0m \u001b[0;32mis\u001b[0m \u001b[0;32mNone\u001b[0m\u001b[0;34m:\u001b[0m\u001b[0;34m\u001b[0m\u001b[0;34m\u001b[0m\u001b[0m\n\u001b[0;32m---> 83\u001b[0;31m                 \u001b[0;32mreturn\u001b[0m \u001b[0mfunc\u001b[0m\u001b[0;34m(\u001b[0m\u001b[0;34m*\u001b[0m\u001b[0margs\u001b[0m\u001b[0;34m,\u001b[0m \u001b[0;34m**\u001b[0m\u001b[0mkwargs\u001b[0m\u001b[0;34m)\u001b[0m\u001b[0;34m\u001b[0m\u001b[0;34m\u001b[0m\u001b[0m\n\u001b[0m\u001b[1;32m     84\u001b[0m \u001b[0;34m\u001b[0m\u001b[0m\n\u001b[1;32m     85\u001b[0m             \u001b[0;31m# Merge span is parameter is set, but only if no explicit parent are passed\u001b[0m\u001b[0;34m\u001b[0m\u001b[0;34m\u001b[0m\u001b[0;34m\u001b[0m\u001b[0m\n",
            "\u001b[0;32m/usr/local/lib/python3.6/dist-packages/azure/ai/textanalytics/_text_analytics_client.py\u001b[0m in \u001b[0;36manalyze_sentiment\u001b[0;34m(self, documents, **kwargs)\u001b[0m\n\u001b[1;32m    647\u001b[0m         \u001b[0mlanguage_arg\u001b[0m \u001b[0;34m=\u001b[0m \u001b[0mkwargs\u001b[0m\u001b[0;34m.\u001b[0m\u001b[0mpop\u001b[0m\u001b[0;34m(\u001b[0m\u001b[0;34m\"language\"\u001b[0m\u001b[0;34m,\u001b[0m \u001b[0;32mNone\u001b[0m\u001b[0;34m)\u001b[0m\u001b[0;34m\u001b[0m\u001b[0;34m\u001b[0m\u001b[0m\n\u001b[1;32m    648\u001b[0m         \u001b[0mlanguage\u001b[0m \u001b[0;34m=\u001b[0m \u001b[0mlanguage_arg\u001b[0m \u001b[0;32mif\u001b[0m \u001b[0mlanguage_arg\u001b[0m \u001b[0;32mis\u001b[0m \u001b[0;32mnot\u001b[0m \u001b[0;32mNone\u001b[0m \u001b[0;32melse\u001b[0m \u001b[0mself\u001b[0m\u001b[0;34m.\u001b[0m\u001b[0m_default_language\u001b[0m\u001b[0;34m\u001b[0m\u001b[0;34m\u001b[0m\u001b[0m\n\u001b[0;32m--> 649\u001b[0;31m         \u001b[0mdocs\u001b[0m \u001b[0;34m=\u001b[0m \u001b[0m_validate_input\u001b[0m\u001b[0;34m(\u001b[0m\u001b[0mdocuments\u001b[0m\u001b[0;34m,\u001b[0m \u001b[0;34m\"language\"\u001b[0m\u001b[0;34m,\u001b[0m \u001b[0mlanguage\u001b[0m\u001b[0;34m)\u001b[0m\u001b[0;34m\u001b[0m\u001b[0;34m\u001b[0m\u001b[0m\n\u001b[0m\u001b[1;32m    650\u001b[0m         \u001b[0mmodel_version\u001b[0m \u001b[0;34m=\u001b[0m \u001b[0mkwargs\u001b[0m\u001b[0;34m.\u001b[0m\u001b[0mpop\u001b[0m\u001b[0;34m(\u001b[0m\u001b[0;34m\"model_version\"\u001b[0m\u001b[0;34m,\u001b[0m \u001b[0;32mNone\u001b[0m\u001b[0;34m)\u001b[0m\u001b[0;34m\u001b[0m\u001b[0;34m\u001b[0m\u001b[0m\n\u001b[1;32m    651\u001b[0m         \u001b[0mshow_stats\u001b[0m \u001b[0;34m=\u001b[0m \u001b[0mkwargs\u001b[0m\u001b[0;34m.\u001b[0m\u001b[0mpop\u001b[0m\u001b[0;34m(\u001b[0m\u001b[0;34m\"show_stats\"\u001b[0m\u001b[0;34m,\u001b[0m \u001b[0;32mFalse\u001b[0m\u001b[0;34m)\u001b[0m\u001b[0;34m\u001b[0m\u001b[0;34m\u001b[0m\u001b[0m\n",
            "\u001b[0;32m/usr/local/lib/python3.6/dist-packages/azure/ai/textanalytics/_request_handlers.py\u001b[0m in \u001b[0;36m_validate_input\u001b[0;34m(documents, hint, whole_input_hint)\u001b[0m\n\u001b[1;32m     27\u001b[0m \u001b[0;34m\u001b[0m\u001b[0m\n\u001b[1;32m     28\u001b[0m     \u001b[0;32mif\u001b[0m \u001b[0misinstance\u001b[0m\u001b[0;34m(\u001b[0m\u001b[0mdocuments\u001b[0m\u001b[0;34m,\u001b[0m \u001b[0msix\u001b[0m\u001b[0;34m.\u001b[0m\u001b[0mstring_types\u001b[0m\u001b[0;34m)\u001b[0m\u001b[0;34m:\u001b[0m\u001b[0;34m\u001b[0m\u001b[0;34m\u001b[0m\u001b[0m\n\u001b[0;32m---> 29\u001b[0;31m         \u001b[0;32mraise\u001b[0m \u001b[0mTypeError\u001b[0m\u001b[0;34m(\u001b[0m\u001b[0;34m\"Input documents cannot be a string.\"\u001b[0m\u001b[0;34m)\u001b[0m\u001b[0;34m\u001b[0m\u001b[0;34m\u001b[0m\u001b[0m\n\u001b[0m\u001b[1;32m     30\u001b[0m \u001b[0;34m\u001b[0m\u001b[0m\n\u001b[1;32m     31\u001b[0m     \u001b[0;32mif\u001b[0m \u001b[0misinstance\u001b[0m\u001b[0;34m(\u001b[0m\u001b[0mdocuments\u001b[0m\u001b[0;34m,\u001b[0m \u001b[0mdict\u001b[0m\u001b[0;34m)\u001b[0m\u001b[0;34m:\u001b[0m\u001b[0;34m\u001b[0m\u001b[0;34m\u001b[0m\u001b[0m\n",
            "\u001b[0;31mTypeError\u001b[0m: Input documents cannot be a string."
          ]
        }
      ]
    },
    {
      "cell_type": "code",
      "metadata": {
        "colab": {
          "base_uri": "https://localhost:8080/",
          "height": 1000
        },
        "id": "tgK7jX22oJi3",
        "outputId": "228a3948-acad-4439-a3c5-1078f4eb41b2"
      },
      "source": [
        "import json\n",
        "length=len(input.index)\n",
        "for j in range(length):\n",
        "  batch=input.iloc[j:j+5]\n",
        "  j+=5\n",
        "  text=list(batch)\n",
        "  batch_json=batch.to_json(orient=\"values\")\n",
        "  parsed = json.loads(batch_json)\n",
        "  entity_recognition_json(client,parsed) \n",
        "\n"
      ],
      "execution_count": null,
      "outputs": [
        {
          "output_type": "stream",
          "text": [
            "\n",
            " Document :  Excellent course, professor tobias teachs so good! \n",
            "\n",
            "Named Entities:\n",
            "\n",
            "\tText: \t professor \tCategory: \t PersonType \tSubCategory: \t None \n",
            "\tConfidence Score: \t 0.65 \n",
            "\n",
            "\tText: \t tobias teachs \tCategory: \t Person \tSubCategory: \t None \n",
            "\tConfidence Score: \t 0.58 \n",
            "\n",
            "\n",
            " Document :  iam soooo happy to joined to this course which help me to evaluate my skills and increase it \n",
            "\n",
            "Named Entities:\n",
            "\n",
            "\tText: \t iam soooo \tCategory: \t Person \tSubCategory: \t None \n",
            "\tConfidence Score: \t 0.59 \n",
            "\n",
            "\n",
            " Document :  Such lame quizes, I cannot pass them although I know this material in my sleep,because the english is so bad and has so many ambiguities; There are no single answers to a question, instead you need the check the correct answers, which are phrased in s misleading way, and one little mistake fails the whole question. So I try and try and try and never get all the correct checks for the specific questions. So I just fail and retry and fail and retry. This is so frustrating I consider I will unroll this course. Same because I know all this material !!!! \n",
            "\n",
            "Named Entities:\n",
            "\n",
            "\tText: \t english \tCategory: \t Skill \tSubCategory: \t None \n",
            "\tConfidence Score: \t 0.8 \n",
            "\n",
            "\tText: \t one \tCategory: \t Quantity \tSubCategory: \t Number \n",
            "\tConfidence Score: \t 0.8 \n",
            "\n",
            "\n",
            " Document :  This course has relatively few instructions about homework. I believe more test cases would be better.(Though able to be found in forum.) Besides, lecture is really awesome. Thanks a lot. \n",
            "\n",
            "Named Entities:\n",
            "\n",
            "\tText: \t test cases \tCategory: \t Skill \tSubCategory: \t None \n",
            "\tConfidence Score: \t 0.8 \n",
            "\n",
            "\tText: \t lecture \tCategory: \t Skill \tSubCategory: \t None \n",
            "\tConfidence Score: \t 0.8 \n",
            "\n",
            "\n",
            " Document :  The course is good. I just do not give five stars because we have to pay to atempt pass. \n",
            "\n",
            "Named Entities:\n",
            "\n",
            "\tText: \t five \tCategory: \t Quantity \tSubCategory: \t Number \n",
            "\tConfidence Score: \t 0.8 \n",
            "\n",
            "\tText: \t stars \tCategory: \t PersonType \tSubCategory: \t None \n",
            "\tConfidence Score: \t 0.32 \n",
            "\n",
            "\n",
            " Document :  iam soooo happy to joined to this course which help me to evaluate my skills and increase it \n",
            "\n",
            "Named Entities:\n",
            "\n",
            "\tText: \t iam soooo \tCategory: \t Person \tSubCategory: \t None \n",
            "\tConfidence Score: \t 0.59 \n",
            "\n",
            "\n",
            " Document :  Such lame quizes, I cannot pass them although I know this material in my sleep,because the english is so bad and has so many ambiguities; There are no single answers to a question, instead you need the check the correct answers, which are phrased in s misleading way, and one little mistake fails the whole question. So I try and try and try and never get all the correct checks for the specific questions. So I just fail and retry and fail and retry. This is so frustrating I consider I will unroll this course. Same because I know all this material !!!! \n",
            "\n",
            "Named Entities:\n",
            "\n",
            "\tText: \t english \tCategory: \t Skill \tSubCategory: \t None \n",
            "\tConfidence Score: \t 0.8 \n",
            "\n",
            "\tText: \t one \tCategory: \t Quantity \tSubCategory: \t Number \n",
            "\tConfidence Score: \t 0.8 \n",
            "\n",
            "\n",
            " Document :  This course has relatively few instructions about homework. I believe more test cases would be better.(Though able to be found in forum.) Besides, lecture is really awesome. Thanks a lot. \n",
            "\n",
            "Named Entities:\n",
            "\n",
            "\tText: \t test cases \tCategory: \t Skill \tSubCategory: \t None \n",
            "\tConfidence Score: \t 0.8 \n",
            "\n",
            "\tText: \t lecture \tCategory: \t Skill \tSubCategory: \t None \n",
            "\tConfidence Score: \t 0.8 \n",
            "\n",
            "\n",
            " Document :  The course is good. I just do not give five stars because we have to pay to atempt pass. \n",
            "\n",
            "Named Entities:\n",
            "\n",
            "\tText: \t five \tCategory: \t Quantity \tSubCategory: \t Number \n",
            "\tConfidence Score: \t 0.8 \n",
            "\n",
            "\tText: \t stars \tCategory: \t PersonType \tSubCategory: \t None \n",
            "\tConfidence Score: \t 0.32 \n",
            "\n",
            "\n",
            " Document :  Great add-on to the first eddition of the course on Business Strategy. Congratulations to the Professor Tobias and his crew. \n",
            "\n",
            "Named Entities:\n",
            "\n",
            "\tText: \t first \tCategory: \t Quantity \tSubCategory: \t Ordinal \n",
            "\tConfidence Score: \t 0.8 \n",
            "\n",
            "\tText: \t Business Strategy \tCategory: \t Skill \tSubCategory: \t None \n",
            "\tConfidence Score: \t 0.8 \n",
            "\n",
            "\tText: \t Tobias \tCategory: \t Person \tSubCategory: \t None \n",
            "\tConfidence Score: \t 0.44 \n",
            "\n",
            "\tText: \t crew \tCategory: \t PersonType \tSubCategory: \t None \n",
            "\tConfidence Score: \t 0.55 \n",
            "\n",
            "\n",
            " Document :  Such lame quizes, I cannot pass them although I know this material in my sleep,because the english is so bad and has so many ambiguities; There are no single answers to a question, instead you need the check the correct answers, which are phrased in s misleading way, and one little mistake fails the whole question. So I try and try and try and never get all the correct checks for the specific questions. So I just fail and retry and fail and retry. This is so frustrating I consider I will unroll this course. Same because I know all this material !!!! \n",
            "\n",
            "Named Entities:\n",
            "\n",
            "\tText: \t english \tCategory: \t Skill \tSubCategory: \t None \n",
            "\tConfidence Score: \t 0.8 \n",
            "\n",
            "\tText: \t one \tCategory: \t Quantity \tSubCategory: \t Number \n",
            "\tConfidence Score: \t 0.8 \n",
            "\n",
            "\n",
            " Document :  This course has relatively few instructions about homework. I believe more test cases would be better.(Though able to be found in forum.) Besides, lecture is really awesome. Thanks a lot. \n",
            "\n",
            "Named Entities:\n",
            "\n",
            "\tText: \t test cases \tCategory: \t Skill \tSubCategory: \t None \n",
            "\tConfidence Score: \t 0.8 \n",
            "\n",
            "\tText: \t lecture \tCategory: \t Skill \tSubCategory: \t None \n",
            "\tConfidence Score: \t 0.8 \n",
            "\n",
            "\n",
            " Document :  The course is good. I just do not give five stars because we have to pay to atempt pass. \n",
            "\n",
            "Named Entities:\n",
            "\n",
            "\tText: \t five \tCategory: \t Quantity \tSubCategory: \t Number \n",
            "\tConfidence Score: \t 0.8 \n",
            "\n",
            "\tText: \t stars \tCategory: \t PersonType \tSubCategory: \t None \n",
            "\tConfidence Score: \t 0.32 \n",
            "\n",
            "\n",
            " Document :  Great add-on to the first eddition of the course on Business Strategy. Congratulations to the Professor Tobias and his crew. \n",
            "\n",
            "Named Entities:\n",
            "\n",
            "\tText: \t first \tCategory: \t Quantity \tSubCategory: \t Ordinal \n",
            "\tConfidence Score: \t 0.8 \n",
            "\n",
            "\tText: \t Business Strategy \tCategory: \t Skill \tSubCategory: \t None \n",
            "\tConfidence Score: \t 0.8 \n",
            "\n",
            "\tText: \t Tobias \tCategory: \t Person \tSubCategory: \t None \n",
            "\tConfidence Score: \t 0.44 \n",
            "\n",
            "\tText: \t crew \tCategory: \t PersonType \tSubCategory: \t None \n",
            "\tConfidence Score: \t 0.55 \n",
            "\n",
            "\n",
            " Document :  Would like to use the time to learn more machine learning/predictive technique, etc. \n",
            "\n",
            "Named Entities:\n",
            "\n",
            "\tText: \t machine learning \tCategory: \t Skill \tSubCategory: \t None \n",
            "\tConfidence Score: \t 0.8 \n",
            "\n",
            "\tText: \t predictive technique \tCategory: \t Skill \tSubCategory: \t None \n",
            "\tConfidence Score: \t 0.8 \n",
            "\n",
            "\n",
            " Document :  This course has relatively few instructions about homework. I believe more test cases would be better.(Though able to be found in forum.) Besides, lecture is really awesome. Thanks a lot. \n",
            "\n",
            "Named Entities:\n",
            "\n",
            "\tText: \t test cases \tCategory: \t Skill \tSubCategory: \t None \n",
            "\tConfidence Score: \t 0.8 \n",
            "\n",
            "\tText: \t lecture \tCategory: \t Skill \tSubCategory: \t None \n",
            "\tConfidence Score: \t 0.8 \n",
            "\n",
            "\n",
            " Document :  The course is good. I just do not give five stars because we have to pay to atempt pass. \n",
            "\n",
            "Named Entities:\n",
            "\n",
            "\tText: \t five \tCategory: \t Quantity \tSubCategory: \t Number \n",
            "\tConfidence Score: \t 0.8 \n",
            "\n",
            "\tText: \t stars \tCategory: \t PersonType \tSubCategory: \t None \n",
            "\tConfidence Score: \t 0.32 \n",
            "\n",
            "\n",
            " Document :  Great add-on to the first eddition of the course on Business Strategy. Congratulations to the Professor Tobias and his crew. \n",
            "\n",
            "Named Entities:\n",
            "\n",
            "\tText: \t first \tCategory: \t Quantity \tSubCategory: \t Ordinal \n",
            "\tConfidence Score: \t 0.8 \n",
            "\n",
            "\tText: \t Business Strategy \tCategory: \t Skill \tSubCategory: \t None \n",
            "\tConfidence Score: \t 0.8 \n",
            "\n",
            "\tText: \t Tobias \tCategory: \t Person \tSubCategory: \t None \n",
            "\tConfidence Score: \t 0.44 \n",
            "\n",
            "\tText: \t crew \tCategory: \t PersonType \tSubCategory: \t None \n",
            "\tConfidence Score: \t 0.55 \n",
            "\n",
            "\n",
            " Document :  Would like to use the time to learn more machine learning/predictive technique, etc. \n",
            "\n",
            "Named Entities:\n",
            "\n",
            "\tText: \t machine learning \tCategory: \t Skill \tSubCategory: \t None \n",
            "\tConfidence Score: \t 0.8 \n",
            "\n",
            "\tText: \t predictive technique \tCategory: \t Skill \tSubCategory: \t None \n",
            "\tConfidence Score: \t 0.8 \n",
            "\n",
            "\n",
            " Document :  Very clear and organized materials. \n",
            "\n",
            "Named Entities:\n",
            "\n",
            "\n",
            " Document :  The course is good. I just do not give five stars because we have to pay to atempt pass. \n",
            "\n",
            "Named Entities:\n",
            "\n",
            "\tText: \t five \tCategory: \t Quantity \tSubCategory: \t Number \n",
            "\tConfidence Score: \t 0.8 \n",
            "\n",
            "\tText: \t stars \tCategory: \t PersonType \tSubCategory: \t None \n",
            "\tConfidence Score: \t 0.32 \n",
            "\n",
            "\n",
            " Document :  Great add-on to the first eddition of the course on Business Strategy. Congratulations to the Professor Tobias and his crew. \n",
            "\n",
            "Named Entities:\n",
            "\n",
            "\tText: \t first \tCategory: \t Quantity \tSubCategory: \t Ordinal \n",
            "\tConfidence Score: \t 0.8 \n",
            "\n",
            "\tText: \t Business Strategy \tCategory: \t Skill \tSubCategory: \t None \n",
            "\tConfidence Score: \t 0.8 \n",
            "\n",
            "\tText: \t Tobias \tCategory: \t Person \tSubCategory: \t None \n",
            "\tConfidence Score: \t 0.44 \n",
            "\n",
            "\tText: \t crew \tCategory: \t PersonType \tSubCategory: \t None \n",
            "\tConfidence Score: \t 0.55 \n",
            "\n",
            "\n",
            " Document :  Would like to use the time to learn more machine learning/predictive technique, etc. \n",
            "\n",
            "Named Entities:\n",
            "\n",
            "\tText: \t machine learning \tCategory: \t Skill \tSubCategory: \t None \n",
            "\tConfidence Score: \t 0.8 \n",
            "\n",
            "\tText: \t predictive technique \tCategory: \t Skill \tSubCategory: \t None \n",
            "\tConfidence Score: \t 0.8 \n",
            "\n",
            "\n",
            " Document :  Very clear and organized materials. \n",
            "\n",
            "Named Entities:\n",
            "\n",
            "\n",
            " Document :  Brief, high-level ideas. Could use more specific examples. \n",
            "\n",
            "Named Entities:\n",
            "\n",
            "\n",
            " Document :  Great add-on to the first eddition of the course on Business Strategy. Congratulations to the Professor Tobias and his crew. \n",
            "\n",
            "Named Entities:\n",
            "\n",
            "\tText: \t first \tCategory: \t Quantity \tSubCategory: \t Ordinal \n",
            "\tConfidence Score: \t 0.8 \n",
            "\n",
            "\tText: \t Business Strategy \tCategory: \t Skill \tSubCategory: \t None \n",
            "\tConfidence Score: \t 0.8 \n",
            "\n",
            "\tText: \t Tobias \tCategory: \t Person \tSubCategory: \t None \n",
            "\tConfidence Score: \t 0.44 \n",
            "\n",
            "\tText: \t crew \tCategory: \t PersonType \tSubCategory: \t None \n",
            "\tConfidence Score: \t 0.55 \n",
            "\n",
            "\n",
            " Document :  Would like to use the time to learn more machine learning/predictive technique, etc. \n",
            "\n",
            "Named Entities:\n",
            "\n",
            "\tText: \t machine learning \tCategory: \t Skill \tSubCategory: \t None \n",
            "\tConfidence Score: \t 0.8 \n",
            "\n",
            "\tText: \t predictive technique \tCategory: \t Skill \tSubCategory: \t None \n",
            "\tConfidence Score: \t 0.8 \n",
            "\n",
            "\n",
            " Document :  Very clear and organized materials. \n",
            "\n",
            "Named Entities:\n",
            "\n",
            "\n",
            " Document :  Brief, high-level ideas. Could use more specific examples. \n",
            "\n",
            "Named Entities:\n",
            "\n",
            "\n",
            " Document :  clear and the examples are very useful! \n",
            "\n",
            "Named Entities:\n",
            "\n",
            "\n",
            " Document :  Would like to use the time to learn more machine learning/predictive technique, etc. \n",
            "\n",
            "Named Entities:\n",
            "\n",
            "\tText: \t machine learning \tCategory: \t Skill \tSubCategory: \t None \n",
            "\tConfidence Score: \t 0.8 \n",
            "\n",
            "\tText: \t predictive technique \tCategory: \t Skill \tSubCategory: \t None \n",
            "\tConfidence Score: \t 0.8 \n",
            "\n",
            "\n",
            " Document :  Very clear and organized materials. \n",
            "\n",
            "Named Entities:\n",
            "\n",
            "\n",
            " Document :  Brief, high-level ideas. Could use more specific examples. \n",
            "\n",
            "Named Entities:\n",
            "\n",
            "\n",
            " Document :  clear and the examples are very useful! \n",
            "\n",
            "Named Entities:\n",
            "\n",
            "\n",
            " Document :  Though at the start of the program indicates no prerequisite I would suggest that you be familiar with Algebra and Stats. Most videos are of Dr. Egger writing out algebraic equations and discussing them, the excel component of Mastering data in excel come via pre-made calculators as attachments that you for the most part need to figure out on your own.If you do not have a good comfort level with stats then you will require more time to spend on understanding the spreadsheet and it’s use.It would be fantastic if Dr Egger could go through the spreadsheets as a part of the video and show a couple examples, hopefully revisions down the road !It was challenging but not impossible, and if you do not challenge yourself how much are you really learning?Best of luck! \n",
            "\n",
            "Named Entities:\n",
            "\n",
            "\tText: \t Algebra \tCategory: \t Skill \tSubCategory: \t None \n",
            "\tConfidence Score: \t 0.8 \n",
            "\n",
            "\tText: \t Algebra \tCategory: \t Person \tSubCategory: \t None \n",
            "\tConfidence Score: \t 0.3 \n",
            "\n",
            "\tText: \t Egger \tCategory: \t Person \tSubCategory: \t None \n",
            "\tConfidence Score: \t 0.46 \n",
            "\n",
            "\tText: \t algebraic equations \tCategory: \t Skill \tSubCategory: \t None \n",
            "\tConfidence Score: \t 0.8 \n",
            "\n",
            "\tText: \t data \tCategory: \t Skill \tSubCategory: \t None \n",
            "\tConfidence Score: \t 0.8 \n",
            "\n",
            "\tText: \t spreadsheet \tCategory: \t Skill \tSubCategory: \t None \n",
            "\tConfidence Score: \t 0.8 \n",
            "\n",
            "\tText: \t Egger \tCategory: \t Person \tSubCategory: \t None \n",
            "\tConfidence Score: \t 0.27 \n",
            "\n",
            "\tText: \t spreadsheets \tCategory: \t Skill \tSubCategory: \t None \n",
            "\tConfidence Score: \t 0.8 \n",
            "\n",
            "\n",
            " Document :  Very clear and organized materials. \n",
            "\n",
            "Named Entities:\n",
            "\n",
            "\n",
            " Document :  Brief, high-level ideas. Could use more specific examples. \n",
            "\n",
            "Named Entities:\n",
            "\n",
            "\n",
            " Document :  clear and the examples are very useful! \n",
            "\n",
            "Named Entities:\n",
            "\n",
            "\n",
            " Document :  Though at the start of the program indicates no prerequisite I would suggest that you be familiar with Algebra and Stats. Most videos are of Dr. Egger writing out algebraic equations and discussing them, the excel component of Mastering data in excel come via pre-made calculators as attachments that you for the most part need to figure out on your own.If you do not have a good comfort level with stats then you will require more time to spend on understanding the spreadsheet and it’s use.It would be fantastic if Dr Egger could go through the spreadsheets as a part of the video and show a couple examples, hopefully revisions down the road !It was challenging but not impossible, and if you do not challenge yourself how much are you really learning?Best of luck! \n",
            "\n",
            "Named Entities:\n",
            "\n",
            "\tText: \t Algebra \tCategory: \t Skill \tSubCategory: \t None \n",
            "\tConfidence Score: \t 0.8 \n",
            "\n",
            "\tText: \t Algebra \tCategory: \t Person \tSubCategory: \t None \n",
            "\tConfidence Score: \t 0.3 \n",
            "\n",
            "\tText: \t Egger \tCategory: \t Person \tSubCategory: \t None \n",
            "\tConfidence Score: \t 0.46 \n",
            "\n",
            "\tText: \t algebraic equations \tCategory: \t Skill \tSubCategory: \t None \n",
            "\tConfidence Score: \t 0.8 \n",
            "\n",
            "\tText: \t data \tCategory: \t Skill \tSubCategory: \t None \n",
            "\tConfidence Score: \t 0.8 \n",
            "\n",
            "\tText: \t spreadsheet \tCategory: \t Skill \tSubCategory: \t None \n",
            "\tConfidence Score: \t 0.8 \n",
            "\n",
            "\tText: \t Egger \tCategory: \t Person \tSubCategory: \t None \n",
            "\tConfidence Score: \t 0.27 \n",
            "\n",
            "\tText: \t spreadsheets \tCategory: \t Skill \tSubCategory: \t None \n",
            "\tConfidence Score: \t 0.8 \n",
            "\n",
            "\n",
            " Document :  Full Individuals speaking \n",
            "\n",
            "Named Entities:\n",
            "\n",
            "\n",
            " Document :  Brief, high-level ideas. Could use more specific examples. \n",
            "\n",
            "Named Entities:\n",
            "\n",
            "\n",
            " Document :  clear and the examples are very useful! \n",
            "\n",
            "Named Entities:\n",
            "\n",
            "\n",
            " Document :  Though at the start of the program indicates no prerequisite I would suggest that you be familiar with Algebra and Stats. Most videos are of Dr. Egger writing out algebraic equations and discussing them, the excel component of Mastering data in excel come via pre-made calculators as attachments that you for the most part need to figure out on your own.If you do not have a good comfort level with stats then you will require more time to spend on understanding the spreadsheet and it’s use.It would be fantastic if Dr Egger could go through the spreadsheets as a part of the video and show a couple examples, hopefully revisions down the road !It was challenging but not impossible, and if you do not challenge yourself how much are you really learning?Best of luck! \n",
            "\n",
            "Named Entities:\n",
            "\n",
            "\tText: \t Algebra \tCategory: \t Skill \tSubCategory: \t None \n",
            "\tConfidence Score: \t 0.8 \n",
            "\n",
            "\tText: \t Algebra \tCategory: \t Person \tSubCategory: \t None \n",
            "\tConfidence Score: \t 0.3 \n",
            "\n",
            "\tText: \t Egger \tCategory: \t Person \tSubCategory: \t None \n",
            "\tConfidence Score: \t 0.46 \n",
            "\n",
            "\tText: \t algebraic equations \tCategory: \t Skill \tSubCategory: \t None \n",
            "\tConfidence Score: \t 0.8 \n",
            "\n",
            "\tText: \t data \tCategory: \t Skill \tSubCategory: \t None \n",
            "\tConfidence Score: \t 0.8 \n",
            "\n",
            "\tText: \t spreadsheet \tCategory: \t Skill \tSubCategory: \t None \n",
            "\tConfidence Score: \t 0.8 \n",
            "\n",
            "\tText: \t Egger \tCategory: \t Person \tSubCategory: \t None \n",
            "\tConfidence Score: \t 0.27 \n",
            "\n",
            "\tText: \t spreadsheets \tCategory: \t Skill \tSubCategory: \t None \n",
            "\tConfidence Score: \t 0.8 \n",
            "\n",
            "\n",
            " Document :  Full Individuals speaking \n",
            "\n",
            "Named Entities:\n",
            "\n",
            "\n",
            " Document :  It's seemingly a great course for K-12 teachers but lacks relevance for higher education. \n",
            "\n",
            "Named Entities:\n",
            "\n",
            "\tText: \t -12 \tCategory: \t Quantity \tSubCategory: \t Number \n",
            "\tConfidence Score: \t 0.8 \n",
            "\n",
            "\tText: \t teachers \tCategory: \t PersonType \tSubCategory: \t None \n",
            "\tConfidence Score: \t 0.25 \n",
            "\n",
            "\tText: \t higher education \tCategory: \t Skill \tSubCategory: \t None \n",
            "\tConfidence Score: \t 0.8 \n",
            "\n",
            "\n",
            " Document :  clear and the examples are very useful! \n",
            "\n",
            "Named Entities:\n",
            "\n",
            "\n",
            " Document :  Though at the start of the program indicates no prerequisite I would suggest that you be familiar with Algebra and Stats. Most videos are of Dr. Egger writing out algebraic equations and discussing them, the excel component of Mastering data in excel come via pre-made calculators as attachments that you for the most part need to figure out on your own.If you do not have a good comfort level with stats then you will require more time to spend on understanding the spreadsheet and it’s use.It would be fantastic if Dr Egger could go through the spreadsheets as a part of the video and show a couple examples, hopefully revisions down the road !It was challenging but not impossible, and if you do not challenge yourself how much are you really learning?Best of luck! \n",
            "\n",
            "Named Entities:\n",
            "\n",
            "\tText: \t Algebra \tCategory: \t Skill \tSubCategory: \t None \n",
            "\tConfidence Score: \t 0.8 \n",
            "\n",
            "\tText: \t Algebra \tCategory: \t Person \tSubCategory: \t None \n",
            "\tConfidence Score: \t 0.3 \n",
            "\n",
            "\tText: \t Egger \tCategory: \t Person \tSubCategory: \t None \n",
            "\tConfidence Score: \t 0.46 \n",
            "\n",
            "\tText: \t algebraic equations \tCategory: \t Skill \tSubCategory: \t None \n",
            "\tConfidence Score: \t 0.8 \n",
            "\n",
            "\tText: \t data \tCategory: \t Skill \tSubCategory: \t None \n",
            "\tConfidence Score: \t 0.8 \n",
            "\n",
            "\tText: \t spreadsheet \tCategory: \t Skill \tSubCategory: \t None \n",
            "\tConfidence Score: \t 0.8 \n",
            "\n",
            "\tText: \t Egger \tCategory: \t Person \tSubCategory: \t None \n",
            "\tConfidence Score: \t 0.27 \n",
            "\n",
            "\tText: \t spreadsheets \tCategory: \t Skill \tSubCategory: \t None \n",
            "\tConfidence Score: \t 0.8 \n",
            "\n",
            "\n",
            " Document :  Full Individuals speaking \n",
            "\n",
            "Named Entities:\n",
            "\n",
            "\n",
            " Document :  It's seemingly a great course for K-12 teachers but lacks relevance for higher education. \n",
            "\n",
            "Named Entities:\n",
            "\n",
            "\tText: \t -12 \tCategory: \t Quantity \tSubCategory: \t Number \n",
            "\tConfidence Score: \t 0.8 \n",
            "\n",
            "\tText: \t teachers \tCategory: \t PersonType \tSubCategory: \t None \n",
            "\tConfidence Score: \t 0.25 \n",
            "\n",
            "\tText: \t higher education \tCategory: \t Skill \tSubCategory: \t None \n",
            "\tConfidence Score: \t 0.8 \n",
            "\n",
            "\n",
            " Document :  This is the rating for the whole specialization.1) Some course are nice and well done, but probably only 2-3 of the 9 (The entrepreneur one is really well done). But most of them are simply useless.2) It's too long. For the same amount of knowledge, I could have done just 3 WELL DONE courses.3) Most of courses are just things people read in front of a screen, without any passion or interest. And the concept are so easy I am wandering if they need to be teached at all.4) The exam are just sloppy. Even a monkey that didn't watch the video could answer them (sometimes I try to do the same and it works. If I already know what you will ask me, which kind of knowledge are you supposed to teach me?),5) About this project, the instructions are messed up.In the end, I finish it because it was my first specialization, and I was lucky enough to do the interesting one at the beginning, so I feel compelled to end it, but really, I am not sure It was worth my time. \n",
            "\n",
            "Named Entities:\n",
            "\n",
            "\tText: \t 1 \tCategory: \t Quantity \tSubCategory: \t Number \n",
            "\tConfidence Score: \t 0.8 \n",
            "\n",
            "\tText: \t 2 \tCategory: \t Quantity \tSubCategory: \t Number \n",
            "\tConfidence Score: \t 0.8 \n",
            "\n",
            "\tText: \t 3 \tCategory: \t Quantity \tSubCategory: \t Number \n",
            "\tConfidence Score: \t 0.8 \n",
            "\n",
            "\tText: \t 9 \tCategory: \t Quantity \tSubCategory: \t Number \n",
            "\tConfidence Score: \t 0.8 \n",
            "\n",
            "\tText: \t one \tCategory: \t Quantity \tSubCategory: \t Number \n",
            "\tConfidence Score: \t 0.8 \n",
            "\n",
            "\tText: \t 2 \tCategory: \t Quantity \tSubCategory: \t Number \n",
            "\tConfidence Score: \t 0.8 \n",
            "\n",
            "\tText: \t 3 \tCategory: \t Quantity \tSubCategory: \t Number \n",
            "\tConfidence Score: \t 0.8 \n",
            "\n",
            "\tText: \t 3 \tCategory: \t Quantity \tSubCategory: \t Number \n",
            "\tConfidence Score: \t 0.8 \n",
            "\n",
            "\tText: \t 4 \tCategory: \t Quantity \tSubCategory: \t Number \n",
            "\tConfidence Score: \t 0.8 \n",
            "\n",
            "\tText: \t 5 \tCategory: \t Quantity \tSubCategory: \t Number \n",
            "\tConfidence Score: \t 0.8 \n",
            "\n",
            "\tText: \t first \tCategory: \t Quantity \tSubCategory: \t Ordinal \n",
            "\tConfidence Score: \t 0.8 \n",
            "\n",
            "\tText: \t one \tCategory: \t Quantity \tSubCategory: \t Number \n",
            "\tConfidence Score: \t 0.8 \n",
            "\n",
            "\n",
            " Document :  Though at the start of the program indicates no prerequisite I would suggest that you be familiar with Algebra and Stats. Most videos are of Dr. Egger writing out algebraic equations and discussing them, the excel component of Mastering data in excel come via pre-made calculators as attachments that you for the most part need to figure out on your own.If you do not have a good comfort level with stats then you will require more time to spend on understanding the spreadsheet and it’s use.It would be fantastic if Dr Egger could go through the spreadsheets as a part of the video and show a couple examples, hopefully revisions down the road !It was challenging but not impossible, and if you do not challenge yourself how much are you really learning?Best of luck! \n",
            "\n",
            "Named Entities:\n",
            "\n",
            "\tText: \t Algebra \tCategory: \t Skill \tSubCategory: \t None \n",
            "\tConfidence Score: \t 0.8 \n",
            "\n",
            "\tText: \t Algebra \tCategory: \t Person \tSubCategory: \t None \n",
            "\tConfidence Score: \t 0.3 \n",
            "\n",
            "\tText: \t Egger \tCategory: \t Person \tSubCategory: \t None \n",
            "\tConfidence Score: \t 0.46 \n",
            "\n",
            "\tText: \t algebraic equations \tCategory: \t Skill \tSubCategory: \t None \n",
            "\tConfidence Score: \t 0.8 \n",
            "\n",
            "\tText: \t data \tCategory: \t Skill \tSubCategory: \t None \n",
            "\tConfidence Score: \t 0.8 \n",
            "\n",
            "\tText: \t spreadsheet \tCategory: \t Skill \tSubCategory: \t None \n",
            "\tConfidence Score: \t 0.8 \n",
            "\n",
            "\tText: \t Egger \tCategory: \t Person \tSubCategory: \t None \n",
            "\tConfidence Score: \t 0.27 \n",
            "\n",
            "\tText: \t spreadsheets \tCategory: \t Skill \tSubCategory: \t None \n",
            "\tConfidence Score: \t 0.8 \n",
            "\n",
            "\n",
            " Document :  Full Individuals speaking \n",
            "\n",
            "Named Entities:\n",
            "\n",
            "\n",
            " Document :  It's seemingly a great course for K-12 teachers but lacks relevance for higher education. \n",
            "\n",
            "Named Entities:\n",
            "\n",
            "\tText: \t -12 \tCategory: \t Quantity \tSubCategory: \t Number \n",
            "\tConfidence Score: \t 0.8 \n",
            "\n",
            "\tText: \t teachers \tCategory: \t PersonType \tSubCategory: \t None \n",
            "\tConfidence Score: \t 0.26 \n",
            "\n",
            "\tText: \t higher education \tCategory: \t Skill \tSubCategory: \t None \n",
            "\tConfidence Score: \t 0.8 \n",
            "\n",
            "\n",
            " Document :  This is the rating for the whole specialization.1) Some course are nice and well done, but probably only 2-3 of the 9 (The entrepreneur one is really well done). But most of them are simply useless.2) It's too long. For the same amount of knowledge, I could have done just 3 WELL DONE courses.3) Most of courses are just things people read in front of a screen, without any passion or interest. And the concept are so easy I am wandering if they need to be teached at all.4) The exam are just sloppy. Even a monkey that didn't watch the video could answer them (sometimes I try to do the same and it works. If I already know what you will ask me, which kind of knowledge are you supposed to teach me?),5) About this project, the instructions are messed up.In the end, I finish it because it was my first specialization, and I was lucky enough to do the interesting one at the beginning, so I feel compelled to end it, but really, I am not sure It was worth my time. \n",
            "\n",
            "Named Entities:\n",
            "\n",
            "\tText: \t 1 \tCategory: \t Quantity \tSubCategory: \t Number \n",
            "\tConfidence Score: \t 0.8 \n",
            "\n",
            "\tText: \t 2 \tCategory: \t Quantity \tSubCategory: \t Number \n",
            "\tConfidence Score: \t 0.8 \n",
            "\n",
            "\tText: \t 3 \tCategory: \t Quantity \tSubCategory: \t Number \n",
            "\tConfidence Score: \t 0.8 \n",
            "\n",
            "\tText: \t 9 \tCategory: \t Quantity \tSubCategory: \t Number \n",
            "\tConfidence Score: \t 0.8 \n",
            "\n",
            "\tText: \t one \tCategory: \t Quantity \tSubCategory: \t Number \n",
            "\tConfidence Score: \t 0.8 \n",
            "\n",
            "\tText: \t 2 \tCategory: \t Quantity \tSubCategory: \t Number \n",
            "\tConfidence Score: \t 0.8 \n",
            "\n",
            "\tText: \t 3 \tCategory: \t Quantity \tSubCategory: \t Number \n",
            "\tConfidence Score: \t 0.8 \n",
            "\n",
            "\tText: \t 3 \tCategory: \t Quantity \tSubCategory: \t Number \n",
            "\tConfidence Score: \t 0.8 \n",
            "\n",
            "\tText: \t 4 \tCategory: \t Quantity \tSubCategory: \t Number \n",
            "\tConfidence Score: \t 0.8 \n",
            "\n",
            "\tText: \t 5 \tCategory: \t Quantity \tSubCategory: \t Number \n",
            "\tConfidence Score: \t 0.8 \n",
            "\n",
            "\tText: \t first \tCategory: \t Quantity \tSubCategory: \t Ordinal \n",
            "\tConfidence Score: \t 0.8 \n",
            "\n",
            "\tText: \t one \tCategory: \t Quantity \tSubCategory: \t Number \n",
            "\tConfidence Score: \t 0.8 \n",
            "\n",
            "\n",
            " Document :  I found it very hard to understand the lecturers and what they were saying. \n",
            "\n",
            "Named Entities:\n",
            "\n",
            "\tText: \t lecturers \tCategory: \t PersonType \tSubCategory: \t None \n",
            "\tConfidence Score: \t 0.78 \n",
            "\n",
            "\n",
            " Document :  Full Individuals speaking \n",
            "\n",
            "Named Entities:\n",
            "\n"
          ],
          "name": "stdout"
        },
        {
          "output_type": "error",
          "ename": "KeyboardInterrupt",
          "evalue": "ignored",
          "traceback": [
            "\u001b[0;31m---------------------------------------------------------------------------\u001b[0m",
            "\u001b[0;31mTypeError\u001b[0m                                 Traceback (most recent call last)",
            "\u001b[0;32m/usr/local/lib/python3.6/dist-packages/urllib3/connectionpool.py\u001b[0m in \u001b[0;36m_make_request\u001b[0;34m(self, conn, method, url, timeout, chunked, **httplib_request_kw)\u001b[0m\n\u001b[1;32m    376\u001b[0m             \u001b[0;32mtry\u001b[0m\u001b[0;34m:\u001b[0m  \u001b[0;31m# Python 2.7, use buffering of HTTP responses\u001b[0m\u001b[0;34m\u001b[0m\u001b[0;34m\u001b[0m\u001b[0m\n\u001b[0;32m--> 377\u001b[0;31m                 \u001b[0mhttplib_response\u001b[0m \u001b[0;34m=\u001b[0m \u001b[0mconn\u001b[0m\u001b[0;34m.\u001b[0m\u001b[0mgetresponse\u001b[0m\u001b[0;34m(\u001b[0m\u001b[0mbuffering\u001b[0m\u001b[0;34m=\u001b[0m\u001b[0;32mTrue\u001b[0m\u001b[0;34m)\u001b[0m\u001b[0;34m\u001b[0m\u001b[0;34m\u001b[0m\u001b[0m\n\u001b[0m\u001b[1;32m    378\u001b[0m             \u001b[0;32mexcept\u001b[0m \u001b[0mTypeError\u001b[0m\u001b[0;34m:\u001b[0m  \u001b[0;31m# Python 3\u001b[0m\u001b[0;34m\u001b[0m\u001b[0;34m\u001b[0m\u001b[0m\n",
            "\u001b[0;31mTypeError\u001b[0m: getresponse() got an unexpected keyword argument 'buffering'",
            "\nDuring handling of the above exception, another exception occurred:\n",
            "\u001b[0;31mKeyboardInterrupt\u001b[0m                         Traceback (most recent call last)",
            "\u001b[0;32m<ipython-input-69-d70f4cc9899e>\u001b[0m in \u001b[0;36m<module>\u001b[0;34m()\u001b[0m\n\u001b[1;32m      7\u001b[0m   \u001b[0mbatch_json\u001b[0m\u001b[0;34m=\u001b[0m\u001b[0mbatch\u001b[0m\u001b[0;34m.\u001b[0m\u001b[0mto_json\u001b[0m\u001b[0;34m(\u001b[0m\u001b[0morient\u001b[0m\u001b[0;34m=\u001b[0m\u001b[0;34m\"values\"\u001b[0m\u001b[0;34m)\u001b[0m\u001b[0;34m\u001b[0m\u001b[0;34m\u001b[0m\u001b[0m\n\u001b[1;32m      8\u001b[0m   \u001b[0mparsed\u001b[0m \u001b[0;34m=\u001b[0m \u001b[0mjson\u001b[0m\u001b[0;34m.\u001b[0m\u001b[0mloads\u001b[0m\u001b[0;34m(\u001b[0m\u001b[0mbatch_json\u001b[0m\u001b[0;34m)\u001b[0m\u001b[0;34m\u001b[0m\u001b[0;34m\u001b[0m\u001b[0m\n\u001b[0;32m----> 9\u001b[0;31m   \u001b[0mentity_recognition_json\u001b[0m\u001b[0;34m(\u001b[0m\u001b[0mclient\u001b[0m\u001b[0;34m,\u001b[0m\u001b[0mparsed\u001b[0m\u001b[0;34m)\u001b[0m\u001b[0;34m\u001b[0m\u001b[0;34m\u001b[0m\u001b[0m\n\u001b[0m\u001b[1;32m     10\u001b[0m \u001b[0;34m\u001b[0m\u001b[0m\n",
            "\u001b[0;32m<ipython-input-67-8503d9f689e4>\u001b[0m in \u001b[0;36mentity_recognition_json\u001b[0;34m(client, data)\u001b[0m\n\u001b[1;32m      4\u001b[0m         \u001b[0mdocuments\u001b[0m \u001b[0;34m=\u001b[0m \u001b[0mdata\u001b[0m\u001b[0;34m\u001b[0m\u001b[0;34m\u001b[0m\u001b[0m\n\u001b[1;32m      5\u001b[0m         \u001b[0;32mfor\u001b[0m \u001b[0mi\u001b[0m \u001b[0;32min\u001b[0m \u001b[0mrange\u001b[0m\u001b[0;34m(\u001b[0m\u001b[0;36m5\u001b[0m\u001b[0;34m)\u001b[0m\u001b[0;34m:\u001b[0m\u001b[0;34m\u001b[0m\u001b[0;34m\u001b[0m\u001b[0m\n\u001b[0;32m----> 6\u001b[0;31m           \u001b[0mresult\u001b[0m \u001b[0;34m=\u001b[0m \u001b[0mclient\u001b[0m\u001b[0;34m.\u001b[0m\u001b[0mrecognize_entities\u001b[0m\u001b[0;34m(\u001b[0m\u001b[0mdocuments\u001b[0m \u001b[0;34m=\u001b[0m \u001b[0mdocuments\u001b[0m\u001b[0;34m)\u001b[0m\u001b[0;34m[\u001b[0m\u001b[0mi\u001b[0m\u001b[0;34m]\u001b[0m\u001b[0;34m\u001b[0m\u001b[0;34m\u001b[0m\u001b[0m\n\u001b[0m\u001b[1;32m      7\u001b[0m \u001b[0;34m\u001b[0m\u001b[0m\n\u001b[1;32m      8\u001b[0m \u001b[0;34m\u001b[0m\u001b[0m\n",
            "\u001b[0;32m/usr/local/lib/python3.6/dist-packages/azure/core/tracing/decorator.py\u001b[0m in \u001b[0;36mwrapper_use_tracer\u001b[0;34m(*args, **kwargs)\u001b[0m\n\u001b[1;32m     81\u001b[0m             \u001b[0mspan_impl_type\u001b[0m \u001b[0;34m=\u001b[0m \u001b[0msettings\u001b[0m\u001b[0;34m.\u001b[0m\u001b[0mtracing_implementation\u001b[0m\u001b[0;34m(\u001b[0m\u001b[0;34m)\u001b[0m\u001b[0;34m\u001b[0m\u001b[0;34m\u001b[0m\u001b[0m\n\u001b[1;32m     82\u001b[0m             \u001b[0;32mif\u001b[0m \u001b[0mspan_impl_type\u001b[0m \u001b[0;32mis\u001b[0m \u001b[0;32mNone\u001b[0m\u001b[0;34m:\u001b[0m\u001b[0;34m\u001b[0m\u001b[0;34m\u001b[0m\u001b[0m\n\u001b[0;32m---> 83\u001b[0;31m                 \u001b[0;32mreturn\u001b[0m \u001b[0mfunc\u001b[0m\u001b[0;34m(\u001b[0m\u001b[0;34m*\u001b[0m\u001b[0margs\u001b[0m\u001b[0;34m,\u001b[0m \u001b[0;34m**\u001b[0m\u001b[0mkwargs\u001b[0m\u001b[0;34m)\u001b[0m\u001b[0;34m\u001b[0m\u001b[0;34m\u001b[0m\u001b[0m\n\u001b[0m\u001b[1;32m     84\u001b[0m \u001b[0;34m\u001b[0m\u001b[0m\n\u001b[1;32m     85\u001b[0m             \u001b[0;31m# Merge span is parameter is set, but only if no explicit parent are passed\u001b[0m\u001b[0;34m\u001b[0m\u001b[0;34m\u001b[0m\u001b[0;34m\u001b[0m\u001b[0m\n",
            "\u001b[0;32m/usr/local/lib/python3.6/dist-packages/azure/ai/textanalytics/_text_analytics_client.py\u001b[0m in \u001b[0;36mrecognize_entities\u001b[0;34m(self, documents, **kwargs)\u001b[0m\n\u001b[1;32m    238\u001b[0m                 \u001b[0mshow_stats\u001b[0m\u001b[0;34m=\u001b[0m\u001b[0mshow_stats\u001b[0m\u001b[0;34m,\u001b[0m\u001b[0;34m\u001b[0m\u001b[0;34m\u001b[0m\u001b[0m\n\u001b[1;32m    239\u001b[0m                 \u001b[0mcls\u001b[0m\u001b[0;34m=\u001b[0m\u001b[0mkwargs\u001b[0m\u001b[0;34m.\u001b[0m\u001b[0mpop\u001b[0m\u001b[0;34m(\u001b[0m\u001b[0;34m\"cls\"\u001b[0m\u001b[0;34m,\u001b[0m \u001b[0mentities_result\u001b[0m\u001b[0;34m)\u001b[0m\u001b[0;34m,\u001b[0m\u001b[0;34m\u001b[0m\u001b[0;34m\u001b[0m\u001b[0m\n\u001b[0;32m--> 240\u001b[0;31m                 \u001b[0;34m**\u001b[0m\u001b[0mkwargs\u001b[0m\u001b[0;34m\u001b[0m\u001b[0;34m\u001b[0m\u001b[0m\n\u001b[0m\u001b[1;32m    241\u001b[0m             )\n\u001b[1;32m    242\u001b[0m         \u001b[0;32mexcept\u001b[0m \u001b[0mHttpResponseError\u001b[0m \u001b[0;32mas\u001b[0m \u001b[0merror\u001b[0m\u001b[0;34m:\u001b[0m\u001b[0;34m\u001b[0m\u001b[0;34m\u001b[0m\u001b[0m\n",
            "\u001b[0;32m/usr/local/lib/python3.6/dist-packages/azure/ai/textanalytics/_generated/_operations_mixin.py\u001b[0m in \u001b[0;36mentities_recognition_general\u001b[0;34m(self, documents, model_version, show_stats, **kwargs)\u001b[0m\n\u001b[1;32m    261\u001b[0m         \u001b[0mmixin_instance\u001b[0m\u001b[0;34m.\u001b[0m\u001b[0m_serialize\u001b[0m \u001b[0;34m=\u001b[0m \u001b[0mSerializer\u001b[0m\u001b[0;34m(\u001b[0m\u001b[0mself\u001b[0m\u001b[0;34m.\u001b[0m\u001b[0m_models_dict\u001b[0m\u001b[0;34m(\u001b[0m\u001b[0mapi_version\u001b[0m\u001b[0;34m)\u001b[0m\u001b[0;34m)\u001b[0m\u001b[0;34m\u001b[0m\u001b[0;34m\u001b[0m\u001b[0m\n\u001b[1;32m    262\u001b[0m         \u001b[0mmixin_instance\u001b[0m\u001b[0;34m.\u001b[0m\u001b[0m_deserialize\u001b[0m \u001b[0;34m=\u001b[0m \u001b[0mDeserializer\u001b[0m\u001b[0;34m(\u001b[0m\u001b[0mself\u001b[0m\u001b[0;34m.\u001b[0m\u001b[0m_models_dict\u001b[0m\u001b[0;34m(\u001b[0m\u001b[0mapi_version\u001b[0m\u001b[0;34m)\u001b[0m\u001b[0;34m)\u001b[0m\u001b[0;34m\u001b[0m\u001b[0;34m\u001b[0m\u001b[0m\n\u001b[0;32m--> 263\u001b[0;31m         \u001b[0;32mreturn\u001b[0m \u001b[0mmixin_instance\u001b[0m\u001b[0;34m.\u001b[0m\u001b[0mentities_recognition_general\u001b[0m\u001b[0;34m(\u001b[0m\u001b[0mdocuments\u001b[0m\u001b[0;34m,\u001b[0m \u001b[0mmodel_version\u001b[0m\u001b[0;34m,\u001b[0m \u001b[0mshow_stats\u001b[0m\u001b[0;34m,\u001b[0m \u001b[0;34m**\u001b[0m\u001b[0mkwargs\u001b[0m\u001b[0;34m)\u001b[0m\u001b[0;34m\u001b[0m\u001b[0;34m\u001b[0m\u001b[0m\n\u001b[0m\u001b[1;32m    264\u001b[0m \u001b[0;34m\u001b[0m\u001b[0m\n\u001b[1;32m    265\u001b[0m     def entities_recognition_pii(\n",
            "\u001b[0;32m/usr/local/lib/python3.6/dist-packages/azure/ai/textanalytics/_generated/v3_1_preview_2/operations/_text_analytics_client_operations.py\u001b[0m in \u001b[0;36mentities_recognition_general\u001b[0;34m(self, documents, model_version, show_stats, string_index_type, **kwargs)\u001b[0m\n\u001b[1;32m     92\u001b[0m         \u001b[0mbody_content_kwargs\u001b[0m\u001b[0;34m[\u001b[0m\u001b[0;34m'content'\u001b[0m\u001b[0;34m]\u001b[0m \u001b[0;34m=\u001b[0m \u001b[0mbody_content\u001b[0m\u001b[0;34m\u001b[0m\u001b[0;34m\u001b[0m\u001b[0m\n\u001b[1;32m     93\u001b[0m         \u001b[0mrequest\u001b[0m \u001b[0;34m=\u001b[0m \u001b[0mself\u001b[0m\u001b[0;34m.\u001b[0m\u001b[0m_client\u001b[0m\u001b[0;34m.\u001b[0m\u001b[0mpost\u001b[0m\u001b[0;34m(\u001b[0m\u001b[0murl\u001b[0m\u001b[0;34m,\u001b[0m \u001b[0mquery_parameters\u001b[0m\u001b[0;34m,\u001b[0m \u001b[0mheader_parameters\u001b[0m\u001b[0;34m,\u001b[0m \u001b[0;34m**\u001b[0m\u001b[0mbody_content_kwargs\u001b[0m\u001b[0;34m)\u001b[0m\u001b[0;34m\u001b[0m\u001b[0;34m\u001b[0m\u001b[0m\n\u001b[0;32m---> 94\u001b[0;31m         \u001b[0mpipeline_response\u001b[0m \u001b[0;34m=\u001b[0m \u001b[0mself\u001b[0m\u001b[0;34m.\u001b[0m\u001b[0m_client\u001b[0m\u001b[0;34m.\u001b[0m\u001b[0m_pipeline\u001b[0m\u001b[0;34m.\u001b[0m\u001b[0mrun\u001b[0m\u001b[0;34m(\u001b[0m\u001b[0mrequest\u001b[0m\u001b[0;34m,\u001b[0m \u001b[0mstream\u001b[0m\u001b[0;34m=\u001b[0m\u001b[0;32mFalse\u001b[0m\u001b[0;34m,\u001b[0m \u001b[0;34m**\u001b[0m\u001b[0mkwargs\u001b[0m\u001b[0;34m)\u001b[0m\u001b[0;34m\u001b[0m\u001b[0;34m\u001b[0m\u001b[0m\n\u001b[0m\u001b[1;32m     95\u001b[0m         \u001b[0mresponse\u001b[0m \u001b[0;34m=\u001b[0m \u001b[0mpipeline_response\u001b[0m\u001b[0;34m.\u001b[0m\u001b[0mhttp_response\u001b[0m\u001b[0;34m\u001b[0m\u001b[0;34m\u001b[0m\u001b[0m\n\u001b[1;32m     96\u001b[0m \u001b[0;34m\u001b[0m\u001b[0m\n",
            "\u001b[0;32m/usr/local/lib/python3.6/dist-packages/azure/core/pipeline/_base.py\u001b[0m in \u001b[0;36mrun\u001b[0;34m(self, request, **kwargs)\u001b[0m\n\u001b[1;32m    209\u001b[0m             \u001b[0;32melse\u001b[0m \u001b[0m_TransportRunner\u001b[0m\u001b[0;34m(\u001b[0m\u001b[0mself\u001b[0m\u001b[0;34m.\u001b[0m\u001b[0m_transport\u001b[0m\u001b[0;34m)\u001b[0m\u001b[0;34m\u001b[0m\u001b[0;34m\u001b[0m\u001b[0m\n\u001b[1;32m    210\u001b[0m         )\n\u001b[0;32m--> 211\u001b[0;31m         \u001b[0;32mreturn\u001b[0m \u001b[0mfirst_node\u001b[0m\u001b[0;34m.\u001b[0m\u001b[0msend\u001b[0m\u001b[0;34m(\u001b[0m\u001b[0mpipeline_request\u001b[0m\u001b[0;34m)\u001b[0m  \u001b[0;31m# type: ignore\u001b[0m\u001b[0;34m\u001b[0m\u001b[0;34m\u001b[0m\u001b[0m\n\u001b[0m",
            "\u001b[0;32m/usr/local/lib/python3.6/dist-packages/azure/core/pipeline/_base.py\u001b[0m in \u001b[0;36msend\u001b[0;34m(self, request)\u001b[0m\n\u001b[1;32m     69\u001b[0m         \u001b[0m_await_result\u001b[0m\u001b[0;34m(\u001b[0m\u001b[0mself\u001b[0m\u001b[0;34m.\u001b[0m\u001b[0m_policy\u001b[0m\u001b[0;34m.\u001b[0m\u001b[0mon_request\u001b[0m\u001b[0;34m,\u001b[0m \u001b[0mrequest\u001b[0m\u001b[0;34m)\u001b[0m\u001b[0;34m\u001b[0m\u001b[0;34m\u001b[0m\u001b[0m\n\u001b[1;32m     70\u001b[0m         \u001b[0;32mtry\u001b[0m\u001b[0;34m:\u001b[0m\u001b[0;34m\u001b[0m\u001b[0;34m\u001b[0m\u001b[0m\n\u001b[0;32m---> 71\u001b[0;31m             \u001b[0mresponse\u001b[0m \u001b[0;34m=\u001b[0m \u001b[0mself\u001b[0m\u001b[0;34m.\u001b[0m\u001b[0mnext\u001b[0m\u001b[0;34m.\u001b[0m\u001b[0msend\u001b[0m\u001b[0;34m(\u001b[0m\u001b[0mrequest\u001b[0m\u001b[0;34m)\u001b[0m\u001b[0;34m\u001b[0m\u001b[0;34m\u001b[0m\u001b[0m\n\u001b[0m\u001b[1;32m     72\u001b[0m         \u001b[0;32mexcept\u001b[0m \u001b[0mException\u001b[0m\u001b[0;34m:\u001b[0m  \u001b[0;31m# pylint: disable=broad-except\u001b[0m\u001b[0;34m\u001b[0m\u001b[0;34m\u001b[0m\u001b[0m\n\u001b[1;32m     73\u001b[0m             \u001b[0;32mif\u001b[0m \u001b[0;32mnot\u001b[0m \u001b[0m_await_result\u001b[0m\u001b[0;34m(\u001b[0m\u001b[0mself\u001b[0m\u001b[0;34m.\u001b[0m\u001b[0m_policy\u001b[0m\u001b[0;34m.\u001b[0m\u001b[0mon_exception\u001b[0m\u001b[0;34m,\u001b[0m \u001b[0mrequest\u001b[0m\u001b[0;34m)\u001b[0m\u001b[0;34m:\u001b[0m\u001b[0;34m\u001b[0m\u001b[0;34m\u001b[0m\u001b[0m\n",
            "\u001b[0;32m/usr/local/lib/python3.6/dist-packages/azure/core/pipeline/_base.py\u001b[0m in \u001b[0;36msend\u001b[0;34m(self, request)\u001b[0m\n\u001b[1;32m     69\u001b[0m         \u001b[0m_await_result\u001b[0m\u001b[0;34m(\u001b[0m\u001b[0mself\u001b[0m\u001b[0;34m.\u001b[0m\u001b[0m_policy\u001b[0m\u001b[0;34m.\u001b[0m\u001b[0mon_request\u001b[0m\u001b[0;34m,\u001b[0m \u001b[0mrequest\u001b[0m\u001b[0;34m)\u001b[0m\u001b[0;34m\u001b[0m\u001b[0;34m\u001b[0m\u001b[0m\n\u001b[1;32m     70\u001b[0m         \u001b[0;32mtry\u001b[0m\u001b[0;34m:\u001b[0m\u001b[0;34m\u001b[0m\u001b[0;34m\u001b[0m\u001b[0m\n\u001b[0;32m---> 71\u001b[0;31m             \u001b[0mresponse\u001b[0m \u001b[0;34m=\u001b[0m \u001b[0mself\u001b[0m\u001b[0;34m.\u001b[0m\u001b[0mnext\u001b[0m\u001b[0;34m.\u001b[0m\u001b[0msend\u001b[0m\u001b[0;34m(\u001b[0m\u001b[0mrequest\u001b[0m\u001b[0;34m)\u001b[0m\u001b[0;34m\u001b[0m\u001b[0;34m\u001b[0m\u001b[0m\n\u001b[0m\u001b[1;32m     72\u001b[0m         \u001b[0;32mexcept\u001b[0m \u001b[0mException\u001b[0m\u001b[0;34m:\u001b[0m  \u001b[0;31m# pylint: disable=broad-except\u001b[0m\u001b[0;34m\u001b[0m\u001b[0;34m\u001b[0m\u001b[0m\n\u001b[1;32m     73\u001b[0m             \u001b[0;32mif\u001b[0m \u001b[0;32mnot\u001b[0m \u001b[0m_await_result\u001b[0m\u001b[0;34m(\u001b[0m\u001b[0mself\u001b[0m\u001b[0;34m.\u001b[0m\u001b[0m_policy\u001b[0m\u001b[0;34m.\u001b[0m\u001b[0mon_exception\u001b[0m\u001b[0;34m,\u001b[0m \u001b[0mrequest\u001b[0m\u001b[0;34m)\u001b[0m\u001b[0;34m:\u001b[0m\u001b[0;34m\u001b[0m\u001b[0;34m\u001b[0m\u001b[0m\n",
            "\u001b[0;32m/usr/local/lib/python3.6/dist-packages/azure/core/pipeline/_base.py\u001b[0m in \u001b[0;36msend\u001b[0;34m(self, request)\u001b[0m\n\u001b[1;32m     69\u001b[0m         \u001b[0m_await_result\u001b[0m\u001b[0;34m(\u001b[0m\u001b[0mself\u001b[0m\u001b[0;34m.\u001b[0m\u001b[0m_policy\u001b[0m\u001b[0;34m.\u001b[0m\u001b[0mon_request\u001b[0m\u001b[0;34m,\u001b[0m \u001b[0mrequest\u001b[0m\u001b[0;34m)\u001b[0m\u001b[0;34m\u001b[0m\u001b[0;34m\u001b[0m\u001b[0m\n\u001b[1;32m     70\u001b[0m         \u001b[0;32mtry\u001b[0m\u001b[0;34m:\u001b[0m\u001b[0;34m\u001b[0m\u001b[0;34m\u001b[0m\u001b[0m\n\u001b[0;32m---> 71\u001b[0;31m             \u001b[0mresponse\u001b[0m \u001b[0;34m=\u001b[0m \u001b[0mself\u001b[0m\u001b[0;34m.\u001b[0m\u001b[0mnext\u001b[0m\u001b[0;34m.\u001b[0m\u001b[0msend\u001b[0m\u001b[0;34m(\u001b[0m\u001b[0mrequest\u001b[0m\u001b[0;34m)\u001b[0m\u001b[0;34m\u001b[0m\u001b[0;34m\u001b[0m\u001b[0m\n\u001b[0m\u001b[1;32m     72\u001b[0m         \u001b[0;32mexcept\u001b[0m \u001b[0mException\u001b[0m\u001b[0;34m:\u001b[0m  \u001b[0;31m# pylint: disable=broad-except\u001b[0m\u001b[0;34m\u001b[0m\u001b[0;34m\u001b[0m\u001b[0m\n\u001b[1;32m     73\u001b[0m             \u001b[0;32mif\u001b[0m \u001b[0;32mnot\u001b[0m \u001b[0m_await_result\u001b[0m\u001b[0;34m(\u001b[0m\u001b[0mself\u001b[0m\u001b[0;34m.\u001b[0m\u001b[0m_policy\u001b[0m\u001b[0;34m.\u001b[0m\u001b[0mon_exception\u001b[0m\u001b[0;34m,\u001b[0m \u001b[0mrequest\u001b[0m\u001b[0;34m)\u001b[0m\u001b[0;34m:\u001b[0m\u001b[0;34m\u001b[0m\u001b[0;34m\u001b[0m\u001b[0m\n",
            "\u001b[0;32m/usr/local/lib/python3.6/dist-packages/azure/core/pipeline/_base.py\u001b[0m in \u001b[0;36msend\u001b[0;34m(self, request)\u001b[0m\n\u001b[1;32m     69\u001b[0m         \u001b[0m_await_result\u001b[0m\u001b[0;34m(\u001b[0m\u001b[0mself\u001b[0m\u001b[0;34m.\u001b[0m\u001b[0m_policy\u001b[0m\u001b[0;34m.\u001b[0m\u001b[0mon_request\u001b[0m\u001b[0;34m,\u001b[0m \u001b[0mrequest\u001b[0m\u001b[0;34m)\u001b[0m\u001b[0;34m\u001b[0m\u001b[0;34m\u001b[0m\u001b[0m\n\u001b[1;32m     70\u001b[0m         \u001b[0;32mtry\u001b[0m\u001b[0;34m:\u001b[0m\u001b[0;34m\u001b[0m\u001b[0;34m\u001b[0m\u001b[0m\n\u001b[0;32m---> 71\u001b[0;31m             \u001b[0mresponse\u001b[0m \u001b[0;34m=\u001b[0m \u001b[0mself\u001b[0m\u001b[0;34m.\u001b[0m\u001b[0mnext\u001b[0m\u001b[0;34m.\u001b[0m\u001b[0msend\u001b[0m\u001b[0;34m(\u001b[0m\u001b[0mrequest\u001b[0m\u001b[0;34m)\u001b[0m\u001b[0;34m\u001b[0m\u001b[0;34m\u001b[0m\u001b[0m\n\u001b[0m\u001b[1;32m     72\u001b[0m         \u001b[0;32mexcept\u001b[0m \u001b[0mException\u001b[0m\u001b[0;34m:\u001b[0m  \u001b[0;31m# pylint: disable=broad-except\u001b[0m\u001b[0;34m\u001b[0m\u001b[0;34m\u001b[0m\u001b[0m\n\u001b[1;32m     73\u001b[0m             \u001b[0;32mif\u001b[0m \u001b[0;32mnot\u001b[0m \u001b[0m_await_result\u001b[0m\u001b[0;34m(\u001b[0m\u001b[0mself\u001b[0m\u001b[0;34m.\u001b[0m\u001b[0m_policy\u001b[0m\u001b[0;34m.\u001b[0m\u001b[0mon_exception\u001b[0m\u001b[0;34m,\u001b[0m \u001b[0mrequest\u001b[0m\u001b[0;34m)\u001b[0m\u001b[0;34m:\u001b[0m\u001b[0;34m\u001b[0m\u001b[0;34m\u001b[0m\u001b[0m\n",
            "\u001b[0;32m/usr/local/lib/python3.6/dist-packages/azure/core/pipeline/_base.py\u001b[0m in \u001b[0;36msend\u001b[0;34m(self, request)\u001b[0m\n\u001b[1;32m     69\u001b[0m         \u001b[0m_await_result\u001b[0m\u001b[0;34m(\u001b[0m\u001b[0mself\u001b[0m\u001b[0;34m.\u001b[0m\u001b[0m_policy\u001b[0m\u001b[0;34m.\u001b[0m\u001b[0mon_request\u001b[0m\u001b[0;34m,\u001b[0m \u001b[0mrequest\u001b[0m\u001b[0;34m)\u001b[0m\u001b[0;34m\u001b[0m\u001b[0;34m\u001b[0m\u001b[0m\n\u001b[1;32m     70\u001b[0m         \u001b[0;32mtry\u001b[0m\u001b[0;34m:\u001b[0m\u001b[0;34m\u001b[0m\u001b[0;34m\u001b[0m\u001b[0m\n\u001b[0;32m---> 71\u001b[0;31m             \u001b[0mresponse\u001b[0m \u001b[0;34m=\u001b[0m \u001b[0mself\u001b[0m\u001b[0;34m.\u001b[0m\u001b[0mnext\u001b[0m\u001b[0;34m.\u001b[0m\u001b[0msend\u001b[0m\u001b[0;34m(\u001b[0m\u001b[0mrequest\u001b[0m\u001b[0;34m)\u001b[0m\u001b[0;34m\u001b[0m\u001b[0;34m\u001b[0m\u001b[0m\n\u001b[0m\u001b[1;32m     72\u001b[0m         \u001b[0;32mexcept\u001b[0m \u001b[0mException\u001b[0m\u001b[0;34m:\u001b[0m  \u001b[0;31m# pylint: disable=broad-except\u001b[0m\u001b[0;34m\u001b[0m\u001b[0;34m\u001b[0m\u001b[0m\n\u001b[1;32m     73\u001b[0m             \u001b[0;32mif\u001b[0m \u001b[0;32mnot\u001b[0m \u001b[0m_await_result\u001b[0m\u001b[0;34m(\u001b[0m\u001b[0mself\u001b[0m\u001b[0;34m.\u001b[0m\u001b[0m_policy\u001b[0m\u001b[0;34m.\u001b[0m\u001b[0mon_exception\u001b[0m\u001b[0;34m,\u001b[0m \u001b[0mrequest\u001b[0m\u001b[0;34m)\u001b[0m\u001b[0;34m:\u001b[0m\u001b[0;34m\u001b[0m\u001b[0;34m\u001b[0m\u001b[0m\n",
            "\u001b[0;32m/usr/local/lib/python3.6/dist-packages/azure/core/pipeline/policies/_redirect.py\u001b[0m in \u001b[0;36msend\u001b[0;34m(self, request)\u001b[0m\n\u001b[1;32m    156\u001b[0m         \u001b[0mredirect_settings\u001b[0m \u001b[0;34m=\u001b[0m \u001b[0mself\u001b[0m\u001b[0;34m.\u001b[0m\u001b[0mconfigure_redirects\u001b[0m\u001b[0;34m(\u001b[0m\u001b[0mrequest\u001b[0m\u001b[0;34m.\u001b[0m\u001b[0mcontext\u001b[0m\u001b[0;34m.\u001b[0m\u001b[0moptions\u001b[0m\u001b[0;34m)\u001b[0m\u001b[0;34m\u001b[0m\u001b[0;34m\u001b[0m\u001b[0m\n\u001b[1;32m    157\u001b[0m         \u001b[0;32mwhile\u001b[0m \u001b[0mretryable\u001b[0m\u001b[0;34m:\u001b[0m\u001b[0;34m\u001b[0m\u001b[0;34m\u001b[0m\u001b[0m\n\u001b[0;32m--> 158\u001b[0;31m             \u001b[0mresponse\u001b[0m \u001b[0;34m=\u001b[0m \u001b[0mself\u001b[0m\u001b[0;34m.\u001b[0m\u001b[0mnext\u001b[0m\u001b[0;34m.\u001b[0m\u001b[0msend\u001b[0m\u001b[0;34m(\u001b[0m\u001b[0mrequest\u001b[0m\u001b[0;34m)\u001b[0m\u001b[0;34m\u001b[0m\u001b[0;34m\u001b[0m\u001b[0m\n\u001b[0m\u001b[1;32m    159\u001b[0m             \u001b[0mredirect_location\u001b[0m \u001b[0;34m=\u001b[0m \u001b[0mself\u001b[0m\u001b[0;34m.\u001b[0m\u001b[0mget_redirect_location\u001b[0m\u001b[0;34m(\u001b[0m\u001b[0mresponse\u001b[0m\u001b[0;34m)\u001b[0m\u001b[0;34m\u001b[0m\u001b[0;34m\u001b[0m\u001b[0m\n\u001b[1;32m    160\u001b[0m             \u001b[0;32mif\u001b[0m \u001b[0mredirect_location\u001b[0m \u001b[0;32mand\u001b[0m \u001b[0mredirect_settings\u001b[0m\u001b[0;34m[\u001b[0m\u001b[0;34m'allow'\u001b[0m\u001b[0;34m]\u001b[0m\u001b[0;34m:\u001b[0m\u001b[0;34m\u001b[0m\u001b[0;34m\u001b[0m\u001b[0m\n",
            "\u001b[0;32m/usr/local/lib/python3.6/dist-packages/azure/core/pipeline/policies/_retry.py\u001b[0m in \u001b[0;36msend\u001b[0;34m(self, request)\u001b[0m\n\u001b[1;32m    433\u001b[0m                 \u001b[0mstart_time\u001b[0m \u001b[0;34m=\u001b[0m \u001b[0mtime\u001b[0m\u001b[0;34m.\u001b[0m\u001b[0mtime\u001b[0m\u001b[0;34m(\u001b[0m\u001b[0;34m)\u001b[0m\u001b[0;34m\u001b[0m\u001b[0;34m\u001b[0m\u001b[0m\n\u001b[1;32m    434\u001b[0m                 \u001b[0mself\u001b[0m\u001b[0;34m.\u001b[0m\u001b[0m_configure_timeout\u001b[0m\u001b[0;34m(\u001b[0m\u001b[0mrequest\u001b[0m\u001b[0;34m,\u001b[0m \u001b[0mabsolute_timeout\u001b[0m\u001b[0;34m,\u001b[0m \u001b[0mis_response_error\u001b[0m\u001b[0;34m)\u001b[0m\u001b[0;34m\u001b[0m\u001b[0;34m\u001b[0m\u001b[0m\n\u001b[0;32m--> 435\u001b[0;31m                 \u001b[0mresponse\u001b[0m \u001b[0;34m=\u001b[0m \u001b[0mself\u001b[0m\u001b[0;34m.\u001b[0m\u001b[0mnext\u001b[0m\u001b[0;34m.\u001b[0m\u001b[0msend\u001b[0m\u001b[0;34m(\u001b[0m\u001b[0mrequest\u001b[0m\u001b[0;34m)\u001b[0m\u001b[0;34m\u001b[0m\u001b[0;34m\u001b[0m\u001b[0m\n\u001b[0m\u001b[1;32m    436\u001b[0m                 \u001b[0;32mif\u001b[0m \u001b[0mself\u001b[0m\u001b[0;34m.\u001b[0m\u001b[0mis_retry\u001b[0m\u001b[0;34m(\u001b[0m\u001b[0mretry_settings\u001b[0m\u001b[0;34m,\u001b[0m \u001b[0mresponse\u001b[0m\u001b[0;34m)\u001b[0m\u001b[0;34m:\u001b[0m\u001b[0;34m\u001b[0m\u001b[0;34m\u001b[0m\u001b[0m\n\u001b[1;32m    437\u001b[0m                     \u001b[0mretry_active\u001b[0m \u001b[0;34m=\u001b[0m \u001b[0mself\u001b[0m\u001b[0;34m.\u001b[0m\u001b[0mincrement\u001b[0m\u001b[0;34m(\u001b[0m\u001b[0mretry_settings\u001b[0m\u001b[0;34m,\u001b[0m \u001b[0mresponse\u001b[0m\u001b[0;34m=\u001b[0m\u001b[0mresponse\u001b[0m\u001b[0;34m)\u001b[0m\u001b[0;34m\u001b[0m\u001b[0;34m\u001b[0m\u001b[0m\n",
            "\u001b[0;32m/usr/local/lib/python3.6/dist-packages/azure/core/pipeline/_base.py\u001b[0m in \u001b[0;36msend\u001b[0;34m(self, request)\u001b[0m\n\u001b[1;32m     69\u001b[0m         \u001b[0m_await_result\u001b[0m\u001b[0;34m(\u001b[0m\u001b[0mself\u001b[0m\u001b[0;34m.\u001b[0m\u001b[0m_policy\u001b[0m\u001b[0;34m.\u001b[0m\u001b[0mon_request\u001b[0m\u001b[0;34m,\u001b[0m \u001b[0mrequest\u001b[0m\u001b[0;34m)\u001b[0m\u001b[0;34m\u001b[0m\u001b[0;34m\u001b[0m\u001b[0m\n\u001b[1;32m     70\u001b[0m         \u001b[0;32mtry\u001b[0m\u001b[0;34m:\u001b[0m\u001b[0;34m\u001b[0m\u001b[0;34m\u001b[0m\u001b[0m\n\u001b[0;32m---> 71\u001b[0;31m             \u001b[0mresponse\u001b[0m \u001b[0;34m=\u001b[0m \u001b[0mself\u001b[0m\u001b[0;34m.\u001b[0m\u001b[0mnext\u001b[0m\u001b[0;34m.\u001b[0m\u001b[0msend\u001b[0m\u001b[0;34m(\u001b[0m\u001b[0mrequest\u001b[0m\u001b[0;34m)\u001b[0m\u001b[0;34m\u001b[0m\u001b[0;34m\u001b[0m\u001b[0m\n\u001b[0m\u001b[1;32m     72\u001b[0m         \u001b[0;32mexcept\u001b[0m \u001b[0mException\u001b[0m\u001b[0;34m:\u001b[0m  \u001b[0;31m# pylint: disable=broad-except\u001b[0m\u001b[0;34m\u001b[0m\u001b[0;34m\u001b[0m\u001b[0m\n\u001b[1;32m     73\u001b[0m             \u001b[0;32mif\u001b[0m \u001b[0;32mnot\u001b[0m \u001b[0m_await_result\u001b[0m\u001b[0;34m(\u001b[0m\u001b[0mself\u001b[0m\u001b[0;34m.\u001b[0m\u001b[0m_policy\u001b[0m\u001b[0;34m.\u001b[0m\u001b[0mon_exception\u001b[0m\u001b[0;34m,\u001b[0m \u001b[0mrequest\u001b[0m\u001b[0;34m)\u001b[0m\u001b[0;34m:\u001b[0m\u001b[0;34m\u001b[0m\u001b[0;34m\u001b[0m\u001b[0m\n",
            "\u001b[0;32m/usr/local/lib/python3.6/dist-packages/azure/core/pipeline/_base.py\u001b[0m in \u001b[0;36msend\u001b[0;34m(self, request)\u001b[0m\n\u001b[1;32m     69\u001b[0m         \u001b[0m_await_result\u001b[0m\u001b[0;34m(\u001b[0m\u001b[0mself\u001b[0m\u001b[0;34m.\u001b[0m\u001b[0m_policy\u001b[0m\u001b[0;34m.\u001b[0m\u001b[0mon_request\u001b[0m\u001b[0;34m,\u001b[0m \u001b[0mrequest\u001b[0m\u001b[0;34m)\u001b[0m\u001b[0;34m\u001b[0m\u001b[0;34m\u001b[0m\u001b[0m\n\u001b[1;32m     70\u001b[0m         \u001b[0;32mtry\u001b[0m\u001b[0;34m:\u001b[0m\u001b[0;34m\u001b[0m\u001b[0;34m\u001b[0m\u001b[0m\n\u001b[0;32m---> 71\u001b[0;31m             \u001b[0mresponse\u001b[0m \u001b[0;34m=\u001b[0m \u001b[0mself\u001b[0m\u001b[0;34m.\u001b[0m\u001b[0mnext\u001b[0m\u001b[0;34m.\u001b[0m\u001b[0msend\u001b[0m\u001b[0;34m(\u001b[0m\u001b[0mrequest\u001b[0m\u001b[0;34m)\u001b[0m\u001b[0;34m\u001b[0m\u001b[0;34m\u001b[0m\u001b[0m\n\u001b[0m\u001b[1;32m     72\u001b[0m         \u001b[0;32mexcept\u001b[0m \u001b[0mException\u001b[0m\u001b[0;34m:\u001b[0m  \u001b[0;31m# pylint: disable=broad-except\u001b[0m\u001b[0;34m\u001b[0m\u001b[0;34m\u001b[0m\u001b[0m\n\u001b[1;32m     73\u001b[0m             \u001b[0;32mif\u001b[0m \u001b[0;32mnot\u001b[0m \u001b[0m_await_result\u001b[0m\u001b[0;34m(\u001b[0m\u001b[0mself\u001b[0m\u001b[0;34m.\u001b[0m\u001b[0m_policy\u001b[0m\u001b[0;34m.\u001b[0m\u001b[0mon_exception\u001b[0m\u001b[0;34m,\u001b[0m \u001b[0mrequest\u001b[0m\u001b[0;34m)\u001b[0m\u001b[0;34m:\u001b[0m\u001b[0;34m\u001b[0m\u001b[0;34m\u001b[0m\u001b[0m\n",
            "\u001b[0;32m/usr/local/lib/python3.6/dist-packages/azure/core/pipeline/_base.py\u001b[0m in \u001b[0;36msend\u001b[0;34m(self, request)\u001b[0m\n\u001b[1;32m     69\u001b[0m         \u001b[0m_await_result\u001b[0m\u001b[0;34m(\u001b[0m\u001b[0mself\u001b[0m\u001b[0;34m.\u001b[0m\u001b[0m_policy\u001b[0m\u001b[0;34m.\u001b[0m\u001b[0mon_request\u001b[0m\u001b[0;34m,\u001b[0m \u001b[0mrequest\u001b[0m\u001b[0;34m)\u001b[0m\u001b[0;34m\u001b[0m\u001b[0;34m\u001b[0m\u001b[0m\n\u001b[1;32m     70\u001b[0m         \u001b[0;32mtry\u001b[0m\u001b[0;34m:\u001b[0m\u001b[0;34m\u001b[0m\u001b[0;34m\u001b[0m\u001b[0m\n\u001b[0;32m---> 71\u001b[0;31m             \u001b[0mresponse\u001b[0m \u001b[0;34m=\u001b[0m \u001b[0mself\u001b[0m\u001b[0;34m.\u001b[0m\u001b[0mnext\u001b[0m\u001b[0;34m.\u001b[0m\u001b[0msend\u001b[0m\u001b[0;34m(\u001b[0m\u001b[0mrequest\u001b[0m\u001b[0;34m)\u001b[0m\u001b[0;34m\u001b[0m\u001b[0;34m\u001b[0m\u001b[0m\n\u001b[0m\u001b[1;32m     72\u001b[0m         \u001b[0;32mexcept\u001b[0m \u001b[0mException\u001b[0m\u001b[0;34m:\u001b[0m  \u001b[0;31m# pylint: disable=broad-except\u001b[0m\u001b[0;34m\u001b[0m\u001b[0;34m\u001b[0m\u001b[0m\n\u001b[1;32m     73\u001b[0m             \u001b[0;32mif\u001b[0m \u001b[0;32mnot\u001b[0m \u001b[0m_await_result\u001b[0m\u001b[0;34m(\u001b[0m\u001b[0mself\u001b[0m\u001b[0;34m.\u001b[0m\u001b[0m_policy\u001b[0m\u001b[0;34m.\u001b[0m\u001b[0mon_exception\u001b[0m\u001b[0;34m,\u001b[0m \u001b[0mrequest\u001b[0m\u001b[0;34m)\u001b[0m\u001b[0;34m:\u001b[0m\u001b[0;34m\u001b[0m\u001b[0;34m\u001b[0m\u001b[0m\n",
            "\u001b[0;32m/usr/local/lib/python3.6/dist-packages/azure/core/pipeline/_base.py\u001b[0m in \u001b[0;36msend\u001b[0;34m(self, request)\u001b[0m\n\u001b[1;32m     69\u001b[0m         \u001b[0m_await_result\u001b[0m\u001b[0;34m(\u001b[0m\u001b[0mself\u001b[0m\u001b[0;34m.\u001b[0m\u001b[0m_policy\u001b[0m\u001b[0;34m.\u001b[0m\u001b[0mon_request\u001b[0m\u001b[0;34m,\u001b[0m \u001b[0mrequest\u001b[0m\u001b[0;34m)\u001b[0m\u001b[0;34m\u001b[0m\u001b[0;34m\u001b[0m\u001b[0m\n\u001b[1;32m     70\u001b[0m         \u001b[0;32mtry\u001b[0m\u001b[0;34m:\u001b[0m\u001b[0;34m\u001b[0m\u001b[0;34m\u001b[0m\u001b[0m\n\u001b[0;32m---> 71\u001b[0;31m             \u001b[0mresponse\u001b[0m \u001b[0;34m=\u001b[0m \u001b[0mself\u001b[0m\u001b[0;34m.\u001b[0m\u001b[0mnext\u001b[0m\u001b[0;34m.\u001b[0m\u001b[0msend\u001b[0m\u001b[0;34m(\u001b[0m\u001b[0mrequest\u001b[0m\u001b[0;34m)\u001b[0m\u001b[0;34m\u001b[0m\u001b[0;34m\u001b[0m\u001b[0m\n\u001b[0m\u001b[1;32m     72\u001b[0m         \u001b[0;32mexcept\u001b[0m \u001b[0mException\u001b[0m\u001b[0;34m:\u001b[0m  \u001b[0;31m# pylint: disable=broad-except\u001b[0m\u001b[0;34m\u001b[0m\u001b[0;34m\u001b[0m\u001b[0m\n\u001b[1;32m     73\u001b[0m             \u001b[0;32mif\u001b[0m \u001b[0;32mnot\u001b[0m \u001b[0m_await_result\u001b[0m\u001b[0;34m(\u001b[0m\u001b[0mself\u001b[0m\u001b[0;34m.\u001b[0m\u001b[0m_policy\u001b[0m\u001b[0;34m.\u001b[0m\u001b[0mon_exception\u001b[0m\u001b[0;34m,\u001b[0m \u001b[0mrequest\u001b[0m\u001b[0;34m)\u001b[0m\u001b[0;34m:\u001b[0m\u001b[0;34m\u001b[0m\u001b[0;34m\u001b[0m\u001b[0m\n",
            "\u001b[0;32m/usr/local/lib/python3.6/dist-packages/azure/core/pipeline/_base.py\u001b[0m in \u001b[0;36msend\u001b[0;34m(self, request)\u001b[0m\n\u001b[1;32m     69\u001b[0m         \u001b[0m_await_result\u001b[0m\u001b[0;34m(\u001b[0m\u001b[0mself\u001b[0m\u001b[0;34m.\u001b[0m\u001b[0m_policy\u001b[0m\u001b[0;34m.\u001b[0m\u001b[0mon_request\u001b[0m\u001b[0;34m,\u001b[0m \u001b[0mrequest\u001b[0m\u001b[0;34m)\u001b[0m\u001b[0;34m\u001b[0m\u001b[0;34m\u001b[0m\u001b[0m\n\u001b[1;32m     70\u001b[0m         \u001b[0;32mtry\u001b[0m\u001b[0;34m:\u001b[0m\u001b[0;34m\u001b[0m\u001b[0;34m\u001b[0m\u001b[0m\n\u001b[0;32m---> 71\u001b[0;31m             \u001b[0mresponse\u001b[0m \u001b[0;34m=\u001b[0m \u001b[0mself\u001b[0m\u001b[0;34m.\u001b[0m\u001b[0mnext\u001b[0m\u001b[0;34m.\u001b[0m\u001b[0msend\u001b[0m\u001b[0;34m(\u001b[0m\u001b[0mrequest\u001b[0m\u001b[0;34m)\u001b[0m\u001b[0;34m\u001b[0m\u001b[0;34m\u001b[0m\u001b[0m\n\u001b[0m\u001b[1;32m     72\u001b[0m         \u001b[0;32mexcept\u001b[0m \u001b[0mException\u001b[0m\u001b[0;34m:\u001b[0m  \u001b[0;31m# pylint: disable=broad-except\u001b[0m\u001b[0;34m\u001b[0m\u001b[0;34m\u001b[0m\u001b[0m\n\u001b[1;32m     73\u001b[0m             \u001b[0;32mif\u001b[0m \u001b[0;32mnot\u001b[0m \u001b[0m_await_result\u001b[0m\u001b[0;34m(\u001b[0m\u001b[0mself\u001b[0m\u001b[0;34m.\u001b[0m\u001b[0m_policy\u001b[0m\u001b[0;34m.\u001b[0m\u001b[0mon_exception\u001b[0m\u001b[0;34m,\u001b[0m \u001b[0mrequest\u001b[0m\u001b[0;34m)\u001b[0m\u001b[0;34m:\u001b[0m\u001b[0;34m\u001b[0m\u001b[0;34m\u001b[0m\u001b[0m\n",
            "\u001b[0;32m/usr/local/lib/python3.6/dist-packages/azure/core/pipeline/_base.py\u001b[0m in \u001b[0;36msend\u001b[0;34m(self, request)\u001b[0m\n\u001b[1;32m    101\u001b[0m         return PipelineResponse(\n\u001b[1;32m    102\u001b[0m             \u001b[0mrequest\u001b[0m\u001b[0;34m.\u001b[0m\u001b[0mhttp_request\u001b[0m\u001b[0;34m,\u001b[0m\u001b[0;34m\u001b[0m\u001b[0;34m\u001b[0m\u001b[0m\n\u001b[0;32m--> 103\u001b[0;31m             \u001b[0mself\u001b[0m\u001b[0;34m.\u001b[0m\u001b[0m_sender\u001b[0m\u001b[0;34m.\u001b[0m\u001b[0msend\u001b[0m\u001b[0;34m(\u001b[0m\u001b[0mrequest\u001b[0m\u001b[0;34m.\u001b[0m\u001b[0mhttp_request\u001b[0m\u001b[0;34m,\u001b[0m \u001b[0;34m**\u001b[0m\u001b[0mrequest\u001b[0m\u001b[0;34m.\u001b[0m\u001b[0mcontext\u001b[0m\u001b[0;34m.\u001b[0m\u001b[0moptions\u001b[0m\u001b[0;34m)\u001b[0m\u001b[0;34m,\u001b[0m\u001b[0;34m\u001b[0m\u001b[0;34m\u001b[0m\u001b[0m\n\u001b[0m\u001b[1;32m    104\u001b[0m             \u001b[0mcontext\u001b[0m\u001b[0;34m=\u001b[0m\u001b[0mrequest\u001b[0m\u001b[0;34m.\u001b[0m\u001b[0mcontext\u001b[0m\u001b[0;34m,\u001b[0m\u001b[0;34m\u001b[0m\u001b[0;34m\u001b[0m\u001b[0m\n\u001b[1;32m    105\u001b[0m         )\n",
            "\u001b[0;32m/usr/local/lib/python3.6/dist-packages/azure/core/pipeline/transport/_requests_basic.py\u001b[0m in \u001b[0;36msend\u001b[0;34m(self, request, **kwargs)\u001b[0m\n\u001b[1;32m    268\u001b[0m                 \u001b[0mcert\u001b[0m\u001b[0;34m=\u001b[0m\u001b[0mkwargs\u001b[0m\u001b[0;34m.\u001b[0m\u001b[0mpop\u001b[0m\u001b[0;34m(\u001b[0m\u001b[0;34m'connection_cert'\u001b[0m\u001b[0;34m,\u001b[0m \u001b[0mself\u001b[0m\u001b[0;34m.\u001b[0m\u001b[0mconnection_config\u001b[0m\u001b[0;34m.\u001b[0m\u001b[0mcert\u001b[0m\u001b[0;34m)\u001b[0m\u001b[0;34m,\u001b[0m\u001b[0;34m\u001b[0m\u001b[0;34m\u001b[0m\u001b[0m\n\u001b[1;32m    269\u001b[0m                 \u001b[0mallow_redirects\u001b[0m\u001b[0;34m=\u001b[0m\u001b[0;32mFalse\u001b[0m\u001b[0;34m,\u001b[0m\u001b[0;34m\u001b[0m\u001b[0;34m\u001b[0m\u001b[0m\n\u001b[0;32m--> 270\u001b[0;31m                 **kwargs)\n\u001b[0m\u001b[1;32m    271\u001b[0m \u001b[0;34m\u001b[0m\u001b[0m\n\u001b[1;32m    272\u001b[0m         \u001b[0;32mexcept\u001b[0m \u001b[0;34m(\u001b[0m\u001b[0murllib3\u001b[0m\u001b[0;34m.\u001b[0m\u001b[0mexceptions\u001b[0m\u001b[0;34m.\u001b[0m\u001b[0mNewConnectionError\u001b[0m\u001b[0;34m,\u001b[0m \u001b[0murllib3\u001b[0m\u001b[0;34m.\u001b[0m\u001b[0mexceptions\u001b[0m\u001b[0;34m.\u001b[0m\u001b[0mConnectTimeoutError\u001b[0m\u001b[0;34m)\u001b[0m \u001b[0;32mas\u001b[0m \u001b[0merr\u001b[0m\u001b[0;34m:\u001b[0m\u001b[0;34m\u001b[0m\u001b[0;34m\u001b[0m\u001b[0m\n",
            "\u001b[0;32m/usr/local/lib/python3.6/dist-packages/requests/sessions.py\u001b[0m in \u001b[0;36mrequest\u001b[0;34m(self, method, url, params, data, headers, cookies, files, auth, timeout, allow_redirects, proxies, hooks, stream, verify, cert, json)\u001b[0m\n\u001b[1;32m    528\u001b[0m         }\n\u001b[1;32m    529\u001b[0m         \u001b[0msend_kwargs\u001b[0m\u001b[0;34m.\u001b[0m\u001b[0mupdate\u001b[0m\u001b[0;34m(\u001b[0m\u001b[0msettings\u001b[0m\u001b[0;34m)\u001b[0m\u001b[0;34m\u001b[0m\u001b[0;34m\u001b[0m\u001b[0m\n\u001b[0;32m--> 530\u001b[0;31m         \u001b[0mresp\u001b[0m \u001b[0;34m=\u001b[0m \u001b[0mself\u001b[0m\u001b[0;34m.\u001b[0m\u001b[0msend\u001b[0m\u001b[0;34m(\u001b[0m\u001b[0mprep\u001b[0m\u001b[0;34m,\u001b[0m \u001b[0;34m**\u001b[0m\u001b[0msend_kwargs\u001b[0m\u001b[0;34m)\u001b[0m\u001b[0;34m\u001b[0m\u001b[0;34m\u001b[0m\u001b[0m\n\u001b[0m\u001b[1;32m    531\u001b[0m \u001b[0;34m\u001b[0m\u001b[0m\n\u001b[1;32m    532\u001b[0m         \u001b[0;32mreturn\u001b[0m \u001b[0mresp\u001b[0m\u001b[0;34m\u001b[0m\u001b[0;34m\u001b[0m\u001b[0m\n",
            "\u001b[0;32m/usr/local/lib/python3.6/dist-packages/requests/sessions.py\u001b[0m in \u001b[0;36msend\u001b[0;34m(self, request, **kwargs)\u001b[0m\n\u001b[1;32m    641\u001b[0m \u001b[0;34m\u001b[0m\u001b[0m\n\u001b[1;32m    642\u001b[0m         \u001b[0;31m# Send the request\u001b[0m\u001b[0;34m\u001b[0m\u001b[0;34m\u001b[0m\u001b[0;34m\u001b[0m\u001b[0m\n\u001b[0;32m--> 643\u001b[0;31m         \u001b[0mr\u001b[0m \u001b[0;34m=\u001b[0m \u001b[0madapter\u001b[0m\u001b[0;34m.\u001b[0m\u001b[0msend\u001b[0m\u001b[0;34m(\u001b[0m\u001b[0mrequest\u001b[0m\u001b[0;34m,\u001b[0m \u001b[0;34m**\u001b[0m\u001b[0mkwargs\u001b[0m\u001b[0;34m)\u001b[0m\u001b[0;34m\u001b[0m\u001b[0;34m\u001b[0m\u001b[0m\n\u001b[0m\u001b[1;32m    644\u001b[0m \u001b[0;34m\u001b[0m\u001b[0m\n\u001b[1;32m    645\u001b[0m         \u001b[0;31m# Total elapsed time of the request (approximately)\u001b[0m\u001b[0;34m\u001b[0m\u001b[0;34m\u001b[0m\u001b[0;34m\u001b[0m\u001b[0m\n",
            "\u001b[0;32m/usr/local/lib/python3.6/dist-packages/requests/adapters.py\u001b[0m in \u001b[0;36msend\u001b[0;34m(self, request, stream, timeout, verify, cert, proxies)\u001b[0m\n\u001b[1;32m    447\u001b[0m                     \u001b[0mdecode_content\u001b[0m\u001b[0;34m=\u001b[0m\u001b[0;32mFalse\u001b[0m\u001b[0;34m,\u001b[0m\u001b[0;34m\u001b[0m\u001b[0;34m\u001b[0m\u001b[0m\n\u001b[1;32m    448\u001b[0m                     \u001b[0mretries\u001b[0m\u001b[0;34m=\u001b[0m\u001b[0mself\u001b[0m\u001b[0;34m.\u001b[0m\u001b[0mmax_retries\u001b[0m\u001b[0;34m,\u001b[0m\u001b[0;34m\u001b[0m\u001b[0;34m\u001b[0m\u001b[0m\n\u001b[0;32m--> 449\u001b[0;31m                     \u001b[0mtimeout\u001b[0m\u001b[0;34m=\u001b[0m\u001b[0mtimeout\u001b[0m\u001b[0;34m\u001b[0m\u001b[0;34m\u001b[0m\u001b[0m\n\u001b[0m\u001b[1;32m    450\u001b[0m                 )\n\u001b[1;32m    451\u001b[0m \u001b[0;34m\u001b[0m\u001b[0m\n",
            "\u001b[0;32m/usr/local/lib/python3.6/dist-packages/urllib3/connectionpool.py\u001b[0m in \u001b[0;36murlopen\u001b[0;34m(self, method, url, body, headers, retries, redirect, assert_same_host, timeout, pool_timeout, release_conn, chunked, body_pos, **response_kw)\u001b[0m\n\u001b[1;32m    598\u001b[0m                                                   \u001b[0mtimeout\u001b[0m\u001b[0;34m=\u001b[0m\u001b[0mtimeout_obj\u001b[0m\u001b[0;34m,\u001b[0m\u001b[0;34m\u001b[0m\u001b[0;34m\u001b[0m\u001b[0m\n\u001b[1;32m    599\u001b[0m                                                   \u001b[0mbody\u001b[0m\u001b[0;34m=\u001b[0m\u001b[0mbody\u001b[0m\u001b[0;34m,\u001b[0m \u001b[0mheaders\u001b[0m\u001b[0;34m=\u001b[0m\u001b[0mheaders\u001b[0m\u001b[0;34m,\u001b[0m\u001b[0;34m\u001b[0m\u001b[0;34m\u001b[0m\u001b[0m\n\u001b[0;32m--> 600\u001b[0;31m                                                   chunked=chunked)\n\u001b[0m\u001b[1;32m    601\u001b[0m \u001b[0;34m\u001b[0m\u001b[0m\n\u001b[1;32m    602\u001b[0m             \u001b[0;31m# If we're going to release the connection in ``finally:``, then\u001b[0m\u001b[0;34m\u001b[0m\u001b[0;34m\u001b[0m\u001b[0;34m\u001b[0m\u001b[0m\n",
            "\u001b[0;32m/usr/local/lib/python3.6/dist-packages/urllib3/connectionpool.py\u001b[0m in \u001b[0;36m_make_request\u001b[0;34m(self, conn, method, url, timeout, chunked, **httplib_request_kw)\u001b[0m\n\u001b[1;32m    378\u001b[0m             \u001b[0;32mexcept\u001b[0m \u001b[0mTypeError\u001b[0m\u001b[0;34m:\u001b[0m  \u001b[0;31m# Python 3\u001b[0m\u001b[0;34m\u001b[0m\u001b[0;34m\u001b[0m\u001b[0m\n\u001b[1;32m    379\u001b[0m                 \u001b[0;32mtry\u001b[0m\u001b[0;34m:\u001b[0m\u001b[0;34m\u001b[0m\u001b[0;34m\u001b[0m\u001b[0m\n\u001b[0;32m--> 380\u001b[0;31m                     \u001b[0mhttplib_response\u001b[0m \u001b[0;34m=\u001b[0m \u001b[0mconn\u001b[0m\u001b[0;34m.\u001b[0m\u001b[0mgetresponse\u001b[0m\u001b[0;34m(\u001b[0m\u001b[0;34m)\u001b[0m\u001b[0;34m\u001b[0m\u001b[0;34m\u001b[0m\u001b[0m\n\u001b[0m\u001b[1;32m    381\u001b[0m                 \u001b[0;32mexcept\u001b[0m \u001b[0mException\u001b[0m \u001b[0;32mas\u001b[0m \u001b[0me\u001b[0m\u001b[0;34m:\u001b[0m\u001b[0;34m\u001b[0m\u001b[0;34m\u001b[0m\u001b[0m\n\u001b[1;32m    382\u001b[0m                     \u001b[0;31m# Remove the TypeError from the exception chain in Python 3;\u001b[0m\u001b[0;34m\u001b[0m\u001b[0;34m\u001b[0m\u001b[0;34m\u001b[0m\u001b[0m\n",
            "\u001b[0;32m/usr/lib/python3.6/http/client.py\u001b[0m in \u001b[0;36mgetresponse\u001b[0;34m(self)\u001b[0m\n\u001b[1;32m   1371\u001b[0m         \u001b[0;32mtry\u001b[0m\u001b[0;34m:\u001b[0m\u001b[0;34m\u001b[0m\u001b[0;34m\u001b[0m\u001b[0m\n\u001b[1;32m   1372\u001b[0m             \u001b[0;32mtry\u001b[0m\u001b[0;34m:\u001b[0m\u001b[0;34m\u001b[0m\u001b[0;34m\u001b[0m\u001b[0m\n\u001b[0;32m-> 1373\u001b[0;31m                 \u001b[0mresponse\u001b[0m\u001b[0;34m.\u001b[0m\u001b[0mbegin\u001b[0m\u001b[0;34m(\u001b[0m\u001b[0;34m)\u001b[0m\u001b[0;34m\u001b[0m\u001b[0;34m\u001b[0m\u001b[0m\n\u001b[0m\u001b[1;32m   1374\u001b[0m             \u001b[0;32mexcept\u001b[0m \u001b[0mConnectionError\u001b[0m\u001b[0;34m:\u001b[0m\u001b[0;34m\u001b[0m\u001b[0;34m\u001b[0m\u001b[0m\n\u001b[1;32m   1375\u001b[0m                 \u001b[0mself\u001b[0m\u001b[0;34m.\u001b[0m\u001b[0mclose\u001b[0m\u001b[0;34m(\u001b[0m\u001b[0;34m)\u001b[0m\u001b[0;34m\u001b[0m\u001b[0;34m\u001b[0m\u001b[0m\n",
            "\u001b[0;32m/usr/lib/python3.6/http/client.py\u001b[0m in \u001b[0;36mbegin\u001b[0;34m(self)\u001b[0m\n\u001b[1;32m    309\u001b[0m         \u001b[0;31m# read until we get a non-100 response\u001b[0m\u001b[0;34m\u001b[0m\u001b[0;34m\u001b[0m\u001b[0;34m\u001b[0m\u001b[0m\n\u001b[1;32m    310\u001b[0m         \u001b[0;32mwhile\u001b[0m \u001b[0;32mTrue\u001b[0m\u001b[0;34m:\u001b[0m\u001b[0;34m\u001b[0m\u001b[0;34m\u001b[0m\u001b[0m\n\u001b[0;32m--> 311\u001b[0;31m             \u001b[0mversion\u001b[0m\u001b[0;34m,\u001b[0m \u001b[0mstatus\u001b[0m\u001b[0;34m,\u001b[0m \u001b[0mreason\u001b[0m \u001b[0;34m=\u001b[0m \u001b[0mself\u001b[0m\u001b[0;34m.\u001b[0m\u001b[0m_read_status\u001b[0m\u001b[0;34m(\u001b[0m\u001b[0;34m)\u001b[0m\u001b[0;34m\u001b[0m\u001b[0;34m\u001b[0m\u001b[0m\n\u001b[0m\u001b[1;32m    312\u001b[0m             \u001b[0;32mif\u001b[0m \u001b[0mstatus\u001b[0m \u001b[0;34m!=\u001b[0m \u001b[0mCONTINUE\u001b[0m\u001b[0;34m:\u001b[0m\u001b[0;34m\u001b[0m\u001b[0;34m\u001b[0m\u001b[0m\n\u001b[1;32m    313\u001b[0m                 \u001b[0;32mbreak\u001b[0m\u001b[0;34m\u001b[0m\u001b[0;34m\u001b[0m\u001b[0m\n",
            "\u001b[0;32m/usr/lib/python3.6/http/client.py\u001b[0m in \u001b[0;36m_read_status\u001b[0;34m(self)\u001b[0m\n\u001b[1;32m    270\u001b[0m \u001b[0;34m\u001b[0m\u001b[0m\n\u001b[1;32m    271\u001b[0m     \u001b[0;32mdef\u001b[0m \u001b[0m_read_status\u001b[0m\u001b[0;34m(\u001b[0m\u001b[0mself\u001b[0m\u001b[0;34m)\u001b[0m\u001b[0;34m:\u001b[0m\u001b[0;34m\u001b[0m\u001b[0;34m\u001b[0m\u001b[0m\n\u001b[0;32m--> 272\u001b[0;31m         \u001b[0mline\u001b[0m \u001b[0;34m=\u001b[0m \u001b[0mstr\u001b[0m\u001b[0;34m(\u001b[0m\u001b[0mself\u001b[0m\u001b[0;34m.\u001b[0m\u001b[0mfp\u001b[0m\u001b[0;34m.\u001b[0m\u001b[0mreadline\u001b[0m\u001b[0;34m(\u001b[0m\u001b[0m_MAXLINE\u001b[0m \u001b[0;34m+\u001b[0m \u001b[0;36m1\u001b[0m\u001b[0;34m)\u001b[0m\u001b[0;34m,\u001b[0m \u001b[0;34m\"iso-8859-1\"\u001b[0m\u001b[0;34m)\u001b[0m\u001b[0;34m\u001b[0m\u001b[0;34m\u001b[0m\u001b[0m\n\u001b[0m\u001b[1;32m    273\u001b[0m         \u001b[0;32mif\u001b[0m \u001b[0mlen\u001b[0m\u001b[0;34m(\u001b[0m\u001b[0mline\u001b[0m\u001b[0;34m)\u001b[0m \u001b[0;34m>\u001b[0m \u001b[0m_MAXLINE\u001b[0m\u001b[0;34m:\u001b[0m\u001b[0;34m\u001b[0m\u001b[0;34m\u001b[0m\u001b[0m\n\u001b[1;32m    274\u001b[0m             \u001b[0;32mraise\u001b[0m \u001b[0mLineTooLong\u001b[0m\u001b[0;34m(\u001b[0m\u001b[0;34m\"status line\"\u001b[0m\u001b[0;34m)\u001b[0m\u001b[0;34m\u001b[0m\u001b[0;34m\u001b[0m\u001b[0m\n",
            "\u001b[0;32m/usr/lib/python3.6/socket.py\u001b[0m in \u001b[0;36mreadinto\u001b[0;34m(self, b)\u001b[0m\n\u001b[1;32m    584\u001b[0m         \u001b[0;32mwhile\u001b[0m \u001b[0;32mTrue\u001b[0m\u001b[0;34m:\u001b[0m\u001b[0;34m\u001b[0m\u001b[0;34m\u001b[0m\u001b[0m\n\u001b[1;32m    585\u001b[0m             \u001b[0;32mtry\u001b[0m\u001b[0;34m:\u001b[0m\u001b[0;34m\u001b[0m\u001b[0;34m\u001b[0m\u001b[0m\n\u001b[0;32m--> 586\u001b[0;31m                 \u001b[0;32mreturn\u001b[0m \u001b[0mself\u001b[0m\u001b[0;34m.\u001b[0m\u001b[0m_sock\u001b[0m\u001b[0;34m.\u001b[0m\u001b[0mrecv_into\u001b[0m\u001b[0;34m(\u001b[0m\u001b[0mb\u001b[0m\u001b[0;34m)\u001b[0m\u001b[0;34m\u001b[0m\u001b[0;34m\u001b[0m\u001b[0m\n\u001b[0m\u001b[1;32m    587\u001b[0m             \u001b[0;32mexcept\u001b[0m \u001b[0mtimeout\u001b[0m\u001b[0;34m:\u001b[0m\u001b[0;34m\u001b[0m\u001b[0;34m\u001b[0m\u001b[0m\n\u001b[1;32m    588\u001b[0m                 \u001b[0mself\u001b[0m\u001b[0;34m.\u001b[0m\u001b[0m_timeout_occurred\u001b[0m \u001b[0;34m=\u001b[0m \u001b[0;32mTrue\u001b[0m\u001b[0;34m\u001b[0m\u001b[0;34m\u001b[0m\u001b[0m\n",
            "\u001b[0;32m/usr/lib/python3.6/ssl.py\u001b[0m in \u001b[0;36mrecv_into\u001b[0;34m(self, buffer, nbytes, flags)\u001b[0m\n\u001b[1;32m   1010\u001b[0m                   \u001b[0;34m\"non-zero flags not allowed in calls to recv_into() on %s\"\u001b[0m \u001b[0;34m%\u001b[0m\u001b[0;34m\u001b[0m\u001b[0;34m\u001b[0m\u001b[0m\n\u001b[1;32m   1011\u001b[0m                   self.__class__)\n\u001b[0;32m-> 1012\u001b[0;31m             \u001b[0;32mreturn\u001b[0m \u001b[0mself\u001b[0m\u001b[0;34m.\u001b[0m\u001b[0mread\u001b[0m\u001b[0;34m(\u001b[0m\u001b[0mnbytes\u001b[0m\u001b[0;34m,\u001b[0m \u001b[0mbuffer\u001b[0m\u001b[0;34m)\u001b[0m\u001b[0;34m\u001b[0m\u001b[0;34m\u001b[0m\u001b[0m\n\u001b[0m\u001b[1;32m   1013\u001b[0m         \u001b[0;32melse\u001b[0m\u001b[0;34m:\u001b[0m\u001b[0;34m\u001b[0m\u001b[0;34m\u001b[0m\u001b[0m\n\u001b[1;32m   1014\u001b[0m             \u001b[0;32mreturn\u001b[0m \u001b[0msocket\u001b[0m\u001b[0;34m.\u001b[0m\u001b[0mrecv_into\u001b[0m\u001b[0;34m(\u001b[0m\u001b[0mself\u001b[0m\u001b[0;34m,\u001b[0m \u001b[0mbuffer\u001b[0m\u001b[0;34m,\u001b[0m \u001b[0mnbytes\u001b[0m\u001b[0;34m,\u001b[0m \u001b[0mflags\u001b[0m\u001b[0;34m)\u001b[0m\u001b[0;34m\u001b[0m\u001b[0;34m\u001b[0m\u001b[0m\n",
            "\u001b[0;32m/usr/lib/python3.6/ssl.py\u001b[0m in \u001b[0;36mread\u001b[0;34m(self, len, buffer)\u001b[0m\n\u001b[1;32m    872\u001b[0m             \u001b[0;32mraise\u001b[0m \u001b[0mValueError\u001b[0m\u001b[0;34m(\u001b[0m\u001b[0;34m\"Read on closed or unwrapped SSL socket.\"\u001b[0m\u001b[0;34m)\u001b[0m\u001b[0;34m\u001b[0m\u001b[0;34m\u001b[0m\u001b[0m\n\u001b[1;32m    873\u001b[0m         \u001b[0;32mtry\u001b[0m\u001b[0;34m:\u001b[0m\u001b[0;34m\u001b[0m\u001b[0;34m\u001b[0m\u001b[0m\n\u001b[0;32m--> 874\u001b[0;31m             \u001b[0;32mreturn\u001b[0m \u001b[0mself\u001b[0m\u001b[0;34m.\u001b[0m\u001b[0m_sslobj\u001b[0m\u001b[0;34m.\u001b[0m\u001b[0mread\u001b[0m\u001b[0;34m(\u001b[0m\u001b[0mlen\u001b[0m\u001b[0;34m,\u001b[0m \u001b[0mbuffer\u001b[0m\u001b[0;34m)\u001b[0m\u001b[0;34m\u001b[0m\u001b[0;34m\u001b[0m\u001b[0m\n\u001b[0m\u001b[1;32m    875\u001b[0m         \u001b[0;32mexcept\u001b[0m \u001b[0mSSLError\u001b[0m \u001b[0;32mas\u001b[0m \u001b[0mx\u001b[0m\u001b[0;34m:\u001b[0m\u001b[0;34m\u001b[0m\u001b[0;34m\u001b[0m\u001b[0m\n\u001b[1;32m    876\u001b[0m             \u001b[0;32mif\u001b[0m \u001b[0mx\u001b[0m\u001b[0;34m.\u001b[0m\u001b[0margs\u001b[0m\u001b[0;34m[\u001b[0m\u001b[0;36m0\u001b[0m\u001b[0;34m]\u001b[0m \u001b[0;34m==\u001b[0m \u001b[0mSSL_ERROR_EOF\u001b[0m \u001b[0;32mand\u001b[0m \u001b[0mself\u001b[0m\u001b[0;34m.\u001b[0m\u001b[0msuppress_ragged_eofs\u001b[0m\u001b[0;34m:\u001b[0m\u001b[0;34m\u001b[0m\u001b[0;34m\u001b[0m\u001b[0m\n",
            "\u001b[0;32m/usr/lib/python3.6/ssl.py\u001b[0m in \u001b[0;36mread\u001b[0;34m(self, len, buffer)\u001b[0m\n\u001b[1;32m    629\u001b[0m         \"\"\"\n\u001b[1;32m    630\u001b[0m         \u001b[0;32mif\u001b[0m \u001b[0mbuffer\u001b[0m \u001b[0;32mis\u001b[0m \u001b[0;32mnot\u001b[0m \u001b[0;32mNone\u001b[0m\u001b[0;34m:\u001b[0m\u001b[0;34m\u001b[0m\u001b[0;34m\u001b[0m\u001b[0m\n\u001b[0;32m--> 631\u001b[0;31m             \u001b[0mv\u001b[0m \u001b[0;34m=\u001b[0m \u001b[0mself\u001b[0m\u001b[0;34m.\u001b[0m\u001b[0m_sslobj\u001b[0m\u001b[0;34m.\u001b[0m\u001b[0mread\u001b[0m\u001b[0;34m(\u001b[0m\u001b[0mlen\u001b[0m\u001b[0;34m,\u001b[0m \u001b[0mbuffer\u001b[0m\u001b[0;34m)\u001b[0m\u001b[0;34m\u001b[0m\u001b[0;34m\u001b[0m\u001b[0m\n\u001b[0m\u001b[1;32m    632\u001b[0m         \u001b[0;32melse\u001b[0m\u001b[0;34m:\u001b[0m\u001b[0;34m\u001b[0m\u001b[0;34m\u001b[0m\u001b[0m\n\u001b[1;32m    633\u001b[0m             \u001b[0mv\u001b[0m \u001b[0;34m=\u001b[0m \u001b[0mself\u001b[0m\u001b[0;34m.\u001b[0m\u001b[0m_sslobj\u001b[0m\u001b[0;34m.\u001b[0m\u001b[0mread\u001b[0m\u001b[0;34m(\u001b[0m\u001b[0mlen\u001b[0m\u001b[0;34m)\u001b[0m\u001b[0;34m\u001b[0m\u001b[0;34m\u001b[0m\u001b[0m\n",
            "\u001b[0;31mKeyboardInterrupt\u001b[0m: "
          ]
        }
      ]
    },
    {
      "cell_type": "code",
      "metadata": {
        "id": "Np-NRYvSg0YD"
      },
      "source": [
        "documents=df[['id','language','text']]\n",
        "\n",
        "documents.head()\n",
        "\n",
        "documents1 = documents.to_json(orient ='records') "
      ],
      "execution_count": null,
      "outputs": []
    },
    {
      "cell_type": "code",
      "metadata": {
        "id": "D_Y-R041P6EO"
      },
      "source": [
        "print(\"documents = \", documents1, \"\\n\") "
      ],
      "execution_count": null,
      "outputs": []
    },
    {
      "cell_type": "code",
      "metadata": {
        "id": "86TbAIBOT9Mo"
      },
      "source": [
        "def entity_recognition_batch():\n",
        "    \n",
        "    client = authenticateClient()\n",
        "\n",
        "    try:\n",
        "        documents= parsed\n",
        "        response = client.entities(documents=documents)\n",
        "\n",
        "        for document in response.documents:\n",
        "            print(\"Document Id: \", document.id)\n",
        "            print(\"\\tKey Entities:\")\n",
        "            for entity in document.entities:\n",
        "\n",
        "                print(\"\\t\\t\", \"NAME: \", entity.name, \"\\tType: \",\n",
        "                      entity.type, \"\\tSub-type: \", entity.sub_type)\n",
        "                for match in entity.matches:\n",
        "                      print(\"\\t\\t\\tOffset: \", match.offset,\"\\tLength: \", match.length,\"\\tScore: \",\n",
        "                          (match.entity_type_score))\n",
        "\n",
        "    except Exception as err:\n",
        "        print(\"Encountered exception. {}\".format(err))\n",
        "entity_recognition_batch()"
      ],
      "execution_count": null,
      "outputs": []
    },
    {
      "cell_type": "code",
      "metadata": {
        "id": "7cw-HTCXULRU"
      },
      "source": [
        "client = authenticateClient()"
      ],
      "execution_count": null,
      "outputs": []
    },
    {
      "cell_type": "code",
      "metadata": {
        "id": "XguoxqCLTrqd"
      },
      "source": [
        "documents_test= [\n",
        "                    {\"id\":\"1\",\"language\":\"en\",\"text\":\"good and interesting\"},\n",
        "                    {\"id\":\"2\",\"language\":\"en\",\"text\":\"This class is very helpful to me. Currently, I'm still learning this class which makes up a lot of basic music knowledge.\"}]"
      ],
      "execution_count": null,
      "outputs": []
    },
    {
      "cell_type": "code",
      "metadata": {
        "id": "Qelkphb3TVEf"
      },
      "source": [
        "response = client.entities(documents=documents_test)"
      ],
      "execution_count": null,
      "outputs": []
    },
    {
      "cell_type": "code",
      "metadata": {
        "id": "7Bp65jmzTWl0"
      },
      "source": [
        ""
      ],
      "execution_count": null,
      "outputs": []
    },
    {
      "cell_type": "code",
      "metadata": {
        "id": "K_PkSB7s7R8W"
      },
      "source": [
        ""
      ],
      "execution_count": null,
      "outputs": []
    },
    {
      "cell_type": "code",
      "metadata": {
        "id": "pZa891eH7U20"
      },
      "source": [
        ""
      ],
      "execution_count": null,
      "outputs": []
    },
    {
      "cell_type": "markdown",
      "metadata": {
        "id": "_Z4lYqLz7bTz"
      },
      "source": [
        "**GCP SERVICES**"
      ]
    },
    {
      "cell_type": "markdown",
      "metadata": {
        "id": "lPP9OdF87kbj"
      },
      "source": [
        "# **GCP SERVICES**\n"
      ]
    },
    {
      "cell_type": "code",
      "metadata": {
        "colab": {
          "base_uri": "https://localhost:8080/",
          "height": 666
        },
        "id": "vKva2Xdr_LU0",
        "outputId": "bbb484e8-8e4f-420c-87fd-5d52ce421879"
      },
      "source": [
        "pip install --upgrade google-cloud-language"
      ],
      "execution_count": null,
      "outputs": [
        {
          "output_type": "stream",
          "text": [
            "Collecting google-cloud-language\n",
            "\u001b[?25l  Downloading https://files.pythonhosted.org/packages/75/87/624ba184db44972262d369a5cb91bb8ee2810bbace50d0fe880dafd25dec/google_cloud_language-2.0.0-py2.py3-none-any.whl (149kB)\n",
            "\r\u001b[K     |██▏                             | 10kB 21.4MB/s eta 0:00:01\r\u001b[K     |████▍                           | 20kB 14.6MB/s eta 0:00:01\r\u001b[K     |██████▋                         | 30kB 13.0MB/s eta 0:00:01\r\u001b[K     |████████▉                       | 40kB 12.2MB/s eta 0:00:01\r\u001b[K     |███████████                     | 51kB 8.4MB/s eta 0:00:01\r\u001b[K     |█████████████▏                  | 61kB 7.7MB/s eta 0:00:01\r\u001b[K     |███████████████▍                | 71kB 8.7MB/s eta 0:00:01\r\u001b[K     |█████████████████▋              | 81kB 9.7MB/s eta 0:00:01\r\u001b[K     |███████████████████▉            | 92kB 8.9MB/s eta 0:00:01\r\u001b[K     |██████████████████████          | 102kB 8.1MB/s eta 0:00:01\r\u001b[K     |████████████████████████▏       | 112kB 8.1MB/s eta 0:00:01\r\u001b[K     |██████████████████████████▍     | 122kB 8.1MB/s eta 0:00:01\r\u001b[K     |████████████████████████████▋   | 133kB 8.1MB/s eta 0:00:01\r\u001b[K     |██████████████████████████████▉ | 143kB 8.1MB/s eta 0:00:01\r\u001b[K     |████████████████████████████████| 153kB 8.1MB/s \n",
            "\u001b[?25hRequirement already satisfied, skipping upgrade: libcst>=0.2.5 in /usr/local/lib/python3.6/dist-packages (from google-cloud-language) (0.3.16)\n",
            "Requirement already satisfied, skipping upgrade: proto-plus>=1.10.0 in /usr/local/lib/python3.6/dist-packages (from google-cloud-language) (1.13.0)\n",
            "Requirement already satisfied, skipping upgrade: google-api-core[grpc]<2.0.0dev,>=1.22.2 in /usr/local/lib/python3.6/dist-packages (from google-cloud-language) (1.25.0)\n",
            "Requirement already satisfied, skipping upgrade: typing-extensions>=3.7.4.2 in /usr/local/lib/python3.6/dist-packages (from libcst>=0.2.5->google-cloud-language) (3.7.4.3)\n",
            "Requirement already satisfied, skipping upgrade: pyyaml>=5.2 in /usr/local/lib/python3.6/dist-packages (from libcst>=0.2.5->google-cloud-language) (5.4.1)\n",
            "Requirement already satisfied, skipping upgrade: dataclasses>=0.6.0; python_version < \"3.7\" in /usr/local/lib/python3.6/dist-packages (from libcst>=0.2.5->google-cloud-language) (0.8)\n",
            "Requirement already satisfied, skipping upgrade: typing-inspect>=0.4.0 in /usr/local/lib/python3.6/dist-packages (from libcst>=0.2.5->google-cloud-language) (0.6.0)\n",
            "Requirement already satisfied, skipping upgrade: protobuf>=3.12.0 in /usr/local/lib/python3.6/dist-packages (from proto-plus>=1.10.0->google-cloud-language) (3.12.4)\n",
            "Requirement already satisfied, skipping upgrade: pytz in /usr/local/lib/python3.6/dist-packages (from google-api-core[grpc]<2.0.0dev,>=1.22.2->google-cloud-language) (2018.9)\n",
            "Requirement already satisfied, skipping upgrade: six>=1.13.0 in /usr/local/lib/python3.6/dist-packages (from google-api-core[grpc]<2.0.0dev,>=1.22.2->google-cloud-language) (1.15.0)\n",
            "Requirement already satisfied, skipping upgrade: requests<3.0.0dev,>=2.18.0 in /usr/local/lib/python3.6/dist-packages (from google-api-core[grpc]<2.0.0dev,>=1.22.2->google-cloud-language) (2.23.0)\n",
            "Requirement already satisfied, skipping upgrade: setuptools>=40.3.0 in /usr/local/lib/python3.6/dist-packages (from google-api-core[grpc]<2.0.0dev,>=1.22.2->google-cloud-language) (51.1.2)\n",
            "Requirement already satisfied, skipping upgrade: googleapis-common-protos<2.0dev,>=1.6.0 in /usr/local/lib/python3.6/dist-packages (from google-api-core[grpc]<2.0.0dev,>=1.22.2->google-cloud-language) (1.52.0)\n",
            "Requirement already satisfied, skipping upgrade: google-auth<2.0dev,>=1.21.1 in /usr/local/lib/python3.6/dist-packages (from google-api-core[grpc]<2.0.0dev,>=1.22.2->google-cloud-language) (1.24.0)\n",
            "Requirement already satisfied, skipping upgrade: grpcio<2.0dev,>=1.29.0; extra == \"grpc\" in /usr/local/lib/python3.6/dist-packages (from google-api-core[grpc]<2.0.0dev,>=1.22.2->google-cloud-language) (1.32.0)\n",
            "Requirement already satisfied, skipping upgrade: mypy-extensions>=0.3.0 in /usr/local/lib/python3.6/dist-packages (from typing-inspect>=0.4.0->libcst>=0.2.5->google-cloud-language) (0.4.3)\n",
            "Requirement already satisfied, skipping upgrade: idna<3,>=2.5 in /usr/local/lib/python3.6/dist-packages (from requests<3.0.0dev,>=2.18.0->google-api-core[grpc]<2.0.0dev,>=1.22.2->google-cloud-language) (2.10)\n",
            "Requirement already satisfied, skipping upgrade: certifi>=2017.4.17 in /usr/local/lib/python3.6/dist-packages (from requests<3.0.0dev,>=2.18.0->google-api-core[grpc]<2.0.0dev,>=1.22.2->google-cloud-language) (2020.12.5)\n",
            "Requirement already satisfied, skipping upgrade: urllib3!=1.25.0,!=1.25.1,<1.26,>=1.21.1 in /usr/local/lib/python3.6/dist-packages (from requests<3.0.0dev,>=2.18.0->google-api-core[grpc]<2.0.0dev,>=1.22.2->google-cloud-language) (1.24.3)\n",
            "Requirement already satisfied, skipping upgrade: chardet<4,>=3.0.2 in /usr/local/lib/python3.6/dist-packages (from requests<3.0.0dev,>=2.18.0->google-api-core[grpc]<2.0.0dev,>=1.22.2->google-cloud-language) (3.0.4)\n",
            "Requirement already satisfied, skipping upgrade: cachetools<5.0,>=2.0.0 in /usr/local/lib/python3.6/dist-packages (from google-auth<2.0dev,>=1.21.1->google-api-core[grpc]<2.0.0dev,>=1.22.2->google-cloud-language) (4.2.0)\n",
            "Requirement already satisfied, skipping upgrade: rsa<5,>=3.1.4; python_version >= \"3.6\" in /usr/local/lib/python3.6/dist-packages (from google-auth<2.0dev,>=1.21.1->google-api-core[grpc]<2.0.0dev,>=1.22.2->google-cloud-language) (4.6)\n",
            "Requirement already satisfied, skipping upgrade: pyasn1-modules>=0.2.1 in /usr/local/lib/python3.6/dist-packages (from google-auth<2.0dev,>=1.21.1->google-api-core[grpc]<2.0.0dev,>=1.22.2->google-cloud-language) (0.2.8)\n",
            "Requirement already satisfied, skipping upgrade: pyasn1>=0.1.3 in /usr/local/lib/python3.6/dist-packages (from rsa<5,>=3.1.4; python_version >= \"3.6\"->google-auth<2.0dev,>=1.21.1->google-api-core[grpc]<2.0.0dev,>=1.22.2->google-cloud-language) (0.4.8)\n",
            "Installing collected packages: google-cloud-language\n",
            "  Found existing installation: google-cloud-language 1.2.0\n",
            "    Uninstalling google-cloud-language-1.2.0:\n",
            "      Successfully uninstalled google-cloud-language-1.2.0\n",
            "Successfully installed google-cloud-language-2.0.0\n"
          ],
          "name": "stdout"
        },
        {
          "output_type": "display_data",
          "data": {
            "application/vnd.colab-display-data+json": {
              "pip_warning": {
                "packages": [
                  "google"
                ]
              }
            }
          },
          "metadata": {
            "tags": []
          }
        }
      ]
    },
    {
      "cell_type": "code",
      "metadata": {
        "id": "Qpymm8TPJ1bh",
        "colab": {
          "base_uri": "https://localhost:8080/"
        },
        "outputId": "6ba368e7-f782-4597-9790-5b98ad404ec4"
      },
      "source": [
        "!export GOOGLE_APPLICATION_CREDENTIALS=\"/content/mindtreetest-302405-94c85101b26c.json\"\n",
        "!gcloud auth activate-service-account --key-file /content/mindtreetest-302405-94c85101b26c.json\n",
        "!pip install --upgrade -q google-cloud-vision"
      ],
      "execution_count": null,
      "outputs": [
        {
          "output_type": "stream",
          "text": [
            "Activated service account credentials for: [googlenaturalapi@mindtreetest-302405.iam.gserviceaccount.com]\n"
          ],
          "name": "stdout"
        }
      ]
    },
    {
      "cell_type": "code",
      "metadata": {
        "id": "mbeRPrH7J7L5"
      },
      "source": [
        "# set up environment\n",
        "import os\n",
        "\n",
        "os.environ[\"GOOGLE_APPLICATION_CREDENTIALS\"]=\"/content/mindtreetest-302405-94c85101b26c.json\""
      ],
      "execution_count": null,
      "outputs": []
    },
    {
      "cell_type": "code",
      "metadata": {
        "id": "gzd9AWsM_KDP"
      },
      "source": [
        "from google.cloud import language_v1\n",
        "\n",
        "\n",
        "# Instantiates a client\n",
        "client = language_v1.LanguageServiceClient()\n",
        "\n",
        "# The text to analyze\n",
        "text = u\"Bananas are bad.Grapes are good\"\n",
        "document = language_v1.Document(content=text, type_=language_v1.Document.Type.PLAIN_TEXT)"
      ],
      "execution_count": null,
      "outputs": []
    },
    {
      "cell_type": "code",
      "metadata": {
        "id": "uzl_vw23TJd2"
      },
      "source": [
        "entities = client.analyze_entities(request={'document': document})"
      ],
      "execution_count": null,
      "outputs": []
    },
    {
      "cell_type": "code",
      "metadata": {
        "colab": {
          "base_uri": "https://localhost:8080/"
        },
        "id": "gtnLQHQlItUe",
        "outputId": "234e51ca-d577-43d2-f0d8-05cc421d8f4d"
      },
      "source": [
        "entities"
      ],
      "execution_count": null,
      "outputs": [
        {
          "output_type": "execute_result",
          "data": {
            "text/plain": [
              "entities {\n",
              "  name: \"Bananas\"\n",
              "  type_: OTHER\n",
              "  salience: 0.724234402179718\n",
              "  mentions {\n",
              "    text {\n",
              "      content: \"Bananas\"\n",
              "      begin_offset: -1\n",
              "    }\n",
              "    type_: COMMON\n",
              "  }\n",
              "}\n",
              "entities {\n",
              "  name: \"Grapes\"\n",
              "  type_: OTHER\n",
              "  salience: 0.275765597820282\n",
              "  mentions {\n",
              "    text {\n",
              "      content: \"Grapes\"\n",
              "      begin_offset: -1\n",
              "    }\n",
              "    type_: COMMON\n",
              "  }\n",
              "}\n",
              "language: \"en\""
            ]
          },
          "metadata": {
            "tags": []
          },
          "execution_count": 5
        }
      ]
    },
    {
      "cell_type": "code",
      "metadata": {
        "id": "ir34zdzyTT9c"
      },
      "source": [
        "entity_sentiment=client.analyze_entity_sentiment(request={'document': document})"
      ],
      "execution_count": null,
      "outputs": []
    },
    {
      "cell_type": "code",
      "metadata": {
        "colab": {
          "base_uri": "https://localhost:8080/"
        },
        "id": "zSKPq0egTg_B",
        "outputId": "3bd5fa0a-904f-41bf-ea1d-65d4e1895ea6"
      },
      "source": [
        "entity_sentiment"
      ],
      "execution_count": null,
      "outputs": [
        {
          "output_type": "execute_result",
          "data": {
            "text/plain": [
              "entities {\n",
              "  name: \"Bananas\"\n",
              "  type_: OTHER\n",
              "  salience: 0.724234402179718\n",
              "  mentions {\n",
              "    text {\n",
              "      content: \"Bananas\"\n",
              "      begin_offset: -1\n",
              "    }\n",
              "    type_: COMMON\n",
              "    sentiment {\n",
              "      magnitude: 0.10000000149011612\n",
              "      score: 0.10000000149011612\n",
              "    }\n",
              "  }\n",
              "  sentiment {\n",
              "    magnitude: 0.10000000149011612\n",
              "    score: 0.10000000149011612\n",
              "  }\n",
              "}\n",
              "entities {\n",
              "  name: \"Grapes\"\n",
              "  type_: OTHER\n",
              "  salience: 0.275765597820282\n",
              "  mentions {\n",
              "    text {\n",
              "      content: \"Grapes\"\n",
              "      begin_offset: -1\n",
              "    }\n",
              "    type_: COMMON\n",
              "    sentiment {\n",
              "      magnitude: 0.6000000238418579\n",
              "      score: 0.6000000238418579\n",
              "    }\n",
              "  }\n",
              "  sentiment {\n",
              "    magnitude: 0.6000000238418579\n",
              "    score: 0.6000000238418579\n",
              "  }\n",
              "}\n",
              "language: \"en\""
            ]
          },
          "metadata": {
            "tags": []
          },
          "execution_count": 67
        }
      ]
    },
    {
      "cell_type": "code",
      "metadata": {
        "id": "Tuma-4nVf2m4"
      },
      "source": [
        "#1. function to read a dataset of any form\n",
        "#2. function to perform sentiment analysis and entity recognition"
      ],
      "execution_count": null,
      "outputs": []
    },
    {
      "cell_type": "code",
      "metadata": {
        "id": "RrA_OUbfpTWZ"
      },
      "source": [
        "from google.cloud import language_v1\n",
        "# Instantiates a client\n",
        "client = language_v1.LanguageServiceClient()"
      ],
      "execution_count": null,
      "outputs": []
    },
    {
      "cell_type": "code",
      "metadata": {
        "id": "FGaB9hrapVDF"
      },
      "source": [
        "\n",
        "import pandas as pd\n",
        "\n",
        "doc=pd.read_csv(\"/content/CourseEra_Sample_reviews.csv\")"
      ],
      "execution_count": null,
      "outputs": []
    },
    {
      "cell_type": "code",
      "metadata": {
        "colab": {
          "base_uri": "https://localhost:8080/",
          "height": 204
        },
        "id": "wzWwHWMgpcLB",
        "outputId": "19ca20c8-2723-431d-cb5a-271a9076d7c7"
      },
      "source": [
        "\n",
        "doc.head()"
      ],
      "execution_count": null,
      "outputs": [
        {
          "output_type": "execute_result",
          "data": {
            "text/html": [
              "<div>\n",
              "<style scoped>\n",
              "    .dataframe tbody tr th:only-of-type {\n",
              "        vertical-align: middle;\n",
              "    }\n",
              "\n",
              "    .dataframe tbody tr th {\n",
              "        vertical-align: top;\n",
              "    }\n",
              "\n",
              "    .dataframe thead th {\n",
              "        text-align: right;\n",
              "    }\n",
              "</style>\n",
              "<table border=\"1\" class=\"dataframe\">\n",
              "  <thead>\n",
              "    <tr style=\"text-align: right;\">\n",
              "      <th></th>\n",
              "      <th>Id</th>\n",
              "      <th>Review</th>\n",
              "      <th>Label</th>\n",
              "      <th>Label_Name</th>\n",
              "    </tr>\n",
              "  </thead>\n",
              "  <tbody>\n",
              "    <tr>\n",
              "      <th>0</th>\n",
              "      <td>0</td>\n",
              "      <td>good and interesting</td>\n",
              "      <td>5</td>\n",
              "      <td>Very Positive</td>\n",
              "    </tr>\n",
              "    <tr>\n",
              "      <th>1</th>\n",
              "      <td>1</td>\n",
              "      <td>This class is very helpful to me. Currently, I...</td>\n",
              "      <td>5</td>\n",
              "      <td>Very Positive</td>\n",
              "    </tr>\n",
              "    <tr>\n",
              "      <th>2</th>\n",
              "      <td>2</td>\n",
              "      <td>like!Prof and TAs are helpful and the discussi...</td>\n",
              "      <td>5</td>\n",
              "      <td>Very Positive</td>\n",
              "    </tr>\n",
              "    <tr>\n",
              "      <th>3</th>\n",
              "      <td>3</td>\n",
              "      <td>Easy to follow and includes a lot basic and im...</td>\n",
              "      <td>5</td>\n",
              "      <td>Very Positive</td>\n",
              "    </tr>\n",
              "    <tr>\n",
              "      <th>4</th>\n",
              "      <td>4</td>\n",
              "      <td>Really nice teacher!I could got the point eazl...</td>\n",
              "      <td>4</td>\n",
              "      <td>Positive</td>\n",
              "    </tr>\n",
              "  </tbody>\n",
              "</table>\n",
              "</div>"
            ],
            "text/plain": [
              "   Id                                             Review  Label     Label_Name\n",
              "0   0                               good and interesting      5  Very Positive\n",
              "1   1  This class is very helpful to me. Currently, I...      5  Very Positive\n",
              "2   2  like!Prof and TAs are helpful and the discussi...      5  Very Positive\n",
              "3   3  Easy to follow and includes a lot basic and im...      5  Very Positive\n",
              "4   4  Really nice teacher!I could got the point eazl...      4       Positive"
            ]
          },
          "metadata": {
            "tags": []
          },
          "execution_count": 9
        }
      ]
    },
    {
      "cell_type": "code",
      "metadata": {
        "id": "Xn5KsRe0pfxD"
      },
      "source": [
        "def reader(csv_file,col_name,start_length,length_of_file):\n",
        "  text=''\n",
        "  for i in range(start_length,length_of_file):\n",
        "    text += csv_file[col_name][i]\n",
        "  document = language_v1.Document(content=text, type_=language_v1.Document.Type.PLAIN_TEXT)\n",
        "  return document"
      ],
      "execution_count": null,
      "outputs": []
    },
    {
      "cell_type": "code",
      "metadata": {
        "id": "AmimDM5uqDMV"
      },
      "source": [
        "d1=reader(doc,\"Review\",1,3)\n",
        "d2=reader(doc,\"Review\",10,20)"
      ],
      "execution_count": null,
      "outputs": []
    },
    {
      "cell_type": "code",
      "metadata": {
        "colab": {
          "base_uri": "https://localhost:8080/"
        },
        "id": "xb2R77R9JrRv",
        "outputId": "aedaa7c1-7ece-49b6-f3a5-87f37f9f4636"
      },
      "source": [
        "d1"
      ],
      "execution_count": null,
      "outputs": [
        {
          "output_type": "execute_result",
          "data": {
            "text/plain": [
              "type_: PLAIN_TEXT\n",
              "content: \"This class is very helpful to me. Currently, I\\'m still learning this class which makes up a lot of basic music knowledge.like!Prof and TAs are helpful and the discussion among students are quite active. Very rewarding learning experience!\""
            ]
          },
          "metadata": {
            "tags": []
          },
          "execution_count": 12
        }
      ]
    },
    {
      "cell_type": "code",
      "metadata": {
        "id": "6AZuGiI_si_x"
      },
      "source": [
        "text=\"12/01/1998\"\n",
        "document1 = language_v1.Document(content=text, type_=language_v1.Document.Type.PLAIN_TEXT)"
      ],
      "execution_count": null,
      "outputs": []
    },
    {
      "cell_type": "code",
      "metadata": {
        "id": "AeUKvB8pqMyh"
      },
      "source": [
        "def get_entities(document):\n",
        "  entities = client.analyze_entities(request={'document': document})\n",
        "  csv_file=pd.DataFrame(columns=[\"Entity\",\"Category\",\"Sub-Category\",\"Salience\"])\n",
        "  i=0\n",
        "  for entity in entities.entities:\n",
        "    category=entity.type_.name\n",
        "    if(category!=\"OTHER\"):\n",
        "      csv_file.loc[i]=[entity.name,category,entity.metadata,entity.salience]\n",
        "      i +=1\n",
        "  return csv_file"
      ],
      "execution_count": null,
      "outputs": []
    },
    {
      "cell_type": "code",
      "metadata": {
        "colab": {
          "base_uri": "https://localhost:8080/",
          "height": 483
        },
        "id": "I1C4cfmaKSg6",
        "outputId": "28d0e44c-0846-4223-bd77-7e4fd5c7d343"
      },
      "source": [
        "get_entities(d2)"
      ],
      "execution_count": null,
      "outputs": [
        {
          "output_type": "execute_result",
          "data": {
            "text/html": [
              "<div>\n",
              "<style scoped>\n",
              "    .dataframe tbody tr th:only-of-type {\n",
              "        vertical-align: middle;\n",
              "    }\n",
              "\n",
              "    .dataframe tbody tr th {\n",
              "        vertical-align: top;\n",
              "    }\n",
              "\n",
              "    .dataframe thead th {\n",
              "        text-align: right;\n",
              "    }\n",
              "</style>\n",
              "<table border=\"1\" class=\"dataframe\">\n",
              "  <thead>\n",
              "    <tr style=\"text-align: right;\">\n",
              "      <th></th>\n",
              "      <th>Entity</th>\n",
              "      <th>Category</th>\n",
              "      <th>Sub-Category</th>\n",
              "      <th>Salience</th>\n",
              "    </tr>\n",
              "  </thead>\n",
              "  <tbody>\n",
              "    <tr>\n",
              "      <th>0</th>\n",
              "      <td>content</td>\n",
              "      <td>WORK_OF_ART</td>\n",
              "      <td>[]</td>\n",
              "      <td>0.104299</td>\n",
              "    </tr>\n",
              "    <tr>\n",
              "      <th>1</th>\n",
              "      <td>BCG</td>\n",
              "      <td>ORGANIZATION</td>\n",
              "      <td>[wikipedia_url, mid]</td>\n",
              "      <td>0.041995</td>\n",
              "    </tr>\n",
              "    <tr>\n",
              "      <th>2</th>\n",
              "      <td>teachers</td>\n",
              "      <td>PERSON</td>\n",
              "      <td>[]</td>\n",
              "      <td>0.027016</td>\n",
              "    </tr>\n",
              "    <tr>\n",
              "      <th>3</th>\n",
              "      <td>Oleg SerovExcellent</td>\n",
              "      <td>PERSON</td>\n",
              "      <td>[]</td>\n",
              "      <td>0.016024</td>\n",
              "    </tr>\n",
              "    <tr>\n",
              "      <th>4</th>\n",
              "      <td>participants</td>\n",
              "      <td>PERSON</td>\n",
              "      <td>[]</td>\n",
              "      <td>0.010078</td>\n",
              "    </tr>\n",
              "    <tr>\n",
              "      <th>5</th>\n",
              "      <td>patient</td>\n",
              "      <td>PERSON</td>\n",
              "      <td>[]</td>\n",
              "      <td>0.009976</td>\n",
              "    </tr>\n",
              "    <tr>\n",
              "      <th>6</th>\n",
              "      <td>world</td>\n",
              "      <td>LOCATION</td>\n",
              "      <td>[]</td>\n",
              "      <td>0.008855</td>\n",
              "    </tr>\n",
              "    <tr>\n",
              "      <th>7</th>\n",
              "      <td>CIO</td>\n",
              "      <td>ORGANIZATION</td>\n",
              "      <td>[]</td>\n",
              "      <td>0.007705</td>\n",
              "    </tr>\n",
              "    <tr>\n",
              "      <th>8</th>\n",
              "      <td>French</td>\n",
              "      <td>LOCATION</td>\n",
              "      <td>[wikipedia_url, mid]</td>\n",
              "      <td>0.006388</td>\n",
              "    </tr>\n",
              "    <tr>\n",
              "      <th>9</th>\n",
              "      <td>Videos</td>\n",
              "      <td>WORK_OF_ART</td>\n",
              "      <td>[]</td>\n",
              "      <td>0.006104</td>\n",
              "    </tr>\n",
              "    <tr>\n",
              "      <th>10</th>\n",
              "      <td>CIOs</td>\n",
              "      <td>ORGANIZATION</td>\n",
              "      <td>[]</td>\n",
              "      <td>0.005962</td>\n",
              "    </tr>\n",
              "    <tr>\n",
              "      <th>11</th>\n",
              "      <td>English.</td>\n",
              "      <td>PERSON</td>\n",
              "      <td>[wikipedia_url, mid]</td>\n",
              "      <td>0.003609</td>\n",
              "    </tr>\n",
              "    <tr>\n",
              "      <th>12</th>\n",
              "      <td>An Le</td>\n",
              "      <td>PERSON</td>\n",
              "      <td>[]</td>\n",
              "      <td>0.002526</td>\n",
              "    </tr>\n",
              "    <tr>\n",
              "      <th>13</th>\n",
              "      <td>one</td>\n",
              "      <td>NUMBER</td>\n",
              "      <td>[value]</td>\n",
              "      <td>0.000000</td>\n",
              "    </tr>\n",
              "  </tbody>\n",
              "</table>\n",
              "</div>"
            ],
            "text/plain": [
              "                 Entity      Category          Sub-Category  Salience\n",
              "0               content   WORK_OF_ART                    []  0.104299\n",
              "1                   BCG  ORGANIZATION  [wikipedia_url, mid]  0.041995\n",
              "2              teachers        PERSON                    []  0.027016\n",
              "3   Oleg SerovExcellent        PERSON                    []  0.016024\n",
              "4          participants        PERSON                    []  0.010078\n",
              "5               patient        PERSON                    []  0.009976\n",
              "6                 world      LOCATION                    []  0.008855\n",
              "7                   CIO  ORGANIZATION                    []  0.007705\n",
              "8                French      LOCATION  [wikipedia_url, mid]  0.006388\n",
              "9                Videos   WORK_OF_ART                    []  0.006104\n",
              "10                 CIOs  ORGANIZATION                    []  0.005962\n",
              "11             English.        PERSON  [wikipedia_url, mid]  0.003609\n",
              "12                An Le        PERSON                    []  0.002526\n",
              "13                  one        NUMBER               [value]  0.000000"
            ]
          },
          "metadata": {
            "tags": []
          },
          "execution_count": 51
        }
      ]
    },
    {
      "cell_type": "code",
      "metadata": {
        "colab": {
          "base_uri": "https://localhost:8080/"
        },
        "id": "pPqsggveQMMc",
        "outputId": "3b5f16dc-7ae9-45b8-9d58-6b963e321dca"
      },
      "source": [
        "!pip install datasets"
      ],
      "execution_count": null,
      "outputs": [
        {
          "output_type": "stream",
          "text": [
            "Collecting datasets\n",
            "\u001b[?25l  Downloading https://files.pythonhosted.org/packages/06/9b/d097f2238fc3c028495cf5f8c65378972b9f1b2cbb27f3c57c7219195aa9/datasets-1.2.1-py3-none-any.whl (159kB)\n",
            "\u001b[K     |████████████████████████████████| 163kB 8.4MB/s \n",
            "\u001b[?25hCollecting pyarrow>=0.17.1\n",
            "\u001b[?25l  Downloading https://files.pythonhosted.org/packages/d7/e1/27958a70848f8f7089bff8d6ebe42519daf01f976d28b481e1bfd52c8097/pyarrow-2.0.0-cp36-cp36m-manylinux2014_x86_64.whl (17.7MB)\n",
            "\u001b[K     |████████████████████████████████| 17.7MB 210kB/s \n",
            "\u001b[?25hRequirement already satisfied: dataclasses; python_version < \"3.7\" in /usr/local/lib/python3.6/dist-packages (from datasets) (0.8)\n",
            "Requirement already satisfied: tqdm<4.50.0,>=4.27 in /usr/local/lib/python3.6/dist-packages (from datasets) (4.41.1)\n",
            "Requirement already satisfied: importlib-metadata; python_version < \"3.8\" in /usr/local/lib/python3.6/dist-packages (from datasets) (3.3.0)\n",
            "Requirement already satisfied: dill in /usr/local/lib/python3.6/dist-packages (from datasets) (0.3.3)\n",
            "Requirement already satisfied: multiprocess in /usr/local/lib/python3.6/dist-packages (from datasets) (0.70.11.1)\n",
            "Requirement already satisfied: requests>=2.19.0 in /usr/local/lib/python3.6/dist-packages (from datasets) (2.23.0)\n",
            "Collecting xxhash\n",
            "\u001b[?25l  Downloading https://files.pythonhosted.org/packages/f7/73/826b19f3594756cb1c6c23d2fbd8ca6a77a9cd3b650c9dec5acc85004c38/xxhash-2.0.0-cp36-cp36m-manylinux2010_x86_64.whl (242kB)\n",
            "\u001b[K     |████████████████████████████████| 245kB 58.1MB/s \n",
            "\u001b[?25hRequirement already satisfied: numpy>=1.17 in /usr/local/lib/python3.6/dist-packages (from datasets) (1.19.5)\n",
            "Requirement already satisfied: pandas in /usr/local/lib/python3.6/dist-packages (from datasets) (1.1.5)\n",
            "Requirement already satisfied: typing-extensions>=3.6.4; python_version < \"3.8\" in /usr/local/lib/python3.6/dist-packages (from importlib-metadata; python_version < \"3.8\"->datasets) (3.7.4.3)\n",
            "Requirement already satisfied: zipp>=0.5 in /usr/local/lib/python3.6/dist-packages (from importlib-metadata; python_version < \"3.8\"->datasets) (3.4.0)\n",
            "Requirement already satisfied: chardet<4,>=3.0.2 in /usr/local/lib/python3.6/dist-packages (from requests>=2.19.0->datasets) (3.0.4)\n",
            "Requirement already satisfied: urllib3!=1.25.0,!=1.25.1,<1.26,>=1.21.1 in /usr/local/lib/python3.6/dist-packages (from requests>=2.19.0->datasets) (1.24.3)\n",
            "Requirement already satisfied: idna<3,>=2.5 in /usr/local/lib/python3.6/dist-packages (from requests>=2.19.0->datasets) (2.10)\n",
            "Requirement already satisfied: certifi>=2017.4.17 in /usr/local/lib/python3.6/dist-packages (from requests>=2.19.0->datasets) (2020.12.5)\n",
            "Requirement already satisfied: pytz>=2017.2 in /usr/local/lib/python3.6/dist-packages (from pandas->datasets) (2018.9)\n",
            "Requirement already satisfied: python-dateutil>=2.7.3 in /usr/local/lib/python3.6/dist-packages (from pandas->datasets) (2.8.1)\n",
            "Requirement already satisfied: six>=1.5 in /usr/local/lib/python3.6/dist-packages (from python-dateutil>=2.7.3->pandas->datasets) (1.15.0)\n",
            "Installing collected packages: pyarrow, xxhash, datasets\n",
            "  Found existing installation: pyarrow 0.14.1\n",
            "    Uninstalling pyarrow-0.14.1:\n",
            "      Successfully uninstalled pyarrow-0.14.1\n",
            "Successfully installed datasets-1.2.1 pyarrow-2.0.0 xxhash-2.0.0\n"
          ],
          "name": "stdout"
        }
      ]
    },
    {
      "cell_type": "code",
      "metadata": {
        "colab": {
          "base_uri": "https://localhost:8080/",
          "height": 316,
          "referenced_widgets": [
            "a1f645283c9642adbbfab1350a11f6c4",
            "03b5f20e55e34479a23b01846188a613",
            "dc7f248e33e34c28926e2f2110936681",
            "c731b0e5eef94d46bb3bbc75a5232ff6",
            "3f7e34e34ef74509ac4e19023dce0e02",
            "750a98cea7fc45c9bf5ffef99c2ebac4",
            "43eaa48fed9c4e0480c22ec10a655a76",
            "cf3a1c259ce74a95a33de99b910952d1",
            "754d471d1c934293a170bff44926df77",
            "1495406b1f024f6787ce1cb41914a41a",
            "37d523f440744b65a8068e2e08e715a6",
            "44b408d59efe4de3a2fb312b03f14c50",
            "b6ab50d389ec447d928154257fbe6415",
            "ff82082274434f6db0e1e7fd8258c2a4",
            "85c4c11802564fe9a6cbcb6365fb406b",
            "f3a2ae52886a4c75adfc7efa1b1efb9e",
            "fb6e2f9b771c45548a867e2162281592",
            "142f3b9fc4cd4121ac9d3b2bfd7d3a6f",
            "791f4b8b4c204f33b60be40d25ac7eb6",
            "f40bdc6358484d06a9a9632041e5c722",
            "266ea4cf26094c6eb327b1d09b7a1d87",
            "6c9561a3cc7a4be98be9abc3a74c23fe",
            "4ace2cec874f406baefac59760ad1c4c",
            "dfbda5a52a41412ca144088fe1c7ad3c",
            "27f733a8bbbc445697376fb31d017889",
            "039ce4b4876b4453ba3eb8f6a73fba99",
            "d41bce74638e48818443a0b9a3112d1e",
            "330d845b6eae448d94c9e1519c3d0619",
            "3db58465408b4c808ee9ba46c0d1da58",
            "5856ac79165f494fa8191753b1d0a66d",
            "2efcd66b0a864234a2e34756f4baae4b",
            "51d5a323898343098f493650d1708b75",
            "847e2344572d45a9821d44c444056c26",
            "04a8e5f74c744f45b7fa48d43ee3073e",
            "f839a04360f94ba8b6e175a0d062a9ce",
            "fb36ee7bc1ea4553bd2396d75531dfaa",
            "02d2344c03ef424c9e460d744da8a8cc",
            "a69fe2bf87a04dd4957591608b892fb8",
            "e9c291445ece4fdaabfa591d7f981a03",
            "f39f6f452cdd4db0999fb7f57b147aac",
            "bd5f02190af24ea3a6bc4bb4a37f5464",
            "21589b39660345998398117951c27e02",
            "72c8d3f0244d43189570002d653ff30e",
            "9fdcc00c96cd41f9b66387933afe0d71",
            "8e5f6deefe634625bae4f90f947bff31",
            "7fe2ef323c434f99b053c6c4003d6cb3",
            "7f0cacd19015414c8ec23ffc3584c3d9",
            "ba12d415ad2c40a286b2cd83180e9873",
            "07dd0850fbae4d4d99ff28e6932631c6",
            "d6fba425d9f142e4b1ff9dcd812db352",
            "56b2b46352e4418888d88f60eb2b9fb4",
            "571fbbabd68a4279b1a94be409ec57a6",
            "99ee7e1ef3624d64a18c36d7d9f32cb6",
            "a4cd0cd93f3545ca9a1bc13effeb7c9c",
            "7726f0c583864a72a52b2f2a6ffc2fab",
            "7991aa1644da47829a28d7e638ef355c",
            "e769fba5d42e4290a1742c214a8ea5ea",
            "d48ed1ea73514633b4a1a3559523f80b",
            "5e793e71faa042c59f30011ac5d3d736",
            "fe1629bfa88f446187178e1385853b65",
            "ec3230f9fb174082bb5febe8b774f737",
            "e6a058f5c6ad4a12a7843e2fa1781271",
            "47b124b9c5e6497fbbbd44bb3b9d49e1",
            "0e740a94cfa0493c86dc30379f768359"
          ]
        },
        "id": "uxXKcoGHQOrV",
        "outputId": "565e1aad-8f0e-4c2d-a4f4-5739570c833a"
      },
      "source": [
        "from datasets import load_dataset\n",
        "dataset = load_dataset(\"conll2003\", split='test')"
      ],
      "execution_count": null,
      "outputs": [
        {
          "output_type": "display_data",
          "data": {
            "application/vnd.jupyter.widget-view+json": {
              "model_id": "a1f645283c9642adbbfab1350a11f6c4",
              "version_minor": 0,
              "version_major": 2
            },
            "text/plain": [
              "HBox(children=(FloatProgress(value=0.0, description='Downloading', max=2584.0, style=ProgressStyle(description…"
            ]
          },
          "metadata": {
            "tags": []
          }
        },
        {
          "output_type": "stream",
          "text": [
            "\n"
          ],
          "name": "stdout"
        },
        {
          "output_type": "display_data",
          "data": {
            "application/vnd.jupyter.widget-view+json": {
              "model_id": "754d471d1c934293a170bff44926df77",
              "version_minor": 0,
              "version_major": 2
            },
            "text/plain": [
              "HBox(children=(FloatProgress(value=0.0, description='Downloading', max=1781.0, style=ProgressStyle(description…"
            ]
          },
          "metadata": {
            "tags": []
          }
        },
        {
          "output_type": "stream",
          "text": [
            "\n",
            "Downloading and preparing dataset conll2003/conll2003 (download: 4.63 MiB, generated: 9.78 MiB, post-processed: Unknown size, total: 14.41 MiB) to /root/.cache/huggingface/datasets/conll2003/conll2003/1.0.0/63ba56944e35c1943434322a07ceefd79864672041b7834583709af4a5de4664...\n"
          ],
          "name": "stdout"
        },
        {
          "output_type": "display_data",
          "data": {
            "application/vnd.jupyter.widget-view+json": {
              "model_id": "fb6e2f9b771c45548a867e2162281592",
              "version_minor": 0,
              "version_major": 2
            },
            "text/plain": [
              "HBox(children=(FloatProgress(value=0.0, description='Downloading', max=649539.0, style=ProgressStyle(descripti…"
            ]
          },
          "metadata": {
            "tags": []
          }
        },
        {
          "output_type": "stream",
          "text": [
            "\n"
          ],
          "name": "stdout"
        },
        {
          "output_type": "display_data",
          "data": {
            "application/vnd.jupyter.widget-view+json": {
              "model_id": "27f733a8bbbc445697376fb31d017889",
              "version_minor": 0,
              "version_major": 2
            },
            "text/plain": [
              "HBox(children=(FloatProgress(value=0.0, description='Downloading', max=162714.0, style=ProgressStyle(descripti…"
            ]
          },
          "metadata": {
            "tags": []
          }
        },
        {
          "output_type": "stream",
          "text": [
            "\n"
          ],
          "name": "stdout"
        },
        {
          "output_type": "display_data",
          "data": {
            "application/vnd.jupyter.widget-view+json": {
              "model_id": "847e2344572d45a9821d44c444056c26",
              "version_minor": 0,
              "version_major": 2
            },
            "text/plain": [
              "HBox(children=(FloatProgress(value=0.0, description='Downloading', max=145897.0, style=ProgressStyle(descripti…"
            ]
          },
          "metadata": {
            "tags": []
          }
        },
        {
          "output_type": "stream",
          "text": [
            "\n"
          ],
          "name": "stdout"
        },
        {
          "output_type": "display_data",
          "data": {
            "application/vnd.jupyter.widget-view+json": {
              "model_id": "bd5f02190af24ea3a6bc4bb4a37f5464",
              "version_minor": 0,
              "version_major": 2
            },
            "text/plain": [
              "HBox(children=(FloatProgress(value=1.0, bar_style='info', max=1.0), HTML(value='')))"
            ]
          },
          "metadata": {
            "tags": []
          }
        },
        {
          "output_type": "stream",
          "text": [
            "\r"
          ],
          "name": "stdout"
        },
        {
          "output_type": "display_data",
          "data": {
            "application/vnd.jupyter.widget-view+json": {
              "model_id": "07dd0850fbae4d4d99ff28e6932631c6",
              "version_minor": 0,
              "version_major": 2
            },
            "text/plain": [
              "HBox(children=(FloatProgress(value=1.0, bar_style='info', max=1.0), HTML(value='')))"
            ]
          },
          "metadata": {
            "tags": []
          }
        },
        {
          "output_type": "stream",
          "text": [
            "\r"
          ],
          "name": "stdout"
        },
        {
          "output_type": "display_data",
          "data": {
            "application/vnd.jupyter.widget-view+json": {
              "model_id": "e769fba5d42e4290a1742c214a8ea5ea",
              "version_minor": 0,
              "version_major": 2
            },
            "text/plain": [
              "HBox(children=(FloatProgress(value=1.0, bar_style='info', max=1.0), HTML(value='')))"
            ]
          },
          "metadata": {
            "tags": []
          }
        },
        {
          "output_type": "stream",
          "text": [
            "\rDataset conll2003 downloaded and prepared to /root/.cache/huggingface/datasets/conll2003/conll2003/1.0.0/63ba56944e35c1943434322a07ceefd79864672041b7834583709af4a5de4664. Subsequent calls will reuse this data.\n"
          ],
          "name": "stdout"
        }
      ]
    },
    {
      "cell_type": "code",
      "metadata": {
        "colab": {
          "base_uri": "https://localhost:8080/"
        },
        "id": "QMRKLlD5QXad",
        "outputId": "e8bfdfa8-3549-4ef9-81c7-7f218fa4d1ea"
      },
      "source": [
        "dataset"
      ],
      "execution_count": null,
      "outputs": [
        {
          "output_type": "execute_result",
          "data": {
            "text/plain": [
              "Dataset({\n",
              "    features: ['id', 'tokens', 'pos_tags', 'chunk_tags', 'ner_tags'],\n",
              "    num_rows: 3453\n",
              "})"
            ]
          },
          "metadata": {
            "tags": []
          },
          "execution_count": 8
        }
      ]
    },
    {
      "cell_type": "code",
      "metadata": {
        "colab": {
          "base_uri": "https://localhost:8080/"
        },
        "id": "Rb3UzNwiQmeW",
        "outputId": "d1289c36-f31e-4dfa-b408-a7540f30218b"
      },
      "source": [
        "dataset.features"
      ],
      "execution_count": null,
      "outputs": [
        {
          "output_type": "execute_result",
          "data": {
            "text/plain": [
              "{'chunk_tags': Sequence(feature=ClassLabel(num_classes=23, names=['O', 'B-ADJP', 'I-ADJP', 'B-ADVP', 'I-ADVP', 'B-CONJP', 'I-CONJP', 'B-INTJ', 'I-INTJ', 'B-LST', 'I-LST', 'B-NP', 'I-NP', 'B-PP', 'I-PP', 'B-PRT', 'I-PRT', 'B-SBAR', 'I-SBAR', 'B-UCP', 'I-UCP', 'B-VP', 'I-VP'], names_file=None, id=None), length=-1, id=None),\n",
              " 'id': Value(dtype='string', id=None),\n",
              " 'ner_tags': Sequence(feature=ClassLabel(num_classes=9, names=['O', 'B-PER', 'I-PER', 'B-ORG', 'I-ORG', 'B-LOC', 'I-LOC', 'B-MISC', 'I-MISC'], names_file=None, id=None), length=-1, id=None),\n",
              " 'pos_tags': Sequence(feature=ClassLabel(num_classes=47, names=['\"', \"''\", '#', '$', '(', ')', ',', '.', ':', '``', 'CC', 'CD', 'DT', 'EX', 'FW', 'IN', 'JJ', 'JJR', 'JJS', 'LS', 'MD', 'NN', 'NNP', 'NNPS', 'NNS', 'NN|SYM', 'PDT', 'POS', 'PRP', 'PRP$', 'RB', 'RBR', 'RBS', 'RP', 'SYM', 'TO', 'UH', 'VB', 'VBD', 'VBG', 'VBN', 'VBP', 'VBZ', 'WDT', 'WP', 'WP$', 'WRB'], names_file=None, id=None), length=-1, id=None),\n",
              " 'tokens': Sequence(feature=Value(dtype='string', id=None), length=-1, id=None)}"
            ]
          },
          "metadata": {
            "tags": []
          },
          "execution_count": 9
        }
      ]
    },
    {
      "cell_type": "code",
      "metadata": {
        "id": "URcrrZDFVNi5"
      },
      "source": [
        "x=dataset.data.to_pandas()"
      ],
      "execution_count": null,
      "outputs": []
    },
    {
      "cell_type": "code",
      "metadata": {
        "colab": {
          "base_uri": "https://localhost:8080/",
          "height": 272
        },
        "id": "mYNdjpbPWg8F",
        "outputId": "dc889f61-2081-4a40-bb42-660b080debdb"
      },
      "source": [
        "x.head(5)"
      ],
      "execution_count": null,
      "outputs": [
        {
          "output_type": "execute_result",
          "data": {
            "text/html": [
              "<div>\n",
              "<style scoped>\n",
              "    .dataframe tbody tr th:only-of-type {\n",
              "        vertical-align: middle;\n",
              "    }\n",
              "\n",
              "    .dataframe tbody tr th {\n",
              "        vertical-align: top;\n",
              "    }\n",
              "\n",
              "    .dataframe thead th {\n",
              "        text-align: right;\n",
              "    }\n",
              "</style>\n",
              "<table border=\"1\" class=\"dataframe\">\n",
              "  <thead>\n",
              "    <tr style=\"text-align: right;\">\n",
              "      <th></th>\n",
              "      <th>chunk_tags</th>\n",
              "      <th>id</th>\n",
              "      <th>ner_tags</th>\n",
              "      <th>pos_tags</th>\n",
              "      <th>tokens</th>\n",
              "    </tr>\n",
              "  </thead>\n",
              "  <tbody>\n",
              "    <tr>\n",
              "      <th>0</th>\n",
              "      <td>[11, 0, 11, 21, 11, 12, 0, 11, 13, 11, 12, 0]</td>\n",
              "      <td>0</td>\n",
              "      <td>[0, 0, 5, 0, 0, 0, 0, 1, 0, 0, 0, 0]</td>\n",
              "      <td>[21, 8, 22, 37, 22, 22, 6, 22, 15, 12, 21, 7]</td>\n",
              "      <td>[SOCCER, -, JAPAN, GET, LUCKY, WIN, ,, CHINA, ...</td>\n",
              "    </tr>\n",
              "    <tr>\n",
              "      <th>1</th>\n",
              "      <td>[11, 12]</td>\n",
              "      <td>1</td>\n",
              "      <td>[1, 2]</td>\n",
              "      <td>[22, 22]</td>\n",
              "      <td>[Nadim, Ladki]</td>\n",
              "    </tr>\n",
              "    <tr>\n",
              "      <th>2</th>\n",
              "      <td>[11, 0, 11, 12, 12, 12]</td>\n",
              "      <td>2</td>\n",
              "      <td>[5, 0, 5, 6, 6, 0]</td>\n",
              "      <td>[22, 6, 22, 22, 23, 11]</td>\n",
              "      <td>[AL-AIN, ,, United, Arab, Emirates, 1996-12-06]</td>\n",
              "    </tr>\n",
              "    <tr>\n",
              "      <th>3</th>\n",
              "      <td>[11, 21, 11, 12, 13, 11, 12, 12, 12, 13, 11, 1...</td>\n",
              "      <td>3</td>\n",
              "      <td>[5, 0, 0, 0, 0, 0, 7, 8, 0, 0, 0, 0, 0, 0, 0, ...</td>\n",
              "      <td>[22, 38, 12, 21, 15, 29, 16, 22, 21, 15, 12, 1...</td>\n",
              "      <td>[Japan, began, the, defence, of, their, Asian,...</td>\n",
              "    </tr>\n",
              "    <tr>\n",
              "      <th>4</th>\n",
              "      <td>[0, 11, 21, 11, 12, 21, 11, 13, 11, 12, 12, 13...</td>\n",
              "      <td>4</td>\n",
              "      <td>[0, 5, 0, 0, 0, 0, 0, 0, 0, 0, 0, 0, 0, 0, 0, ...</td>\n",
              "      <td>[10, 22, 38, 29, 21, 37, 28, 15, 12, 21, 21, 1...</td>\n",
              "      <td>[But, China, saw, their, luck, desert, them, i...</td>\n",
              "    </tr>\n",
              "  </tbody>\n",
              "</table>\n",
              "</div>"
            ],
            "text/plain": [
              "                                          chunk_tags  ...                                             tokens\n",
              "0      [11, 0, 11, 21, 11, 12, 0, 11, 13, 11, 12, 0]  ...  [SOCCER, -, JAPAN, GET, LUCKY, WIN, ,, CHINA, ...\n",
              "1                                           [11, 12]  ...                                     [Nadim, Ladki]\n",
              "2                            [11, 0, 11, 12, 12, 12]  ...    [AL-AIN, ,, United, Arab, Emirates, 1996-12-06]\n",
              "3  [11, 21, 11, 12, 13, 11, 12, 12, 12, 13, 11, 1...  ...  [Japan, began, the, defence, of, their, Asian,...\n",
              "4  [0, 11, 21, 11, 12, 21, 11, 13, 11, 12, 12, 13...  ...  [But, China, saw, their, luck, desert, them, i...\n",
              "\n",
              "[5 rows x 5 columns]"
            ]
          },
          "metadata": {
            "tags": []
          },
          "execution_count": 11
        }
      ]
    },
    {
      "cell_type": "code",
      "metadata": {
        "colab": {
          "base_uri": "https://localhost:8080/"
        },
        "id": "0HYx_ajmWPRD",
        "outputId": "9bb7405e-7c8f-4cb4-f481-e83f6471e342"
      },
      "source": [
        "x[\"tokens\"]"
      ],
      "execution_count": null,
      "outputs": [
        {
          "output_type": "execute_result",
          "data": {
            "text/plain": [
              "0       [SOCCER, -, JAPAN, GET, LUCKY, WIN, ,, CHINA, ...\n",
              "1                                          [Nadim, Ladki]\n",
              "2         [AL-AIN, ,, United, Arab, Emirates, 1996-12-06]\n",
              "3       [Japan, began, the, defence, of, their, Asian,...\n",
              "4       [But, China, saw, their, luck, desert, them, i...\n",
              "                              ...                        \n",
              "3448    [That, is, why, this, is, so, emotional, a, ni...\n",
              "3449    [\", It, was, the, joy, that, we, all, had, ove...\n",
              "3450    [Charlton, managed, Ireland, for, 93, matches,...\n",
              "3451    [He, guided, Ireland, to, two, successive, Wor...\n",
              "3452    [The, lanky, former, Leeds, United, defender, ...\n",
              "Name: tokens, Length: 3453, dtype: object"
            ]
          },
          "metadata": {
            "tags": []
          },
          "execution_count": 12
        }
      ]
    },
    {
      "cell_type": "code",
      "metadata": {
        "id": "TaZfEmVDWY3q"
      },
      "source": [
        "\n",
        "def make_sentance(list):\n",
        "  sen=list[0]\n",
        "  for i in range(1,len(list)):\n",
        "    sen +=\" \" + list[i]\n",
        "  return sen"
      ],
      "execution_count": null,
      "outputs": []
    },
    {
      "cell_type": "code",
      "metadata": {
        "id": "arUc7friXf5x"
      },
      "source": [
        "x[\"sentances\"]=\"\""
      ],
      "execution_count": null,
      "outputs": []
    },
    {
      "cell_type": "code",
      "metadata": {
        "id": "RK857O3RWyZz"
      },
      "source": [
        "for i in range(30):\n",
        "  x[\"sentances\"][i]=make_sentance(x[\"tokens\"][i])"
      ],
      "execution_count": null,
      "outputs": []
    },
    {
      "cell_type": "code",
      "metadata": {
        "colab": {
          "base_uri": "https://localhost:8080/"
        },
        "id": "bGiHPJU7XEsV",
        "outputId": "8456db4f-9037-4731-caed-5ccf7ed3631c"
      },
      "source": [
        "print(x[\"tokens\"][0],x[\"ner_tags\"][0])"
      ],
      "execution_count": null,
      "outputs": [
        {
          "output_type": "stream",
          "text": [
            "['SOCCER' '-' 'JAPAN' 'GET' 'LUCKY' 'WIN' ',' 'CHINA' 'IN' 'SURPRISE'\n",
            " 'DEFEAT' '.'] [0 0 5 0 0 0 0 1 0 0 0 0]\n"
          ],
          "name": "stdout"
        }
      ]
    },
    {
      "cell_type": "code",
      "metadata": {
        "colab": {
          "base_uri": "https://localhost:8080/",
          "height": 272
        },
        "id": "uVwsVXiWYZJ5",
        "outputId": "7bc5c462-b90e-456e-972e-34b2912d2286"
      },
      "source": [
        "x.head()"
      ],
      "execution_count": null,
      "outputs": [
        {
          "output_type": "execute_result",
          "data": {
            "text/html": [
              "<div>\n",
              "<style scoped>\n",
              "    .dataframe tbody tr th:only-of-type {\n",
              "        vertical-align: middle;\n",
              "    }\n",
              "\n",
              "    .dataframe tbody tr th {\n",
              "        vertical-align: top;\n",
              "    }\n",
              "\n",
              "    .dataframe thead th {\n",
              "        text-align: right;\n",
              "    }\n",
              "</style>\n",
              "<table border=\"1\" class=\"dataframe\">\n",
              "  <thead>\n",
              "    <tr style=\"text-align: right;\">\n",
              "      <th></th>\n",
              "      <th>chunk_tags</th>\n",
              "      <th>id</th>\n",
              "      <th>ner_tags</th>\n",
              "      <th>pos_tags</th>\n",
              "      <th>tokens</th>\n",
              "      <th>sentances</th>\n",
              "    </tr>\n",
              "  </thead>\n",
              "  <tbody>\n",
              "    <tr>\n",
              "      <th>0</th>\n",
              "      <td>[11, 0, 11, 21, 11, 12, 0, 11, 13, 11, 12, 0]</td>\n",
              "      <td>0</td>\n",
              "      <td>[0, 0, 5, 0, 0, 0, 0, 1, 0, 0, 0, 0]</td>\n",
              "      <td>[21, 8, 22, 37, 22, 22, 6, 22, 15, 12, 21, 7]</td>\n",
              "      <td>[SOCCER, -, JAPAN, GET, LUCKY, WIN, ,, CHINA, ...</td>\n",
              "      <td>SOCCER - JAPAN GET LUCKY WIN , CHINA IN SURPRI...</td>\n",
              "    </tr>\n",
              "    <tr>\n",
              "      <th>1</th>\n",
              "      <td>[11, 12]</td>\n",
              "      <td>1</td>\n",
              "      <td>[1, 2]</td>\n",
              "      <td>[22, 22]</td>\n",
              "      <td>[Nadim, Ladki]</td>\n",
              "      <td>Nadim Ladki</td>\n",
              "    </tr>\n",
              "    <tr>\n",
              "      <th>2</th>\n",
              "      <td>[11, 0, 11, 12, 12, 12]</td>\n",
              "      <td>2</td>\n",
              "      <td>[5, 0, 5, 6, 6, 0]</td>\n",
              "      <td>[22, 6, 22, 22, 23, 11]</td>\n",
              "      <td>[AL-AIN, ,, United, Arab, Emirates, 1996-12-06]</td>\n",
              "      <td>AL-AIN , United Arab Emirates 1996-12-06</td>\n",
              "    </tr>\n",
              "    <tr>\n",
              "      <th>3</th>\n",
              "      <td>[11, 21, 11, 12, 13, 11, 12, 12, 12, 13, 11, 1...</td>\n",
              "      <td>3</td>\n",
              "      <td>[5, 0, 0, 0, 0, 0, 7, 8, 0, 0, 0, 0, 0, 0, 0, ...</td>\n",
              "      <td>[22, 38, 12, 21, 15, 29, 16, 22, 21, 15, 12, 1...</td>\n",
              "      <td>[Japan, began, the, defence, of, their, Asian,...</td>\n",
              "      <td>Japan began the defence of their Asian Cup tit...</td>\n",
              "    </tr>\n",
              "    <tr>\n",
              "      <th>4</th>\n",
              "      <td>[0, 11, 21, 11, 12, 21, 11, 13, 11, 12, 12, 13...</td>\n",
              "      <td>4</td>\n",
              "      <td>[0, 5, 0, 0, 0, 0, 0, 0, 0, 0, 0, 0, 0, 0, 0, ...</td>\n",
              "      <td>[10, 22, 38, 29, 21, 37, 28, 15, 12, 21, 21, 1...</td>\n",
              "      <td>[But, China, saw, their, luck, desert, them, i...</td>\n",
              "      <td>But China saw their luck desert them in the se...</td>\n",
              "    </tr>\n",
              "  </tbody>\n",
              "</table>\n",
              "</div>"
            ],
            "text/plain": [
              "                                          chunk_tags  ...                                          sentances\n",
              "0      [11, 0, 11, 21, 11, 12, 0, 11, 13, 11, 12, 0]  ...  SOCCER - JAPAN GET LUCKY WIN , CHINA IN SURPRI...\n",
              "1                                           [11, 12]  ...                                        Nadim Ladki\n",
              "2                            [11, 0, 11, 12, 12, 12]  ...           AL-AIN , United Arab Emirates 1996-12-06\n",
              "3  [11, 21, 11, 12, 13, 11, 12, 12, 12, 13, 11, 1...  ...  Japan began the defence of their Asian Cup tit...\n",
              "4  [0, 11, 21, 11, 12, 21, 11, 13, 11, 12, 12, 13...  ...  But China saw their luck desert them in the se...\n",
              "\n",
              "[5 rows x 6 columns]"
            ]
          },
          "metadata": {
            "tags": []
          },
          "execution_count": 17
        }
      ]
    },
    {
      "cell_type": "code",
      "metadata": {
        "id": "U4s23bm1XqaC"
      },
      "source": [
        "d3=reader(x,\"sentances\",0,30)"
      ],
      "execution_count": null,
      "outputs": []
    },
    {
      "cell_type": "code",
      "metadata": {
        "id": "FneTvxW2Ms91",
        "colab": {
          "base_uri": "https://localhost:8080/"
        },
        "outputId": "55911eb2-37fb-4207-b8f0-1f4ca2d20b3b"
      },
      "source": [
        "x[\"tokens\"][29]"
      ],
      "execution_count": null,
      "outputs": [
        {
          "output_type": "execute_result",
          "data": {
            "text/plain": [
              "array(['Coste', 'said', 'he', 'had', 'approached', 'the', 'player', 'two',\n",
              "       'months', 'ago', 'about', 'a', 'comeback', '.'], dtype=object)"
            ]
          },
          "metadata": {
            "tags": []
          },
          "execution_count": 26
        }
      ]
    },
    {
      "cell_type": "code",
      "metadata": {
        "colab": {
          "base_uri": "https://localhost:8080/"
        },
        "id": "FODlcMoxU16D",
        "outputId": "dd7341d3-4b79-476f-e7b1-0c61af393cbd"
      },
      "source": [
        "d3"
      ],
      "execution_count": null,
      "outputs": [
        {
          "output_type": "execute_result",
          "data": {
            "text/plain": [
              "type_: PLAIN_TEXT\n",
              "content: \"SOCCER - JAPAN GET LUCKY WIN , CHINA IN SURPRISE DEFEAT .Nadim LadkiAL-AIN , United Arab Emirates 1996-12-06Japan began the defence of their Asian Cup title with a lucky 2-1 win against Syria in a Group C championship match on Friday .But China saw their luck desert them in the second match of the group , crashing to a surprise 2-0 defeat to newcomers Uzbekistan .China controlled most of the match and saw several chances missed until the 78th minute when Uzbek striker Igor Shkvyrin took advantage of a misdirected defensive header to lob the ball over the advancing Chinese keeper and into an empty net .Oleg Shatskiku made sure of the win in injury time , hitting an unstoppable left foot shot from just outside the area .The former Soviet republic was playing in an Asian Cup finals tie for the first time .Despite winning the Asian Games title two years ago , Uzbekistan are in the finals as outsiders .Two goals from defensive errors in the last six minutes allowed Japan to come from behind and collect all three points from their opening meeting against Syria .Takuya Takagi scored the winner in the 88th minute , rising to head a Hiroshige Yanagimoto cross towards the Syrian goal which goalkeeper Salem Bitar appeared to have covered but then allowed to slip into the net .It was the second costly blunder by Syria in four minutes .Defender Hassan Abbas rose to intercept a long ball into the area in the 84th minute but only managed to divert it into the top corner of Bitar \\'s goal .Nader Jokhadar had given Syria the lead with a well-struck header in the seventh minute .Japan then laid siege to the Syrian penalty area for most of the game but rarely breached the Syrian defence .Bitar pulled off fine saves whenever they did .Japan coach Shu Kamo said : \\' \\' The Syrian own goal proved lucky for us .The Syrians scored early and then played defensively and adopted long balls which made it hard for us . \\'\\'Japan , co-hosts of the World Cup in 2002 and ranked 20th in the world by FIFA , are favourites to regain their title here .Hosts UAE play Kuwait and South Korea take on Indonesia on Saturday in Group A matches .All four teams are level with one point each from one game .RUGBY UNION - CUTTITTA BACK FOR ITALY AFTER A YEAR .ROME 1996-12-06Italy recalled Marcello Cuttittaon Friday for their friendly against Scotland at Murrayfield more than a year after the 30-year-old wing announced he was retiring following differences over selection .Cuttitta , who trainer George Coste said was certain to play on Saturday week , was named in a 21-man squad lacking only two of the team beaten 54-21 by England at Twickenham last month .Stefano Bordon is out through illness and Coste said he had dropped back row Corrado Covi , who had been recalled for the England game after five years out of the national team .Cuttitta announced his retirement after the 1995 World Cup , where he took issue with being dropped from the Italy side that faced England in the pool stages .Coste said he had approached the player two months ago about a comeback .\""
            ]
          },
          "metadata": {
            "tags": []
          },
          "execution_count": 22
        }
      ]
    },
    {
      "cell_type": "code",
      "metadata": {
        "id": "J-CpXnxmRISt"
      },
      "source": [
        "df=get_entities(d3)"
      ],
      "execution_count": null,
      "outputs": []
    },
    {
      "cell_type": "code",
      "metadata": {
        "colab": {
          "base_uri": "https://localhost:8080/",
          "height": 204
        },
        "id": "S-3fuxvzt-3-",
        "outputId": "c6c2fc38-eb56-4a6d-ddd2-095c6ef3343b"
      },
      "source": [
        "df.head()"
      ],
      "execution_count": null,
      "outputs": [
        {
          "output_type": "execute_result",
          "data": {
            "text/html": [
              "<div>\n",
              "<style scoped>\n",
              "    .dataframe tbody tr th:only-of-type {\n",
              "        vertical-align: middle;\n",
              "    }\n",
              "\n",
              "    .dataframe tbody tr th {\n",
              "        vertical-align: top;\n",
              "    }\n",
              "\n",
              "    .dataframe thead th {\n",
              "        text-align: right;\n",
              "    }\n",
              "</style>\n",
              "<table border=\"1\" class=\"dataframe\">\n",
              "  <thead>\n",
              "    <tr style=\"text-align: right;\">\n",
              "      <th></th>\n",
              "      <th>Entity</th>\n",
              "      <th>Category</th>\n",
              "      <th>Sub-Category</th>\n",
              "      <th>Salience</th>\n",
              "    </tr>\n",
              "  </thead>\n",
              "  <tbody>\n",
              "    <tr>\n",
              "      <th>0</th>\n",
              "      <td>WIN</td>\n",
              "      <td>ORGANIZATION</td>\n",
              "      <td>[]</td>\n",
              "      <td>0.068896</td>\n",
              "    </tr>\n",
              "    <tr>\n",
              "      <th>1</th>\n",
              "      <td>Syria</td>\n",
              "      <td>LOCATION</td>\n",
              "      <td>[wikipedia_url, mid]</td>\n",
              "      <td>0.039618</td>\n",
              "    </tr>\n",
              "    <tr>\n",
              "      <th>2</th>\n",
              "      <td>match</td>\n",
              "      <td>EVENT</td>\n",
              "      <td>[]</td>\n",
              "      <td>0.024808</td>\n",
              "    </tr>\n",
              "    <tr>\n",
              "      <th>3</th>\n",
              "      <td>championship match</td>\n",
              "      <td>EVENT</td>\n",
              "      <td>[]</td>\n",
              "      <td>0.024808</td>\n",
              "    </tr>\n",
              "    <tr>\n",
              "      <th>4</th>\n",
              "      <td>win</td>\n",
              "      <td>EVENT</td>\n",
              "      <td>[]</td>\n",
              "      <td>0.023116</td>\n",
              "    </tr>\n",
              "  </tbody>\n",
              "</table>\n",
              "</div>"
            ],
            "text/plain": [
              "               Entity      Category          Sub-Category  Salience\n",
              "0                 WIN  ORGANIZATION                    []  0.068896\n",
              "1               Syria      LOCATION  [wikipedia_url, mid]  0.039618\n",
              "2               match         EVENT                    []  0.024808\n",
              "3  championship match         EVENT                    []  0.024808\n",
              "4                 win         EVENT                    []  0.023116"
            ]
          },
          "metadata": {
            "tags": []
          },
          "execution_count": 67
        }
      ]
    },
    {
      "cell_type": "code",
      "metadata": {
        "id": "nLZcrUEta9pc"
      },
      "source": [
        "df.to_csv('file1.csv') "
      ],
      "execution_count": null,
      "outputs": []
    },
    {
      "cell_type": "code",
      "metadata": {
        "id": "X6l7DfyInHpj"
      },
      "source": [
        "def change_tags(tags):\n",
        "  tag=[]\n",
        "  for i in tags:\n",
        "    if(i==2 or i==1):\n",
        "      tag.append(1)\n",
        "    elif(i==4 or i==3):\n",
        "      tag.append(2)\n",
        "    elif(i==6 or i==5):\n",
        "      tag.append(3)\n",
        "    elif(i==7 or i==8):\n",
        "      tag.append(4)\n",
        "    else:\n",
        "      tag.append(0)\n",
        "  return tag"
      ],
      "execution_count": null,
      "outputs": []
    },
    {
      "cell_type": "code",
      "metadata": {
        "colab": {
          "base_uri": "https://localhost:8080/"
        },
        "id": "X_N2Cqq3Ux32",
        "outputId": "2d69eb31-be6d-4ce9-8132-c07991fd80ba"
      },
      "source": [
        "x[\"ner_tags\"]"
      ],
      "execution_count": null,
      "outputs": [
        {
          "output_type": "execute_result",
          "data": {
            "text/plain": [
              "0                    [0, 0, 5, 0, 0, 0, 0, 1, 0, 0, 0, 0]\n",
              "1                                                  [1, 2]\n",
              "2                                      [5, 0, 5, 6, 6, 0]\n",
              "3       [5, 0, 0, 0, 0, 0, 7, 8, 0, 0, 0, 0, 0, 0, 0, ...\n",
              "4       [0, 5, 0, 0, 0, 0, 0, 0, 0, 0, 0, 0, 0, 0, 0, ...\n",
              "                              ...                        \n",
              "3448     [0, 0, 0, 0, 0, 0, 0, 0, 0, 0, 0, 0, 0, 1, 0, 0]\n",
              "3449    [0, 0, 0, 0, 0, 0, 0, 0, 0, 0, 0, 0, 0, 0, 0, ...\n",
              "3450    [1, 0, 5, 0, 0, 0, 0, 0, 0, 0, 0, 0, 0, 0, 0, ...\n",
              "3451    [0, 0, 5, 0, 0, 0, 7, 8, 0, 0, 0, 0, 0, 0, 7, ...\n",
              "3452    [0, 0, 0, 3, 4, 0, 0, 0, 0, 0, 5, 0, 0, 0, 0, ...\n",
              "Name: ner_tags, Length: 3453, dtype: object"
            ]
          },
          "metadata": {
            "tags": []
          },
          "execution_count": 50
        }
      ]
    },
    {
      "cell_type": "code",
      "metadata": {
        "id": "lfy4PbSwn47g"
      },
      "source": [
        "y=[]\n",
        "for i in range(30):\n",
        "  y.append(change_tags(x[\"ner_tags\"][i]))"
      ],
      "execution_count": null,
      "outputs": []
    },
    {
      "cell_type": "code",
      "metadata": {
        "id": "fj_qxtq-oU5c"
      },
      "source": [
        "y \n",
        "#0 is for other\n",
        "#1 is for person\n",
        "#2 is for organization\n",
        "#3 is for location\n",
        "#4 is for misc"
      ],
      "execution_count": null,
      "outputs": []
    },
    {
      "cell_type": "code",
      "metadata": {
        "id": "fE4w-l3QU6uh",
        "colab": {
          "base_uri": "https://localhost:8080/",
          "height": 142
        },
        "outputId": "dfbf6b85-e9c2-410f-beb5-89f7ef447397"
      },
      "source": [
        "df"
      ],
      "execution_count": null,
      "outputs": [
        {
          "output_type": "execute_result",
          "data": {
            "text/html": [
              "<div>\n",
              "<style scoped>\n",
              "    .dataframe tbody tr th:only-of-type {\n",
              "        vertical-align: middle;\n",
              "    }\n",
              "\n",
              "    .dataframe tbody tr th {\n",
              "        vertical-align: top;\n",
              "    }\n",
              "\n",
              "    .dataframe thead th {\n",
              "        text-align: right;\n",
              "    }\n",
              "</style>\n",
              "<table border=\"1\" class=\"dataframe\">\n",
              "  <thead>\n",
              "    <tr style=\"text-align: right;\">\n",
              "      <th></th>\n",
              "      <th>Entity</th>\n",
              "      <th>Category</th>\n",
              "      <th>Sub-Category</th>\n",
              "      <th>Salience</th>\n",
              "    </tr>\n",
              "  </thead>\n",
              "  <tbody>\n",
              "    <tr>\n",
              "      <th>0</th>\n",
              "      <td>Coste</td>\n",
              "      <td>PERSON</td>\n",
              "      <td>[]</td>\n",
              "      <td>0.768057</td>\n",
              "    </tr>\n",
              "    <tr>\n",
              "      <th>1</th>\n",
              "      <td>player</td>\n",
              "      <td>PERSON</td>\n",
              "      <td>[]</td>\n",
              "      <td>0.136574</td>\n",
              "    </tr>\n",
              "    <tr>\n",
              "      <th>2</th>\n",
              "      <td>two</td>\n",
              "      <td>NUMBER</td>\n",
              "      <td>[value]</td>\n",
              "      <td>0.000000</td>\n",
              "    </tr>\n",
              "  </tbody>\n",
              "</table>\n",
              "</div>"
            ],
            "text/plain": [
              "   Entity Category Sub-Category  Salience\n",
              "0   Coste   PERSON           []  0.768057\n",
              "1  player   PERSON           []  0.136574\n",
              "2     two   NUMBER      [value]  0.000000"
            ]
          },
          "metadata": {
            "tags": []
          },
          "execution_count": 65
        }
      ]
    },
    {
      "cell_type": "code",
      "metadata": {
        "id": "6mEPP0MpPFo0"
      },
      "source": [
        "entity_list=list(df.Entity)\n",
        "token_list=list(x.tokens[0])"
      ],
      "execution_count": null,
      "outputs": []
    },
    {
      "cell_type": "code",
      "metadata": {
        "id": "jfcNYIIdQ59i"
      },
      "source": [
        "token_list,entity_list"
      ],
      "execution_count": null,
      "outputs": []
    },
    {
      "cell_type": "code",
      "metadata": {
        "id": "bdlb51F1Ulz5"
      },
      "source": [
        "import re\n"
      ],
      "execution_count": null,
      "outputs": []
    },
    {
      "cell_type": "code",
      "metadata": {
        "id": "hWPGUhcgjPCk"
      },
      "source": [
        "def check_token_list(list_token):\n",
        "  df1= pd.DataFrame(columns=[\"Entity\",\"Category\",\"Sub-Category\",\"Salience\"])\n",
        "  k=0\n",
        "  for i in range(len(list_token)):\n",
        "    if ((bool(re.search(r\"\\s\", list_token[\"Entity\"][i]))) and list_token.Category[i]!=\"NUMBER\"):\n",
        "      x=list_token[\"Entity\"][i].split(' ')\n",
        "      for j in range(len(x)):\n",
        "        df1.loc[k]=[x[j],list_token[\"Category\"][i],list_token[\"Sub-Category\"][i],list_token[\"Salience\"][i]]\n",
        "        k += 1\n",
        "      x=[]\n",
        "    else:\n",
        "      df1.loc[k]=[list_token[\"Entity\"][i],list_token[\"Category\"][i],list_token[\"Sub-Category\"][i],list_token[\"Salience\"][i]]\n",
        "      k += 1\n",
        "  return df1"
      ],
      "execution_count": null,
      "outputs": []
    },
    {
      "cell_type": "code",
      "metadata": {
        "id": "wN15rp3tgYtu"
      },
      "source": [
        "check_token_list(df)"
      ],
      "execution_count": null,
      "outputs": []
    },
    {
      "cell_type": "code",
      "metadata": {
        "id": "MKhwJaZ_lHcw",
        "colab": {
          "base_uri": "https://localhost:8080/",
          "height": 204
        },
        "outputId": "7c8bfeb3-a15b-4dc3-bd95-0deaaf98ef83"
      },
      "source": [
        "df1.head()"
      ],
      "execution_count": null,
      "outputs": [
        {
          "output_type": "execute_result",
          "data": {
            "text/html": [
              "<div>\n",
              "<style scoped>\n",
              "    .dataframe tbody tr th:only-of-type {\n",
              "        vertical-align: middle;\n",
              "    }\n",
              "\n",
              "    .dataframe tbody tr th {\n",
              "        vertical-align: top;\n",
              "    }\n",
              "\n",
              "    .dataframe thead th {\n",
              "        text-align: right;\n",
              "    }\n",
              "</style>\n",
              "<table border=\"1\" class=\"dataframe\">\n",
              "  <thead>\n",
              "    <tr style=\"text-align: right;\">\n",
              "      <th></th>\n",
              "      <th>Entity</th>\n",
              "      <th>Category</th>\n",
              "      <th>Sub-Category</th>\n",
              "      <th>Salience</th>\n",
              "    </tr>\n",
              "  </thead>\n",
              "  <tbody>\n",
              "    <tr>\n",
              "      <th>0</th>\n",
              "      <td>WIN</td>\n",
              "      <td>ORGANIZATION</td>\n",
              "      <td>[]</td>\n",
              "      <td>0.068896</td>\n",
              "    </tr>\n",
              "    <tr>\n",
              "      <th>1</th>\n",
              "      <td>Syria</td>\n",
              "      <td>LOCATION</td>\n",
              "      <td>[wikipedia_url, mid]</td>\n",
              "      <td>0.039618</td>\n",
              "    </tr>\n",
              "    <tr>\n",
              "      <th>2</th>\n",
              "      <td>match</td>\n",
              "      <td>EVENT</td>\n",
              "      <td>[]</td>\n",
              "      <td>0.024808</td>\n",
              "    </tr>\n",
              "    <tr>\n",
              "      <th>3</th>\n",
              "      <td>championship</td>\n",
              "      <td>EVENT</td>\n",
              "      <td>[]</td>\n",
              "      <td>0.024808</td>\n",
              "    </tr>\n",
              "    <tr>\n",
              "      <th>4</th>\n",
              "      <td>match</td>\n",
              "      <td>EVENT</td>\n",
              "      <td>[]</td>\n",
              "      <td>0.024808</td>\n",
              "    </tr>\n",
              "  </tbody>\n",
              "</table>\n",
              "</div>"
            ],
            "text/plain": [
              "         Entity      Category          Sub-Category  Salience\n",
              "0           WIN  ORGANIZATION                    []  0.068896\n",
              "1         Syria      LOCATION  [wikipedia_url, mid]  0.039618\n",
              "2         match         EVENT                    []  0.024808\n",
              "3  championship         EVENT                    []  0.024808\n",
              "4         match         EVENT                    []  0.024808"
            ]
          },
          "metadata": {
            "tags": []
          },
          "execution_count": 237
        }
      ]
    },
    {
      "cell_type": "code",
      "metadata": {
        "id": "YQEG7Jd8QThF"
      },
      "source": [
        "def get_pred_tags(df,entity_list,token_list):\n",
        "  tag=[]\n",
        "  for i in token_list:\n",
        "    if i not in entity_list:\n",
        "      tag.append(0)\n",
        "    else:\n",
        "      for j in range(len(df.Entity)):\n",
        "        if i==df.Entity[j]:\n",
        "          if df.Category[j]==\"LOCATION\":\n",
        "            tag.append(3)\n",
        "          elif df.Category[j]==\"ORGANIZATION\":\n",
        "            tag.append(2)\n",
        "          elif df.Category[j]==\"PERSON\":\n",
        "            tag.append(1)\n",
        "          else:\n",
        "            tag.append(4)\n",
        "  return tag"
      ],
      "execution_count": null,
      "outputs": []
    },
    {
      "cell_type": "code",
      "metadata": {
        "id": "X4TsU3KeepXp",
        "colab": {
          "base_uri": "https://localhost:8080/"
        },
        "outputId": "9113c2f0-fb8d-499f-d2fa-08685f0102b0"
      },
      "source": [
        "tags=[]\n",
        "for i in range(30):\n",
        "  d=reader(x,\"sentances\",i,i+1)\n",
        "  df=get_entities(d)\n",
        "  df2=check_token_list(df)\n",
        "  entity_list=list(df2.Entity)\n",
        "  #print(df2)\n",
        "  token_list=list(x.tokens[i])\n",
        "  print(entity_list,token_list)\n",
        "  print(get_pred_tags(df2,entity_list,token_list))\n",
        "  tags.append(get_pred_tags(df2,entity_list,token_list))"
      ],
      "execution_count": null,
      "outputs": [
        {
          "output_type": "stream",
          "text": [
            "['JAPAN', 'WIN', 'CHINA'] ['SOCCER', '-', 'JAPAN', 'GET', 'LUCKY', 'WIN', ',', 'CHINA', 'IN', 'SURPRISE', 'DEFEAT', '.']\n",
            "[0, 0, 3, 0, 0, 4, 0, 3, 0, 0, 0, 0]\n",
            "['Nadim', 'Ladki'] ['Nadim', 'Ladki']\n",
            "[1, 1]\n",
            "['AL-AIN', 'United', 'Arab', 'Emirates', '1996-12-06', '06', '1996', '12'] ['AL-AIN', ',', 'United', 'Arab', 'Emirates', '1996-12-06']\n",
            "[3, 0, 3, 3, 3, 4]\n",
            "['Japan', 'win', 'championship', 'match', 'Asian', 'Cup', 'Group', 'C', 'Syria', '2', '1'] ['Japan', 'began', 'the', 'defence', 'of', 'their', 'Asian', 'Cup', 'title', 'with', 'a', 'lucky', '2-1', 'win', 'against', 'Syria', 'in', 'a', 'Group', 'C', 'championship', 'match', 'on', 'Friday', '.']\n",
            "[2, 0, 0, 0, 0, 0, 4, 4, 0, 0, 0, 0, 0, 4, 0, 3, 0, 0, 2, 2, 4, 4, 0, 0, 0]\n",
            "['China', 'group', 'match', 'newcomers', 'Uzbekistan', '2', '0'] ['But', 'China', 'saw', 'their', 'luck', 'desert', 'them', 'in', 'the', 'second', 'match', 'of', 'the', 'group', ',', 'crashing', 'to', 'a', 'surprise', '2-0', 'defeat', 'to', 'newcomers', 'Uzbekistan', '.']\n",
            "[0, 2, 0, 0, 0, 0, 0, 0, 0, 0, 4, 0, 0, 2, 0, 0, 0, 0, 0, 0, 0, 0, 1, 3, 0]\n",
            "['match', 'China', 'Igor', 'Shkvyrin', 'header', 'keeper', 'Uzbek', 'Chinese', '78'] ['China', 'controlled', 'most', 'of', 'the', 'match', 'and', 'saw', 'several', 'chances', 'missed', 'until', 'the', '78th', 'minute', 'when', 'Uzbek', 'striker', 'Igor', 'Shkvyrin', 'took', 'advantage', 'of', 'a', 'misdirected', 'defensive', 'header', 'to', 'lob', 'the', 'ball', 'over', 'the', 'advancing', 'Chinese', 'keeper', 'and', 'into', 'an', 'empty', 'net', '.']\n",
            "[2, 0, 0, 0, 0, 4, 0, 0, 0, 0, 0, 0, 0, 0, 0, 0, 3, 0, 1, 1, 0, 0, 0, 0, 0, 0, 1, 0, 0, 0, 0, 0, 0, 0, 3, 1, 0, 0, 0, 0, 0, 0]\n",
            "['Oleg', 'Shatskiku', 'win', 'area'] ['Oleg', 'Shatskiku', 'made', 'sure', 'of', 'the', 'win', 'in', 'injury', 'time', ',', 'hitting', 'an', 'unstoppable', 'left', 'foot', 'shot', 'from', 'just', 'outside', 'the', 'area', '.']\n",
            "[1, 1, 0, 0, 0, 0, 4, 0, 0, 0, 0, 0, 0, 0, 0, 0, 0, 0, 0, 0, 0, 3, 0]\n",
            "['Soviet', 'republic', 'finals', 'Asian', 'Cup'] ['The', 'former', 'Soviet', 'republic', 'was', 'playing', 'in', 'an', 'Asian', 'Cup', 'finals', 'tie', 'for', 'the', 'first', 'time', '.']\n",
            "[0, 0, 3, 2, 0, 0, 0, 0, 4, 4, 4, 0, 0, 0, 0, 0, 0]\n",
            "['Asian', 'Games', 'finals', 'Uzbekistan', 'outsiders', 'two'] ['Despite', 'winning', 'the', 'Asian', 'Games', 'title', 'two', 'years', 'ago', ',', 'Uzbekistan', 'are', 'in', 'the', 'finals', 'as', 'outsiders', '.']\n",
            "[0, 0, 0, 4, 4, 0, 4, 0, 0, 0, 3, 0, 0, 0, 4, 0, 1, 0]\n",
            "['Japan', 'meeting', 'Syria', 'three', 'Two', 'six'] ['Two', 'goals', 'from', 'defensive', 'errors', 'in', 'the', 'last', 'six', 'minutes', 'allowed', 'Japan', 'to', 'come', 'from', 'behind', 'and', 'collect', 'all', 'three', 'points', 'from', 'their', 'opening', 'meeting', 'against', 'Syria', '.']\n",
            "[4, 0, 0, 0, 0, 0, 0, 0, 4, 0, 0, 2, 0, 0, 0, 0, 0, 0, 0, 4, 0, 0, 0, 0, 4, 0, 3, 0]\n",
            "['winner', 'Takuya', 'Takagi', 'Salem', 'Bitar', 'Hiroshige', 'Yanagimoto', 'Syrian', '88'] ['Takuya', 'Takagi', 'scored', 'the', 'winner', 'in', 'the', '88th', 'minute', ',', 'rising', 'to', 'head', 'a', 'Hiroshige', 'Yanagimoto', 'cross', 'towards', 'the', 'Syrian', 'goal', 'which', 'goalkeeper', 'Salem', 'Bitar', 'appeared', 'to', 'have', 'covered', 'but', 'then', 'allowed', 'to', 'slip', 'into', 'the', 'net', '.']\n",
            "[1, 1, 0, 0, 1, 0, 0, 0, 0, 0, 0, 0, 0, 0, 1, 1, 0, 0, 0, 3, 0, 0, 0, 1, 1, 0, 0, 0, 0, 0, 0, 0, 0, 0, 0, 0, 0, 0]\n",
            "['blunder', 'Syria', 'four'] ['It', 'was', 'the', 'second', 'costly', 'blunder', 'by', 'Syria', 'in', 'four', 'minutes', '.']\n",
            "[0, 0, 0, 0, 0, 1, 0, 3, 0, 4, 0, 0]\n",
            "['Hassan', 'Abbas', 'area', 'corner', 'Bitar', '84'] ['Defender', 'Hassan', 'Abbas', 'rose', 'to', 'intercept', 'a', 'long', 'ball', 'into', 'the', 'area', 'in', 'the', '84th', 'minute', 'but', 'only', 'managed', 'to', 'divert', 'it', 'into', 'the', 'top', 'corner', 'of', 'Bitar', \"'s\", 'goal', '.']\n",
            "[0, 1, 1, 0, 0, 0, 0, 0, 0, 0, 0, 3, 0, 0, 0, 0, 0, 0, 0, 0, 0, 0, 0, 0, 0, 3, 0, 1, 0, 0, 0]\n",
            "['Nader', 'Jokhadar', 'Syria'] ['Nader', 'Jokhadar', 'had', 'given', 'Syria', 'the', 'lead', 'with', 'a', 'well-struck', 'header', 'in', 'the', 'seventh', 'minute', '.']\n",
            "[1, 1, 0, 0, 3, 0, 0, 0, 0, 0, 0, 0, 0, 0, 0, 0]\n",
            "['Japan', 'siege', 'Syrian', 'penalty', 'area', 'game'] ['Japan', 'then', 'laid', 'siege', 'to', 'the', 'Syrian', 'penalty', 'area', 'for', 'most', 'of', 'the', 'game', 'but', 'rarely', 'breached', 'the', 'Syrian', 'defence', '.']\n",
            "[2, 0, 0, 4, 0, 0, 3, 3, 3, 0, 0, 0, 0, 4, 0, 0, 0, 0, 3, 0, 0]\n",
            "['Bitar'] ['Bitar', 'pulled', 'off', 'fine', 'saves', 'whenever', 'they', 'did', '.']\n",
            "[1, 0, 0, 0, 0, 0, 0, 0, 0]\n",
            "['Shu', 'Kamo', 'Japan', 'Syrian'] ['Japan', 'coach', 'Shu', 'Kamo', 'said', ':', \"'\", \"'\", 'The', 'Syrian', 'own', 'goal', 'proved', 'lucky', 'for', 'us', '.']\n",
            "[2, 0, 1, 1, 0, 0, 0, 0, 0, 3, 0, 0, 0, 0, 0, 0, 0]\n",
            "['Syrians'] ['The', 'Syrians', 'scored', 'early', 'and', 'then', 'played', 'defensively', 'and', 'adopted', 'long', 'balls', 'which', 'made', 'it', 'hard', 'for', 'us', '.', \"'\"]\n",
            "[0, 1, 0, 0, 0, 0, 0, 0, 0, 0, 0, 0, 0, 0, 0, 0, 0, 0, 0, 0]\n",
            "[] [\"'\"]\n",
            "[0]\n",
            "['co-hosts', 'Japan', 'world', 'World', 'Cup', 'FIFA', 'favourites', '2002', '2002', '20'] ['Japan', ',', 'co-hosts', 'of', 'the', 'World', 'Cup', 'in', '2002', 'and', 'ranked', '20th', 'in', 'the', 'world', 'by', 'FIFA', ',', 'are', 'favourites', 'to', 'regain', 'their', 'title', 'here', '.']\n",
            "[3, 0, 1, 0, 0, 4, 4, 0, 4, 4, 0, 0, 0, 0, 0, 3, 0, 2, 0, 0, 1, 0, 0, 0, 0, 0, 0]\n",
            "['Hosts', 'UAE', 'Kuwait', 'South', 'Korea', 'Indonesia', 'matches'] ['Hosts', 'UAE', 'play', 'Kuwait', 'and', 'South', 'Korea', 'take', 'on', 'Indonesia', 'on', 'Saturday', 'in', 'Group', 'A', 'matches', '.']\n",
            "[2, 2, 0, 3, 0, 3, 3, 0, 0, 3, 0, 0, 0, 0, 0, 4, 0]\n",
            "['teams', 'each', 'one', 'four', 'one'] ['All', 'four', 'teams', 'are', 'level', 'with', 'one', 'point', 'each', 'from', 'one', 'game', '.']\n",
            "[0, 4, 2, 0, 0, 0, 4, 4, 0, 4, 0, 4, 4, 0, 0]\n",
            "['ITALY'] ['RUGBY', 'UNION', '-', 'CUTTITTA', 'BACK', 'FOR', 'ITALY', 'AFTER', 'A', 'YEAR', '.']\n",
            "[0, 0, 0, 0, 0, 0, 3, 0, 0, 0, 0]\n",
            "['ROME', '1996-12-06', '1996', '12', '06'] ['ROME', '1996-12-06']\n",
            "[3, 4]\n",
            "['Italy', 'Marcello', 'Cuttitta'] ['Italy', 'recalled', 'Marcello', 'Cuttitta']\n",
            "[3, 0, 1, 1]\n",
            "['wing', 'Scotland', 'Murrayfield', '30'] ['on', 'Friday', 'for', 'their', 'friendly', 'against', 'Scotland', 'at', 'Murrayfield', 'more', 'than', 'a', 'year', 'after', 'the', '30-year-old', 'wing', 'announced', 'he', 'was', 'retiring', 'following', 'differences', 'over', 'selection', '.']\n",
            "[0, 0, 0, 0, 0, 0, 3, 0, 3, 0, 0, 0, 0, 0, 0, 0, 2, 0, 0, 0, 0, 0, 0, 0, 0, 0]\n",
            "['Cuttitta', 'George', 'Coste', 'squad', 'two', 'England', 'team', 'Twickenham', '54', '21', '21', 'two'] ['Cuttitta', ',', 'who', 'trainer', 'George', 'Coste', 'said', 'was', 'certain', 'to', 'play', 'on', 'Saturday', 'week', ',', 'was', 'named', 'in', 'a', '21-man', 'squad', 'lacking', 'only', 'two', 'of', 'the', 'team', 'beaten', '54-21', 'by', 'England', 'at', 'Twickenham', 'last', 'month', '.']\n",
            "[1, 0, 0, 0, 1, 1, 0, 0, 0, 0, 0, 0, 0, 0, 0, 0, 0, 0, 0, 0, 2, 0, 0, 1, 4, 0, 0, 2, 0, 0, 0, 2, 0, 3, 0, 0, 0]\n",
            "['Stefano', 'Bordon', 'Corrado', 'Covi', 'Coste', 'team', 'game', 'England', 'five'] ['Stefano', 'Bordon', 'is', 'out', 'through', 'illness', 'and', 'Coste', 'said', 'he', 'had', 'dropped', 'back', 'row', 'Corrado', 'Covi', ',', 'who', 'had', 'been', 'recalled', 'for', 'the', 'England', 'game', 'after', 'five', 'years', 'out', 'of', 'the', 'national', 'team', '.']\n",
            "[1, 1, 0, 0, 0, 0, 0, 1, 0, 0, 0, 0, 0, 0, 1, 1, 0, 0, 0, 0, 0, 0, 0, 2, 4, 0, 4, 0, 0, 0, 0, 0, 2, 0]\n",
            "['retirement', 'Cuttitta', 'World', 'Cup', 'England', 'Italy', '1995', '1995'] ['Cuttitta', 'announced', 'his', 'retirement', 'after', 'the', '1995', 'World', 'Cup', ',', 'where', 'he', 'took', 'issue', 'with', 'being', 'dropped', 'from', 'the', 'Italy', 'side', 'that', 'faced', 'England', 'in', 'the', 'pool', 'stages', '.']\n",
            "[1, 0, 0, 4, 0, 0, 4, 4, 4, 4, 0, 0, 0, 0, 0, 0, 0, 0, 0, 0, 3, 0, 0, 0, 3, 0, 0, 0, 0, 0]\n",
            "['Coste', 'player', 'two'] ['Coste', 'said', 'he', 'had', 'approached', 'the', 'player', 'two', 'months', 'ago', 'about', 'a', 'comeback', '.']\n",
            "[1, 0, 0, 0, 0, 0, 1, 4, 0, 0, 0, 0, 0, 0]\n"
          ],
          "name": "stdout"
        }
      ]
    },
    {
      "cell_type": "code",
      "metadata": {
        "colab": {
          "base_uri": "https://localhost:8080/"
        },
        "id": "l2hOfU-YfLSI",
        "outputId": "052c08da-d22a-4532-e801-caab39d4739e"
      },
      "source": [
        "len(y),len(tags)"
      ],
      "execution_count": null,
      "outputs": [
        {
          "output_type": "execute_result",
          "data": {
            "text/plain": [
              "(30, 30)"
            ]
          },
          "metadata": {
            "tags": []
          },
          "execution_count": 280
        }
      ]
    },
    {
      "cell_type": "code",
      "metadata": {
        "id": "eWGa0Dj2PXwd"
      },
      "source": [
        "y[1],tags[1]\n",
        "del y[25],tags[25]"
      ],
      "execution_count": null,
      "outputs": []
    },
    {
      "cell_type": "code",
      "metadata": {
        "id": "UiJdZj5WOwk1"
      },
      "source": [
        "for i in range(26):\n",
        "  if(len(y[i])!=len(tags[i])):\n",
        "    print(i)\n",
        "\n",
        "#4 records of uneven length"
      ],
      "execution_count": null,
      "outputs": []
    },
    {
      "cell_type": "code",
      "metadata": {
        "colab": {
          "base_uri": "https://localhost:8080/"
        },
        "id": "7TTt71f_gCLI",
        "outputId": "0917465d-6b6c-42c1-83b8-4ff64d4a0531"
      },
      "source": [
        "get_pred_tags(entity_list,token_list)"
      ],
      "execution_count": null,
      "outputs": [
        {
          "output_type": "execute_result",
          "data": {
            "text/plain": [
              "[1, 0, 0, 0, 0, 0, 1, 4, 0, 0, 0, 0, 0, 0]"
            ]
          },
          "metadata": {
            "tags": []
          },
          "execution_count": 63
        }
      ]
    },
    {
      "cell_type": "code",
      "metadata": {
        "id": "rt6m5saSgncH"
      },
      "source": [
        "flat_list = [item for sublist in y for item in sublist]\n",
        "flat_list1 = [item for sublist in tags for item in sublist]"
      ],
      "execution_count": null,
      "outputs": []
    },
    {
      "cell_type": "code",
      "metadata": {
        "colab": {
          "base_uri": "https://localhost:8080/"
        },
        "id": "__Su9yTVhJ3I",
        "outputId": "4d577976-d914-451d-f900-417b16e91587"
      },
      "source": [
        "len(flat_list),len(flat_list1)"
      ],
      "execution_count": null,
      "outputs": [
        {
          "output_type": "execute_result",
          "data": {
            "text/plain": [
              "(471, 471)"
            ]
          },
          "metadata": {
            "tags": []
          },
          "execution_count": 296
        }
      ]
    },
    {
      "cell_type": "code",
      "metadata": {
        "id": "nZt_ZXyDd1SX"
      },
      "source": [
        "from sklearn.metrics import classification_report"
      ],
      "execution_count": null,
      "outputs": []
    },
    {
      "cell_type": "code",
      "metadata": {
        "colab": {
          "base_uri": "https://localhost:8080/"
        },
        "id": "KOY3TjCReBFW",
        "outputId": "658d7882-1fed-4386-96f4-c8ccf3e8a0e3"
      },
      "source": [
        "print(classification_report(flat_list,flat_list1))"
      ],
      "execution_count": null,
      "outputs": [
        {
          "output_type": "stream",
          "text": [
            "              precision    recall  f1-score   support\n",
            "\n",
            "           0       0.99      0.89      0.94       397\n",
            "           1       0.78      0.93      0.85        30\n",
            "           2       0.00      0.00      0.00         2\n",
            "           3       0.61      0.71      0.66        28\n",
            "           4       0.21      0.43      0.28        14\n",
            "\n",
            "    accuracy                           0.87       471\n",
            "   macro avg       0.52      0.59      0.54       471\n",
            "weighted avg       0.93      0.87      0.89       471\n",
            "\n"
          ],
          "name": "stdout"
        }
      ]
    },
    {
      "cell_type": "markdown",
      "metadata": {
        "id": "LXReK7uMILtR"
      },
      "source": [
        "# QNA Maker\n"
      ]
    },
    {
      "cell_type": "markdown",
      "metadata": {
        "id": "3r-LIAeaIcP-"
      },
      "source": [
        " It is used to find the most appropriate answer for any input from your custom knowledge base (KB) of information\n",
        "\n",
        " Knowledge base is question and answer pairs formed from a context by the qna maker.\n",
        "\n",
        " QnA Maker provides multi-turn prompts and active learning to help you improve your basic question and answer pairs.\n"
      ]
    },
    {
      "cell_type": "code",
      "metadata": {
        "colab": {
          "base_uri": "https://localhost:8080/"
        },
        "id": "_RexMLHLIRZO",
        "outputId": "92a71b3a-936b-4794-e66b-79bd96b4408f"
      },
      "source": [
        "pip install azure-cognitiveservices-knowledge-qnamaker==0.2.0"
      ],
      "execution_count": null,
      "outputs": [
        {
          "output_type": "stream",
          "text": [
            "Requirement already satisfied: azure-cognitiveservices-knowledge-qnamaker==0.2.0 in /usr/local/lib/python3.6/dist-packages (0.2.0)\n",
            "Requirement already satisfied: msrest>=0.5.0 in /usr/local/lib/python3.6/dist-packages (from azure-cognitiveservices-knowledge-qnamaker==0.2.0) (0.6.19)\n",
            "Requirement already satisfied: azure-common~=1.1 in /usr/local/lib/python3.6/dist-packages (from azure-cognitiveservices-knowledge-qnamaker==0.2.0) (1.1.26)\n",
            "Requirement already satisfied: requests~=2.16 in /usr/local/lib/python3.6/dist-packages (from msrest>=0.5.0->azure-cognitiveservices-knowledge-qnamaker==0.2.0) (2.23.0)\n",
            "Requirement already satisfied: isodate>=0.6.0 in /usr/local/lib/python3.6/dist-packages (from msrest>=0.5.0->azure-cognitiveservices-knowledge-qnamaker==0.2.0) (0.6.0)\n",
            "Requirement already satisfied: certifi>=2017.4.17 in /usr/local/lib/python3.6/dist-packages (from msrest>=0.5.0->azure-cognitiveservices-knowledge-qnamaker==0.2.0) (2020.12.5)\n",
            "Requirement already satisfied: requests-oauthlib>=0.5.0 in /usr/local/lib/python3.6/dist-packages (from msrest>=0.5.0->azure-cognitiveservices-knowledge-qnamaker==0.2.0) (1.3.0)\n",
            "Requirement already satisfied: urllib3!=1.25.0,!=1.25.1,<1.26,>=1.21.1 in /usr/local/lib/python3.6/dist-packages (from requests~=2.16->msrest>=0.5.0->azure-cognitiveservices-knowledge-qnamaker==0.2.0) (1.24.3)\n",
            "Requirement already satisfied: chardet<4,>=3.0.2 in /usr/local/lib/python3.6/dist-packages (from requests~=2.16->msrest>=0.5.0->azure-cognitiveservices-knowledge-qnamaker==0.2.0) (3.0.4)\n",
            "Requirement already satisfied: idna<3,>=2.5 in /usr/local/lib/python3.6/dist-packages (from requests~=2.16->msrest>=0.5.0->azure-cognitiveservices-knowledge-qnamaker==0.2.0) (2.10)\n",
            "Requirement already satisfied: six in /usr/local/lib/python3.6/dist-packages (from isodate>=0.6.0->msrest>=0.5.0->azure-cognitiveservices-knowledge-qnamaker==0.2.0) (1.15.0)\n",
            "Requirement already satisfied: oauthlib>=3.0.0 in /usr/local/lib/python3.6/dist-packages (from requests-oauthlib>=0.5.0->msrest>=0.5.0->azure-cognitiveservices-knowledge-qnamaker==0.2.0) (3.1.0)\n"
          ],
          "name": "stdout"
        }
      ]
    },
    {
      "cell_type": "code",
      "metadata": {
        "id": "Ayv5pZHev3dG"
      },
      "source": [
        "import os\n",
        "import time\n",
        "\n",
        "from azure.cognitiveservices.knowledge.qnamaker.authoring import QnAMakerClient\n",
        "from azure.cognitiveservices.knowledge.qnamaker.runtime import QnAMakerRuntimeClient\n",
        "from azure.cognitiveservices.knowledge.qnamaker.authoring.models import QnADTO, MetadataDTO, CreateKbDTO, OperationStateType, UpdateKbOperationDTO, UpdateKbOperationDTOAdd, EndpointKeysDTO, QnADTOContext, PromptDTO\n",
        "from azure.cognitiveservices.knowledge.qnamaker.runtime.models import QueryDTO\n",
        "from msrest.authentication import CognitiveServicesCredentials"
      ],
      "execution_count": null,
      "outputs": []
    },
    {
      "cell_type": "markdown",
      "metadata": {
        "id": "IxEdXVdpdi0C"
      },
      "source": [
        "# LUIS"
      ]
    },
    {
      "cell_type": "markdown",
      "metadata": {
        "id": "CFuVbnTTdk5b"
      },
      "source": [
        "Language Understanding (LUIS) enables you to apply natural language processing (NLP) to a user's conversational, natural language text to predict overall meaning, and pull out relevant, detailed information."
      ]
    },
    {
      "cell_type": "code",
      "metadata": {
        "id": "-GAwYlnndkLQ"
      },
      "source": [
        "pip install azure-cognitiveservices-language-luis"
      ],
      "execution_count": null,
      "outputs": []
    },
    {
      "cell_type": "code",
      "metadata": {
        "id": "DbTAlqraAXsn"
      },
      "source": [
        "from azure.cognitiveservices.language.luis.authoring import LUISAuthoringClient\n",
        "from azure.cognitiveservices.language.luis.runtime import LUISRuntimeClient\n",
        "from msrest.authentication import CognitiveServicesCredentials\n",
        "from functools import reduce"
      ],
      "execution_count": null,
      "outputs": []
    },
    {
      "cell_type": "code",
      "metadata": {
        "id": "jAK8C-he_0bM"
      },
      "source": [
        "client=LUISAuthoringClient(endpoint, credentials)"
      ],
      "execution_count": null,
      "outputs": []
    },
    {
      "cell_type": "code",
      "metadata": {
        "id": "SwSmQcVuOM6k"
      },
      "source": [
        ""
      ],
      "execution_count": null,
      "outputs": []
    }
  ]
}